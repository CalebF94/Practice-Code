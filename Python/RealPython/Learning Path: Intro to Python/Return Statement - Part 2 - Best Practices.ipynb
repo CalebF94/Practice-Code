{
 "cells": [
  {
   "cell_type": "markdown",
   "id": "cee276cb",
   "metadata": {},
   "source": [
    "# Python Return Statement - Best Practices\n",
    "\n",
    "### Returning None Explicitly\n",
    "Three ways to return `None`:  \n",
    "1) Omit the `return` statement and rely on the default behavior  \n",
    "2) Use a bare `return` value, which also returns `None`  \n",
    "3) Return `None` explicitly\n",
    "\n",
    "#### No return statement"
   ]
  },
  {
   "cell_type": "code",
   "execution_count": 48,
   "id": "487b118f",
   "metadata": {},
   "outputs": [
    {
     "name": "stdout",
     "output_type": "stream",
     "text": [
      "None\n"
     ]
    }
   ],
   "source": [
    "def omit_return_stmt():\n",
    "    pass\n",
    "\n",
    "print(omit_return_stmt())"
   ]
  },
  {
   "cell_type": "markdown",
   "id": "c949201c",
   "metadata": {},
   "source": [
    "#### Bare Return Statement"
   ]
  },
  {
   "cell_type": "code",
   "execution_count": 49,
   "id": "e0c2f8f7",
   "metadata": {},
   "outputs": [
    {
     "name": "stdout",
     "output_type": "stream",
     "text": [
      "None\n"
     ]
    }
   ],
   "source": [
    "def bare_return():\n",
    "    return\n",
    "\n",
    "print(bare_return())"
   ]
  },
  {
   "cell_type": "markdown",
   "id": "78da3cae",
   "metadata": {},
   "source": [
    "#### Return None Explicitly"
   ]
  },
  {
   "cell_type": "code",
   "execution_count": 50,
   "id": "d8bb8515",
   "metadata": {},
   "outputs": [
    {
     "name": "stdout",
     "output_type": "stream",
     "text": [
      "None\n"
     ]
    }
   ],
   "source": [
    "def return_none_explicitly():\n",
    "    return None\n",
    "\n",
    "print(return_none_explicitly())"
   ]
  },
  {
   "cell_type": "markdown",
   "id": "7a4ac625",
   "metadata": {},
   "source": [
    "Things to consider:  \n",
    "+ Functions which primarily perform actions don't need an explicit `return` statement  \n",
    "+ A function with multiple exit points can use a `return None` for a branch that doesn't return a value"
   ]
  },
  {
   "cell_type": "markdown",
   "id": "b17f180e",
   "metadata": {},
   "source": [
    "### Remembering the Return Value\n",
    "A common error is to forget to return a value.\n",
    "\n",
    "This can be avoided by writing the return statement when you write the header of the function.\n",
    "\n",
    "A common template could be: \n",
    "\n",
    "`def template_func(args):  \n",
    "    \n",
    "    result = 0  \n",
    "    #blank lines for body  \n",
    "    \n",
    "    \n",
    "    return result`\n"
   ]
  },
  {
   "cell_type": "markdown",
   "id": "d91bb942",
   "metadata": {},
   "source": [
    "#### Avoiding Complex Expressions\n",
    "\n",
    "Complex expressions make debugging more difficult. Take the variance function below:  "
   ]
  },
  {
   "cell_type": "code",
   "execution_count": 51,
   "id": "f7163ed6",
   "metadata": {},
   "outputs": [],
   "source": [
    "def variance(data, ddof=0):\n",
    "    mean = sum(data) / len(data)\n",
    "    return sum((x-mean) **2 for x in data) / (len(data) - ddof)"
   ]
  },
  {
   "cell_type": "code",
   "execution_count": 52,
   "id": "f40f233c",
   "metadata": {},
   "outputs": [
    {
     "data": {
      "text/plain": [
       "3.0617283950617282"
      ]
     },
     "execution_count": 52,
     "metadata": {},
     "output_type": "execute_result"
    }
   ],
   "source": [
    "variance([2,4,5,7,6,4,5,1,4])"
   ]
  },
  {
   "cell_type": "markdown",
   "id": "54314805",
   "metadata": {},
   "source": [
    "Typically, its better to use intermediate variables to enhance readability:"
   ]
  },
  {
   "cell_type": "code",
   "execution_count": 53,
   "id": "2248f283",
   "metadata": {},
   "outputs": [
    {
     "data": {
      "text/plain": [
       "3.0617283950617282"
      ]
     },
     "execution_count": 53,
     "metadata": {},
     "output_type": "execute_result"
    }
   ],
   "source": [
    "def variance(data, ddof=0):\n",
    "    n = len(data)\n",
    "    mean = sum(data) / n\n",
    "    total_square_dev = sum((x-mean)**2 for x in data)\n",
    "    return total_square_dev / (n - ddof)\n",
    "\n",
    "variance([2,4,5,7,6,4,5,1,4])"
   ]
  },
  {
   "cell_type": "markdown",
   "id": "b1454afd",
   "metadata": {},
   "source": [
    "### Returning Values Vs Modifying Globals\n",
    "Side Effect: Some observable behavior besides returning a value. Examples - printing, updating state of an object, writing text to value, modifying global variables(This is typically bad)\n",
    "\n",
    "#### Modifying Global variables\n",
    "This bad for a number of reasons:  \n",
    "+ Difficult to debug. It can be hard to track   \n",
    "+ Other functions may be using that variable\n",
    "\n",
    "What does it look like? We have a function changing a global value. If changing a global variable you have to declare it in python; hence the `global` statement in the function below"
   ]
  },
  {
   "cell_type": "code",
   "execution_count": 54,
   "id": "2a9b8b89",
   "metadata": {},
   "outputs": [
    {
     "data": {
      "text/plain": [
       "1"
      ]
     },
     "execution_count": 54,
     "metadata": {},
     "output_type": "execute_result"
    }
   ],
   "source": [
    "counter = 0 \n",
    "\n",
    "def increment():\n",
    "    global counter\n",
    "    counter += 1\n",
    "    \n",
    "increment()\n",
    "counter"
   ]
  },
  {
   "cell_type": "markdown",
   "id": "1f8c594f",
   "metadata": {},
   "source": [
    "A better practice is to use **Self-Contained functions**  \n",
    "+ Takes arguments, returns a value, and doesn't modify globals\n",
    "+ Every thing the function interacts with comes in through the arguments\n",
    "\n",
    "We can reconfigure the `increment` function to take in the value of a counter and then return a value that is equal to the counter plus 1"
   ]
  },
  {
   "cell_type": "code",
   "execution_count": 55,
   "id": "a0896730",
   "metadata": {},
   "outputs": [],
   "source": [
    "def increment(var):\n",
    "    var += 1\n",
    "    return var"
   ]
  },
  {
   "cell_type": "code",
   "execution_count": 56,
   "id": "588c374b",
   "metadata": {},
   "outputs": [
    {
     "data": {
      "text/plain": [
       "2"
      ]
     },
     "execution_count": 56,
     "metadata": {},
     "output_type": "execute_result"
    }
   ],
   "source": [
    "counter = increment(counter)\n",
    "counter"
   ]
  },
  {
   "cell_type": "markdown",
   "id": "b6370422",
   "metadata": {},
   "source": [
    "### Using `return` With Conditionals\n",
    "A function can have multiple return statements. The first one ends the function. An example is the absolute value of a number"
   ]
  },
  {
   "cell_type": "code",
   "execution_count": 57,
   "id": "3dfa9274",
   "metadata": {},
   "outputs": [
    {
     "data": {
      "text/plain": [
       "5"
      ]
     },
     "execution_count": 57,
     "metadata": {},
     "output_type": "execute_result"
    }
   ],
   "source": [
    "def my_abs(number):\n",
    "    if number >= 0:\n",
    "        return number\n",
    "    elif number < 0:\n",
    "        return -number\n",
    "    \n",
    "my_abs(5)"
   ]
  },
  {
   "cell_type": "code",
   "execution_count": 58,
   "id": "7005ccbe",
   "metadata": {},
   "outputs": [
    {
     "data": {
      "text/plain": [
       "5"
      ]
     },
     "execution_count": 58,
     "metadata": {},
     "output_type": "execute_result"
    }
   ],
   "source": [
    "my_abs(-5)"
   ]
  },
  {
   "cell_type": "markdown",
   "id": "2c42757d",
   "metadata": {},
   "source": [
    "A more pythonic version leaves out the elif:"
   ]
  },
  {
   "cell_type": "code",
   "execution_count": 59,
   "id": "088842be",
   "metadata": {},
   "outputs": [
    {
     "data": {
      "text/plain": [
       "5"
      ]
     },
     "execution_count": 59,
     "metadata": {},
     "output_type": "execute_result"
    }
   ],
   "source": [
    "def my_abs(number):\n",
    "    if number >= 0:\n",
    "        return number\n",
    "    return -number\n",
    "\n",
    "my_abs(5)"
   ]
  },
  {
   "cell_type": "code",
   "execution_count": 60,
   "id": "4fd1a453",
   "metadata": {},
   "outputs": [
    {
     "data": {
      "text/plain": [
       "5"
      ]
     },
     "execution_count": 60,
     "metadata": {},
     "output_type": "execute_result"
    }
   ],
   "source": [
    "my_abs(-5)"
   ]
  },
  {
   "cell_type": "markdown",
   "id": "04d03804",
   "metadata": {},
   "source": [
    "If a branch doesn't have a return value, an implicit `None` will be returned. Be careful with edge cases."
   ]
  },
  {
   "cell_type": "markdown",
   "id": "98a6e8e2",
   "metadata": {},
   "source": [
    "### Returning True or False\n",
    "A boolean valued function (predicate valued function) returns either `True` or `False`.\n",
    "\n",
    "Typically the function should start with `is`\n",
    "\n",
    "Python has a set of rules to determine truth value of an object:  \n",
    "Falsy Objects:  \n",
    "   + Constants like `None` and `False`  \n",
    "   + Numeric types with a zero value  \n",
    "   + Empty sequences and collections like `\"\"`, `()`, `[]`, `{}`  \n",
    "   + Objects that implement `__bool__()` with a return value of `False` or `__len__()` with a return value of `0`\n",
    "\n",
    "Anything else is truthy"
   ]
  },
  {
   "cell_type": "code",
   "execution_count": 61,
   "id": "5668ad0d",
   "metadata": {},
   "outputs": [
    {
     "data": {
      "text/plain": [
       "False"
      ]
     },
     "execution_count": 61,
     "metadata": {},
     "output_type": "execute_result"
    }
   ],
   "source": [
    "def is_divisible(a, b):\n",
    "    if not a % b:\n",
    "        return True\n",
    "    return False\n",
    "\n",
    "is_divisible(5, 3)"
   ]
  },
  {
   "cell_type": "code",
   "execution_count": 62,
   "id": "05b250b5",
   "metadata": {},
   "outputs": [
    {
     "data": {
      "text/plain": [
       "True"
      ]
     },
     "execution_count": 62,
     "metadata": {},
     "output_type": "execute_result"
    }
   ],
   "source": [
    "is_divisible(6, 3)"
   ]
  },
  {
   "cell_type": "markdown",
   "id": "8e3fb923",
   "metadata": {},
   "source": [
    "Predicate functions often use the following:\n",
    "+ The comparison operators `==, !=, >, <, >=,<=`  \n",
    "+ `in` operator  \n",
    "+ `is` operator  \n",
    "+ `not` operator  \n",
    "\n",
    "In these cases you can write the boolean expression in the `return` statement"
   ]
  },
  {
   "cell_type": "code",
   "execution_count": 63,
   "id": "7d63c422",
   "metadata": {},
   "outputs": [
    {
     "data": {
      "text/plain": [
       "True"
      ]
     },
     "execution_count": 63,
     "metadata": {},
     "output_type": "execute_result"
    }
   ],
   "source": [
    "def is_divisible(a, b):\n",
    "    return not a % b\n",
    "\n",
    "is_divisible(4,2)"
   ]
  },
  {
   "cell_type": "code",
   "execution_count": 64,
   "id": "5c17e9a6",
   "metadata": {},
   "outputs": [
    {
     "data": {
      "text/plain": [
       "False"
      ]
     },
     "execution_count": 64,
     "metadata": {},
     "output_type": "execute_result"
    }
   ],
   "source": [
    "is_divisible(5, 2)"
   ]
  },
  {
   "cell_type": "markdown",
   "id": "28eda6ea",
   "metadata": {},
   "source": [
    "This may not work if the boolean expression contains `and` or `or`"
   ]
  },
  {
   "cell_type": "code",
   "execution_count": 65,
   "id": "b4ad9c6e",
   "metadata": {},
   "outputs": [
    {
     "data": {
      "text/plain": [
       "0"
      ]
     },
     "execution_count": 65,
     "metadata": {},
     "output_type": "execute_result"
    }
   ],
   "source": [
    "0 and 1"
   ]
  },
  {
   "cell_type": "code",
   "execution_count": 66,
   "id": "b54d9616",
   "metadata": {},
   "outputs": [
    {
     "data": {
      "text/plain": [
       "2"
      ]
     },
     "execution_count": 66,
     "metadata": {},
     "output_type": "execute_result"
    }
   ],
   "source": [
    "1 and 2 # doesnt' evaluate to True"
   ]
  },
  {
   "cell_type": "markdown",
   "id": "11db6a4c",
   "metadata": {},
   "source": [
    "`and` statements:  \n",
    "   + Generally `and` returns the first falsy operand it finds, or the last operand if none are falsy  \n",
    "   + Generally `or` returns the first truthy operand it finds, or the last operand if all are falsy"
   ]
  },
  {
   "cell_type": "code",
   "execution_count": 67,
   "id": "0f46f8de",
   "metadata": {},
   "outputs": [
    {
     "data": {
      "text/plain": [
       "2"
      ]
     },
     "execution_count": 67,
     "metadata": {},
     "output_type": "execute_result"
    }
   ],
   "source": [
    "def both_true(a, b):\n",
    "    return a and b\n",
    "\n",
    "both_true(1, 2)"
   ]
  },
  {
   "cell_type": "markdown",
   "id": "2979d4a8",
   "metadata": {},
   "source": [
    "There are three ways to fix this:  \n",
    "   1) use explicit if statement"
   ]
  },
  {
   "cell_type": "code",
   "execution_count": 68,
   "id": "85115bb4",
   "metadata": {},
   "outputs": [
    {
     "data": {
      "text/plain": [
       "True"
      ]
     },
     "execution_count": 68,
     "metadata": {},
     "output_type": "execute_result"
    }
   ],
   "source": [
    "def both_true(a, b):\n",
    "    if a and b:\n",
    "        return True\n",
    "    return False\n",
    "\n",
    "both_true(1,2)"
   ]
  },
  {
   "cell_type": "code",
   "execution_count": 69,
   "id": "ad8da661",
   "metadata": {},
   "outputs": [
    {
     "data": {
      "text/plain": [
       "False"
      ]
     },
     "execution_count": 69,
     "metadata": {},
     "output_type": "execute_result"
    }
   ],
   "source": [
    "both_true(0,1)"
   ]
  },
  {
   "cell_type": "markdown",
   "id": "b89598bd",
   "metadata": {},
   "source": [
    "2) Use a conditional statement (ternary operator)\n",
    "This is using the same logic as above but rewriting code to be more pythonic"
   ]
  },
  {
   "cell_type": "code",
   "execution_count": 70,
   "id": "5a9116f5",
   "metadata": {},
   "outputs": [
    {
     "data": {
      "text/plain": [
       "True"
      ]
     },
     "execution_count": 70,
     "metadata": {},
     "output_type": "execute_result"
    }
   ],
   "source": [
    "def both_true(a, b):\n",
    "    return True if a and b else False\n",
    "\n",
    "both_true(1, 2)"
   ]
  },
  {
   "cell_type": "code",
   "execution_count": 71,
   "id": "9ae138e5",
   "metadata": {},
   "outputs": [
    {
     "data": {
      "text/plain": [
       "False"
      ]
     },
     "execution_count": 71,
     "metadata": {},
     "output_type": "execute_result"
    }
   ],
   "source": [
    "both_true(0, 1)"
   ]
  },
  {
   "cell_type": "markdown",
   "id": "2cd7da4c",
   "metadata": {},
   "source": [
    "3) Use the built in `bool()` function"
   ]
  },
  {
   "cell_type": "code",
   "execution_count": 72,
   "id": "82d82795",
   "metadata": {},
   "outputs": [
    {
     "data": {
      "text/plain": [
       "True"
      ]
     },
     "execution_count": 72,
     "metadata": {},
     "output_type": "execute_result"
    }
   ],
   "source": [
    "def both_true(a, b):\n",
    "    return bool(a and b)\n",
    "\n",
    "both_true(1,2)"
   ]
  },
  {
   "cell_type": "code",
   "execution_count": 73,
   "id": "c9e47e73",
   "metadata": {},
   "outputs": [
    {
     "data": {
      "text/plain": [
       "False"
      ]
     },
     "execution_count": 73,
     "metadata": {},
     "output_type": "execute_result"
    }
   ],
   "source": [
    "both_true(0, 1)"
   ]
  },
  {
   "cell_type": "markdown",
   "id": "fe35714a",
   "metadata": {},
   "source": [
    "### Short Circuiting Loops\n",
    "if a python function runs a `return` statement inside a loop it will immediately go back to the calling environment. There is no need to continue with loop. This speeds up the execution of a function. An implemention is shown below."
   ]
  },
  {
   "cell_type": "code",
   "execution_count": 74,
   "id": "a760ff54",
   "metadata": {},
   "outputs": [
    {
     "data": {
      "text/plain": [
       "True"
      ]
     },
     "execution_count": 74,
     "metadata": {},
     "output_type": "execute_result"
    }
   ],
   "source": [
    "def my_any(iterable):\n",
    "    for item in iterable:\n",
    "        if item:\n",
    "            #short circuit\n",
    "            return True\n",
    "    return False\n",
    "\n",
    "my_any([0,0,10,0,0])"
   ]
  },
  {
   "cell_type": "code",
   "execution_count": 75,
   "id": "0dcf2b81",
   "metadata": {},
   "outputs": [
    {
     "data": {
      "text/plain": [
       "False"
      ]
     },
     "execution_count": 75,
     "metadata": {},
     "output_type": "execute_result"
    }
   ],
   "source": [
    "my_any([0,0,0,0,0,0])"
   ]
  },
  {
   "cell_type": "markdown",
   "id": "84956bd7",
   "metadata": {},
   "source": [
    "### Recognizing Dead Code\n",
    "Any code that follows a return statement where there is path to the code is referred to as **dead code**. This code is completely useless and can only cause confusion.\n",
    "\n",
    "In the function below. the print statement is dead code"
   ]
  },
  {
   "cell_type": "code",
   "execution_count": 76,
   "id": "855b9af6",
   "metadata": {},
   "outputs": [
    {
     "data": {
      "text/plain": [
       "42"
      ]
     },
     "execution_count": 76,
     "metadata": {},
     "output_type": "execute_result"
    }
   ],
   "source": [
    "def dead_code():\n",
    "    return 42\n",
    "    print('Hello, world')\n",
    "    \n",
    "dead_code()"
   ]
  },
  {
   "cell_type": "markdown",
   "id": "30fa02d8",
   "metadata": {},
   "source": [
    "### Returning Multiple Named Objects\n",
    "You can use named tuples in a function with multiple return values to assign a label to multiple values.\n",
    "\n",
    "`namedtuple` is a collection class that returns a subclass of tuble that has fields or attributes\n",
    "\n",
    "The initializer of `namedtuple` takes several arguments, but you only need to know two to get started:  \n",
    "1) typename: holds the name of the tuple-like class that you're creating. Typename has to be a string  \n",
    "2) field_names: holds the names of the fields or attributes of the tuple-like class\n",
    "\n",
    "An example using a modified version of our descriptive statistics function is shown below"
   ]
  },
  {
   "cell_type": "code",
   "execution_count": 77,
   "id": "d11c9b1a",
   "metadata": {},
   "outputs": [],
   "source": [
    "import statistics as st\n",
    "from collections import namedtuple\n",
    "\n",
    "def describe(*args: 'Series of numbers'):\n",
    "    Desc = namedtuple(\"Desc\", [\"mean\", \"median\", \"mode\"], )\n",
    "    return Desc(\n",
    "        st.mean(args),\n",
    "        st.median(args),\n",
    "        st.mode(args)\n",
    "    )\n",
    "\n",
    "stat_desc = describe(1,2,3,4,5,6,5,5,4,5,5)"
   ]
  },
  {
   "cell_type": "code",
   "execution_count": 78,
   "id": "978f50f9",
   "metadata": {},
   "outputs": [
    {
     "data": {
      "text/plain": [
       "Desc(mean=4.090909090909091, median=5, mode=5)"
      ]
     },
     "execution_count": 78,
     "metadata": {},
     "output_type": "execute_result"
    }
   ],
   "source": [
    "stat_desc"
   ]
  },
  {
   "cell_type": "code",
   "execution_count": 79,
   "id": "10198975",
   "metadata": {},
   "outputs": [
    {
     "data": {
      "text/plain": [
       "4.090909090909091"
      ]
     },
     "execution_count": 79,
     "metadata": {},
     "output_type": "execute_result"
    }
   ],
   "source": [
    "stat_desc.mean"
   ]
  },
  {
   "cell_type": "code",
   "execution_count": 80,
   "id": "dfaeb9de",
   "metadata": {},
   "outputs": [
    {
     "data": {
      "text/plain": [
       "5"
      ]
     },
     "execution_count": 80,
     "metadata": {},
     "output_type": "execute_result"
    }
   ],
   "source": [
    "stat_desc[1]"
   ]
  },
  {
   "cell_type": "code",
   "execution_count": 81,
   "id": "e12c8fe8",
   "metadata": {},
   "outputs": [],
   "source": [
    "mean, median, mode = describe(1,2,3,4,5,6,5,5,4,5,5)"
   ]
  },
  {
   "cell_type": "code",
   "execution_count": 82,
   "id": "083be4ba",
   "metadata": {},
   "outputs": [
    {
     "name": "stdout",
     "output_type": "stream",
     "text": [
      "4.090909090909091\n",
      "5\n",
      "5\n"
     ]
    }
   ],
   "source": [
    "print(mean, median, mode, sep='\\n')"
   ]
  },
  {
   "cell_type": "code",
   "execution_count": null,
   "id": "cf046fa5",
   "metadata": {},
   "outputs": [],
   "source": []
  }
 ],
 "metadata": {
  "kernelspec": {
   "display_name": "Python 3 (ipykernel)",
   "language": "python",
   "name": "python3"
  },
  "language_info": {
   "codemirror_mode": {
    "name": "ipython",
    "version": 3
   },
   "file_extension": ".py",
   "mimetype": "text/x-python",
   "name": "python",
   "nbconvert_exporter": "python",
   "pygments_lexer": "ipython3",
   "version": "3.9.12"
  }
 },
 "nbformat": 4,
 "nbformat_minor": 5
}
