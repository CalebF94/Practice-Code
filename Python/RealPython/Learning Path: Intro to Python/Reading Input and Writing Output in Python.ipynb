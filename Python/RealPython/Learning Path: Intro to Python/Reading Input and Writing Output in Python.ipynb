{
 "cells": [
  {
   "cell_type": "markdown",
   "id": "e3e34d26",
   "metadata": {},
   "source": [
    "# Read Input and Write Output Using Python\n",
    "+ Reading input from the keyboard\n",
    "+ Converting Keyboard input\n",
    "+ Writing Output to the console\n",
    "+ Using keyword Arguments with `print()`"
   ]
  },
  {
   "cell_type": "markdown",
   "id": "9dc3a953",
   "metadata": {},
   "source": [
    "### Reading input from the keyboard\n",
    "Accomplished using the `input()` function. This will pause computation until the user hits enter."
   ]
  },
  {
   "cell_type": "code",
   "execution_count": 1,
   "id": "0d5d66a6",
   "metadata": {},
   "outputs": [
    {
     "name": "stdout",
     "output_type": "stream",
     "text": [
      "hello\n"
     ]
    },
    {
     "data": {
      "text/plain": [
       "'hello'"
      ]
     },
     "execution_count": 1,
     "metadata": {},
     "output_type": "execute_result"
    }
   ],
   "source": [
    "input() "
   ]
  },
  {
   "cell_type": "markdown",
   "id": "3348b5a9",
   "metadata": {},
   "source": [
    "Can add a prompt."
   ]
  },
  {
   "cell_type": "code",
   "execution_count": 2,
   "id": "fa9510f6",
   "metadata": {},
   "outputs": [
    {
     "name": "stdout",
     "output_type": "stream",
     "text": [
      "What's your name?Caleb\n"
     ]
    },
    {
     "data": {
      "text/plain": [
       "'Caleb'"
      ]
     },
     "execution_count": 2,
     "metadata": {},
     "output_type": "execute_result"
    }
   ],
   "source": [
    "input(\"What's your name?\")"
   ]
  },
  {
   "cell_type": "markdown",
   "id": "f3acf2e5",
   "metadata": {},
   "source": [
    "`input()` returns whatever the user enters as a string, So you can save the input and to a variable"
   ]
  },
  {
   "cell_type": "code",
   "execution_count": 3,
   "id": "d4bc144b",
   "metadata": {},
   "outputs": [
    {
     "name": "stdout",
     "output_type": "stream",
     "text": [
      "What's your name?Caleb\n"
     ]
    }
   ],
   "source": [
    "name = input(\"What's your name?\")"
   ]
  },
  {
   "cell_type": "code",
   "execution_count": 4,
   "id": "dd130e9b",
   "metadata": {},
   "outputs": [
    {
     "data": {
      "text/plain": [
       "'Caleb'"
      ]
     },
     "execution_count": 4,
     "metadata": {},
     "output_type": "execute_result"
    }
   ],
   "source": [
    "name"
   ]
  },
  {
   "cell_type": "markdown",
   "id": "f7599d4a",
   "metadata": {},
   "source": [
    "## Converting Keyboard Input\n",
    "`input()` returns a string, but we can convert it.\n"
   ]
  },
  {
   "cell_type": "code",
   "execution_count": 5,
   "id": "273113f4",
   "metadata": {},
   "outputs": [
    {
     "name": "stdout",
     "output_type": "stream",
     "text": [
      "What is your age? 20\n"
     ]
    },
    {
     "ename": "TypeError",
     "evalue": "can only concatenate str (not \"int\") to str",
     "output_type": "error",
     "traceback": [
      "\u001b[1;31m---------------------------------------------------------------------------\u001b[0m",
      "\u001b[1;31mTypeError\u001b[0m                                 Traceback (most recent call last)",
      "Input \u001b[1;32mIn [5]\u001b[0m, in \u001b[0;36m<cell line: 2>\u001b[1;34m()\u001b[0m\n\u001b[0;32m      1\u001b[0m age \u001b[38;5;241m=\u001b[39m \u001b[38;5;28minput\u001b[39m(\u001b[38;5;124m'\u001b[39m\u001b[38;5;124mWhat is your age? \u001b[39m\u001b[38;5;124m'\u001b[39m)\n\u001b[1;32m----> 2\u001b[0m \u001b[43mage\u001b[49m\u001b[43m \u001b[49m\u001b[38;5;241;43m+\u001b[39;49m\u001b[43m \u001b[49m\u001b[38;5;241;43m50\u001b[39;49m\n",
      "\u001b[1;31mTypeError\u001b[0m: can only concatenate str (not \"int\") to str"
     ]
    }
   ],
   "source": [
    "age = input('What is your age? ')\n",
    "age + 50"
   ]
  },
  {
   "cell_type": "code",
   "execution_count": 7,
   "id": "0082f874",
   "metadata": {},
   "outputs": [
    {
     "name": "stdout",
     "output_type": "stream",
     "text": [
      "What is your age? 30\n"
     ]
    },
    {
     "data": {
      "text/plain": [
       "80"
      ]
     },
     "execution_count": 7,
     "metadata": {},
     "output_type": "execute_result"
    }
   ],
   "source": [
    "age = int(input('What is your age? '))\n",
    "age + 50"
   ]
  },
  {
   "cell_type": "markdown",
   "id": "fe0ba8a0",
   "metadata": {},
   "source": [
    "## Writing output to the Console\n",
    "This will use the `print()` function. When using a python script(not jupyter notebook) you will have to explicitly tell the program to print"
   ]
  },
  {
   "cell_type": "code",
   "execution_count": 8,
   "id": "415e56c7",
   "metadata": {},
   "outputs": [
    {
     "name": "stdout",
     "output_type": "stream",
     "text": [
      "What is your age? 50\n",
      "100\n"
     ]
    }
   ],
   "source": [
    "age = int(input('What is your age? '))\n",
    "\n",
    "print(age + 50)"
   ]
  },
  {
   "cell_type": "markdown",
   "id": "9bcc916d",
   "metadata": {},
   "source": [
    "## Using keyword arguments With print()\n",
    "Two keywords:\n",
    "\n",
    "1) `sep()`: specifies how the elements are separated. default is space (' ')  \n",
    "2) `end()`: Specifies what occurs at the end of the print statement. Default is new line ('\\n')"
   ]
  },
  {
   "cell_type": "code",
   "execution_count": 10,
   "id": "32e56122",
   "metadata": {},
   "outputs": [
    {
     "name": "stdout",
     "output_type": "stream",
     "text": [
      "What is your age? 30\n",
      "You'll be 80 in 50 years\n"
     ]
    }
   ],
   "source": [
    "age = int(input('What is your age? '))\n",
    "old_age = age + 50\n",
    "\n",
    "print(\"You'll be\", old_age, \"in 50 years\")"
   ]
  },
  {
   "cell_type": "code",
   "execution_count": 12,
   "id": "b94c7b4f",
   "metadata": {},
   "outputs": [
    {
     "name": "stdout",
     "output_type": "stream",
     "text": [
      "You'll be-----80-----in 50 years\n"
     ]
    }
   ],
   "source": [
    "print(\"You'll be\", old_age, \"in 50 years\", sep = '-----')"
   ]
  },
  {
   "cell_type": "code",
   "execution_count": 13,
   "id": "1b74b86b",
   "metadata": {},
   "outputs": [
    {
     "name": "stdout",
     "output_type": "stream",
     "text": [
      "You'll be-----80-----in 50 years\n",
      "\n",
      "\n",
      "*"
     ]
    }
   ],
   "source": [
    "print(\"You'll be\", old_age, \"in 50 years\", \n",
    "      sep = \"-----\", \n",
    "      end = \"\\n\\n\\n*\")"
   ]
  },
  {
   "cell_type": "code",
   "execution_count": null,
   "id": "5836652c",
   "metadata": {},
   "outputs": [],
   "source": []
  }
 ],
 "metadata": {
  "kernelspec": {
   "display_name": "Python 3 (ipykernel)",
   "language": "python",
   "name": "python3"
  },
  "language_info": {
   "codemirror_mode": {
    "name": "ipython",
    "version": 3
   },
   "file_extension": ".py",
   "mimetype": "text/x-python",
   "name": "python",
   "nbconvert_exporter": "python",
   "pygments_lexer": "ipython3",
   "version": "3.9.12"
  }
 },
 "nbformat": 4,
 "nbformat_minor": 5
}
