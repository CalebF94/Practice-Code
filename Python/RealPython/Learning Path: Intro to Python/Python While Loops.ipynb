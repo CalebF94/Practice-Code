{
 "cells": [
  {
   "cell_type": "markdown",
   "id": "d928b311",
   "metadata": {},
   "source": [
    "# Python While Loops\n",
    "While loops are an implementation of indefinate iteration.\n",
    "\n",
    "This course will cover:\n",
    "1) Structure and use of the Python while loop  \n",
    "2) How to break out of a loop  \n",
    "3) Explore infinite loops"
   ]
  },
  {
   "cell_type": "markdown",
   "id": "6a248190",
   "metadata": {},
   "source": [
    "## Basic While Loop Structure\n",
    "\n",
    "`while condition:  \n",
    "    code`\n",
    "    "
   ]
  },
  {
   "cell_type": "code",
   "execution_count": 1,
   "id": "50e316e5",
   "metadata": {},
   "outputs": [
    {
     "name": "stdout",
     "output_type": "stream",
     "text": [
      "4\n",
      "3\n",
      "2\n",
      "1\n",
      "0\n"
     ]
    }
   ],
   "source": [
    "n = 5\n",
    "while n > 0:\n",
    "    n = n - 1\n",
    "    print(n)"
   ]
  },
  {
   "cell_type": "markdown",
   "id": "df7ef3ce",
   "metadata": {},
   "source": [
    "## While Loops and Lists\n",
    "\n",
    "Whenever a list contains elements it will evaluate to `True'"
   ]
  },
  {
   "cell_type": "code",
   "execution_count": 5,
   "id": "8c0ef2cc",
   "metadata": {},
   "outputs": [
    {
     "name": "stdout",
     "output_type": "stream",
     "text": [
      "buzz\t['fizz', 'baz']\n",
      "baz\t['fizz']\n",
      "fizz\t[]\n"
     ]
    }
   ],
   "source": [
    "a = ['fizz', 'baz', 'buzz']\n",
    "\n",
    "while a:\n",
    "    print(a.pop(-1), a, sep = '\\t') # will remove last element and return\n",
    "    "
   ]
  },
  {
   "cell_type": "markdown",
   "id": "c87fb53e",
   "metadata": {},
   "source": [
    "## Interrupting Loop Iteration\n",
    "Two ways to interrupting a loop:  \n",
    "1) `break`: Immediately terminates a loop entirely  \n",
    "2) `continue`: Immediately terminates the current loop iteration, and checks jumps back to the condition statement to check if true\n",
    "\n",
    "### break example\n",
    "Notice the loop only runs twice."
   ]
  },
  {
   "cell_type": "code",
   "execution_count": 7,
   "id": "a69f1537",
   "metadata": {},
   "outputs": [
    {
     "name": "stdout",
     "output_type": "stream",
     "text": [
      "4\n",
      "3\n",
      "Loop Ended\n"
     ]
    }
   ],
   "source": [
    "n = 5\n",
    "while n > 0:\n",
    "    n -= 1\n",
    "    if n == 2:\n",
    "        break\n",
    "    print(n)\n",
    "print(\"Loop Ended\")"
   ]
  },
  {
   "cell_type": "markdown",
   "id": "9e776824",
   "metadata": {},
   "source": [
    "### Continue Example\n",
    "Notice the loop doesn't print out the number 2 only"
   ]
  },
  {
   "cell_type": "code",
   "execution_count": 10,
   "id": "e5ee26e1",
   "metadata": {},
   "outputs": [
    {
     "name": "stdout",
     "output_type": "stream",
     "text": [
      "4\n",
      "3\n",
      "1\n",
      "0\n",
      "Loop Ended\n"
     ]
    }
   ],
   "source": [
    "n = 5\n",
    "while n > 0:\n",
    "    n -= 1\n",
    "    if n == 2:\n",
    "        continue\n",
    "    print(n)\n",
    "print(\"Loop Ended\")"
   ]
  },
  {
   "cell_type": "markdown",
   "id": "e0369d4f",
   "metadata": {},
   "source": [
    "## While Loop Else Clause\n",
    "Gives us a way to execute a piece of code directly after a while statement terminates. It only executes if the while loop is exhausted. That is the code isn't ended by a `break` statement.\n",
    "\n",
    "This is a feature specific to Python; doesn't exist in many/any other languages\n",
    "\n",
    "A common use for this feature is looping over a list. You may want to execute a block of code if the item isn't found in a loop\n",
    "\n",
    "### Exhausted Loop"
   ]
  },
  {
   "cell_type": "code",
   "execution_count": 13,
   "id": "afdcf4c4",
   "metadata": {},
   "outputs": [
    {
     "name": "stdout",
     "output_type": "stream",
     "text": [
      "4\n",
      "3\n",
      "1\n",
      "0\n",
      "Loop Ended\n"
     ]
    }
   ],
   "source": [
    "n = 5\n",
    "while n > 0:\n",
    "    n -= 1\n",
    "    if n == 2:\n",
    "        continue\n",
    "    print(n)\n",
    "else: print(\"Loop Ended\")"
   ]
  },
  {
   "cell_type": "markdown",
   "id": "47f57998",
   "metadata": {},
   "source": [
    "### Broken Loop\n",
    "*****"
   ]
  },
  {
   "cell_type": "code",
   "execution_count": 14,
   "id": "f7dc8d4a",
   "metadata": {},
   "outputs": [
    {
     "name": "stdout",
     "output_type": "stream",
     "text": [
      "4\n",
      "3\n"
     ]
    }
   ],
   "source": [
    "n = 5\n",
    "while n > 0:\n",
    "    n -= 1\n",
    "    if n == 2:\n",
    "        break\n",
    "    print(n)\n",
    "else: print(\"Loop Ended\")"
   ]
  },
  {
   "cell_type": "markdown",
   "id": "1a5c1c6a",
   "metadata": {},
   "source": [
    "## Infinite Loops\n",
    "*****\n",
    "\n",
    "Loops that never end. This occurs if we never change the condition: forget to decrement index."
   ]
  },
  {
   "cell_type": "code",
   "execution_count": 18,
   "id": "ac2f6697",
   "metadata": {},
   "outputs": [
    {
     "name": "stdout",
     "output_type": "stream",
     "text": [
      "4\n",
      "3\n",
      "2\n",
      "1\n",
      "0\n"
     ]
    }
   ],
   "source": [
    "n = 5\n",
    "while n > 0:\n",
    "    n -= 1\n",
    "    print(n)"
   ]
  },
  {
   "cell_type": "markdown",
   "id": "0f4df4fe",
   "metadata": {},
   "source": [
    "## Breaking out of Infinite Loops\n",
    "*****\n",
    "The code below the condition will never evaluate to false, but we can break out of the loop using a conditional statement. Sometimes it makes more sense to break out of loop based on a condition inside the loop rather than through the condition."
   ]
  },
  {
   "cell_type": "code",
   "execution_count": 21,
   "id": "abdfc204",
   "metadata": {},
   "outputs": [
    {
     "name": "stdout",
     "output_type": "stream",
     "text": [
      "Hello\n",
      "Hello\n",
      "Hello\n",
      "Hello\n",
      "Hello\n"
     ]
    }
   ],
   "source": [
    "a = 0 \n",
    "while True:\n",
    "    if a == 5:\n",
    "        break\n",
    "    print(\"Hello\")\n",
    "    a = a + 1"
   ]
  },
  {
   "cell_type": "markdown",
   "id": "2a1aa7c7",
   "metadata": {},
   "source": [
    "## Nested While Loops\n",
    "*****\n",
    "You can a while loop within a while loop"
   ]
  },
  {
   "cell_type": "code",
   "execution_count": 24,
   "id": "c8319c0b",
   "metadata": {},
   "outputs": [
    {
     "name": "stdout",
     "output_type": "stream",
     "text": [
      "baz\n",
      "  ===\n",
      "  ---\n",
      "buzz\n",
      "  ===\n",
      "  ---\n",
      "fizz\n",
      "  ===\n",
      "  ---\n"
     ]
    }
   ],
   "source": [
    "a = ['fizz', 'buzz', 'baz']\n",
    "\n",
    "while a:\n",
    "    print(a.pop(-1))\n",
    "    b = ['---', '===']\n",
    "    while b:\n",
    "        print(\" \", b.pop(-1))"
   ]
  },
  {
   "cell_type": "markdown",
   "id": "d7788507",
   "metadata": {},
   "source": [
    "A `break` or `continue` statement found within nested loops applies to the nearest enclosing loop:"
   ]
  },
  {
   "cell_type": "markdown",
   "id": "e4c9c85e",
   "metadata": {},
   "source": [
    "## One Line While Loops\n",
    "*****\n",
    "\n",
    "These are pretty simple."
   ]
  },
  {
   "cell_type": "code",
   "execution_count": 26,
   "id": "e542ef11",
   "metadata": {},
   "outputs": [
    {
     "name": "stdout",
     "output_type": "stream",
     "text": [
      "4\n",
      "3\n",
      "2\n",
      "1\n",
      "0\n"
     ]
    }
   ],
   "source": [
    "a = 5\n",
    "while a > 0: a -= 1; print(a)"
   ]
  },
  {
   "cell_type": "markdown",
   "id": "4b2044fe",
   "metadata": {},
   "source": [
    "One constraint is that you can't have a nested conditional statement"
   ]
  },
  {
   "cell_type": "code",
   "execution_count": 27,
   "id": "c0914759",
   "metadata": {},
   "outputs": [
    {
     "ename": "SyntaxError",
     "evalue": "invalid syntax (75852515.py, line 2)",
     "output_type": "error",
     "traceback": [
      "\u001b[1;36m  Input \u001b[1;32mIn [27]\u001b[1;36m\u001b[0m\n\u001b[1;33m    while a > 0: a -= 1;if a == 2: print(\"A is 2\") print(a)\u001b[0m\n\u001b[1;37m                        ^\u001b[0m\n\u001b[1;31mSyntaxError\u001b[0m\u001b[1;31m:\u001b[0m invalid syntax\n"
     ]
    }
   ],
   "source": [
    "a = 5\n",
    "while a > 0: a -= 1;if a == 2: print(\"A is 2\") print(a)"
   ]
  },
  {
   "cell_type": "code",
   "execution_count": null,
   "id": "cbf47920",
   "metadata": {},
   "outputs": [],
   "source": []
  }
 ],
 "metadata": {
  "kernelspec": {
   "display_name": "Python 3 (ipykernel)",
   "language": "python",
   "name": "python3"
  },
  "language_info": {
   "codemirror_mode": {
    "name": "ipython",
    "version": 3
   },
   "file_extension": ".py",
   "mimetype": "text/x-python",
   "name": "python",
   "nbconvert_exporter": "python",
   "pygments_lexer": "ipython3",
   "version": "3.9.12"
  }
 },
 "nbformat": 4,
 "nbformat_minor": 5
}
