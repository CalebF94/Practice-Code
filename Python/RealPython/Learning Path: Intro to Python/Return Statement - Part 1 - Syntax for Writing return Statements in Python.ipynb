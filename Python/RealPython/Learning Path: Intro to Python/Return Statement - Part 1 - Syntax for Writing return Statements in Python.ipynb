{
 "cells": [
  {
   "cell_type": "markdown",
   "id": "8af16497",
   "metadata": {},
   "source": [
    "# Python Return Statement - Syntax\n",
    "You can use the `return` statement to make your functions send Python objects back to the caller code\n",
    "\n",
    "Using the `return` statement is a crucial skill for writing pythonic code\n",
    "\n",
    "### Python Function Review\n",
    "Nothing new here\n",
    "\n",
    "### Understanding the `return` statement\n",
    "\n",
    "The `return` statement sends an object to the caller\n",
    "\n",
    "#### Implicit Return Statements\n",
    "If there is no return statement the function returns `None`"
   ]
  },
  {
   "cell_type": "code",
   "execution_count": 4,
   "id": "c62f7ae6",
   "metadata": {},
   "outputs": [
    {
     "name": "stdout",
     "output_type": "stream",
     "text": [
      "None\n"
     ]
    }
   ],
   "source": [
    "def add_one(x):\n",
    "    result = x + 1\n",
    "    \n",
    "value = add_one(5)\n",
    "print(value)"
   ]
  },
  {
   "cell_type": "markdown",
   "id": "6828bb2f",
   "metadata": {},
   "source": [
    "#### Explicit Return Statements\n",
    "\n",
    "When an explicit return statement is executed the function immediately terminates.  \n",
    "To add an explicit return statement to a Python function, you need to use `return` followed by an optional return value:"
   ]
  },
  {
   "cell_type": "code",
   "execution_count": 5,
   "id": "a8877f2a",
   "metadata": {},
   "outputs": [
    {
     "data": {
      "text/plain": [
       "42"
      ]
     },
     "execution_count": 5,
     "metadata": {},
     "output_type": "execute_result"
    }
   ],
   "source": [
    "def return_42():\n",
    "    return 42 # explicit return statement\n",
    "\n",
    "return_42()"
   ]
  },
  {
   "cell_type": "markdown",
   "id": "b22cd7d3",
   "metadata": {},
   "source": [
    "The return value of a function can be used in any expression (save to variable, use in calculation, etc"
   ]
  },
  {
   "cell_type": "code",
   "execution_count": 7,
   "id": "b320b92d",
   "metadata": {},
   "outputs": [
    {
     "data": {
      "text/plain": [
       "42"
      ]
     },
     "execution_count": 7,
     "metadata": {},
     "output_type": "execute_result"
    }
   ],
   "source": [
    "num = return_42()\n",
    "num"
   ]
  },
  {
   "cell_type": "code",
   "execution_count": 8,
   "id": "347866a1",
   "metadata": {},
   "outputs": [
    {
     "data": {
      "text/plain": [
       "44"
      ]
     },
     "execution_count": 8,
     "metadata": {},
     "output_type": "execute_result"
    }
   ],
   "source": [
    "return_42() + 2"
   ]
  },
  {
   "cell_type": "markdown",
   "id": "86452974",
   "metadata": {},
   "source": [
    "You also cannot use a return statement outside of a function"
   ]
  },
  {
   "cell_type": "code",
   "execution_count": 9,
   "id": "2dc4e026",
   "metadata": {},
   "outputs": [
    {
     "ename": "SyntaxError",
     "evalue": "'return' outside function (3438313781.py, line 1)",
     "output_type": "error",
     "traceback": [
      "\u001b[1;36m  Input \u001b[1;32mIn [9]\u001b[1;36m\u001b[0m\n\u001b[1;33m    return\u001b[0m\n\u001b[1;37m    ^\u001b[0m\n\u001b[1;31mSyntaxError\u001b[0m\u001b[1;31m:\u001b[0m 'return' outside function\n"
     ]
    }
   ],
   "source": [
    "return"
   ]
  },
  {
   "cell_type": "code",
   "execution_count": 10,
   "id": "512fdd4b",
   "metadata": {},
   "outputs": [
    {
     "data": {
      "text/plain": [
       "[2, 4, 6, 8]"
      ]
     },
     "execution_count": 10,
     "metadata": {},
     "output_type": "execute_result"
    }
   ],
   "source": [
    "def get_even(numbers):\n",
    "    even_nums = [num for num in numbers if not num % 2]\n",
    "    return even_nums\n",
    "\n",
    "get_even([1,3,2,4,5,6,7,8])"
   ]
  },
  {
   "cell_type": "markdown",
   "id": "7351b700",
   "metadata": {},
   "source": [
    "The return value can be any valid expression. In the function above we didn't have to save the list comprehension to a variable. We could have just returned the list comprehension itself"
   ]
  },
  {
   "cell_type": "markdown",
   "id": "6133ede8",
   "metadata": {},
   "source": [
    "### Returning vs Printing\n",
    "\n",
    "When the output of a function has quotes, it indicates a string was returned. \n",
    "\n",
    "This matters because of data types and subsequent operations that may use the returned value\n",
    "\n",
    "In a script, if you want something displayed on screen you have to use a print statement"
   ]
  },
  {
   "cell_type": "markdown",
   "id": "9963b416",
   "metadata": {},
   "source": [
    "### Returning Multiple Values\n",
    "Multiple values can be returned by listing the return values separated with commas. The result will be a tuple."
   ]
  },
  {
   "cell_type": "code",
   "execution_count": 11,
   "id": "4e173ccf",
   "metadata": {},
   "outputs": [],
   "source": [
    "import statistics as st\n",
    "\n",
    "def describe(*args: 'Series of numbers'):\n",
    "    return st.mean(args), st.median(args), st.mode(args)"
   ]
  },
  {
   "cell_type": "code",
   "execution_count": 12,
   "id": "6dd9a10e",
   "metadata": {},
   "outputs": [
    {
     "data": {
      "text/plain": [
       "(3.5555555555555554, 4, 4)"
      ]
     },
     "execution_count": 12,
     "metadata": {},
     "output_type": "execute_result"
    }
   ],
   "source": [
    "describe(1,2,3,4,5,4,3,4,6)"
   ]
  },
  {
   "cell_type": "markdown",
   "id": "b4dec2e1",
   "metadata": {},
   "source": [
    "The values can be saved to separate variables useing iterable unpacking"
   ]
  },
  {
   "cell_type": "code",
   "execution_count": 13,
   "id": "d1361dd3",
   "metadata": {},
   "outputs": [],
   "source": [
    "mean, median, mode = describe(1,2,3,4,5,4,3,4,6)"
   ]
  },
  {
   "cell_type": "code",
   "execution_count": 14,
   "id": "09b18c7a",
   "metadata": {},
   "outputs": [
    {
     "data": {
      "text/plain": [
       "3.5555555555555554"
      ]
     },
     "execution_count": 14,
     "metadata": {},
     "output_type": "execute_result"
    }
   ],
   "source": [
    "mean"
   ]
  },
  {
   "cell_type": "code",
   "execution_count": 15,
   "id": "d17fc937",
   "metadata": {},
   "outputs": [
    {
     "data": {
      "text/plain": [
       "4"
      ]
     },
     "execution_count": 15,
     "metadata": {},
     "output_type": "execute_result"
    }
   ],
   "source": [
    "median"
   ]
  },
  {
   "cell_type": "code",
   "execution_count": 17,
   "id": "5133d750",
   "metadata": {},
   "outputs": [
    {
     "data": {
      "text/plain": [
       "4"
      ]
     },
     "execution_count": 17,
     "metadata": {},
     "output_type": "execute_result"
    }
   ],
   "source": [
    "mode"
   ]
  },
  {
   "cell_type": "markdown",
   "id": "f1f50e37",
   "metadata": {},
   "source": [
    "Built in functions often return multiple values. Example, `divmod()` returns the quotient and remainder."
   ]
  },
  {
   "cell_type": "code",
   "execution_count": 20,
   "id": "50554093",
   "metadata": {},
   "outputs": [
    {
     "data": {
      "text/plain": [
       "(5, 0)"
      ]
     },
     "execution_count": 20,
     "metadata": {},
     "output_type": "execute_result"
    }
   ],
   "source": [
    "divmod(15,3)"
   ]
  },
  {
   "cell_type": "code",
   "execution_count": 21,
   "id": "bb93699a",
   "metadata": {},
   "outputs": [
    {
     "data": {
      "text/plain": [
       "(2, 2)"
      ]
     },
     "execution_count": 21,
     "metadata": {},
     "output_type": "execute_result"
    }
   ],
   "source": [
    "divmod(8, 3)"
   ]
  }
 ],
 "metadata": {
  "kernelspec": {
   "display_name": "Python 3 (ipykernel)",
   "language": "python",
   "name": "python3"
  },
  "language_info": {
   "codemirror_mode": {
    "name": "ipython",
    "version": 3
   },
   "file_extension": ".py",
   "mimetype": "text/x-python",
   "name": "python",
   "nbconvert_exporter": "python",
   "pygments_lexer": "ipython3",
   "version": "3.9.12"
  }
 },
 "nbformat": 4,
 "nbformat_minor": 5
}
