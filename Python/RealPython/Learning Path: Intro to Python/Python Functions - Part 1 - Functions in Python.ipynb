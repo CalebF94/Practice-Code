{
 "cells": [
  {
   "cell_type": "markdown",
   "id": "1cfb9277",
   "metadata": {},
   "source": [
    "# Python Functions - Functions in Python\n",
    "Function - Self contained block of code that encapsulates a specific task or related groups of task.\n",
    "\n",
    "When invoking (calling) a a function you need to know a function's interface which consists of two elements:  \n",
    "1) Arugments it takes\n",
    "2) Values it returns\n",
    "\n",
    "To create your own functions you need to determine how it performs it task. When you call your function it will behave just like any other function.\n",
    "\n",
    "### Why would you write your own function\n",
    "1) Abstraction and Reuseability: Copy and pasting doesn't always work b/c names can be different. If you find an improvement in code then you have to change all spots where code was copied. Don't repeat yourself \n",
    "\n",
    "2) Modularity: Taking a complex process and breaking into smaller chunks. It can be hard to read long scripts. This can clean the main program.\n",
    "\n",
    "3) Namespace Separation: A namespace (scope) is an area where an identifier has a name. This can allow to always use the best identifier name and not worry about if the name already being used\n",
    "\n",
    "### Function Calls and Definitions\n",
    "+ Calling (using/invoking) a Function: Simply give name of function followed by parenthesis with the function arguments:  \n",
    "\n",
    "\n",
    "`     <function-name>(<[arguments]>)`\n",
    "\n",
    "+ Function Definition: begins with keyword `def` followed by the function name. name should describe what it is supposed to do. Next come parameters which are placeholders for arguments that are used in the function. The header line is finished with a colon. The next section is indented and contains the code to perform. The indentation tells Python what lines of code are part of the function\n",
    "`def <function-name>([<parameters>]):`    \n",
    "`      <statement(s)>`\n"
   ]
  },
  {
   "cell_type": "code",
   "execution_count": 1,
   "id": "ca76acec",
   "metadata": {},
   "outputs": [
    {
     "name": "stdout",
     "output_type": "stream",
     "text": [
      "Bfore calling f()\n",
      "-- Inside f()\n",
      "After calling f()\n"
     ]
    }
   ],
   "source": [
    "def f():\n",
    "    s = \"-- Inside f()\"\n",
    "    print(s)\n",
    "    \n",
    "    \n",
    "print(\"Bfore calling f()\")\n",
    "f()\n",
    "print('After calling f()')"
   ]
  },
  {
   "cell_type": "markdown",
   "id": "15e92438",
   "metadata": {},
   "source": [
    "Sometimes you know you need a function at a certain place, but you aren't ready to actually write the code. You may need a placeholder function so you can check if other parts of your code is working. This placeholder function is known as a **Function Stub**. Simply make a function that runs the pass statement\n",
    "\n",
    "`def f():  \n",
    "    pass`"
   ]
  },
  {
   "cell_type": "code",
   "execution_count": 2,
   "id": "3f41737b",
   "metadata": {},
   "outputs": [],
   "source": [
    "def f():\n",
    "    pass\n",
    "\n",
    "f()"
   ]
  },
  {
   "cell_type": "markdown",
   "id": "e68da4aa",
   "metadata": {},
   "source": []
  }
 ],
 "metadata": {
  "kernelspec": {
   "display_name": "Python 3 (ipykernel)",
   "language": "python",
   "name": "python3"
  },
  "language_info": {
   "codemirror_mode": {
    "name": "ipython",
    "version": 3
   },
   "file_extension": ".py",
   "mimetype": "text/x-python",
   "name": "python",
   "nbconvert_exporter": "python",
   "pygments_lexer": "ipython3",
   "version": "3.9.12"
  }
 },
 "nbformat": 4,
 "nbformat_minor": 5
}
