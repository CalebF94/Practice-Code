{
 "cells": [
  {
   "cell_type": "markdown",
   "id": "af777c14",
   "metadata": {},
   "source": [
    "# Python `Print()` Statement: Go Beyond the Basics\n",
    "1) Basic Usage  \n",
    "2) String Formatting  \n",
    "3) sep, end, and flesh  \n",
    "4) Custom data types  \n",
    "5) Printing to files/streams  \n",
    "6) changes to print  \n",
    "7) pretty print \n",
    "8) ANSI escape characters  \n",
    "9) Simple animation  \n",
    "10) mock print  \n",
    "11) debugging  \n",
    "12) related content  "
   ]
  },
  {
   "cell_type": "markdown",
   "id": "66f1d762",
   "metadata": {},
   "source": [
    "## Basic Usage\n",
    "pretty basic stuff\n",
    "\n"
   ]
  },
  {
   "cell_type": "code",
   "execution_count": 1,
   "id": "fcbfb3dd",
   "metadata": {},
   "outputs": [
    {
     "data": {
      "text/plain": [
       "'Using double quotes'"
      ]
     },
     "execution_count": 1,
     "metadata": {},
     "output_type": "execute_result"
    }
   ],
   "source": [
    "\"Using double quotes\""
   ]
  },
  {
   "cell_type": "code",
   "execution_count": 2,
   "id": "44415ec6",
   "metadata": {},
   "outputs": [
    {
     "data": {
      "text/plain": [
       "'USing single quotes'"
      ]
     },
     "execution_count": 2,
     "metadata": {},
     "output_type": "execute_result"
    }
   ],
   "source": [
    "'USing single quotes'"
   ]
  },
  {
   "cell_type": "code",
   "execution_count": 3,
   "id": "d216cafc",
   "metadata": {},
   "outputs": [
    {
     "data": {
      "text/plain": [
       "'Triple quotes\\nfor multiple lines'"
      ]
     },
     "execution_count": 3,
     "metadata": {},
     "output_type": "execute_result"
    }
   ],
   "source": [
    "'''Triple quotes\n",
    "for multiple lines'''"
   ]
  },
  {
   "cell_type": "markdown",
   "id": "f7add484",
   "metadata": {},
   "source": [
    "New line character is \"\\n\" by default print adds \"\\n\" to the end of the the string."
   ]
  },
  {
   "cell_type": "markdown",
   "id": "dcdb11a5",
   "metadata": {},
   "source": [
    "The code below may make a bong sound"
   ]
  },
  {
   "cell_type": "code",
   "execution_count": 4,
   "id": "b24bcb8e",
   "metadata": {},
   "outputs": [
    {
     "name": "stdout",
     "output_type": "stream",
     "text": [
      "bong \u0007\n"
     ]
    }
   ],
   "source": [
    "print(\"bong \\a\")"
   ]
  },
  {
   "cell_type": "markdown",
   "id": "7eeba0b3",
   "metadata": {},
   "source": [
    "print hex values using '\\xbd'"
   ]
  },
  {
   "cell_type": "code",
   "execution_count": 5,
   "id": "079e5cc0",
   "metadata": {},
   "outputs": [
    {
     "name": "stdout",
     "output_type": "stream",
     "text": [
      "Hex 0xBD is ½\n"
     ]
    }
   ],
   "source": [
    "print(\"Hex 0xBD is \\xBD\")"
   ]
  },
  {
   "cell_type": "markdown",
   "id": "9fa6b255",
   "metadata": {},
   "source": [
    "Carriage return \"\\r\": moves the cursor back to the beginning of the line. This can cause some wierd output."
   ]
  },
  {
   "cell_type": "code",
   "execution_count": 6,
   "id": "463861e7",
   "metadata": {},
   "outputs": [
    {
     "name": "stdout",
     "output_type": "stream",
     "text": [
      "Carriage return means go back \r",
      " to the start of the line\n"
     ]
    }
   ],
   "source": [
    "print(\"Carriage return means go back \\r to the start of the line\")"
   ]
  },
  {
   "cell_type": "markdown",
   "id": "c678a234",
   "metadata": {},
   "source": [
    "Paths and Regexes can make escape characters messy. use raw strings to get around this"
   ]
  },
  {
   "cell_type": "raw",
   "id": "0cdbd0fe",
   "metadata": {},
   "source": [
    "## String Formatting\n",
    "Concatenate strings to make a third one. USe plus sign. This creates a new string.\n",
    "\n",
    "You can use %s and trailing % to insert a variable into a string"
   ]
  },
  {
   "cell_type": "code",
   "execution_count": 7,
   "id": "c4e09f3c",
   "metadata": {},
   "outputs": [
    {
     "name": "stdout",
     "output_type": "stream",
     "text": [
      "No, Mr. bond, I expect you to die\n"
     ]
    }
   ],
   "source": [
    "first = \"james\"\n",
    "last = \"bond\"\n",
    "age = 90\n",
    "message = 'No, Mr. %s, I expect you to die' % last\n",
    "print(message)"
   ]
  },
  {
   "cell_type": "code",
   "execution_count": 8,
   "id": "866ab4e7",
   "metadata": {},
   "outputs": [
    {
     "data": {
      "text/plain": [
       "'The name is bond, james bond'"
      ]
     },
     "execution_count": 8,
     "metadata": {},
     "output_type": "execute_result"
    }
   ],
   "source": [
    "message= 'The name is %s, %s %s' % (last, first, last)\n",
    "message"
   ]
  },
  {
   "cell_type": "markdown",
   "id": "61aa1362",
   "metadata": {},
   "source": [
    "### F Strings"
   ]
  },
  {
   "cell_type": "code",
   "execution_count": 9,
   "id": "8f7fc591",
   "metadata": {},
   "outputs": [
    {
     "data": {
      "text/plain": [
       "'No mr. bond, I expect you to die'"
      ]
     },
     "execution_count": 9,
     "metadata": {},
     "output_type": "execute_result"
    }
   ],
   "source": [
    "message = f'No mr. {last}, I expect you to die'\n",
    "message"
   ]
  },
  {
   "cell_type": "code",
   "execution_count": 10,
   "id": "a5a7996a",
   "metadata": {},
   "outputs": [
    {
     "data": {
      "text/plain": [
       "'Sean connery age times pi is 282.74'"
      ]
     },
     "execution_count": 10,
     "metadata": {},
     "output_type": "execute_result"
    }
   ],
   "source": [
    "message = f'Sean connery age times pi is {age*3.141593:.2f}'\n",
    "message"
   ]
  },
  {
   "cell_type": "markdown",
   "id": "0957d2b1",
   "metadata": {},
   "source": [
    "## Sep, end, flush arguments\n",
    "The only one I didn't know was flush"
   ]
  },
  {
   "cell_type": "code",
   "execution_count": 11,
   "id": "ca357f31",
   "metadata": {},
   "outputs": [
    {
     "name": "stdout",
     "output_type": "stream",
     "text": [
      "year,last,first\n",
      "1943,Idle,Eric\n",
      "1939,Cleese,John\n"
     ]
    }
   ],
   "source": [
    "data = [\n",
    "    ['year', 'last','first'],\n",
    "    [1943, 'Idle', 'Eric'],\n",
    "    [1939, 'Cleese', 'John']\n",
    "]\n",
    "\n",
    "for row in data:\n",
    "    print(*row, sep=',')"
   ]
  },
  {
   "cell_type": "markdown",
   "id": "4375a033",
   "metadata": {},
   "source": [
    "Flush gets rid of the end argument. You can use a combination of sep and end to create a bulletted list:"
   ]
  },
  {
   "cell_type": "code",
   "execution_count": 12,
   "id": "b4f48d13",
   "metadata": {},
   "outputs": [
    {
     "name": "stdout",
     "output_type": "stream",
     "text": [
      "My favourite Pythons:\n",
      "* Idle\n",
      "* Cleese\n",
      "* Sumatran short tailed\n"
     ]
    }
   ],
   "source": [
    "def bullets():\n",
    "    print('My favourite Pythons:', end = \"\\n* \")\n",
    "    print('Idle', end = \"\\n* \")\n",
    "    print(\"Cleese\", end = \"\\n* \"),\n",
    "    print(\"Sumatran short tailed\")\n",
    "    \n",
    "bullets()"
   ]
  },
  {
   "cell_type": "markdown",
   "id": "e974d3c8",
   "metadata": {},
   "source": [
    "## Printing to files/streams\n",
    "So far we've only printed to the stdout stream\n",
    "\n",
    "Operating systems typically have three standard streams:\n",
    "1) stdin\n",
    "2) stdout\n",
    "3) stderr"
   ]
  },
  {
   "cell_type": "code",
   "execution_count": 13,
   "id": "d92805ed",
   "metadata": {},
   "outputs": [
    {
     "name": "stdout",
     "output_type": "stream",
     "text": [
      "hello\n"
     ]
    }
   ],
   "source": [
    "import sys\n",
    "result = sys.stdout.write('hello\\n')"
   ]
  },
  {
   "cell_type": "markdown",
   "id": "bc7afcf6",
   "metadata": {},
   "source": [
    "Result stores the number of bits. Notice that '\\n' counts as a bit"
   ]
  },
  {
   "cell_type": "code",
   "execution_count": 14,
   "id": "72e053b7",
   "metadata": {},
   "outputs": [
    {
     "data": {
      "text/plain": [
       "6"
      ]
     },
     "execution_count": 14,
     "metadata": {},
     "output_type": "execute_result"
    }
   ],
   "source": [
    "\n",
    "result"
   ]
  },
  {
   "cell_type": "markdown",
   "id": "bf814191",
   "metadata": {},
   "source": [
    "`print()` also has a file parameter that specifies where you want to write to. Defaults to the stdout stream."
   ]
  },
  {
   "cell_type": "markdown",
   "id": "87f08a1a",
   "metadata": {},
   "source": [
    "## Custom Data classes\n",
    "print() converts arguments to strings using str()\n",
    "\n",
    "Suppose we have a simple class. "
   ]
  },
  {
   "cell_type": "code",
   "execution_count": 15,
   "id": "edac60c5",
   "metadata": {},
   "outputs": [],
   "source": [
    "class Person:\n",
    "    def __init__(self, name, age):\n",
    "        self.name = name\n",
    "        self.age = age\n",
    "        \n",
    "        \n",
    "john = Person('John Cleese', 80)"
   ]
  },
  {
   "cell_type": "markdown",
   "id": "ca2f37cc",
   "metadata": {},
   "source": [
    "Python doesn't know how to print an object of type Person, so need to define the dunder method __str__(self)"
   ]
  },
  {
   "cell_type": "code",
   "execution_count": 16,
   "id": "cb787191",
   "metadata": {},
   "outputs": [
    {
     "name": "stdout",
     "output_type": "stream",
     "text": [
      "<__main__.Person object at 0x000001F35F00B1C0>\n"
     ]
    }
   ],
   "source": [
    "print(john)"
   ]
  },
  {
   "cell_type": "code",
   "execution_count": 17,
   "id": "d50473a7",
   "metadata": {},
   "outputs": [
    {
     "name": "stdout",
     "output_type": "stream",
     "text": [
      "John Cleese\n"
     ]
    }
   ],
   "source": [
    "class Person:\n",
    "    def __init__(self, name, age):\n",
    "        self.name = name\n",
    "        self.age = age\n",
    "        \n",
    "    def __str__(self):\n",
    "        return f'{self.name}'\n",
    "        \n",
    "        \n",
    "john = Person('John Cleese', 80)\n",
    "print(john)"
   ]
  },
  {
   "cell_type": "markdown",
   "id": "c0e11e42",
   "metadata": {},
   "source": [
    "repr notice that repr return valid python code. We can eval the repr object"
   ]
  },
  {
   "cell_type": "code",
   "execution_count": 18,
   "id": "35ec8d2e",
   "metadata": {},
   "outputs": [
    {
     "data": {
      "text/plain": [
       "\"Person(name='John Cleese', age=80)\""
      ]
     },
     "execution_count": 18,
     "metadata": {},
     "output_type": "execute_result"
    }
   ],
   "source": [
    "class Person:\n",
    "    def __init__(self, name, age):\n",
    "        self.name = name\n",
    "        self.age = age\n",
    "        \n",
    "    def __str__(self):\n",
    "        return f'{self.name}'\n",
    "    \n",
    "    def __repr__(self):\n",
    "        return f\"Person(name='{self.name}', age={self.age})\"\n",
    "        \n",
    "john = Person('John Cleese', 80)\n",
    "repr(john)"
   ]
  },
  {
   "cell_type": "code",
   "execution_count": 19,
   "id": "59bc4a63",
   "metadata": {},
   "outputs": [
    {
     "data": {
      "text/plain": [
       "__main__.Person"
      ]
     },
     "execution_count": 19,
     "metadata": {},
     "output_type": "execute_result"
    }
   ],
   "source": [
    "john2 = eval(repr(john))\n",
    "type(john2)"
   ]
  },
  {
   "cell_type": "code",
   "execution_count": 20,
   "id": "22169570",
   "metadata": {},
   "outputs": [
    {
     "data": {
      "text/plain": [
       "2144782943280"
      ]
     },
     "execution_count": 20,
     "metadata": {},
     "output_type": "execute_result"
    }
   ],
   "source": [
    "id(john2)"
   ]
  },
  {
   "cell_type": "code",
   "execution_count": 21,
   "id": "c3da7cff",
   "metadata": {},
   "outputs": [
    {
     "data": {
      "text/plain": [
       "2144782942608"
      ]
     },
     "execution_count": 21,
     "metadata": {},
     "output_type": "execute_result"
    }
   ],
   "source": [
    "id(john)"
   ]
  },
  {
   "cell_type": "code",
   "execution_count": 22,
   "id": "f5dbcb93",
   "metadata": {},
   "outputs": [
    {
     "name": "stdout",
     "output_type": "stream",
     "text": [
      "John Cleese\n"
     ]
    }
   ],
   "source": [
    "print(john2)"
   ]
  },
  {
   "cell_type": "markdown",
   "id": "20f36489",
   "metadata": {},
   "source": [
    "## Pretty Print\n",
    "Useful for displaying objects such as dictionaries.\n",
    "\n",
    "from pprint library"
   ]
  },
  {
   "cell_type": "code",
   "execution_count": 23,
   "id": "766bfbaf",
   "metadata": {},
   "outputs": [],
   "source": [
    "from pprint import pprint"
   ]
  },
  {
   "cell_type": "code",
   "execution_count": 24,
   "id": "f991a817",
   "metadata": {},
   "outputs": [
    {
     "name": "stdout",
     "output_type": "stream",
     "text": [
      "{'squares': [0, 1, 4, 9, 16, 25, 36, 49, 64, 81]}\n"
     ]
    }
   ],
   "source": [
    "data ={\n",
    "    'squares': [x**2 for x in range(10)]\n",
    "}\n",
    "\n",
    "pprint(data)"
   ]
  },
  {
   "cell_type": "code",
   "execution_count": 25,
   "id": "d929bea8",
   "metadata": {},
   "outputs": [
    {
     "name": "stdout",
     "output_type": "stream",
     "text": [
      "{'squares': [0, 1, 4, 9, 16, 25, 36, 49, 64, 81], 'tens': [0, 1, 1024, 59049, 1048576, 9765625, 60466176, 282475249, 1073741824, 3486784401]}\n"
     ]
    }
   ],
   "source": [
    "data['tens'] = [x**10 for x in range(10)]\n",
    "print(data)"
   ]
  },
  {
   "cell_type": "code",
   "execution_count": 26,
   "id": "c4814daa",
   "metadata": {},
   "outputs": [
    {
     "name": "stdout",
     "output_type": "stream",
     "text": [
      "{'squares': [0, 1, 4, 9, 16, 25, 36, 49, 64, 81],\n",
      " 'tens': [0,\n",
      "          1,\n",
      "          1024,\n",
      "          59049,\n",
      "          1048576,\n",
      "          9765625,\n",
      "          60466176,\n",
      "          282475249,\n",
      "          1073741824,\n",
      "          3486784401]}\n"
     ]
    }
   ],
   "source": [
    "pprint(data)"
   ]
  },
  {
   "cell_type": "markdown",
   "id": "004e3e71",
   "metadata": {},
   "source": [
    "You can modify the width that pprint uses"
   ]
  },
  {
   "cell_type": "code",
   "execution_count": 27,
   "id": "31d6358c",
   "metadata": {},
   "outputs": [
    {
     "name": "stdout",
     "output_type": "stream",
     "text": [
      "{'squares': [0,\n",
      "             1,\n",
      "             4,\n",
      "             9,\n",
      "             16,\n",
      "             25,\n",
      "             36,\n",
      "             49,\n",
      "             64,\n",
      "             81],\n",
      " 'tens': [0,\n",
      "          1,\n",
      "          1024,\n",
      "          59049,\n",
      "          1048576,\n",
      "          9765625,\n",
      "          60466176,\n",
      "          282475249,\n",
      "          1073741824,\n",
      "          3486784401]}\n"
     ]
    }
   ],
   "source": [
    "pprint(data, width = 20)"
   ]
  },
  {
   "cell_type": "code",
   "execution_count": 33,
   "id": "6f4451fb",
   "metadata": {},
   "outputs": [],
   "source": [
    "cities = {\n",
    "    'USA': {'Texas': {'Dallas': ['Irving']}},\n",
    "    'Canada': {\"BC\": {\"Vancouver\": [\"North Van\"]}}\n",
    "}"
   ]
  },
  {
   "cell_type": "markdown",
   "id": "58171edd",
   "metadata": {},
   "source": [
    "Pretty print allows you to specify the depth at which to print"
   ]
  },
  {
   "cell_type": "code",
   "execution_count": 34,
   "id": "6b4dbeff",
   "metadata": {},
   "outputs": [
    {
     "name": "stdout",
     "output_type": "stream",
     "text": [
      "{'Canada': {'BC': {'Vancouver': [...]}}, 'USA': {'Texas': {'Dallas': [...]}}}\n"
     ]
    }
   ],
   "source": [
    "pprint(cities, depth = 3)"
   ]
  },
  {
   "cell_type": "markdown",
   "id": "d1806408",
   "metadata": {},
   "source": [
    "## ANSI Escape Sequence"
   ]
  },
  {
   "cell_type": "markdown",
   "id": "2c13618a",
   "metadata": {},
   "source": [
    "Give ability to control color, bold, underline, and strikeout.  \n"
   ]
  },
  {
   "cell_type": "code",
   "execution_count": 40,
   "id": "f0b0789c",
   "metadata": {},
   "outputs": [
    {
     "name": "stdout",
     "output_type": "stream",
     "text": [
      "this is \u001b[31m really \u001b[0m important\n",
      "this is \u001b[31;1m really \u001b[0m important\n",
      "this is \u001b[31;1;4m really \u001b[0m important\n"
     ]
    }
   ],
   "source": [
    "def esc(code):\n",
    "    return f'\\033[{code}m'\n",
    "\n",
    "# one parameter for color\n",
    "print('this is', esc('31'), 'really', esc(0), 'important', sep = \" \")\n",
    "\n",
    "#one parameter for bold\n",
    "print(f\"this is {esc('31;1')} really {esc(0)} important\")\n",
    "\n",
    "#one parameter for underline\n",
    "print(f\"this is {esc('31;1;4')} really {esc(0)} important\")"
   ]
  },
  {
   "cell_type": "markdown",
   "id": "7779b57b",
   "metadata": {},
   "source": [
    "## Simple Animation\n",
    "\\r and \\b can be used for progress bars and flipbbok spinner animations"
   ]
  },
  {
   "cell_type": "markdown",
   "id": "4fbb839e",
   "metadata": {},
   "source": [
    "The code below creates a spinner "
   ]
  },
  {
   "cell_type": "code",
   "execution_count": 47,
   "id": "7104fbb1",
   "metadata": {},
   "outputs": [
    {
     "name": "stdout",
     "output_type": "stream",
     "text": [
      "Everybody look busy  \n"
     ]
    }
   ],
   "source": [
    "from time import sleep\n",
    "\n",
    "print('Everybody look busy  ', end =\"\", flush=True)\n",
    "for x in range(3):\n",
    "    for frame in r'-\\|/-\\|/':\n",
    "        # back up one character then print our next frame in the animation\n",
    "        print(\"\\b\", frame, sep=\"\", end=\"\", flush=True)\n",
    "        sleep(0.2)\n",
    "        \n",
    "print(\"\\b \")"
   ]
  },
  {
   "cell_type": "markdown",
   "id": "06b042a6",
   "metadata": {},
   "source": [
    "The following code makes a loading bar"
   ]
  },
  {
   "cell_type": "code",
   "execution_count": 49,
   "id": "e2baab61",
   "metadata": {},
   "outputs": [
    {
     "name": "stdout",
     "output_type": "stream",
     "text": [
      "[##############################] 100%"
     ]
    }
   ],
   "source": [
    "def progress(percent=0, width=30):\n",
    "    # The number of hashes to show is based on the percent passed in, \n",
    "    # the number of blanks is whatever space is left after\n",
    "    hashes = width * percent // 100\n",
    "    blanks = width - hashes\n",
    "    \n",
    "    print('\\r[', hashes*'#', blanks*' ',']', f' {percent:.0f}%', sep = '', end=\"\", flush=True)\n",
    "    \n",
    "for i in range(101):\n",
    "    progress(i)\n",
    "    sleep(0.1)"
   ]
  },
  {
   "cell_type": "code",
   "execution_count": null,
   "id": "305f8fb1",
   "metadata": {},
   "outputs": [],
   "source": []
  }
 ],
 "metadata": {
  "kernelspec": {
   "display_name": "Python 3 (ipykernel)",
   "language": "python",
   "name": "python3"
  },
  "language_info": {
   "codemirror_mode": {
    "name": "ipython",
    "version": 3
   },
   "file_extension": ".py",
   "mimetype": "text/x-python",
   "name": "python",
   "nbconvert_exporter": "python",
   "pygments_lexer": "ipython3",
   "version": "3.9.12"
  }
 },
 "nbformat": 4,
 "nbformat_minor": 5
}
