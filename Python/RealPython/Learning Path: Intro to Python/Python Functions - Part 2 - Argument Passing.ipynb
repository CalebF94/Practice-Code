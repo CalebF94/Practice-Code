{
 "cells": [
  {
   "cell_type": "markdown",
   "id": "50134faf",
   "metadata": {},
   "source": [
    "# Python Functions: Argument Passing\n",
    "Allows you to provide data for the function to use. This makes the function dynamic instead of always returning the same output\n",
    "\n",
    "\n",
    "### Positional Arguments\n",
    "Also called required arguments.\n",
    "\n",
    "You specify Pos Args with a comma separated list. Called positional b/c the order the argument values are given matters. Putting the parameter values in the wrong order can cause an error. Example is if you try to round a value that is a string.\n",
    "\n",
    "The function below has three named parameters that are required. Tunction just returns the total price. "
   ]
  },
  {
   "cell_type": "code",
   "execution_count": 1,
   "id": "6a252806",
   "metadata": {},
   "outputs": [
    {
     "name": "stdout",
     "output_type": "stream",
     "text": [
      "3 bananas cost $4.32\n"
     ]
    }
   ],
   "source": [
    "def f(qty, item, price):\n",
    "    print(f\"{qty} {item} cost ${price:.2f}\")\n",
    "    \n",
    "f(3, 'bananas', 4.32)"
   ]
  },
  {
   "cell_type": "markdown",
   "id": "af374f75",
   "metadata": {},
   "source": [
    "Putting the argument values in the wrong order"
   ]
  },
  {
   "cell_type": "code",
   "execution_count": 2,
   "id": "86215d3b",
   "metadata": {},
   "outputs": [
    {
     "ename": "ValueError",
     "evalue": "Unknown format code 'f' for object of type 'str'",
     "output_type": "error",
     "traceback": [
      "\u001b[1;31m---------------------------------------------------------------------------\u001b[0m",
      "\u001b[1;31mValueError\u001b[0m                                Traceback (most recent call last)",
      "Input \u001b[1;32mIn [2]\u001b[0m, in \u001b[0;36m<cell line: 1>\u001b[1;34m()\u001b[0m\n\u001b[1;32m----> 1\u001b[0m \u001b[43mf\u001b[49m\u001b[43m(\u001b[49m\u001b[38;5;241;43m3\u001b[39;49m\u001b[43m,\u001b[49m\u001b[43m \u001b[49m\u001b[38;5;241;43m4.32\u001b[39;49m\u001b[43m,\u001b[49m\u001b[43m \u001b[49m\u001b[38;5;124;43m'\u001b[39;49m\u001b[38;5;124;43mbananas\u001b[39;49m\u001b[38;5;124;43m'\u001b[39;49m\u001b[43m)\u001b[49m\n",
      "Input \u001b[1;32mIn [1]\u001b[0m, in \u001b[0;36mf\u001b[1;34m(qty, item, price)\u001b[0m\n\u001b[0;32m      1\u001b[0m \u001b[38;5;28;01mdef\u001b[39;00m \u001b[38;5;21mf\u001b[39m(qty, item, price):\n\u001b[1;32m----> 2\u001b[0m     \u001b[38;5;28mprint\u001b[39m(\u001b[38;5;124mf\u001b[39m\u001b[38;5;124m\"\u001b[39m\u001b[38;5;132;01m{\u001b[39;00mqty\u001b[38;5;132;01m}\u001b[39;00m\u001b[38;5;124m \u001b[39m\u001b[38;5;132;01m{\u001b[39;00mitem\u001b[38;5;132;01m}\u001b[39;00m\u001b[38;5;124m cost $\u001b[39m\u001b[38;5;132;01m{\u001b[39;00mprice\u001b[38;5;132;01m:\u001b[39;00m\u001b[38;5;124m.2f\u001b[39m\u001b[38;5;132;01m}\u001b[39;00m\u001b[38;5;124m\"\u001b[39m)\n",
      "\u001b[1;31mValueError\u001b[0m: Unknown format code 'f' for object of type 'str'"
     ]
    }
   ],
   "source": [
    "f(3, 4.32, 'bananas')"
   ]
  },
  {
   "cell_type": "markdown",
   "id": "c3bb8b82",
   "metadata": {},
   "source": [
    "### Keyword Arguments\n",
    "When calling a function instead of just inputting a value you can also provide a name to the parameter being entered. Since there is a name, the order of the arguments doesn't matter."
   ]
  },
  {
   "cell_type": "code",
   "execution_count": 3,
   "id": "6217476b",
   "metadata": {},
   "outputs": [],
   "source": [
    "def f(qty, item, price):\n",
    "    print(f\"{qty} {item} cost ${price:.2f}\")"
   ]
  },
  {
   "cell_type": "markdown",
   "id": "3f585d2c",
   "metadata": {},
   "source": [
    "Now if we provide arguments with names, we can can change the order of the arguments being entered. You still have to provide the correct number of parameters and the spelling of the parameter name."
   ]
  },
  {
   "cell_type": "code",
   "execution_count": 4,
   "id": "ba437870",
   "metadata": {},
   "outputs": [
    {
     "name": "stdout",
     "output_type": "stream",
     "text": [
      "6 bananas cost $2.19\n"
     ]
    }
   ],
   "source": [
    "f(item='bananas', qty=6, price=2.19)"
   ]
  },
  {
   "cell_type": "markdown",
   "id": "75e81915",
   "metadata": {},
   "source": [
    "You can also mix the use of positional and keyword arguments. However the positional arguments must come first."
   ]
  },
  {
   "cell_type": "code",
   "execution_count": 5,
   "id": "f38094a2",
   "metadata": {},
   "outputs": [
    {
     "name": "stdout",
     "output_type": "stream",
     "text": [
      "6 bananas cost $2.19\n"
     ]
    }
   ],
   "source": [
    "f(6, price=2.19, item='bananas')"
   ]
  },
  {
   "cell_type": "markdown",
   "id": "43ca3529",
   "metadata": {},
   "source": [
    "Once you use a keyword argument you cannot go back and use a positional argument"
   ]
  },
  {
   "cell_type": "code",
   "execution_count": 6,
   "id": "69ca9fa4",
   "metadata": {},
   "outputs": [
    {
     "ename": "SyntaxError",
     "evalue": "positional argument follows keyword argument (200166365.py, line 1)",
     "output_type": "error",
     "traceback": [
      "\u001b[1;36m  Input \u001b[1;32mIn [6]\u001b[1;36m\u001b[0m\n\u001b[1;33m    f(6, price=2.19, 'bananas')\u001b[0m\n\u001b[1;37m                              ^\u001b[0m\n\u001b[1;31mSyntaxError\u001b[0m\u001b[1;31m:\u001b[0m positional argument follows keyword argument\n"
     ]
    }
   ],
   "source": [
    "f(6, price=2.19, 'bananas')"
   ]
  },
  {
   "cell_type": "markdown",
   "id": "742ee2ef",
   "metadata": {},
   "source": [
    "### Default Parameters\n",
    "Parameters can be assigned a value in the function headers. Simply set the parameter name equal to a parameter. Parameters that have a default value are also known as **Optional Parameters\"\""
   ]
  },
  {
   "cell_type": "code",
   "execution_count": 7,
   "id": "78e032c1",
   "metadata": {},
   "outputs": [],
   "source": [
    "def f(qty=6, item='Bananas', price=2.19):\n",
    "    print(f\"{qty} {item} cost ${price:.2f}\")"
   ]
  },
  {
   "cell_type": "markdown",
   "id": "5037b1a7",
   "metadata": {},
   "source": [
    "Now we can still use the function as before, or we can leave out any combination of arguments and those values will be used by the default.\n"
   ]
  },
  {
   "cell_type": "code",
   "execution_count": 8,
   "id": "2e2ec834",
   "metadata": {},
   "outputs": [
    {
     "name": "stdout",
     "output_type": "stream",
     "text": [
      "3 bananas cost $2.19\n"
     ]
    }
   ],
   "source": [
    "f(qty=3, item=\"bananas\", price=2.19)"
   ]
  },
  {
   "cell_type": "code",
   "execution_count": 9,
   "id": "15f13c8c",
   "metadata": {},
   "outputs": [
    {
     "name": "stdout",
     "output_type": "stream",
     "text": [
      "6 Bananas cost $2.19\n"
     ]
    }
   ],
   "source": [
    "f()"
   ]
  },
  {
   "cell_type": "code",
   "execution_count": 10,
   "id": "0700fb34",
   "metadata": {},
   "outputs": [
    {
     "name": "stdout",
     "output_type": "stream",
     "text": [
      "5 Bananas cost $2.19\n"
     ]
    }
   ],
   "source": [
    "f(qty=5)"
   ]
  },
  {
   "cell_type": "code",
   "execution_count": 11,
   "id": "cb0c9340",
   "metadata": {},
   "outputs": [
    {
     "name": "stdout",
     "output_type": "stream",
     "text": [
      "2 Bananas cost $1.99\n"
     ]
    }
   ],
   "source": [
    "f(qty=2, price=1.99)"
   ]
  },
  {
   "cell_type": "markdown",
   "id": "8a040f91",
   "metadata": {},
   "source": [
    "*Keep in mind all optional parameters must follow any required parameters*"
   ]
  },
  {
   "cell_type": "markdown",
   "id": "c893c40b",
   "metadata": {},
   "source": [
    "### Mutable Default Parameters\n",
    "Special care needs to be taken when mutable objects are assigned as a default parameter. A classic example is shown below:"
   ]
  },
  {
   "cell_type": "code",
   "execution_count": 12,
   "id": "77a215d9",
   "metadata": {},
   "outputs": [
    {
     "data": {
      "text/plain": [
       "['###']"
      ]
     },
     "execution_count": 12,
     "metadata": {},
     "output_type": "execute_result"
    }
   ],
   "source": [
    "def f(my_list=[]):\n",
    "    my_list.append('###')\n",
    "    return my_list\n",
    "\n",
    "f()"
   ]
  },
  {
   "cell_type": "code",
   "execution_count": 13,
   "id": "d7eeddf8",
   "metadata": {},
   "outputs": [
    {
     "data": {
      "text/plain": [
       "['foo', 'bar', 'baz', '###']"
      ]
     },
     "execution_count": 13,
     "metadata": {},
     "output_type": "execute_result"
    }
   ],
   "source": [
    "f(['foo', 'bar', 'baz'])"
   ]
  },
  {
   "cell_type": "code",
   "execution_count": 14,
   "id": "21e9dd26",
   "metadata": {},
   "outputs": [
    {
     "data": {
      "text/plain": [
       "[1, 2, 3, '###']"
      ]
     },
     "execution_count": 14,
     "metadata": {},
     "output_type": "execute_result"
    }
   ],
   "source": [
    "f([1,2,3])"
   ]
  },
  {
   "cell_type": "markdown",
   "id": "8c8b81ff",
   "metadata": {},
   "source": [
    "So far so good, until we we call f() with out an argument for a second time."
   ]
  },
  {
   "cell_type": "code",
   "execution_count": 15,
   "id": "ba636a6d",
   "metadata": {},
   "outputs": [
    {
     "data": {
      "text/plain": [
       "['###', '###']"
      ]
     },
     "execution_count": 15,
     "metadata": {},
     "output_type": "execute_result"
    }
   ],
   "source": [
    "f()"
   ]
  },
  {
   "cell_type": "markdown",
   "id": "276f9eac",
   "metadata": {},
   "source": [
    "Python default parameter values are defined only once when the function is defined (that is, when the def statement is executed; not when the function is run). So when we called `f()` for a second time `my_list` already had the first '###' in it. `my_list` doesn't get *re-defined* each time the function is called.\n",
    "\n",
    "How do we get our function to behave in a more expected way? The solution is to set the mutable parameter to `None` which is not a mutable object."
   ]
  },
  {
   "cell_type": "code",
   "execution_count": 16,
   "id": "226f18c0",
   "metadata": {},
   "outputs": [],
   "source": [
    "def f(my_list=None):\n",
    "    if my_list == None:\n",
    "        my_list = []\n",
    "    my_list.append('###')\n",
    "    return my_list"
   ]
  },
  {
   "cell_type": "code",
   "execution_count": 17,
   "id": "ff449b91",
   "metadata": {},
   "outputs": [
    {
     "data": {
      "text/plain": [
       "['###']"
      ]
     },
     "execution_count": 17,
     "metadata": {},
     "output_type": "execute_result"
    }
   ],
   "source": [
    "f()"
   ]
  },
  {
   "cell_type": "code",
   "execution_count": 18,
   "id": "eab27d4a",
   "metadata": {},
   "outputs": [
    {
     "data": {
      "text/plain": [
       "['###']"
      ]
     },
     "execution_count": 18,
     "metadata": {},
     "output_type": "execute_result"
    }
   ],
   "source": [
    "f()"
   ]
  },
  {
   "cell_type": "markdown",
   "id": "5a7484c2",
   "metadata": {},
   "source": [
    "The key point is that `my_list()` isn't actually defined as a list until the body of the function."
   ]
  },
  {
   "cell_type": "markdown",
   "id": "c04ea43a",
   "metadata": {},
   "source": [
    "### Pass-by-Value vs Pass-By-Reference in C++\n",
    "Pass by Value: a copy of the argument is passed to the function. The function doesn't know anything about where the variable came from. You can't change the value in any meaningful way.\n",
    "\n",
    "Pass-by-Reference: A reference to the argument is passed to the function. Thus the original object can be modified inside the function. Changes made to the variable inside the function will have an effect after the function had been called\n",
    "\n",
    "In python when you say:\n",
    "`x = 5  \n",
    "x = 10`\n",
    "\n",
    "The first statement causes `x` to point to an object whose value is 5. When the second line is run Python, a new object is created that has nothing to do with the first instance of `x`. `x` is simply made to refer to the new object. The function below illustrates this process"
   ]
  },
  {
   "cell_type": "code",
   "execution_count": 5,
   "id": "39cefb07",
   "metadata": {},
   "outputs": [
    {
     "name": "stdout",
     "output_type": "stream",
     "text": [
      "x = 5 / id(x) = 2416197986736\n",
      "fx = 5 / id(fx) = 2416197986736\n",
      "fx = 10 / id(fx) = 2416197986896\n",
      "x = 5 / id(x) = 2416197986736\n"
     ]
    }
   ],
   "source": [
    "def f(fx):\n",
    "    print(f'fx = {fx} / id(fx) = {id(fx)}')\n",
    "    fx = 10\n",
    "    print(f'fx = {fx} / id(fx) = {id(fx)}')\n",
    "    \n",
    "x = 5\n",
    "print(f'x = {x} / id(x) = {id(x)}')\n",
    "f(x)\n",
    "print(f'x = {x} / id(x) = {id(x)}')"
   ]
  },
  {
   "cell_type": "markdown",
   "id": "ff9c70f6",
   "metadata": {},
   "source": [
    "Pass-by-assignment: Parameter names are bound to objects on function enty in Python\n",
    "\n",
    "assignment is also the process of binding a name to an object\n",
    "\n",
    "Pass-by-Assignment is also known as:\n",
    "+ pass-by-object\n",
    "+ pass-by-object reference\n",
    "+ pass-by-sharing\n",
    "\n",
    "***A Python function can't change the value of an argument by reassigning the corresponding parameter to something else***"
   ]
  },
  {
   "cell_type": "code",
   "execution_count": 6,
   "id": "7d1897e7",
   "metadata": {},
   "outputs": [
    {
     "name": "stdout",
     "output_type": "stream",
     "text": [
      "40\n",
      "{'foo': 1, 'bar': 2}\n",
      "{1, 2, 3}\n",
      "bar\n",
      "['foo', 'bar', 'bax']\n"
     ]
    }
   ],
   "source": [
    "def f(x):\n",
    "    x = 'foo'\n",
    "    \n",
    "for i in (40, dict(foo=1, bar=2), {1,2,3}, 'bar', ['foo','bar','bax']):\n",
    "    f(i) # inside the function x is reassigned to foo\n",
    "    print(i) # outside the function i doesn't change"
   ]
  },
  {
   "cell_type": "markdown",
   "id": "05a1d0b7",
   "metadata": {},
   "source": [
    "### Passing Mutable Objects and Side Effects\n",
    "Python can mutate the object passed as an argument (if such object can be mutated)"
   ]
  },
  {
   "cell_type": "code",
   "execution_count": 9,
   "id": "d0178d54",
   "metadata": {},
   "outputs": [
    {
     "data": {
      "text/plain": [
       "['---', 'bar', 'bax', 'quz']"
      ]
     },
     "execution_count": 9,
     "metadata": {},
     "output_type": "execute_result"
    }
   ],
   "source": [
    "def f(x):\n",
    "    x[0] = '---'\n",
    "    \n",
    "my_list = ['foo', 'bar', 'bax', 'quz']\n",
    "\n",
    "f(my_list)\n",
    "my_list"
   ]
  },
  {
   "cell_type": "code",
   "execution_count": 10,
   "id": "35968302",
   "metadata": {},
   "outputs": [
    {
     "data": {
      "text/plain": [
       "{'foo': 1, 'bar': 22, 'baz': 3}"
      ]
     },
     "execution_count": 10,
     "metadata": {},
     "output_type": "execute_result"
    }
   ],
   "source": [
    "def g(x):\n",
    "    x['bar'] = 22\n",
    "    \n",
    "my_dict = {'foo': 1, 'bar': 2, 'baz': 3}\n",
    "g(my_dict)\n",
    "my_dict"
   ]
  },
  {
   "cell_type": "markdown",
   "id": "9d23faed",
   "metadata": {},
   "source": [
    "Passing an immutable object(int, str, tuple, frozenset) to a python value acts like pass-by-value. The function can't modify the object in the calling environment\n",
    "\n",
    "Passing a mutable oject (list, dict, or set) acts somewhat but not exactly like pass-by-reference. The function can't reassign the object wholesale, but it can change items in place within the object and these chages will be reflected in the calling environment\n",
    "\n",
    "\n",
    "#### Side Effects\n",
    "A function causes a **side effect** if it modifies its calling environment in any way. \n",
    "\n",
    "Side effects are a well documented part of function specification, but the user still needs to be well aware if the function modifies it's calling environment. SOmetimes the side effect is the main purpose of the function.\n",
    "\n",
    "If the side effect is hidden or unexpect it can lead to errors that are very difficult to track down\n",
    "\n"
   ]
  },
  {
   "cell_type": "code",
   "execution_count": null,
   "id": "2d16cfa2",
   "metadata": {},
   "outputs": [],
   "source": []
  }
 ],
 "metadata": {
  "kernelspec": {
   "display_name": "Python 3 (ipykernel)",
   "language": "python",
   "name": "python3"
  },
  "language_info": {
   "codemirror_mode": {
    "name": "ipython",
    "version": 3
   },
   "file_extension": ".py",
   "mimetype": "text/x-python",
   "name": "python",
   "nbconvert_exporter": "python",
   "pygments_lexer": "ipython3",
   "version": "3.9.12"
  }
 },
 "nbformat": 4,
 "nbformat_minor": 5
}
