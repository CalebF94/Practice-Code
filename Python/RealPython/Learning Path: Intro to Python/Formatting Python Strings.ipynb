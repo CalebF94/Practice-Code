{
 "cells": [
  {
   "cell_type": "markdown",
   "id": "30ef5a5f",
   "metadata": {},
   "source": [
    "\n",
    "# Formatting Python Strings\n",
    "1) `string.format()` method\n",
    "+ `<template>.format(<pos_args>, <keyword_Args>`\n",
    "\n",
    "2) The formatted string literal, or f-string"
   ]
  },
  {
   "cell_type": "code",
   "execution_count": 1,
   "id": "928b14c2",
   "metadata": {},
   "outputs": [
    {
     "data": {
      "text/plain": [
       "<function str.format>"
      ]
     },
     "execution_count": 1,
     "metadata": {},
     "output_type": "execute_result"
    }
   ],
   "source": [
    "\"Hello\".format"
   ]
  },
  {
   "cell_type": "markdown",
   "id": "592dc784",
   "metadata": {},
   "source": [
    "Use curly brackets, replacement field, and enter parameter in format method"
   ]
  },
  {
   "cell_type": "code",
   "execution_count": 3,
   "id": "e80d2de0",
   "metadata": {},
   "outputs": [
    {
     "data": {
      "text/plain": [
       "'hello, Liam'"
      ]
     },
     "execution_count": 3,
     "metadata": {},
     "output_type": "execute_result"
    }
   ],
   "source": [
    "\"hello, {}\".format(\"Liam\")"
   ]
  },
  {
   "cell_type": "markdown",
   "id": "985ef0fc",
   "metadata": {},
   "source": [
    "You can have multiple replacement fields that can go in order or they can be numbered"
   ]
  },
  {
   "cell_type": "code",
   "execution_count": 4,
   "id": "9a21ef22",
   "metadata": {},
   "outputs": [
    {
     "data": {
      "text/plain": [
       "'Hi Hello How are you'"
      ]
     },
     "execution_count": 4,
     "metadata": {},
     "output_type": "execute_result"
    }
   ],
   "source": [
    "\"{} {} {}\".format(\"Hi\", \"Hello\", \"How are you\")"
   ]
  },
  {
   "cell_type": "code",
   "execution_count": 5,
   "id": "e725b04e",
   "metadata": {},
   "outputs": [
    {
     "data": {
      "text/plain": [
       "'how are you Hi Hello'"
      ]
     },
     "execution_count": 5,
     "metadata": {},
     "output_type": "execute_result"
    }
   ],
   "source": [
    "\"{2} {0} {1}\".format(\"Hi\", \"Hello\", \"how are you\")"
   ]
  },
  {
   "cell_type": "markdown",
   "id": "321050d2",
   "metadata": {},
   "source": [
    "You can even use keyword arguments. This can be useful for providing context for the string"
   ]
  },
  {
   "cell_type": "code",
   "execution_count": 6,
   "id": "3540d943",
   "metadata": {},
   "outputs": [
    {
     "data": {
      "text/plain": [
       "'a b c'"
      ]
     },
     "execution_count": 6,
     "metadata": {},
     "output_type": "execute_result"
    }
   ],
   "source": [
    "\"{a} {b} {c}\".format(a=\"a\", b=\"b\", c=\"c\")"
   ]
  },
  {
   "cell_type": "markdown",
   "id": "fee97969",
   "metadata": {},
   "source": [
    "You can't mix blank replacement and keyword or positional arguments. You can combine keyword and positional\n",
    "\n",
    "To print curly braces, you need to excape the braces by including more braces"
   ]
  },
  {
   "cell_type": "code",
   "execution_count": 7,
   "id": "707af946",
   "metadata": {},
   "outputs": [
    {
     "data": {
      "text/plain": [
       "'{Caleb}'"
      ]
     },
     "execution_count": 7,
     "metadata": {},
     "output_type": "execute_result"
    }
   ],
   "source": [
    "\"{{{}}}\".format(\"Caleb\")"
   ]
  },
  {
   "cell_type": "markdown",
   "id": "abffda33",
   "metadata": {},
   "source": [
    "## Replacement Fields: Names and conversions\n",
    "Replacement fields have their own syntax:  \n",
    "`{[<name>][!<conversion>][:<format_spec>]}`  \n",
    "\n",
    "name: either nothing, an index, or a keyword\n",
    "conversion: indicates method used to convert the object - s for str(), r for repr(), and a for ascii()"
   ]
  },
  {
   "cell_type": "markdown",
   "id": "b97c7d8d",
   "metadata": {},
   "source": [
    "### Names field"
   ]
  },
  {
   "cell_type": "code",
   "execution_count": 15,
   "id": "8bea4a6a",
   "metadata": {},
   "outputs": [
    {
     "data": {
      "text/plain": [
       "'Liam'"
      ]
     },
     "execution_count": 15,
     "metadata": {},
     "output_type": "execute_result"
    }
   ],
   "source": [
    "example_dict = {\n",
    "    'name':'Liam',\n",
    "    'age': \"old\",\n",
    "    'height': 'kinda tall'\n",
    "}\n",
    "\n",
    "\n",
    "\"{0[name]}\".format(example_dict)"
   ]
  },
  {
   "cell_type": "code",
   "execution_count": 16,
   "id": "65036e1e",
   "metadata": {},
   "outputs": [
    {
     "data": {
      "text/plain": [
       "'Liam'"
      ]
     },
     "execution_count": 16,
     "metadata": {},
     "output_type": "execute_result"
    }
   ],
   "source": [
    "\"{d[name]}\".format(d=example_dict)"
   ]
  },
  {
   "cell_type": "code",
   "execution_count": 17,
   "id": "902543ab",
   "metadata": {},
   "outputs": [
    {
     "data": {
      "text/plain": [
       "'Dict: Liam, old, kinda tall'"
      ]
     },
     "execution_count": 17,
     "metadata": {},
     "output_type": "execute_result"
    }
   ],
   "source": [
    "\"Dict: {d[name]}, {d[age]}, {d[height]}\".format(d=example_dict)"
   ]
  },
  {
   "cell_type": "markdown",
   "id": "c1fa5a8a",
   "metadata": {},
   "source": [
    "### Conversion Field"
   ]
  },
  {
   "cell_type": "code",
   "execution_count": 18,
   "id": "48e88169",
   "metadata": {},
   "outputs": [
    {
     "data": {
      "text/plain": [
       "'Str of Container'"
      ]
     },
     "execution_count": 18,
     "metadata": {},
     "output_type": "execute_result"
    }
   ],
   "source": [
    "class Container():\n",
    "    def __init__(self, x, y):\n",
    "        self.x = x\n",
    "        self.y = y\n",
    "    def __repr__(self):\n",
    "        return \"Repr of Container\"\n",
    "    def __str__(self):\n",
    "        return \"Str of Container\"\n",
    "    \n",
    "    \n",
    "c = Container(5, 6)\n",
    "\"{}\".format(c)"
   ]
  },
  {
   "cell_type": "code",
   "execution_count": 19,
   "id": "5c620a8b",
   "metadata": {},
   "outputs": [
    {
     "data": {
      "text/plain": [
       "'5'"
      ]
     },
     "execution_count": 19,
     "metadata": {},
     "output_type": "execute_result"
    }
   ],
   "source": [
    "\"{0.x}\".format(c)"
   ]
  },
  {
   "cell_type": "code",
   "execution_count": 20,
   "id": "8b85c38d",
   "metadata": {},
   "outputs": [
    {
     "data": {
      "text/plain": [
       "'6'"
      ]
     },
     "execution_count": 20,
     "metadata": {},
     "output_type": "execute_result"
    }
   ],
   "source": [
    "\"{c.y}\".format(c=c)"
   ]
  },
  {
   "cell_type": "markdown",
   "id": "4cf10283",
   "metadata": {},
   "source": [
    "Below were changing the conversion method used. `!r` means were using the repr() function"
   ]
  },
  {
   "cell_type": "code",
   "execution_count": 21,
   "id": "248a38ab",
   "metadata": {},
   "outputs": [
    {
     "data": {
      "text/plain": [
       "'Repr of Container'"
      ]
     },
     "execution_count": 21,
     "metadata": {},
     "output_type": "execute_result"
    }
   ],
   "source": [
    "\"{!r}\".format(c)"
   ]
  },
  {
   "cell_type": "markdown",
   "id": "516ef851",
   "metadata": {},
   "source": [
    "`!a` is for ancii, but that isn't initiated"
   ]
  },
  {
   "cell_type": "code",
   "execution_count": 22,
   "id": "0d89e125",
   "metadata": {},
   "outputs": [
    {
     "data": {
      "text/plain": [
       "'Repr of Container'"
      ]
     },
     "execution_count": 22,
     "metadata": {},
     "output_type": "execute_result"
    }
   ],
   "source": [
    "\"{!a}\".format(c)"
   ]
  },
  {
   "cell_type": "markdown",
   "id": "8615521a",
   "metadata": {},
   "source": [
    "## Replacement fields: format specification\n",
    "This is the most complex, but flexible and useful.\n",
    "\n",
    "We've already mentioned the format syntax:  \n",
    "+ `{[<name>][!<conversion>][:<format_spec>]}`\n",
    "\n",
    "The format_spec has it's own syntax:  \n",
    ":`[[<fill>]<align>][<sign>][#][0][<width>][<group>][.<prec>][<type>]`\n",
    "\n",
    "Pretty much no one knows what all these fields do at all times.\n",
    "+ fill: specifies how to pad values that don't occpy entire field\n",
    "+ align:specifies how to justify (<,>,^)\n",
    "+ sign:controls whether a leading sign is included\n",
    "+ #: Selects alternat output form for certain presentation types\n",
    "+ 0:padded with leading 0s\n",
    "+ width:specifies minimum width\n",
    "+ group: specifies a grouping char for numeric output\n",
    "+ prec:specifies number of digits after decimal\n",
    "+ type: specifies the presentation type (what type to convert the output to) (b (binary), h(hex)\n",
    "\n",
    "Let's say you want to print out a set of numbers to all have the same precision"
   ]
  },
  {
   "cell_type": "code",
   "execution_count": 24,
   "id": "a6dc2a82",
   "metadata": {},
   "outputs": [
    {
     "name": "stdout",
     "output_type": "stream",
     "text": [
      "1.25\n",
      "3.00\n",
      "3.44\n",
      "4.09\n",
      "4.10\n"
     ]
    }
   ],
   "source": [
    "nums = [1.25, 3, 3.439, 4.09324, 4.1]\n",
    "\n",
    "for num in nums:\n",
    "    print(\"{:.2f}\".format(num))"
   ]
  },
  {
   "cell_type": "markdown",
   "id": "35b0aad9",
   "metadata": {},
   "source": [
    "What about left padding? The eight is the width we want."
   ]
  },
  {
   "cell_type": "code",
   "execution_count": 26,
   "id": "a85dea3b",
   "metadata": {},
   "outputs": [
    {
     "name": "stdout",
     "output_type": "stream",
     "text": [
      "00000001\n",
      "00000300\n",
      "00004832\n",
      "00093244\n",
      "34890209\n"
     ]
    }
   ],
   "source": [
    "nums = [1, 300, 4832, 93244, 34890209]\n",
    "\n",
    "for num in nums:\n",
    "    print(\"{:08}\".format(num))"
   ]
  },
  {
   "cell_type": "markdown",
   "id": "01b3bb2c",
   "metadata": {},
   "source": [
    "We can also pad with other characters, but we'll have to specify a justify side (> left, < right)"
   ]
  },
  {
   "cell_type": "code",
   "execution_count": 29,
   "id": "97ca6526",
   "metadata": {},
   "outputs": [
    {
     "name": "stdout",
     "output_type": "stream",
     "text": [
      "~~~~~~~1\n",
      "~~~~~300\n",
      "~~~~4832\n",
      "~~~93244\n",
      "34890209\n"
     ]
    }
   ],
   "source": [
    "for num in nums:\n",
    "    print(\"{:~>8}\".format(num))"
   ]
  },
  {
   "cell_type": "markdown",
   "id": "ce6a9f70",
   "metadata": {},
   "source": [
    "Using ^ we can center justify."
   ]
  },
  {
   "cell_type": "code",
   "execution_count": 30,
   "id": "619a6c39",
   "metadata": {},
   "outputs": [
    {
     "name": "stdout",
     "output_type": "stream",
     "text": [
      "~~~1~~~~\n",
      "~~300~~~\n",
      "~~4832~~\n",
      "~93244~~\n",
      "34890209\n"
     ]
    }
   ],
   "source": [
    "for num in nums:\n",
    "    print(\"{:~^8}\".format(num))"
   ]
  },
  {
   "cell_type": "markdown",
   "id": "6e53a94d",
   "metadata": {},
   "source": [
    "We can also print out numbers in a different base:"
   ]
  },
  {
   "cell_type": "code",
   "execution_count": 33,
   "id": "34ffa874",
   "metadata": {},
   "outputs": [
    {
     "name": "stdout",
     "output_type": "stream",
     "text": [
      "hexidecimal\n",
      "0x1\n",
      "0x12c\n",
      "0x12e0\n",
      "0x16c3c\n",
      "0x21461e1\n",
      "\n",
      "Octal\n",
      "0x1\n",
      "0x12c\n",
      "0x12e0\n",
      "0x16c3c\n",
      "0x21461e1\n"
     ]
    }
   ],
   "source": [
    "print(\"hexidecimal\")\n",
    "for num in nums:\n",
    "    print(\"{:#x}\".format(num))\n",
    "    \n",
    "print(\"\\nOctal\")\n",
    "for num in nums:\n",
    "    print(\"{:#x}\".format(num))"
   ]
  },
  {
   "cell_type": "markdown",
   "id": "0e33d7fb",
   "metadata": {},
   "source": [
    "### Nested Replacement Fields\n",
    "Replacement fields can be created dynamically\n",
    "\n",
    "Allows you to create functions and classes that can format their own output in whatever way best suits your data.\n"
   ]
  },
  {
   "cell_type": "code",
   "execution_count": 34,
   "id": "2194a1da",
   "metadata": {},
   "outputs": [
    {
     "data": {
      "text/plain": [
       "'~~~~~~~1'"
      ]
     },
     "execution_count": 34,
     "metadata": {},
     "output_type": "execute_result"
    }
   ],
   "source": [
    "\"{:~>8}\".format(1)"
   ]
  },
  {
   "cell_type": "markdown",
   "id": "cf89c16f",
   "metadata": {},
   "source": [
    "In the example below we demonstrate that you can nest parameters and can dynamically set different values in the formatting syntax. Below were left padding the number 1234 with q to a width of 12"
   ]
  },
  {
   "cell_type": "code",
   "execution_count": 36,
   "id": "0547784b",
   "metadata": {},
   "outputs": [
    {
     "data": {
      "text/plain": [
       "'qqqqqqqq1234'"
      ]
     },
     "execution_count": 36,
     "metadata": {},
     "output_type": "execute_result"
    }
   ],
   "source": [
    "\"{0:{1}>{2}}\".format(1234, \"q\", 12)"
   ]
  },
  {
   "cell_type": "markdown",
   "id": "e4492aeb",
   "metadata": {},
   "source": [
    "This means we can define a function that takes in a number, fill_char, and width that will automatically format our string"
   ]
  },
  {
   "cell_type": "code",
   "execution_count": 39,
   "id": "0b240379",
   "metadata": {},
   "outputs": [
    {
     "data": {
      "text/plain": [
       "'qqqqqqqq1234'"
      ]
     },
     "execution_count": 39,
     "metadata": {},
     "output_type": "execute_result"
    }
   ],
   "source": [
    "def qify(num, fill_char, min_width):\n",
    "    return \"{0:{1}>{2}}\".format(num, fill_char, min_width)\n",
    "\n",
    "qify(1234, \"q\", 12)"
   ]
  },
  {
   "cell_type": "markdown",
   "id": "925ae541",
   "metadata": {},
   "source": [
    "## F-Strings\n",
    "a more concise shorthand for the format() method\n",
    "\n",
    "Looks like a normal string with an f in front of it, but you can use replacement fields inside the string."
   ]
  },
  {
   "cell_type": "code",
   "execution_count": 41,
   "id": "a6ff4aa0",
   "metadata": {},
   "outputs": [
    {
     "data": {
      "text/plain": [
       "'The value of 2 * 3 = 6'"
      ]
     },
     "execution_count": 41,
     "metadata": {},
     "output_type": "execute_result"
    }
   ],
   "source": [
    "f\"The value of 2 * 3 = {2*3}\""
   ]
  },
  {
   "cell_type": "markdown",
   "id": "6b8186d2",
   "metadata": {},
   "source": [
    "You can do all of the formatting in F-strings"
   ]
  },
  {
   "cell_type": "code",
   "execution_count": 42,
   "id": "0e975e4e",
   "metadata": {},
   "outputs": [
    {
     "name": "stdout",
     "output_type": "stream",
     "text": [
      "2.00\n",
      "4.41\n",
      "1.00\n",
      "2.32\n"
     ]
    }
   ],
   "source": [
    "nums = [2, 4.41, 1, 2.3241]\n",
    "for num in nums:\n",
    "    print(f\"{num:.2f}\")"
   ]
  },
  {
   "cell_type": "code",
   "execution_count": 43,
   "id": "e6f5edbe",
   "metadata": {},
   "outputs": [
    {
     "name": "stdout",
     "output_type": "stream",
     "text": [
      "~~~~~~~~2\n",
      "~~~~~4.41\n",
      "~~~~~~~~1\n",
      "~~~2.3241\n"
     ]
    }
   ],
   "source": [
    "for num in nums:\n",
    "    print(f\"{num:~>9}\")"
   ]
  },
  {
   "cell_type": "code",
   "execution_count": 44,
   "id": "9eb799b7",
   "metadata": {},
   "outputs": [
    {
     "name": "stdout",
     "output_type": "stream",
     "text": [
      "name -> liam\n",
      "Occupation -> Video maker\n"
     ]
    }
   ],
   "source": [
    "d = {'name': \"liam\", \"Occupation\": \"Video maker\"}\n",
    "\n",
    "for key in d:\n",
    "    print(f\"{key} -> {d[key]}\")"
   ]
  },
  {
   "cell_type": "code",
   "execution_count": null,
   "id": "1b2b79aa",
   "metadata": {},
   "outputs": [],
   "source": []
  }
 ],
 "metadata": {
  "kernelspec": {
   "display_name": "Python 3 (ipykernel)",
   "language": "python",
   "name": "python3"
  },
  "language_info": {
   "codemirror_mode": {
    "name": "ipython",
    "version": 3
   },
   "file_extension": ".py",
   "mimetype": "text/x-python",
   "name": "python",
   "nbconvert_exporter": "python",
   "pygments_lexer": "ipython3",
   "version": "3.9.12"
  }
 },
 "nbformat": 4,
 "nbformat_minor": 5
}
