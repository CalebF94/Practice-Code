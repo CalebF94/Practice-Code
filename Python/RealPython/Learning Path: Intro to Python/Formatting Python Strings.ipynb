{
 "cells": [
  {
   "cell_type": "markdown",
   "id": "30ef5a5f",
   "metadata": {},
   "source": [
    "\n",
    "# Formatting Python Strings\n",
    "1) `string.format()` method\n",
    "+ `<template>.format(<pos_args>, <keyword_Args>`\n",
    "\n",
    "2) The formatted string literal, or f-string"
   ]
  },
  {
   "cell_type": "code",
   "execution_count": 1,
   "id": "928b14c2",
   "metadata": {},
   "outputs": [
    {
     "data": {
      "text/plain": [
       "<function str.format>"
      ]
     },
     "execution_count": 1,
     "metadata": {},
     "output_type": "execute_result"
    }
   ],
   "source": [
    "\"Hello\".format"
   ]
  },
  {
   "cell_type": "markdown",
   "id": "592dc784",
   "metadata": {},
   "source": [
    "Use curly brackets, replacement field, and enter parameter in format method"
   ]
  },
  {
   "cell_type": "code",
   "execution_count": 3,
   "id": "e80d2de0",
   "metadata": {},
   "outputs": [
    {
     "data": {
      "text/plain": [
       "'hello, Liam'"
      ]
     },
     "execution_count": 3,
     "metadata": {},
     "output_type": "execute_result"
    }
   ],
   "source": [
    "\"hello, {}\".format(\"Liam\")"
   ]
  },
  {
   "cell_type": "markdown",
   "id": "985ef0fc",
   "metadata": {},
   "source": [
    "You can have multiple replacement fields that can go in order or they can be numbered"
   ]
  },
  {
   "cell_type": "code",
   "execution_count": 4,
   "id": "9a21ef22",
   "metadata": {},
   "outputs": [
    {
     "data": {
      "text/plain": [
       "'Hi Hello How are you'"
      ]
     },
     "execution_count": 4,
     "metadata": {},
     "output_type": "execute_result"
    }
   ],
   "source": [
    "\"{} {} {}\".format(\"Hi\", \"Hello\", \"How are you\")"
   ]
  },
  {
   "cell_type": "code",
   "execution_count": 5,
   "id": "e725b04e",
   "metadata": {},
   "outputs": [
    {
     "data": {
      "text/plain": [
       "'how are you Hi Hello'"
      ]
     },
     "execution_count": 5,
     "metadata": {},
     "output_type": "execute_result"
    }
   ],
   "source": [
    "\"{2} {0} {1}\".format(\"Hi\", \"Hello\", \"how are you\")"
   ]
  },
  {
   "cell_type": "markdown",
   "id": "321050d2",
   "metadata": {},
   "source": [
    "You can even use keyword arguments. This can be useful for providing context for the string"
   ]
  },
  {
   "cell_type": "code",
   "execution_count": 6,
   "id": "3540d943",
   "metadata": {},
   "outputs": [
    {
     "data": {
      "text/plain": [
       "'a b c'"
      ]
     },
     "execution_count": 6,
     "metadata": {},
     "output_type": "execute_result"
    }
   ],
   "source": [
    "\"{a} {b} {c}\".format(a=\"a\", b=\"b\", c=\"c\")"
   ]
  },
  {
   "cell_type": "markdown",
   "id": "fee97969",
   "metadata": {},
   "source": [
    "You can't mix blank replacement and keyword or positional arguments. You can combine keyword and positional\n",
    "\n",
    "To print curly braces, you need to excape the braces by including more braces"
   ]
  },
  {
   "cell_type": "code",
   "execution_count": 7,
   "id": "707af946",
   "metadata": {},
   "outputs": [
    {
     "data": {
      "text/plain": [
       "'{Caleb}'"
      ]
     },
     "execution_count": 7,
     "metadata": {},
     "output_type": "execute_result"
    }
   ],
   "source": [
    "\"{{{}}}\".format(\"Caleb\")"
   ]
  },
  {
   "cell_type": "code",
   "execution_count": null,
   "id": "06b6d717",
   "metadata": {},
   "outputs": [],
   "source": []
  }
 ],
 "metadata": {
  "kernelspec": {
   "display_name": "Python 3 (ipykernel)",
   "language": "python",
   "name": "python3"
  },
  "language_info": {
   "codemirror_mode": {
    "name": "ipython",
    "version": 3
   },
   "file_extension": ".py",
   "mimetype": "text/x-python",
   "name": "python",
   "nbconvert_exporter": "python",
   "pygments_lexer": "ipython3",
   "version": "3.9.12"
  }
 },
 "nbformat": 4,
 "nbformat_minor": 5
}
