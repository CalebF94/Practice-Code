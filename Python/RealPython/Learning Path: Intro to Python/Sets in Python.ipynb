{
 "cells": [
  {
   "cell_type": "markdown",
   "id": "0cc95d3c",
   "metadata": {},
   "source": [
    "# Sets in Python\n",
    "\n",
    "### Immutable vs Hashable\n",
    "Immutable: a type of object that cannot be modified after it was created \n",
    "\n",
    "Hashable: a type of object you call `hash()` on.\n",
    "\n",
    "All immutable objects are hashable, but not all hashable objects are immutable\n",
    "\n",
    "Python sets can only include hashable objects\n",
    "\n",
    "An example. Strings can't be modified => Immutable"
   ]
  },
  {
   "cell_type": "code",
   "execution_count": 1,
   "id": "4a596d66",
   "metadata": {},
   "outputs": [
    {
     "ename": "AttributeError",
     "evalue": "'str' object has no attribute 'append'",
     "output_type": "error",
     "traceback": [
      "\u001b[1;31m---------------------------------------------------------------------------\u001b[0m",
      "\u001b[1;31mAttributeError\u001b[0m                            Traceback (most recent call last)",
      "Input \u001b[1;32mIn [1]\u001b[0m, in \u001b[0;36m<cell line: 2>\u001b[1;34m()\u001b[0m\n\u001b[0;32m      1\u001b[0m s \u001b[38;5;241m=\u001b[39m \u001b[38;5;124m'\u001b[39m\u001b[38;5;124mhello\u001b[39m\u001b[38;5;124m'\u001b[39m\n\u001b[1;32m----> 2\u001b[0m \u001b[43ms\u001b[49m\u001b[38;5;241;43m.\u001b[39;49m\u001b[43mappend\u001b[49m(\u001b[38;5;124m'\u001b[39m\u001b[38;5;124mn\u001b[39m\u001b[38;5;124m'\u001b[39m)\n",
      "\u001b[1;31mAttributeError\u001b[0m: 'str' object has no attribute 'append'"
     ]
    }
   ],
   "source": [
    "s = 'hello'\n",
    "s.append('n')"
   ]
  },
  {
   "cell_type": "markdown",
   "id": "27c9b42f",
   "metadata": {},
   "source": [
    "we can call hash on a string"
   ]
  },
  {
   "cell_type": "code",
   "execution_count": 2,
   "id": "4b38598d",
   "metadata": {},
   "outputs": [
    {
     "data": {
      "text/plain": [
       "6110176800005697619"
      ]
     },
     "execution_count": 2,
     "metadata": {},
     "output_type": "execute_result"
    }
   ],
   "source": [
    "hash(s)"
   ]
  },
  {
   "cell_type": "markdown",
   "id": "28056f18",
   "metadata": {},
   "source": [
    "### Defining a set\n",
    "two ways:  \n",
    "+ pass an iterable into the set function"
   ]
  },
  {
   "cell_type": "code",
   "execution_count": 3,
   "id": "fff0d8ea",
   "metadata": {},
   "outputs": [
    {
     "data": {
      "text/plain": [
       "{'bar', 'foo'}"
      ]
     },
     "execution_count": 3,
     "metadata": {},
     "output_type": "execute_result"
    }
   ],
   "source": [
    "set(['foo', 'bar'])"
   ]
  },
  {
   "cell_type": "markdown",
   "id": "e52ca2af",
   "metadata": {},
   "source": [
    "+ Using `{}` "
   ]
  },
  {
   "cell_type": "code",
   "execution_count": 5,
   "id": "d0256fd6",
   "metadata": {},
   "outputs": [
    {
     "data": {
      "text/plain": [
       "set"
      ]
     },
     "execution_count": 5,
     "metadata": {},
     "output_type": "execute_result"
    }
   ],
   "source": [
    "x = {'foo', 'bar'}\n",
    "type(x)"
   ]
  },
  {
   "cell_type": "markdown",
   "id": "04c29670",
   "metadata": {},
   "source": [
    "### Operating on a Set \n",
    "#### Length\n",
    "len()"
   ]
  },
  {
   "cell_type": "code",
   "execution_count": 6,
   "id": "dcde374b",
   "metadata": {},
   "outputs": [
    {
     "data": {
      "text/plain": [
       "2"
      ]
     },
     "execution_count": 6,
     "metadata": {},
     "output_type": "execute_result"
    }
   ],
   "source": [
    "a = {1,2,1}\n",
    "len(a)"
   ]
  },
  {
   "cell_type": "code",
   "execution_count": 7,
   "id": "04aa63f3",
   "metadata": {},
   "outputs": [
    {
     "data": {
      "text/plain": [
       "2"
      ]
     },
     "execution_count": 7,
     "metadata": {},
     "output_type": "execute_result"
    }
   ],
   "source": [
    "b = {(1,2), 2}\n",
    "len(b)"
   ]
  },
  {
   "cell_type": "markdown",
   "id": "44db6cfd",
   "metadata": {},
   "source": [
    "#### Membership\n",
    "`<elem> in X`\n",
    "returns a boolean which indicates if an element exists in a set"
   ]
  },
  {
   "cell_type": "code",
   "execution_count": 8,
   "id": "707c3eb7",
   "metadata": {},
   "outputs": [
    {
     "data": {
      "text/plain": [
       "True"
      ]
     },
     "execution_count": 8,
     "metadata": {},
     "output_type": "execute_result"
    }
   ],
   "source": [
    "x = {'foo', 'bar'}\n",
    "'foo' in x"
   ]
  },
  {
   "cell_type": "code",
   "execution_count": 9,
   "id": "a3101f38",
   "metadata": {},
   "outputs": [
    {
     "data": {
      "text/plain": [
       "False"
      ]
     },
     "execution_count": 9,
     "metadata": {},
     "output_type": "execute_result"
    }
   ],
   "source": [
    "'bax' in x"
   ]
  },
  {
   "cell_type": "markdown",
   "id": "328b6984",
   "metadata": {},
   "source": [
    "### Iteration\n",
    "Similar to looping over a list\n",
    "\n",
    "Note you can't slice/index a set"
   ]
  },
  {
   "cell_type": "code",
   "execution_count": 10,
   "id": "f74325fa",
   "metadata": {},
   "outputs": [
    {
     "name": "stdout",
     "output_type": "stream",
     "text": [
      "baz\n",
      "bar\n",
      "foo\n"
     ]
    }
   ],
   "source": [
    "x = {'foo', 'bar', 'baz'}\n",
    "for elem in x:\n",
    "    print(elem)"
   ]
  },
  {
   "cell_type": "code",
   "execution_count": 13,
   "id": "96f0ee52",
   "metadata": {},
   "outputs": [
    {
     "data": {
      "text/plain": [
       "{'bar', 'baz', 'foo', 'quux', 'qux'}"
      ]
     },
     "execution_count": 13,
     "metadata": {},
     "output_type": "execute_result"
    }
   ],
   "source": [
    "x1 = {'foo', 'bar', 'baz'}\n",
    "x2 = {'baz', 'qux', 'quux'}\n",
    "\n",
    "x1 | x2"
   ]
  },
  {
   "cell_type": "code",
   "execution_count": 12,
   "id": "1e9a2cc2",
   "metadata": {},
   "outputs": [
    {
     "ename": "TypeError",
     "evalue": "'set' object is not subscriptable",
     "output_type": "error",
     "traceback": [
      "\u001b[1;31m---------------------------------------------------------------------------\u001b[0m",
      "\u001b[1;31mTypeError\u001b[0m                                 Traceback (most recent call last)",
      "Input \u001b[1;32mIn [12]\u001b[0m, in \u001b[0;36m<cell line: 2>\u001b[1;34m()\u001b[0m\n\u001b[0;32m      1\u001b[0m \u001b[38;5;66;03m#Indexing not allowed!\u001b[39;00m\n\u001b[1;32m----> 2\u001b[0m \u001b[43mx\u001b[49m\u001b[43m[\u001b[49m\u001b[38;5;241;43m0\u001b[39;49m\u001b[43m]\u001b[49m\n",
      "\u001b[1;31mTypeError\u001b[0m: 'set' object is not subscriptable"
     ]
    }
   ],
   "source": [
    "#Indexing not allowed!\n",
    "x[0]"
   ]
  },
  {
   "cell_type": "markdown",
   "id": "1917883e",
   "metadata": {},
   "source": [
    "#### Union\n",
    "+ Union of multiple sets is the set of the elements in all sets\n",
    "Two methods to union \n",
    "1. method call: set_name.union(set2[, set3,...])\n",
    "2. Vertical Bars: set1 | set2[| set3...]"
   ]
  },
  {
   "cell_type": "code",
   "execution_count": 15,
   "id": "c77ab5c1",
   "metadata": {},
   "outputs": [
    {
     "data": {
      "text/plain": [
       "{'bar', 'baz', 'foo', 'quux', 'qux'}"
      ]
     },
     "execution_count": 15,
     "metadata": {},
     "output_type": "execute_result"
    }
   ],
   "source": [
    "x1.union(('baz', 'qux', 'quux'))"
   ]
  },
  {
   "cell_type": "code",
   "execution_count": 14,
   "id": "a6f54352",
   "metadata": {},
   "outputs": [
    {
     "data": {
      "text/plain": [
       "{'bar', 'baz', 'foo', 'quux', 'qux'}"
      ]
     },
     "execution_count": 14,
     "metadata": {},
     "output_type": "execute_result"
    }
   ],
   "source": [
    "x1.union(x2)"
   ]
  },
  {
   "cell_type": "markdown",
   "id": "7b5b3625",
   "metadata": {},
   "source": [
    "You can't use the vertical bar method to union a set and a tuple"
   ]
  },
  {
   "cell_type": "code",
   "execution_count": 17,
   "id": "15e6d48a",
   "metadata": {},
   "outputs": [
    {
     "ename": "TypeError",
     "evalue": "unsupported operand type(s) for |: 'set' and 'tuple'",
     "output_type": "error",
     "traceback": [
      "\u001b[1;31m---------------------------------------------------------------------------\u001b[0m",
      "\u001b[1;31mTypeError\u001b[0m                                 Traceback (most recent call last)",
      "Input \u001b[1;32mIn [17]\u001b[0m, in \u001b[0;36m<cell line: 1>\u001b[1;34m()\u001b[0m\n\u001b[1;32m----> 1\u001b[0m \u001b[43mx1\u001b[49m\u001b[43m \u001b[49m\u001b[38;5;241;43m|\u001b[39;49m\u001b[43m \u001b[49m\u001b[43m(\u001b[49m\u001b[38;5;124;43m'\u001b[39;49m\u001b[38;5;124;43mbaz\u001b[39;49m\u001b[38;5;124;43m'\u001b[39;49m\u001b[43m,\u001b[49m\u001b[43m \u001b[49m\u001b[38;5;124;43m'\u001b[39;49m\u001b[38;5;124;43mqux\u001b[39;49m\u001b[38;5;124;43m'\u001b[39;49m\u001b[43m,\u001b[49m\u001b[43m \u001b[49m\u001b[38;5;124;43m'\u001b[39;49m\u001b[38;5;124;43mquux\u001b[39;49m\u001b[38;5;124;43m'\u001b[39;49m\u001b[43m)\u001b[49m\n",
      "\u001b[1;31mTypeError\u001b[0m: unsupported operand type(s) for |: 'set' and 'tuple'"
     ]
    }
   ],
   "source": [
    "x1 | ('baz', 'qux', 'quux')"
   ]
  },
  {
   "cell_type": "code",
   "execution_count": 18,
   "id": "dd3c5244",
   "metadata": {},
   "outputs": [
    {
     "data": {
      "text/plain": [
       "{1, 2, 3, 4, 5, 6, 7}"
      ]
     },
     "execution_count": 18,
     "metadata": {},
     "output_type": "execute_result"
    }
   ],
   "source": [
    "a = {1, 2, 3, 4}\n",
    "b = {2,3,4,5}\n",
    "c = {4,5,6,7}\n",
    "a | b | c"
   ]
  },
  {
   "cell_type": "markdown",
   "id": "e8e0b3fd",
   "metadata": {},
   "source": [
    "#### Intersection\n",
    "The intersection of multiple sets is the set of only the elements that exist in all sets\n",
    "\n",
    "Two ways of accomplishing:\n",
    "1. `.intersection()` method\n",
    "2. & method"
   ]
  },
  {
   "cell_type": "code",
   "execution_count": 19,
   "id": "bc945a03",
   "metadata": {
    "scrolled": true
   },
   "outputs": [
    {
     "data": {
      "text/plain": [
       "{'baz'}"
      ]
     },
     "execution_count": 19,
     "metadata": {},
     "output_type": "execute_result"
    }
   ],
   "source": [
    "x1 = {'foo', 'bar', 'baz'}\n",
    "x2 = {'baz', 'qux', 'quux'}\n",
    "\n",
    "x1.intersection(x2)"
   ]
  },
  {
   "cell_type": "code",
   "execution_count": 20,
   "id": "c4233c53",
   "metadata": {},
   "outputs": [
    {
     "data": {
      "text/plain": [
       "{'baz'}"
      ]
     },
     "execution_count": 20,
     "metadata": {},
     "output_type": "execute_result"
    }
   ],
   "source": [
    "x1 & x2"
   ]
  },
  {
   "cell_type": "markdown",
   "id": "e76acb22",
   "metadata": {},
   "source": [
    "#### Difference\n",
    "The difference of multiple sets is the set of only the elements that exist in the first set but not in any of the rest.\n",
    "\n",
    "Two ways to call:\n",
    "\n",
    "    1. `.difference()` method\n",
    "    2. `-` operator\n",
    "    \n",
    "Operation is evaluated left to right"
   ]
  },
  {
   "cell_type": "code",
   "execution_count": 21,
   "id": "6e8eb076",
   "metadata": {},
   "outputs": [
    {
     "data": {
      "text/plain": [
       "{'bar', 'foo'}"
      ]
     },
     "execution_count": 21,
     "metadata": {},
     "output_type": "execute_result"
    }
   ],
   "source": [
    "x1 = {'foo', 'bar', 'baz'}\n",
    "x2 = {'baz', 'qux', 'quux'}\n",
    "\n",
    "x1.difference(x2)"
   ]
  },
  {
   "cell_type": "code",
   "execution_count": 22,
   "id": "24514e05",
   "metadata": {},
   "outputs": [
    {
     "data": {
      "text/plain": [
       "{'bar', 'foo'}"
      ]
     },
     "execution_count": 22,
     "metadata": {},
     "output_type": "execute_result"
    }
   ],
   "source": [
    "x1 - x2"
   ]
  },
  {
   "cell_type": "code",
   "execution_count": 23,
   "id": "7953552f",
   "metadata": {},
   "outputs": [
    {
     "data": {
      "text/plain": [
       "{1, 2, 3}"
      ]
     },
     "execution_count": 23,
     "metadata": {},
     "output_type": "execute_result"
    }
   ],
   "source": [
    "a = {1, 2, 3, 30, 300}\n",
    "b = {10, 20, 30, 40}\n",
    "c = {100, 200, 300, 400}\n",
    "\n",
    "a.difference(b, c)"
   ]
  },
  {
   "cell_type": "code",
   "execution_count": 24,
   "id": "0af37733",
   "metadata": {},
   "outputs": [
    {
     "data": {
      "text/plain": [
       "{1, 2, 3}"
      ]
     },
     "execution_count": 24,
     "metadata": {},
     "output_type": "execute_result"
    }
   ],
   "source": [
    "a - b - c"
   ]
  },
  {
   "cell_type": "markdown",
   "id": "58f82b10",
   "metadata": {},
   "source": [
    "#### Symmetric Difference\n",
    "The symmetric difference of multiple sets is the set of only the elements that exist in a single set, but not in multiple\n",
    "\n",
    "Two ways to call:\n",
    "\n",
    "    1. .symmetric_difference() method\n",
    "          + argument needs to be iterable\n",
    "          + Only works with one argument\n",
    "    2. ^ operator\n",
    "          + operands need to be sets"
   ]
  },
  {
   "cell_type": "code",
   "execution_count": 25,
   "id": "601aa4e3",
   "metadata": {},
   "outputs": [
    {
     "data": {
      "text/plain": [
       "{'bar', 'foo', 'quux', 'qux'}"
      ]
     },
     "execution_count": 25,
     "metadata": {},
     "output_type": "execute_result"
    }
   ],
   "source": [
    "x1 = {'foo', 'bar', 'baz'}\n",
    "x2 = {'baz', 'qux', 'quux'}\n",
    "\n",
    "x1.symmetric_difference(x2)"
   ]
  },
  {
   "cell_type": "code",
   "execution_count": 26,
   "id": "041464dc",
   "metadata": {},
   "outputs": [
    {
     "data": {
      "text/plain": [
       "{'bar', 'foo', 'quux', 'qux'}"
      ]
     },
     "execution_count": 26,
     "metadata": {},
     "output_type": "execute_result"
    }
   ],
   "source": [
    "x1 ^ x2"
   ]
  },
  {
   "cell_type": "markdown",
   "id": "5e64128f",
   "metadata": {},
   "source": [
    "#### Is Disjoint\n",
    "Checks whether or not sets have any elemnts in common\n",
    "\n",
    "Called using the `.isdisjoint()` operator. There is no corresponding operator"
   ]
  },
  {
   "cell_type": "code",
   "execution_count": 27,
   "id": "9bb9748e",
   "metadata": {},
   "outputs": [
    {
     "data": {
      "text/plain": [
       "False"
      ]
     },
     "execution_count": 27,
     "metadata": {},
     "output_type": "execute_result"
    }
   ],
   "source": [
    "x1 = {'foo', 'bar', 'baz'}\n",
    "x2 = {'baz', 'qux', 'quux'}\n",
    "\n",
    "x1.isdisjoint(x2)"
   ]
  },
  {
   "cell_type": "code",
   "execution_count": 29,
   "id": "26fe12db",
   "metadata": {},
   "outputs": [
    {
     "data": {
      "text/plain": [
       "True"
      ]
     },
     "execution_count": 29,
     "metadata": {},
     "output_type": "execute_result"
    }
   ],
   "source": [
    "x1.isdisjoint(x2 - {'baz'})"
   ]
  },
  {
   "cell_type": "code",
   "execution_count": 32,
   "id": "266491bb",
   "metadata": {},
   "outputs": [
    {
     "data": {
      "text/plain": [
       "set()"
      ]
     },
     "execution_count": 32,
     "metadata": {},
     "output_type": "execute_result"
    }
   ],
   "source": [
    "# the intersection will be empty\n",
    "x1 & (x2 - {'baz'})"
   ]
  },
  {
   "cell_type": "markdown",
   "id": "8623d93e",
   "metadata": {},
   "source": [
    "#### is Subset \n",
    "A set is considered a subset of another set if every element of the first set is in the second.\n",
    "\n",
    "Called in two ways:\n",
    "\n",
    "    1. `.issubset()` method\n",
    "        - argument needs to be an iterable\n",
    "    2. <= operator\n",
    "        - Operands need to be sets\n",
    "        - Compares if each set is a subset of all the rest of the sets to the right\n",
    "        "
   ]
  },
  {
   "cell_type": "code",
   "execution_count": 83,
   "id": "32efe306",
   "metadata": {},
   "outputs": [
    {
     "data": {
      "text/plain": [
       "True"
      ]
     },
     "execution_count": 83,
     "metadata": {},
     "output_type": "execute_result"
    }
   ],
   "source": [
    "x1 = {'foo', 'bar'}\n",
    "x2 = {'foo', 'bar', 'baz'}\n",
    "\n",
    "x1.issubset(x2)"
   ]
  },
  {
   "cell_type": "markdown",
   "id": "5c0a2e32",
   "metadata": {},
   "source": [
    "#### Is Proper Subset\n",
    "Proper subset is the same as subset except sets can't be identical.\n",
    "\n",
    "Called using the `<` operator; there is no corresponding method"
   ]
  },
  {
   "cell_type": "markdown",
   "id": "df215732",
   "metadata": {},
   "source": [
    "#### Is Superset\n",
    "A set is considered a superset if the first set contains every element of the second set.\n",
    "\n",
    "Called in two ways:\n",
    "\n",
    "1. `.issuperset()` method\n",
    "2. `>=` operator\n",
    "+ operands need to be sets\n",
    "+ works on multiple sets and compes if each set is a superset of all the rest of the sets to the right"
   ]
  },
  {
   "cell_type": "code",
   "execution_count": 36,
   "id": "c869d098",
   "metadata": {},
   "outputs": [
    {
     "data": {
      "text/plain": [
       "True"
      ]
     },
     "execution_count": 36,
     "metadata": {},
     "output_type": "execute_result"
    }
   ],
   "source": [
    "x1 = {'foo', 'bar', 'baz'}\n",
    "x2 = {'foo', 'bar',}\n",
    "\n",
    "x1.issuperset(x2)"
   ]
  },
  {
   "cell_type": "code",
   "execution_count": 37,
   "id": "40439062",
   "metadata": {},
   "outputs": [
    {
     "data": {
      "text/plain": [
       "True"
      ]
     },
     "execution_count": 37,
     "metadata": {},
     "output_type": "execute_result"
    }
   ],
   "source": [
    "x1 >= x1"
   ]
  },
  {
   "cell_type": "markdown",
   "id": "429fd688",
   "metadata": {},
   "source": [
    "#### is proper superset\n",
    "similar to is superset"
   ]
  },
  {
   "cell_type": "markdown",
   "id": "6701143c",
   "metadata": {},
   "source": [
    "### Modifying a Set\n",
    "#### Add\n",
    "1. x.add()\n",
    "+ adds an element to a set"
   ]
  },
  {
   "cell_type": "code",
   "execution_count": 39,
   "id": "3468cfc2",
   "metadata": {},
   "outputs": [
    {
     "data": {
      "text/plain": [
       "{'bar', 'baz', 'foo', 'qux'}"
      ]
     },
     "execution_count": 39,
     "metadata": {},
     "output_type": "execute_result"
    }
   ],
   "source": [
    "x = {'foo', 'bar', 'baz'}\n",
    "x.add('qux')\n",
    "\n",
    "# Notice x itself is modified\n",
    "x"
   ]
  },
  {
   "cell_type": "markdown",
   "id": "3707d4c6",
   "metadata": {},
   "source": [
    "Notice you can only add hashable element"
   ]
  },
  {
   "cell_type": "code",
   "execution_count": 40,
   "id": "2f2a41f1",
   "metadata": {},
   "outputs": [
    {
     "ename": "TypeError",
     "evalue": "unhashable type: 'set'",
     "output_type": "error",
     "traceback": [
      "\u001b[1;31m---------------------------------------------------------------------------\u001b[0m",
      "\u001b[1;31mTypeError\u001b[0m                                 Traceback (most recent call last)",
      "Input \u001b[1;32mIn [40]\u001b[0m, in \u001b[0;36m<cell line: 1>\u001b[1;34m()\u001b[0m\n\u001b[1;32m----> 1\u001b[0m \u001b[43mx\u001b[49m\u001b[38;5;241;43m.\u001b[39;49m\u001b[43madd\u001b[49m\u001b[43m(\u001b[49m\u001b[43m{\u001b[49m\u001b[38;5;124;43m'\u001b[39;49m\u001b[38;5;124;43mquix\u001b[39;49m\u001b[38;5;124;43m'\u001b[39;49m\u001b[43m}\u001b[49m\u001b[43m)\u001b[49m\n",
      "\u001b[1;31mTypeError\u001b[0m: unhashable type: 'set'"
     ]
    }
   ],
   "source": [
    "x.add({'quix'})"
   ]
  },
  {
   "cell_type": "markdown",
   "id": "d721a66b",
   "metadata": {},
   "source": [
    "#### Remove\n",
    "+ x.remove()\n",
    "    - will cause an exception if try to remove an element that doesn't exist"
   ]
  },
  {
   "cell_type": "code",
   "execution_count": 42,
   "id": "ec2a8c6a",
   "metadata": {},
   "outputs": [
    {
     "name": "stdout",
     "output_type": "stream",
     "text": [
      "{'bar', 'foo'}\n"
     ]
    },
    {
     "ename": "KeyError",
     "evalue": "'qux'",
     "output_type": "error",
     "traceback": [
      "\u001b[1;31m---------------------------------------------------------------------------\u001b[0m",
      "\u001b[1;31mKeyError\u001b[0m                                  Traceback (most recent call last)",
      "Input \u001b[1;32mIn [42]\u001b[0m, in \u001b[0;36m<cell line: 7>\u001b[1;34m()\u001b[0m\n\u001b[0;32m      4\u001b[0m \u001b[38;5;66;03m# Notice x itself is modified\u001b[39;00m\n\u001b[0;32m      5\u001b[0m \u001b[38;5;28mprint\u001b[39m(x)\n\u001b[1;32m----> 7\u001b[0m \u001b[43mx\u001b[49m\u001b[38;5;241;43m.\u001b[39;49m\u001b[43mremove\u001b[49m\u001b[43m(\u001b[49m\u001b[38;5;124;43m'\u001b[39;49m\u001b[38;5;124;43mqux\u001b[39;49m\u001b[38;5;124;43m'\u001b[39;49m\u001b[43m)\u001b[49m\n",
      "\u001b[1;31mKeyError\u001b[0m: 'qux'"
     ]
    }
   ],
   "source": [
    "\n",
    "x = {'foo', 'bar', 'baz'}\n",
    "x.remove('baz')\n",
    "\n",
    "# Notice x itself is modified\n",
    "print(x)\n",
    "\n",
    "x.remove('qux')"
   ]
  },
  {
   "cell_type": "markdown",
   "id": "a7abcc49",
   "metadata": {},
   "source": [
    "#### Discard\n",
    "x.discard: removes element from set, but will do nothing if the element doesn't exist"
   ]
  },
  {
   "cell_type": "code",
   "execution_count": 44,
   "id": "c91b837e",
   "metadata": {},
   "outputs": [
    {
     "name": "stdout",
     "output_type": "stream",
     "text": [
      "{'bar', 'foo'}\n"
     ]
    },
    {
     "data": {
      "text/plain": [
       "{'bar', 'foo'}"
      ]
     },
     "execution_count": 44,
     "metadata": {},
     "output_type": "execute_result"
    }
   ],
   "source": [
    "x = {'foo', 'bar', 'baz'}\n",
    "x.discard('baz')\n",
    "\n",
    "# Notice x itself is modified\n",
    "print(x)\n",
    "\n",
    "x.discard('qux')\n",
    "x"
   ]
  },
  {
   "cell_type": "markdown",
   "id": "f61ded73",
   "metadata": {},
   "source": [
    "#### Pop\n",
    "x.pop: removes and returns a random element from a set. Raises an exception if x is empty"
   ]
  },
  {
   "cell_type": "code",
   "execution_count": 48,
   "id": "c49dbf37",
   "metadata": {},
   "outputs": [
    {
     "name": "stdout",
     "output_type": "stream",
     "text": [
      "{'bar', 'foo'}\n"
     ]
    },
    {
     "ename": "KeyError",
     "evalue": "'qux'",
     "output_type": "error",
     "traceback": [
      "\u001b[1;31m---------------------------------------------------------------------------\u001b[0m",
      "\u001b[1;31mKeyError\u001b[0m                                  Traceback (most recent call last)",
      "Input \u001b[1;32mIn [48]\u001b[0m, in \u001b[0;36m<cell line: 7>\u001b[1;34m()\u001b[0m\n\u001b[0;32m      4\u001b[0m \u001b[38;5;66;03m# Notice x itself is modified\u001b[39;00m\n\u001b[0;32m      5\u001b[0m \u001b[38;5;28mprint\u001b[39m(x)\n\u001b[1;32m----> 7\u001b[0m \u001b[38;5;28;43mset\u001b[39;49m\u001b[43m(\u001b[49m\u001b[43m{\u001b[49m\u001b[43m}\u001b[49m\u001b[43m)\u001b[49m\u001b[38;5;241;43m.\u001b[39;49m\u001b[43mremove\u001b[49m\u001b[43m(\u001b[49m\u001b[38;5;124;43m'\u001b[39;49m\u001b[38;5;124;43mqux\u001b[39;49m\u001b[38;5;124;43m'\u001b[39;49m\u001b[43m)\u001b[49m\n",
      "\u001b[1;31mKeyError\u001b[0m: 'qux'"
     ]
    }
   ],
   "source": [
    "x = {'foo', 'bar', 'baz'}\n",
    "x.pop()\n",
    "\n",
    "# Notice x itself is modified\n",
    "print(x)\n",
    "\n",
    "set({}).remove('qux')"
   ]
  },
  {
   "cell_type": "markdown",
   "id": "f29acb20",
   "metadata": {},
   "source": [
    ".clear() removes all elements from a set"
   ]
  },
  {
   "cell_type": "markdown",
   "id": "a2a7b76e",
   "metadata": {},
   "source": [
    "### Augmented Assignment Operators\n",
    "The following methods and operators modify a set. Many methods are similar to previous methods except that they do not create a new set.\n",
    "\n",
    "y=x makes y point to the same thing as x\n",
    "\n",
    "\n",
    "#### Update |=\n",
    "Modifies a set by adding any elements that do not alread exist. Similar to Union. Union creates a new set. Update modifies the existing set"
   ]
  },
  {
   "cell_type": "code",
   "execution_count": 50,
   "id": "b3911d95",
   "metadata": {},
   "outputs": [
    {
     "data": {
      "text/plain": [
       "{'bar', 'baz', 'foo', 'quux', 'qux'}"
      ]
     },
     "execution_count": 50,
     "metadata": {},
     "output_type": "execute_result"
    }
   ],
   "source": [
    "x1 = {'foo', 'bar', 'baz'}\n",
    "x2 = {'baz', 'qux', 'quux'}\n",
    "\n",
    "x1 |= x2\n",
    "x1"
   ]
  },
  {
   "cell_type": "markdown",
   "id": "ecc1bf3d",
   "metadata": {},
   "source": [
    "#### Intersection Update  &=\n",
    "Modifies a set by retaining only elements found in both sets\n",
    "\n"
   ]
  },
  {
   "cell_type": "code",
   "execution_count": 55,
   "id": "9a2f92ac",
   "metadata": {},
   "outputs": [
    {
     "data": {
      "text/plain": [
       "{'baz', 'quux', 'qux'}"
      ]
     },
     "execution_count": 55,
     "metadata": {},
     "output_type": "execute_result"
    }
   ],
   "source": [
    "x1 = {'foo', 'bar', 'baz'}\n",
    "x2 = {'baz', 'qux', 'quux'}\n",
    "\n",
    "x1 &= x2\n",
    "x2"
   ]
  },
  {
   "cell_type": "code",
   "execution_count": 56,
   "id": "f1c7968c",
   "metadata": {},
   "outputs": [
    {
     "data": {
      "text/plain": [
       "{'baz'}"
      ]
     },
     "execution_count": 56,
     "metadata": {},
     "output_type": "execute_result"
    }
   ],
   "source": [
    "x1.intersection_update(['baz', 'qux'])\n",
    "x1"
   ]
  },
  {
   "cell_type": "markdown",
   "id": "453ee13a",
   "metadata": {},
   "source": [
    "#### Difference update\n",
    "Keeps only elements that exist in the first set, not any of the the rest\n",
    "+ x1.difference_update\n",
    "+ -= operator x -= y[| z | w |...]"
   ]
  },
  {
   "cell_type": "code",
   "execution_count": 58,
   "id": "843a0017",
   "metadata": {},
   "outputs": [
    {
     "data": {
      "text/plain": [
       "{1}"
      ]
     },
     "execution_count": 58,
     "metadata": {},
     "output_type": "execute_result"
    }
   ],
   "source": [
    "a = {1,2,3}\n",
    "b = {2}\n",
    "c = {3}\n",
    "\n",
    "a.difference_update(b, c)\n",
    "a"
   ]
  },
  {
   "cell_type": "code",
   "execution_count": 61,
   "id": "6f49bb0b",
   "metadata": {},
   "outputs": [
    {
     "data": {
      "text/plain": [
       "{1}"
      ]
     },
     "execution_count": 61,
     "metadata": {},
     "output_type": "execute_result"
    }
   ],
   "source": [
    "a = {1,2,3}\n",
    "a -= b | c\n",
    "a"
   ]
  },
  {
   "cell_type": "code",
   "execution_count": 64,
   "id": "d53f86a4",
   "metadata": {},
   "outputs": [
    {
     "data": {
      "text/plain": [
       "{1, 3}"
      ]
     },
     "execution_count": 64,
     "metadata": {},
     "output_type": "execute_result"
    }
   ],
   "source": [
    "a = {1,2,3}\n",
    "a -= b - c\n",
    "a"
   ]
  },
  {
   "cell_type": "markdown",
   "id": "64d3705f",
   "metadata": {},
   "source": [
    "#### Symmetric Difference Update\n",
    "Modifies a set by keeping only the elements that exist in a single set but in multiple\n",
    "\n",
    "+ x1.symmetric_difference_update()\n",
    "    - only takes a single iterable argument\n",
    "+ x1 ^= x2 [^x3...]\n",
    "    - operands need to be sets\n",
    "    - works on multiple sets and will mutate x1 to only include elements found in only one of the sets\n"
   ]
  },
  {
   "cell_type": "code",
   "execution_count": 65,
   "id": "1a445962",
   "metadata": {},
   "outputs": [
    {
     "data": {
      "text/plain": [
       "{1, 2, 4, 5}"
      ]
     },
     "execution_count": 65,
     "metadata": {},
     "output_type": "execute_result"
    }
   ],
   "source": [
    "a = {1,2,3}\n",
    "b = {3,4,5}\n",
    "c = {1,5,6}\n",
    "\n",
    "a.symmetric_difference_update(b)\n",
    "a\n"
   ]
  },
  {
   "cell_type": "code",
   "execution_count": 67,
   "id": "362da4a0",
   "metadata": {},
   "outputs": [
    {
     "data": {
      "text/plain": [
       "{2, 4, 6}"
      ]
     },
     "execution_count": 67,
     "metadata": {},
     "output_type": "execute_result"
    }
   ],
   "source": [
    "a = {1,2,3}\n",
    "a ^= b ^c\n",
    "a"
   ]
  },
  {
   "cell_type": "markdown",
   "id": "37cea66f",
   "metadata": {},
   "source": [
    "### Frozen Sets\n",
    "Exactly the same regular sets, except they are immutable and thus hashable"
   ]
  },
  {
   "cell_type": "code",
   "execution_count": 68,
   "id": "98914d7e",
   "metadata": {},
   "outputs": [
    {
     "data": {
      "text/plain": [
       "{'bar', 'bax', 'foo'}"
      ]
     },
     "execution_count": 68,
     "metadata": {},
     "output_type": "execute_result"
    }
   ],
   "source": [
    "y = set(['foo', 'bar', 'baz'])\n",
    "y"
   ]
  },
  {
   "cell_type": "code",
   "execution_count": 70,
   "id": "8a0562e6",
   "metadata": {},
   "outputs": [
    {
     "data": {
      "text/plain": [
       "frozenset({'bar', 'baz', 'foo'})"
      ]
     },
     "execution_count": 70,
     "metadata": {},
     "output_type": "execute_result"
    }
   ],
   "source": [
    "x = frozenset(['foo', 'bar', 'baz'])\n",
    "x"
   ]
  },
  {
   "cell_type": "code",
   "execution_count": 71,
   "id": "47c2fd1c",
   "metadata": {},
   "outputs": [
    {
     "data": {
      "text/plain": [
       "frozenset({'baz'})"
      ]
     },
     "execution_count": 71,
     "metadata": {},
     "output_type": "execute_result"
    }
   ],
   "source": [
    "x & {'baz'}"
   ]
  },
  {
   "cell_type": "code",
   "execution_count": 72,
   "id": "6a16ad57",
   "metadata": {},
   "outputs": [
    {
     "ename": "AttributeError",
     "evalue": "'frozenset' object has no attribute 'add'",
     "output_type": "error",
     "traceback": [
      "\u001b[1;31m---------------------------------------------------------------------------\u001b[0m",
      "\u001b[1;31mAttributeError\u001b[0m                            Traceback (most recent call last)",
      "Input \u001b[1;32mIn [72]\u001b[0m, in \u001b[0;36m<cell line: 1>\u001b[1;34m()\u001b[0m\n\u001b[1;32m----> 1\u001b[0m \u001b[43mx\u001b[49m\u001b[38;5;241;43m.\u001b[39;49m\u001b[43madd\u001b[49m(\u001b[38;5;124m'\u001b[39m\u001b[38;5;124mquz\u001b[39m\u001b[38;5;124m'\u001b[39m)\n",
      "\u001b[1;31mAttributeError\u001b[0m: 'frozenset' object has no attribute 'add'"
     ]
    }
   ],
   "source": [
    "x.add('quz')"
   ]
  },
  {
   "cell_type": "code",
   "execution_count": 73,
   "id": "7a3d1421",
   "metadata": {},
   "outputs": [
    {
     "ename": "AttributeError",
     "evalue": "'frozenset' object has no attribute 'pop'",
     "output_type": "error",
     "traceback": [
      "\u001b[1;31m---------------------------------------------------------------------------\u001b[0m",
      "\u001b[1;31mAttributeError\u001b[0m                            Traceback (most recent call last)",
      "Input \u001b[1;32mIn [73]\u001b[0m, in \u001b[0;36m<cell line: 1>\u001b[1;34m()\u001b[0m\n\u001b[1;32m----> 1\u001b[0m \u001b[43mx\u001b[49m\u001b[38;5;241;43m.\u001b[39;49m\u001b[43mpop\u001b[49m\n",
      "\u001b[1;31mAttributeError\u001b[0m: 'frozenset' object has no attribute 'pop'"
     ]
    }
   ],
   "source": [
    "x.pop"
   ]
  },
  {
   "cell_type": "code",
   "execution_count": 76,
   "id": "3189b42e",
   "metadata": {},
   "outputs": [
    {
     "name": "stdout",
     "output_type": "stream",
     "text": [
      "9.54 ns ± 0.337 ns per loop (mean ± std. dev. of 7 runs, 100,000,000 loops each)\n"
     ]
    }
   ],
   "source": [
    "%timeit 10*10"
   ]
  },
  {
   "cell_type": "code",
   "execution_count": 80,
   "id": "d787c3cb",
   "metadata": {},
   "outputs": [
    {
     "ename": "TypeError",
     "evalue": "unhashable type: 'list'",
     "output_type": "error",
     "traceback": [
      "\u001b[1;31m---------------------------------------------------------------------------\u001b[0m",
      "\u001b[1;31mTypeError\u001b[0m                                 Traceback (most recent call last)",
      "Input \u001b[1;32mIn [80]\u001b[0m, in \u001b[0;36m<cell line: 1>\u001b[1;34m()\u001b[0m\n\u001b[1;32m----> 1\u001b[0m s \u001b[38;5;241m=\u001b[39m {[\u001b[38;5;124m'\u001b[39m\u001b[38;5;124ma\u001b[39m\u001b[38;5;124m'\u001b[39m,\u001b[38;5;124m'\u001b[39m\u001b[38;5;124mb\u001b[39m\u001b[38;5;124m'\u001b[39m,\u001b[38;5;124m'\u001b[39m\u001b[38;5;124mc\u001b[39m\u001b[38;5;124m'\u001b[39m]}\n\u001b[0;32m      2\u001b[0m s\n",
      "\u001b[1;31mTypeError\u001b[0m: unhashable type: 'list'"
     ]
    }
   ],
   "source": [
    "s = {['a','b','c']}\n",
    "s"
   ]
  },
  {
   "cell_type": "code",
   "execution_count": 81,
   "id": "526d571c",
   "metadata": {},
   "outputs": [
    {
     "data": {
      "text/plain": [
       "{1, 2, 6, 7}"
      ]
     },
     "execution_count": 81,
     "metadata": {},
     "output_type": "execute_result"
    }
   ],
   "source": [
    "{1, 2, 3, 4, 5} - {3, 4} ^ {5, 6, 7}\n"
   ]
  }
 ],
 "metadata": {
  "kernelspec": {
   "display_name": "Python 3 (ipykernel)",
   "language": "python",
   "name": "python3"
  },
  "language_info": {
   "codemirror_mode": {
    "name": "ipython",
    "version": 3
   },
   "file_extension": ".py",
   "mimetype": "text/x-python",
   "name": "python",
   "nbconvert_exporter": "python",
   "pygments_lexer": "ipython3",
   "version": "3.9.12"
  }
 },
 "nbformat": 4,
 "nbformat_minor": 5
}
