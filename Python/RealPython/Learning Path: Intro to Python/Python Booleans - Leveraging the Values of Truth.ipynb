{
 "cells": [
  {
   "cell_type": "markdown",
   "id": "f113e693",
   "metadata": {},
   "source": [
    "What this course will cover: \n",
    "+ 1) The Python Boolean Type\n",
    "+ 2) The boolean Operator not\n",
    "+ 3) the boolean Operator and\n",
    "+ 4) The Boolean Operator or\n",
    "+ 5) Comparison Operators\n",
    "+ 6) Chaining Comparison Operators\n",
    "+ 7) Python Boolean Testing\n",
    "\n",
    "# The Python Boolean Type"
   ]
  },
  {
   "cell_type": "markdown",
   "id": "f78abf62",
   "metadata": {},
   "source": [
    "The bool class is a subclass of the int type\n",
    "A bool variable can only True or False. Both are keywords.\n"
   ]
  },
  {
   "cell_type": "code",
   "execution_count": 1,
   "id": "51e70d6e",
   "metadata": {},
   "outputs": [
    {
     "data": {
      "text/plain": [
       "True"
      ]
     },
     "execution_count": 1,
     "metadata": {},
     "output_type": "execute_result"
    }
   ],
   "source": [
    "issubclass(bool, int)"
   ]
  },
  {
   "cell_type": "code",
   "execution_count": 7,
   "id": "a6348669",
   "metadata": {
    "scrolled": true
   },
   "outputs": [
    {
     "data": {
      "text/plain": [
       "False"
      ]
     },
     "execution_count": 7,
     "metadata": {},
     "output_type": "execute_result"
    }
   ],
   "source": [
    "# bool is a subclass of integer, but 1 and 0 are not instances of bool\n",
    "isinstance(1, bool)"
   ]
  },
  {
   "cell_type": "markdown",
   "id": "3855a609",
   "metadata": {},
   "source": [
    "A common use of the bool subclass is to see the number of items in a list that meet a certain criteria; such as how many numbers in a list are divisible by 3"
   ]
  },
  {
   "cell_type": "code",
   "execution_count": 6,
   "id": "b6034ca2",
   "metadata": {},
   "outputs": [
    {
     "data": {
      "text/plain": [
       "4"
      ]
     },
     "execution_count": 6,
     "metadata": {},
     "output_type": "execute_result"
    }
   ],
   "source": [
    "codes = [264, 118, 543, 705, 1152, 674]\n",
    "N = 3\n",
    "\n",
    "sum([c % N == 0 for c in codes])"
   ]
  },
  {
   "cell_type": "markdown",
   "id": "9c9a4ce6",
   "metadata": {},
   "source": [
    "# Boolean Operators\n",
    "+ Boolean operators takes as input one or more booleans as input and returns a boolean\n",
    "+ NOT, AND and OR are important\n",
    "\n",
    "### Not Operator\n",
    "+ unary\n",
    "+ can be applied to any object\n",
    "+ not only returns True or False. which makes it unique."
   ]
  },
  {
   "cell_type": "code",
   "execution_count": 9,
   "id": "b17d8d24",
   "metadata": {},
   "outputs": [
    {
     "data": {
      "text/plain": [
       "False"
      ]
     },
     "execution_count": 9,
     "metadata": {},
     "output_type": "execute_result"
    }
   ],
   "source": [
    "not True"
   ]
  },
  {
   "cell_type": "code",
   "execution_count": 10,
   "id": "f4d9cdee",
   "metadata": {},
   "outputs": [
    {
     "data": {
      "text/plain": [
       "True"
      ]
     },
     "execution_count": 10,
     "metadata": {},
     "output_type": "execute_result"
    }
   ],
   "source": [
    "not 0"
   ]
  },
  {
   "cell_type": "code",
   "execution_count": 12,
   "id": "a3c533ff",
   "metadata": {},
   "outputs": [
    {
     "data": {
      "text/plain": [
       "False"
      ]
     },
     "execution_count": 12,
     "metadata": {},
     "output_type": "execute_result"
    }
   ],
   "source": [
    "not 'Hello World' # non empty string"
   ]
  },
  {
   "cell_type": "code",
   "execution_count": 13,
   "id": "19d6ccaa",
   "metadata": {},
   "outputs": [
    {
     "data": {
      "text/plain": [
       "False"
      ]
     },
     "execution_count": 13,
     "metadata": {},
     "output_type": "execute_result"
    }
   ],
   "source": [
    "not [1,2,3]"
   ]
  },
  {
   "cell_type": "code",
   "execution_count": 14,
   "id": "35a65c3d",
   "metadata": {},
   "outputs": [
    {
     "data": {
      "text/plain": [
       "True"
      ]
     },
     "execution_count": 14,
     "metadata": {},
     "output_type": "execute_result"
    }
   ],
   "source": [
    "not []"
   ]
  },
  {
   "cell_type": "code",
   "execution_count": 15,
   "id": "f3475b0f",
   "metadata": {},
   "outputs": [
    {
     "data": {
      "text/plain": [
       "'Not Given'"
      ]
     },
     "execution_count": 15,
     "metadata": {},
     "output_type": "execute_result"
    }
   ],
   "source": [
    "# use not to set default value for string if it's empty\n",
    "first_name = \"\"\n",
    "if not first_name: \n",
    "    first_name = \"Not Given\"\n",
    "    \n",
    "first_name"
   ]
  },
  {
   "cell_type": "code",
   "execution_count": 17,
   "id": "7f3e6c96",
   "metadata": {},
   "outputs": [
    {
     "data": {
      "text/plain": [
       "'Not Given'"
      ]
     },
     "execution_count": 17,
     "metadata": {},
     "output_type": "execute_result"
    }
   ],
   "source": [
    "# alternative method to set default. Ternary operator\n",
    "first_name = \"not given\" if not first_name else first_name\n",
    "first_name"
   ]
  },
  {
   "cell_type": "markdown",
   "id": "f7184bec",
   "metadata": {},
   "source": [
    "### and Operator\n",
    "+ binary operator: takes two inputs\n",
    "+ returns true when both operands are true\n",
    "+ short circuits if the first operand is false\n",
    "+ returns the value of one of its operands"
   ]
  },
  {
   "cell_type": "code",
   "execution_count": 20,
   "id": "8c745333",
   "metadata": {},
   "outputs": [
    {
     "name": "stdout",
     "output_type": "stream",
     "text": [
      "\t True and True = True\n",
      "\t True and False = False\n",
      "\t False and True = False\n",
      "\t False and False = False\n"
     ]
    }
   ],
   "source": [
    "from itertools import product\n",
    "for x, y in product([True, False], repeat = 2):\n",
    "    print(f\"\\t {x} and {y} = {x and y}\")"
   ]
  },
  {
   "cell_type": "code",
   "execution_count": 22,
   "id": "331a4696",
   "metadata": {},
   "outputs": [
    {
     "name": "stdout",
     "output_type": "stream",
     "text": [
      "I am returning False\n"
     ]
    },
    {
     "data": {
      "text/plain": [
       "False"
      ]
     },
     "execution_count": 22,
     "metadata": {},
     "output_type": "execute_result"
    }
   ],
   "source": [
    "# short circuiting feature\n",
    "def print_and_return(x):\n",
    "    print(f\"I am returning {x}\")\n",
    "    return(x)\n",
    "\n",
    "True and print_and_return(False)"
   ]
  },
  {
   "cell_type": "code",
   "execution_count": 24,
   "id": "2c36e6ef",
   "metadata": {},
   "outputs": [
    {
     "data": {
      "text/plain": [
       "False"
      ]
     },
     "execution_count": 24,
     "metadata": {},
     "output_type": "execute_result"
    }
   ],
   "source": [
    "False and print_and_return(True) \n",
    "# notice the function never ran b/c of short circuiting"
   ]
  },
  {
   "cell_type": "markdown",
   "id": "e7094046",
   "metadata": {},
   "source": [
    "------\n",
    "### or Operator\n",
    "+ the other binary operator\n",
    "+ short circuits when the first operand in `True`"
   ]
  },
  {
   "cell_type": "code",
   "execution_count": 33,
   "id": "3b5dee6e",
   "metadata": {},
   "outputs": [
    {
     "name": "stdout",
     "output_type": "stream",
     "text": [
      "True and True = True\n",
      "True and False = True\n",
      "False and True = True\n",
      "False and False = False\n"
     ]
    }
   ],
   "source": [
    "for x, y in product([True, False], repeat = 2):\n",
    "    print(f'{x} and {y} = {x or y}')"
   ]
  },
  {
   "cell_type": "code",
   "execution_count": 34,
   "id": "7af542c0",
   "metadata": {},
   "outputs": [
    {
     "data": {
      "text/plain": [
       "True"
      ]
     },
     "execution_count": 34,
     "metadata": {},
     "output_type": "execute_result"
    }
   ],
   "source": [
    "def print_and_return(x):\n",
    "    print(f'I am returning {x}')\n",
    "    return(x)\n",
    "\n",
    "# Notice the function doesn't run\n",
    "True or print_and_return(True)"
   ]
  },
  {
   "cell_type": "code",
   "execution_count": 35,
   "id": "fd2e929e",
   "metadata": {},
   "outputs": [
    {
     "name": "stdout",
     "output_type": "stream",
     "text": [
      "I am returning True\n"
     ]
    },
    {
     "data": {
      "text/plain": [
       "True"
      ]
     },
     "execution_count": 35,
     "metadata": {},
     "output_type": "execute_result"
    }
   ],
   "source": [
    "False or print_and_return(True)"
   ]
  },
  {
   "cell_type": "code",
   "execution_count": 37,
   "id": "d9c6c9fe",
   "metadata": {},
   "outputs": [
    {
     "data": {
      "text/plain": [
       "'Not Given'"
      ]
     },
     "execution_count": 37,
     "metadata": {},
     "output_type": "execute_result"
    }
   ],
   "source": [
    "# setting default value using or statement\n",
    "first_name = ''\n",
    "first_name = first_name or \"Not Given\"\n",
    "first_name"
   ]
  },
  {
   "cell_type": "code",
   "execution_count": 38,
   "id": "f4106b37",
   "metadata": {},
   "outputs": [
    {
     "data": {
      "text/plain": [
       "'Luigi'"
      ]
     },
     "execution_count": 38,
     "metadata": {},
     "output_type": "execute_result"
    }
   ],
   "source": [
    "first_name = 'Luigi'\n",
    "first_name = first_name or \"Not Given\"\n",
    "first_name"
   ]
  },
  {
   "cell_type": "code",
   "execution_count": null,
   "id": "e463e8dc",
   "metadata": {},
   "outputs": [],
   "source": []
  }
 ],
 "metadata": {
  "kernelspec": {
   "display_name": "Python 3 (ipykernel)",
   "language": "python",
   "name": "python3"
  },
  "language_info": {
   "codemirror_mode": {
    "name": "ipython",
    "version": 3
   },
   "file_extension": ".py",
   "mimetype": "text/x-python",
   "name": "python",
   "nbconvert_exporter": "python",
   "pygments_lexer": "ipython3",
   "version": "3.9.12"
  }
 },
 "nbformat": 4,
 "nbformat_minor": 5
}
