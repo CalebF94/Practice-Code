{
 "cells": [
  {
   "cell_type": "markdown",
   "id": "f113e693",
   "metadata": {},
   "source": [
    "What this course will cover: \n",
    "+ 1) The Python Boolean Type\n",
    "+ 2) The boolean Operator not\n",
    "+ 3) the boolean Operator and\n",
    "+ 4) The Boolean Operator or\n",
    "+ 5) Comparison Operators\n",
    "+ 6) Chaining Comparison Operators\n",
    "+ 7) Python Boolean Testing\n",
    "\n",
    "# The Python Boolean Type"
   ]
  },
  {
   "cell_type": "markdown",
   "id": "f78abf62",
   "metadata": {},
   "source": [
    "The bool class is a subclass of the int type\n",
    "A bool variable can only True or False. Both are keywords.\n"
   ]
  },
  {
   "cell_type": "code",
   "execution_count": 1,
   "id": "51e70d6e",
   "metadata": {},
   "outputs": [
    {
     "data": {
      "text/plain": [
       "True"
      ]
     },
     "execution_count": 1,
     "metadata": {},
     "output_type": "execute_result"
    }
   ],
   "source": [
    "issubclass(bool, int)"
   ]
  },
  {
   "cell_type": "code",
   "execution_count": 2,
   "id": "a6348669",
   "metadata": {
    "scrolled": true
   },
   "outputs": [
    {
     "data": {
      "text/plain": [
       "False"
      ]
     },
     "execution_count": 2,
     "metadata": {},
     "output_type": "execute_result"
    }
   ],
   "source": [
    "# bool is a subclass of integer, but 1 and 0 are not instances of bool\n",
    "isinstance(1, bool)"
   ]
  },
  {
   "cell_type": "markdown",
   "id": "3855a609",
   "metadata": {},
   "source": [
    "A common use of the bool subclass is to see the number of items in a list that meet a certain criteria; such as how many numbers in a list are divisible by 3"
   ]
  },
  {
   "cell_type": "code",
   "execution_count": 3,
   "id": "b6034ca2",
   "metadata": {},
   "outputs": [
    {
     "data": {
      "text/plain": [
       "4"
      ]
     },
     "execution_count": 3,
     "metadata": {},
     "output_type": "execute_result"
    }
   ],
   "source": [
    "codes = [264, 118, 543, 705, 1152, 674]\n",
    "N = 3\n",
    "\n",
    "sum([c % N == 0 for c in codes])"
   ]
  },
  {
   "cell_type": "markdown",
   "id": "9c9a4ce6",
   "metadata": {},
   "source": [
    "# Boolean Operators\n",
    "+ Boolean operators takes as input one or more booleans as input and returns a boolean\n",
    "+ NOT, AND and OR are important\n",
    "\n",
    "### Not Operator\n",
    "+ unary\n",
    "+ can be applied to any object\n",
    "+ not only returns True or False. which makes it unique."
   ]
  },
  {
   "cell_type": "code",
   "execution_count": 4,
   "id": "b17d8d24",
   "metadata": {},
   "outputs": [
    {
     "data": {
      "text/plain": [
       "False"
      ]
     },
     "execution_count": 4,
     "metadata": {},
     "output_type": "execute_result"
    }
   ],
   "source": [
    "not True"
   ]
  },
  {
   "cell_type": "code",
   "execution_count": 5,
   "id": "f4d9cdee",
   "metadata": {},
   "outputs": [
    {
     "data": {
      "text/plain": [
       "True"
      ]
     },
     "execution_count": 5,
     "metadata": {},
     "output_type": "execute_result"
    }
   ],
   "source": [
    "not 0"
   ]
  },
  {
   "cell_type": "code",
   "execution_count": 6,
   "id": "a3c533ff",
   "metadata": {},
   "outputs": [
    {
     "data": {
      "text/plain": [
       "False"
      ]
     },
     "execution_count": 6,
     "metadata": {},
     "output_type": "execute_result"
    }
   ],
   "source": [
    "not 'Hello World' # non empty string"
   ]
  },
  {
   "cell_type": "code",
   "execution_count": 7,
   "id": "19d6ccaa",
   "metadata": {},
   "outputs": [
    {
     "data": {
      "text/plain": [
       "False"
      ]
     },
     "execution_count": 7,
     "metadata": {},
     "output_type": "execute_result"
    }
   ],
   "source": [
    "not [1,2,3]"
   ]
  },
  {
   "cell_type": "code",
   "execution_count": 8,
   "id": "35a65c3d",
   "metadata": {},
   "outputs": [
    {
     "data": {
      "text/plain": [
       "True"
      ]
     },
     "execution_count": 8,
     "metadata": {},
     "output_type": "execute_result"
    }
   ],
   "source": [
    "not []"
   ]
  },
  {
   "cell_type": "code",
   "execution_count": 9,
   "id": "f3475b0f",
   "metadata": {},
   "outputs": [
    {
     "data": {
      "text/plain": [
       "'Not Given'"
      ]
     },
     "execution_count": 9,
     "metadata": {},
     "output_type": "execute_result"
    }
   ],
   "source": [
    "# use not to set default value for string if it's empty\n",
    "first_name = \"\"\n",
    "if not first_name: \n",
    "    first_name = \"Not Given\"\n",
    "    \n",
    "first_name"
   ]
  },
  {
   "cell_type": "code",
   "execution_count": 10,
   "id": "7f3e6c96",
   "metadata": {},
   "outputs": [
    {
     "data": {
      "text/plain": [
       "'Not Given'"
      ]
     },
     "execution_count": 10,
     "metadata": {},
     "output_type": "execute_result"
    }
   ],
   "source": [
    "# alternative method to set default. Ternary operator\n",
    "first_name = \"not given\" if not first_name else first_name\n",
    "first_name"
   ]
  },
  {
   "cell_type": "markdown",
   "id": "f7184bec",
   "metadata": {},
   "source": [
    "### and Operator\n",
    "+ binary operator: takes two inputs\n",
    "+ returns true when both operands are true\n",
    "+ short circuits if the first operand is false\n",
    "+ returns the value of one of its operands"
   ]
  },
  {
   "cell_type": "code",
   "execution_count": 11,
   "id": "8c745333",
   "metadata": {},
   "outputs": [
    {
     "name": "stdout",
     "output_type": "stream",
     "text": [
      "\t True and True = True\n",
      "\t True and False = False\n",
      "\t False and True = False\n",
      "\t False and False = False\n"
     ]
    }
   ],
   "source": [
    "from itertools import product\n",
    "for x, y in product([True, False], repeat = 2):\n",
    "    print(f\"\\t {x} and {y} = {x and y}\")"
   ]
  },
  {
   "cell_type": "code",
   "execution_count": 12,
   "id": "331a4696",
   "metadata": {},
   "outputs": [
    {
     "name": "stdout",
     "output_type": "stream",
     "text": [
      "I am returning False\n"
     ]
    },
    {
     "data": {
      "text/plain": [
       "False"
      ]
     },
     "execution_count": 12,
     "metadata": {},
     "output_type": "execute_result"
    }
   ],
   "source": [
    "# short circuiting feature\n",
    "def print_and_return(x):\n",
    "    print(f\"I am returning {x}\")\n",
    "    return(x)\n",
    "\n",
    "True and print_and_return(False)"
   ]
  },
  {
   "cell_type": "code",
   "execution_count": 13,
   "id": "2c36e6ef",
   "metadata": {},
   "outputs": [
    {
     "data": {
      "text/plain": [
       "False"
      ]
     },
     "execution_count": 13,
     "metadata": {},
     "output_type": "execute_result"
    }
   ],
   "source": [
    "False and print_and_return(True) \n",
    "# notice the function never ran b/c of short circuiting"
   ]
  },
  {
   "cell_type": "markdown",
   "id": "e7094046",
   "metadata": {},
   "source": [
    "------\n",
    "### or Operator\n",
    "+ the other binary operator\n",
    "+ short circuits when the first operand in `True`"
   ]
  },
  {
   "cell_type": "code",
   "execution_count": 14,
   "id": "3b5dee6e",
   "metadata": {},
   "outputs": [
    {
     "name": "stdout",
     "output_type": "stream",
     "text": [
      "True and True = True\n",
      "True and False = True\n",
      "False and True = True\n",
      "False and False = False\n"
     ]
    }
   ],
   "source": [
    "for x, y in product([True, False], repeat = 2):\n",
    "    print(f'{x} and {y} = {x or y}')"
   ]
  },
  {
   "cell_type": "code",
   "execution_count": 15,
   "id": "7af542c0",
   "metadata": {},
   "outputs": [
    {
     "data": {
      "text/plain": [
       "True"
      ]
     },
     "execution_count": 15,
     "metadata": {},
     "output_type": "execute_result"
    }
   ],
   "source": [
    "def print_and_return(x):\n",
    "    print(f'I am returning {x}')\n",
    "    return(x)\n",
    "\n",
    "# Notice the function doesn't run\n",
    "True or print_and_return(True)"
   ]
  },
  {
   "cell_type": "code",
   "execution_count": 16,
   "id": "fd2e929e",
   "metadata": {},
   "outputs": [
    {
     "name": "stdout",
     "output_type": "stream",
     "text": [
      "I am returning True\n"
     ]
    },
    {
     "data": {
      "text/plain": [
       "True"
      ]
     },
     "execution_count": 16,
     "metadata": {},
     "output_type": "execute_result"
    }
   ],
   "source": [
    "False or print_and_return(True)"
   ]
  },
  {
   "cell_type": "code",
   "execution_count": 17,
   "id": "d9c6c9fe",
   "metadata": {},
   "outputs": [
    {
     "data": {
      "text/plain": [
       "'Not Given'"
      ]
     },
     "execution_count": 17,
     "metadata": {},
     "output_type": "execute_result"
    }
   ],
   "source": [
    "# setting default value using or statement\n",
    "first_name = ''\n",
    "first_name = first_name or \"Not Given\"\n",
    "first_name"
   ]
  },
  {
   "cell_type": "code",
   "execution_count": 18,
   "id": "f4106b37",
   "metadata": {},
   "outputs": [
    {
     "data": {
      "text/plain": [
       "'Luigi'"
      ]
     },
     "execution_count": 18,
     "metadata": {},
     "output_type": "execute_result"
    }
   ],
   "source": [
    "first_name = 'Luigi'\n",
    "first_name = first_name or \"Not Given\"\n",
    "first_name"
   ]
  },
  {
   "cell_type": "markdown",
   "id": "27a43a64",
   "metadata": {},
   "source": [
    "### Comparison Operators\n",
    "\n",
    "+ Binary operator that determines whether a particular relationship holds between the operands\n",
    "+ Comparison operators return either True or False\n",
    "+ 8 value comparison: <, <=, > is, is not\n",
    "+ 2 membership operators: in, not in"
   ]
  },
  {
   "cell_type": "code",
   "execution_count": 19,
   "id": "ab1312e2",
   "metadata": {},
   "outputs": [
    {
     "data": {
      "text/plain": [
       "True"
      ]
     },
     "execution_count": 19,
     "metadata": {},
     "output_type": "execute_result"
    }
   ],
   "source": [
    "1 == 1"
   ]
  },
  {
   "cell_type": "code",
   "execution_count": 20,
   "id": "2877fcc2",
   "metadata": {},
   "outputs": [
    {
     "data": {
      "text/plain": [
       "False"
      ]
     },
     "execution_count": 20,
     "metadata": {},
     "output_type": "execute_result"
    }
   ],
   "source": [
    "True == 2"
   ]
  },
  {
   "cell_type": "code",
   "execution_count": 21,
   "id": "4c243090",
   "metadata": {},
   "outputs": [
    {
     "data": {
      "text/plain": [
       "True"
      ]
     },
     "execution_count": 21,
     "metadata": {},
     "output_type": "execute_result"
    }
   ],
   "source": [
    "1.0 == 1"
   ]
  },
  {
   "cell_type": "code",
   "execution_count": 22,
   "id": "8f7b9505",
   "metadata": {},
   "outputs": [
    {
     "data": {
      "text/plain": [
       "True"
      ]
     },
     "execution_count": 22,
     "metadata": {},
     "output_type": "execute_result"
    }
   ],
   "source": [
    "4/2 == 2"
   ]
  },
  {
   "cell_type": "code",
   "execution_count": 23,
   "id": "4afa7e6e",
   "metadata": {},
   "outputs": [
    {
     "data": {
      "text/plain": [
       "True"
      ]
     },
     "execution_count": 23,
     "metadata": {},
     "output_type": "execute_result"
    }
   ],
   "source": [
    "# sets are unordered\n",
    "{1,2,3} == {3,1,2}"
   ]
  },
  {
   "cell_type": "code",
   "execution_count": 24,
   "id": "52c7328b",
   "metadata": {},
   "outputs": [
    {
     "data": {
      "text/plain": [
       "False"
      ]
     },
     "execution_count": 24,
     "metadata": {},
     "output_type": "execute_result"
    }
   ],
   "source": [
    "# Lists are ordered\n",
    "[1,2,3] == [2,1,3]"
   ]
  },
  {
   "cell_type": "code",
   "execution_count": 25,
   "id": "c20b89ae",
   "metadata": {},
   "outputs": [
    {
     "data": {
      "text/plain": [
       "False"
      ]
     },
     "execution_count": 25,
     "metadata": {},
     "output_type": "execute_result"
    }
   ],
   "source": [
    "# Remember not a numbers can be converted perfectly to binary\n",
    ".2 + .1 == .3"
   ]
  },
  {
   "cell_type": "code",
   "execution_count": 26,
   "id": "2f828d2a",
   "metadata": {},
   "outputs": [
    {
     "ename": "TypeError",
     "evalue": "'<' not supported between instances of 'dict' and 'dict'",
     "output_type": "error",
     "traceback": [
      "\u001b[1;31m---------------------------------------------------------------------------\u001b[0m",
      "\u001b[1;31mTypeError\u001b[0m                                 Traceback (most recent call last)",
      "Input \u001b[1;32mIn [26]\u001b[0m, in \u001b[0;36m<cell line: 4>\u001b[1;34m()\u001b[0m\n\u001b[0;32m      2\u001b[0m a \u001b[38;5;241m=\u001b[39m {\u001b[38;5;124m'\u001b[39m\u001b[38;5;124mX\u001b[39m\u001b[38;5;124m'\u001b[39m: \u001b[38;5;241m1\u001b[39m, \u001b[38;5;124m\"\u001b[39m\u001b[38;5;124mY\u001b[39m\u001b[38;5;124m\"\u001b[39m: \u001b[38;5;241m2\u001b[39m}\n\u001b[0;32m      3\u001b[0m b \u001b[38;5;241m=\u001b[39m {\u001b[38;5;124m\"\u001b[39m\u001b[38;5;124mx\u001b[39m\u001b[38;5;124m\"\u001b[39m: \u001b[38;5;241m3\u001b[39m, \u001b[38;5;124m\"\u001b[39m\u001b[38;5;124mY\u001b[39m\u001b[38;5;124m\"\u001b[39m: \u001b[38;5;241m4\u001b[39m}\n\u001b[1;32m----> 4\u001b[0m \u001b[43ma\u001b[49m\u001b[43m \u001b[49m\u001b[38;5;241;43m<\u001b[39;49m\u001b[43m \u001b[49m\u001b[43mb\u001b[49m\n",
      "\u001b[1;31mTypeError\u001b[0m: '<' not supported between instances of 'dict' and 'dict'"
     ]
    }
   ],
   "source": [
    "# dictonaries don't support order operators\n",
    "a = {'X': 1, \"Y\": 2}\n",
    "b = {\"x\": 3, \"Y\": 4}\n",
    "a < b"
   ]
  },
  {
   "cell_type": "code",
   "execution_count": null,
   "id": "c35c4e38",
   "metadata": {},
   "outputs": [],
   "source": [
    "# only one element in first list is larger\n",
    "[2,0] < [1,2,3]"
   ]
  },
  {
   "cell_type": "code",
   "execution_count": null,
   "id": "8cc3ffd9",
   "metadata": {},
   "outputs": [],
   "source": [
    "# sets behave wierdly\n",
    "{1,2,3} < {4,5,6}"
   ]
  },
  {
   "cell_type": "code",
   "execution_count": null,
   "id": "f1118377",
   "metadata": {},
   "outputs": [],
   "source": [
    "# always get false except for != operator\n",
    "{4,5,6}<{1,2,3}"
   ]
  },
  {
   "cell_type": "markdown",
   "id": "ea780b54",
   "metadata": {},
   "source": [
    "`is` and `is not` operators"
   ]
  },
  {
   "cell_type": "code",
   "execution_count": null,
   "id": "8168a6f4",
   "metadata": {},
   "outputs": [],
   "source": [
    "x, y = [1,2,3],[1,2,3]\n",
    "x==y"
   ]
  },
  {
   "cell_type": "markdown",
   "id": "c1fe22f2",
   "metadata": {},
   "source": [
    " clearly `x` and `y` are different objects but equal"
   ]
  },
  {
   "cell_type": "code",
   "execution_count": null,
   "id": "7e111fff",
   "metadata": {},
   "outputs": [],
   "source": [
    "\n",
    "print(id(x))\n",
    "print(id(y))"
   ]
  },
  {
   "cell_type": "code",
   "execution_count": null,
   "id": "30627679",
   "metadata": {},
   "outputs": [],
   "source": [
    "z = x\n",
    "x==z"
   ]
  },
  {
   "cell_type": "markdown",
   "id": "3c219bc9",
   "metadata": {},
   "source": [
    " z is just another reference to x\n"
   ]
  },
  {
   "cell_type": "code",
   "execution_count": null,
   "id": "d8852981",
   "metadata": {},
   "outputs": [],
   "source": [
    "\n",
    "print(id(z))\n",
    "print(id(x))"
   ]
  },
  {
   "cell_type": "markdown",
   "id": "10292c7a",
   "metadata": {},
   "source": [
    "### `in` and `not in` operator\n",
    "in dictionaries in operator evaluates based on keys"
   ]
  },
  {
   "cell_type": "code",
   "execution_count": null,
   "id": "7b6eca2b",
   "metadata": {},
   "outputs": [],
   "source": [
    "d = {\"a\": a, \"b\":3}\n",
    "\"c\" in d"
   ]
  },
  {
   "cell_type": "code",
   "execution_count": null,
   "id": "0d84afb7",
   "metadata": {},
   "outputs": [],
   "source": [
    "\"b\" in d"
   ]
  },
  {
   "cell_type": "markdown",
   "id": "64328040",
   "metadata": {},
   "source": [
    "### Chaining Comparison Operators\n",
    "Consider the following expression\n",
    "\n",
    "    ` if x < y and y <= z:\n",
    "            do_something()`\n",
    "            \n",
    "The condition can be shortened to `if x < y <= z:`\n",
    "\n",
    "Note readability quickly degrades after 3 or more comparisons:\n",
    "\n",
    "    `1 < 2 in [1, 2, 3] >= [1, 2]`\n",
    "    \n",
    "   and\n",
    "   \n",
    "    `(1 < 2) and (2 in [1, 2, 3]) and ([1, 2, 3] >= [1, 2])`\n",
    "    \n",
    "The second example is easier to read, but the first example may be more efficient because each value is only evaluated once."
   ]
  },
  {
   "cell_type": "code",
   "execution_count": null,
   "id": "7b45dcd3",
   "metadata": {},
   "outputs": [],
   "source": [
    "def u():\n",
    "    print(\"I am u\")\n",
    "    return 1\n",
    "    \n",
    "def v():\n",
    "    print(\"I am v\")\n",
    "    return 2\n",
    "    \n",
    "def w():\n",
    "    print(\"I am w\")\n",
    "    return 3\n",
    "\n",
    "u()<v()"
   ]
  },
  {
   "cell_type": "raw",
   "id": "421d6f6f",
   "metadata": {},
   "source": [
    "Below is an example of how each operand is only evaluated once:\n",
    "\n",
    "Notice how `v()` is evaluated twice"
   ]
  },
  {
   "cell_type": "code",
   "execution_count": null,
   "id": "a66ad512",
   "metadata": {},
   "outputs": [],
   "source": [
    "u() < v() and v() < w()"
   ]
  },
  {
   "cell_type": "markdown",
   "id": "132e2e51",
   "metadata": {},
   "source": [
    "Here `v()` is only evaluated once when the comparison is chained:"
   ]
  },
  {
   "cell_type": "code",
   "execution_count": null,
   "id": "675c05a5",
   "metadata": {},
   "outputs": [],
   "source": [
    "u() < v() < w()"
   ]
  },
  {
   "cell_type": "markdown",
   "id": "b56a09e7",
   "metadata": {},
   "source": [
    "### Python Boolean Testing\n",
    "+ Booleans are most often used in `if` statements\n",
    "+ the expression in the if statement is evaluated and determined to be either `truthy` which evaluates to `True` or `Falsey` which evaluates to `False`\n",
    "Below are example of `Falsey` objects"
   ]
  },
  {
   "cell_type": "code",
   "execution_count": null,
   "id": "4aec2f40",
   "metadata": {},
   "outputs": [],
   "source": [
    "print(bool(None))\n",
    "print(bool(0.0))\n",
    "print(bool([]))"
   ]
  },
  {
   "cell_type": "markdown",
   "id": "487a5a9d",
   "metadata": {},
   "source": []
  },
  {
   "cell_type": "code",
   "execution_count": 27,
   "id": "131d44d7",
   "metadata": {},
   "outputs": [
    {
     "data": {
      "text/plain": [
       "True"
      ]
     },
     "execution_count": 27,
     "metadata": {},
     "output_type": "execute_result"
    }
   ],
   "source": [
    "\"cabad\" < \"cabae\""
   ]
  },
  {
   "cell_type": "code",
   "execution_count": 28,
   "id": "9bd38fa4",
   "metadata": {},
   "outputs": [
    {
     "ename": "TypeError",
     "evalue": "argument of type 'bool' is not iterable",
     "output_type": "error",
     "traceback": [
      "\u001b[1;31m---------------------------------------------------------------------------\u001b[0m",
      "\u001b[1;31mTypeError\u001b[0m                                 Traceback (most recent call last)",
      "Input \u001b[1;32mIn [28]\u001b[0m, in \u001b[0;36m<cell line: 1>\u001b[1;34m()\u001b[0m\n\u001b[1;32m----> 1\u001b[0m \u001b[38;5;124m\"\u001b[39m\u001b[38;5;124mb\u001b[39m\u001b[38;5;124m\"\u001b[39m \u001b[38;5;129;01min\u001b[39;00m \u001b[38;5;124m\"\u001b[39m\u001b[38;5;124maba\u001b[39m\u001b[38;5;124m\"\u001b[39m \u001b[38;5;129;01min\u001b[39;00m \u001b[38;5;28;01mTrue\u001b[39;00m\n",
      "\u001b[1;31mTypeError\u001b[0m: argument of type 'bool' is not iterable"
     ]
    }
   ],
   "source": [
    "\"b\" in \"aba\" in True"
   ]
  },
  {
   "cell_type": "code",
   "execution_count": 29,
   "id": "68e3fdbf",
   "metadata": {},
   "outputs": [
    {
     "data": {
      "text/plain": [
       "True"
      ]
     },
     "execution_count": 29,
     "metadata": {},
     "output_type": "execute_result"
    }
   ],
   "source": [
    "\"b\" in \"aba\" "
   ]
  },
  {
   "cell_type": "code",
   "execution_count": 32,
   "id": "8f3c994a",
   "metadata": {},
   "outputs": [
    {
     "ename": "TypeError",
     "evalue": "'in <string>' requires string as left operand, not bool",
     "output_type": "error",
     "traceback": [
      "\u001b[1;31m---------------------------------------------------------------------------\u001b[0m",
      "\u001b[1;31mTypeError\u001b[0m                                 Traceback (most recent call last)",
      "Input \u001b[1;32mIn [32]\u001b[0m, in \u001b[0;36m<cell line: 1>\u001b[1;34m()\u001b[0m\n\u001b[1;32m----> 1\u001b[0m \u001b[38;5;28;43;01mTrue\u001b[39;49;00m\u001b[43m \u001b[49m\u001b[38;5;129;43;01min\u001b[39;49;00m\u001b[43m \u001b[49m\u001b[38;5;124;43m\"\u001b[39;49m\u001b[38;5;124;43mcabad\u001b[39;49m\u001b[38;5;124;43m\"\u001b[39;49m\n",
      "\u001b[1;31mTypeError\u001b[0m: 'in <string>' requires string as left operand, not bool"
     ]
    }
   ],
   "source": [
    "True in \"cabad\" "
   ]
  },
  {
   "cell_type": "code",
   "execution_count": null,
   "id": "8abb4ad0",
   "metadata": {},
   "outputs": [],
   "source": []
  },
  {
   "cell_type": "code",
   "execution_count": null,
   "id": "0aabcf41",
   "metadata": {},
   "outputs": [],
   "source": []
  }
 ],
 "metadata": {
  "kernelspec": {
   "display_name": "Python 3 (ipykernel)",
   "language": "python",
   "name": "python3"
  },
  "language_info": {
   "codemirror_mode": {
    "name": "ipython",
    "version": 3
   },
   "file_extension": ".py",
   "mimetype": "text/x-python",
   "name": "python",
   "nbconvert_exporter": "python",
   "pygments_lexer": "ipython3",
   "version": "3.9.12"
  }
 },
 "nbformat": 4,
 "nbformat_minor": 5
}
