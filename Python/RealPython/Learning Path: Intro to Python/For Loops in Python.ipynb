{
 "cells": [
  {
   "cell_type": "markdown",
   "id": "9ef67fba",
   "metadata": {},
   "source": [
    "# For Loops in Python\n",
    "****\n",
    "1) For Loop paradigm  \n",
    "2) Iterables and Iterators  \n",
    "3) For Loops in Python  \n",
    "4) Range, Break, and Continue\n",
    "\n",
    "`for <sequence>:  \n",
    "    <loop body>`\n",
    "    \n",
    "Three types of definate iteration:\n",
    "1) Numeric Range Loop  \n",
    "+ `for i = 1 to 10'  \n",
    "+ i increments by 1 each iteration\n",
    "\n",
    "2) Three Expression Loop\n",
    "+ `for (i = 1; i <= 10; i++)`\n",
    "+ contains the initial value, value that must true, and the increment or decrement\n",
    "\n",
    "3) Collection based loop\n",
    "+ i takes it value from the next value in the collection\n",
    "+ `for i in <collection>:  \n",
    "        <Statement>`\n",
    "+ Python uses this type\n"
   ]
  },
  {
   "cell_type": "code",
   "execution_count": 1,
   "id": "62cf702c",
   "metadata": {},
   "outputs": [
    {
     "name": "stdout",
     "output_type": "stream",
     "text": [
      "foo\n",
      "bar\n",
      "bax\n"
     ]
    }
   ],
   "source": [
    "a = ['foo','bar', 'bax']\n",
    "\n",
    "for i in a:\n",
    "    print(i)"
   ]
  },
  {
   "cell_type": "raw",
   "id": "a720f07b",
   "metadata": {},
   "source": [
    "Iteration over a string"
   ]
  },
  {
   "cell_type": "code",
   "execution_count": null,
   "id": "1cb11a73",
   "metadata": {},
   "outputs": [],
   "source": [
    "s = "
   ]
  }
 ],
 "metadata": {
  "kernelspec": {
   "display_name": "Python 3 (ipykernel)",
   "language": "python",
   "name": "python3"
  },
  "language_info": {
   "codemirror_mode": {
    "name": "ipython",
    "version": 3
   },
   "file_extension": ".py",
   "mimetype": "text/x-python",
   "name": "python",
   "nbconvert_exporter": "python",
   "pygments_lexer": "ipython3",
   "version": "3.9.12"
  }
 },
 "nbformat": 4,
 "nbformat_minor": 5
}
