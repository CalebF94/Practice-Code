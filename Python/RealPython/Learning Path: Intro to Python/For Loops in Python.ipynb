{
 "cells": [
  {
   "cell_type": "markdown",
   "id": "9ef67fba",
   "metadata": {},
   "source": [
    "# For Loops in Python\n",
    "****\n",
    "1) For Loop paradigm  \n",
    "2) Iterables and Iterators  \n",
    "3) For Loops in Python  \n",
    "4) Range, Break, and Continue\n",
    "\n",
    "`for <sequence>:  \n",
    "    <loop body>`\n",
    "    \n",
    "Three types of definate iteration:\n",
    "1) Numeric Range Loop  \n",
    "+ `for i = 1 to 10'  \n",
    "+ i increments by 1 each iteration\n",
    "\n",
    "2) Three Expression Loop\n",
    "+ `for (i = 1; i <= 10; i++)`\n",
    "+ contains the initial value, value that must true, and the increment or decrement\n",
    "\n",
    "3) Collection based loop\n",
    "+ i takes it value from the next value in the collection\n",
    "+ `for i in <collection>:  \n",
    "        <Statement>`\n",
    "+ Python uses this type\n"
   ]
  },
  {
   "cell_type": "code",
   "execution_count": 1,
   "id": "62cf702c",
   "metadata": {},
   "outputs": [
    {
     "name": "stdout",
     "output_type": "stream",
     "text": [
      "foo\n",
      "bar\n",
      "bax\n"
     ]
    }
   ],
   "source": [
    "a = ['foo','bar', 'bax']\n",
    "\n",
    "for i in a:\n",
    "    print(i)"
   ]
  },
  {
   "cell_type": "raw",
   "id": "a720f07b",
   "metadata": {},
   "source": [
    "Iteration over a string"
   ]
  },
  {
   "cell_type": "code",
   "execution_count": 1,
   "id": "1cb11a73",
   "metadata": {},
   "outputs": [
    {
     "name": "stdout",
     "output_type": "stream",
     "text": [
      "h\n",
      "e\n",
      "l\n",
      "l\n",
      "o\n",
      " \n",
      "w\n",
      "o\n",
      "r\n",
      "l\n",
      "d\n"
     ]
    }
   ],
   "source": [
    "s = 'hello world'\n",
    "\n",
    "for letter in s:\n",
    "    print(letter)"
   ]
  },
  {
   "cell_type": "markdown",
   "id": "737fddbc",
   "metadata": {},
   "source": [
    "Looping over tuple"
   ]
  },
  {
   "cell_type": "code",
   "execution_count": 2,
   "id": "3405f069",
   "metadata": {},
   "outputs": [
    {
     "name": "stdout",
     "output_type": "stream",
     "text": [
      "Foo\n",
      "bar\n",
      "baz\n"
     ]
    }
   ],
   "source": [
    "a = ('Foo', 'bar', 'baz')\n",
    "\n",
    "for word in a:\n",
    "    print(word)"
   ]
  },
  {
   "cell_type": "markdown",
   "id": "5a2dc708",
   "metadata": {},
   "source": [
    "Looping over a set"
   ]
  },
  {
   "cell_type": "code",
   "execution_count": 4,
   "id": "e92fc4ab",
   "metadata": {},
   "outputs": [
    {
     "name": "stdout",
     "output_type": "stream",
     "text": [
      "Foo\n",
      "baz\n",
      "bar\n"
     ]
    }
   ],
   "source": [
    "a = {'Foo', 'bar', 'baz'}\n",
    "\n",
    "for word in a:\n",
    "    print(word)"
   ]
  },
  {
   "cell_type": "markdown",
   "id": "1fc9170f",
   "metadata": {},
   "source": [
    "Looping over a dict\n",
    "\n",
    "Notice it prints the keys and not the values"
   ]
  },
  {
   "cell_type": "code",
   "execution_count": 5,
   "id": "3bc87354",
   "metadata": {},
   "outputs": [
    {
     "name": "stdout",
     "output_type": "stream",
     "text": [
      "Foo\n",
      "bar\n",
      "baz\n"
     ]
    }
   ],
   "source": [
    "a = {'Foo': 1, 'bar': 2, 'baz': 3}\n",
    "\n",
    "for word in a:\n",
    "    print(word)"
   ]
  },
  {
   "cell_type": "markdown",
   "id": "2b3d4cce",
   "metadata": {},
   "source": [
    "Not all objects can be iterated over.\n",
    "\n",
    "Ints, Floats, functions can't be iterated"
   ]
  },
  {
   "cell_type": "code",
   "execution_count": 7,
   "id": "06bc2ecb",
   "metadata": {},
   "outputs": [
    {
     "ename": "TypeError",
     "evalue": "'int' object is not iterable",
     "output_type": "error",
     "traceback": [
      "\u001b[1;31m---------------------------------------------------------------------------\u001b[0m",
      "\u001b[1;31mTypeError\u001b[0m                                 Traceback (most recent call last)",
      "Input \u001b[1;32mIn [7]\u001b[0m, in \u001b[0;36m<cell line: 2>\u001b[1;34m()\u001b[0m\n\u001b[0;32m      1\u001b[0m a \u001b[38;5;241m=\u001b[39m \u001b[38;5;241m2\u001b[39m\n\u001b[1;32m----> 2\u001b[0m \u001b[38;5;28;01mfor\u001b[39;00m word \u001b[38;5;129;01min\u001b[39;00m a:\n\u001b[0;32m      3\u001b[0m     \u001b[38;5;28mprint\u001b[39m(word)\n",
      "\u001b[1;31mTypeError\u001b[0m: 'int' object is not iterable"
     ]
    }
   ],
   "source": [
    "a = 2\n",
    "for word in a:\n",
    "    print(word)"
   ]
  },
  {
   "cell_type": "markdown",
   "id": "28da49bc",
   "metadata": {},
   "source": [
    "## What are Iterators\n"
   ]
  },
  {
   "cell_type": "code",
   "execution_count": 9,
   "id": "40a098d6",
   "metadata": {},
   "outputs": [
    {
     "data": {
      "text/plain": [
       "<list_iterator at 0x1f87acbb130>"
      ]
     },
     "execution_count": 9,
     "metadata": {},
     "output_type": "execute_result"
    }
   ],
   "source": [
    "a = ['foo', 'bar', 'baz']\n",
    "itr = iter(a)\n",
    "itr"
   ]
  },
  {
   "cell_type": "markdown",
   "id": "08478399",
   "metadata": {},
   "source": [
    "Use the `next()` function to go through and iterator"
   ]
  },
  {
   "cell_type": "code",
   "execution_count": 11,
   "id": "18a998b7",
   "metadata": {},
   "outputs": [
    {
     "data": {
      "text/plain": [
       "'foo'"
      ]
     },
     "execution_count": 11,
     "metadata": {},
     "output_type": "execute_result"
    }
   ],
   "source": [
    "next(itr)"
   ]
  },
  {
   "cell_type": "code",
   "execution_count": 12,
   "id": "bcc1358b",
   "metadata": {},
   "outputs": [
    {
     "data": {
      "text/plain": [
       "'bar'"
      ]
     },
     "execution_count": 12,
     "metadata": {},
     "output_type": "execute_result"
    }
   ],
   "source": [
    "next(itr)"
   ]
  },
  {
   "cell_type": "code",
   "execution_count": 13,
   "id": "65b94d30",
   "metadata": {},
   "outputs": [
    {
     "data": {
      "text/plain": [
       "'baz'"
      ]
     },
     "execution_count": 13,
     "metadata": {},
     "output_type": "execute_result"
    }
   ],
   "source": [
    "next(itr)"
   ]
  },
  {
   "cell_type": "code",
   "execution_count": 14,
   "id": "67f0f2a4",
   "metadata": {},
   "outputs": [
    {
     "ename": "StopIteration",
     "evalue": "",
     "output_type": "error",
     "traceback": [
      "\u001b[1;31m---------------------------------------------------------------------------\u001b[0m",
      "\u001b[1;31mStopIteration\u001b[0m                             Traceback (most recent call last)",
      "Input \u001b[1;32mIn [14]\u001b[0m, in \u001b[0;36m<cell line: 1>\u001b[1;34m()\u001b[0m\n\u001b[1;32m----> 1\u001b[0m \u001b[38;5;28;43mnext\u001b[39;49m\u001b[43m(\u001b[49m\u001b[43mitr\u001b[49m\u001b[43m)\u001b[49m\n",
      "\u001b[1;31mStopIteration\u001b[0m: "
     ]
    }
   ],
   "source": [
    "next(itr)"
   ]
  },
  {
   "cell_type": "markdown",
   "id": "c08b7f54",
   "metadata": {},
   "source": [
    "It can be useful to make a list of the elements inside an iterator"
   ]
  },
  {
   "cell_type": "code",
   "execution_count": 15,
   "id": "199a2308",
   "metadata": {},
   "outputs": [
    {
     "data": {
      "text/plain": [
       "['foo', 'bar', 'baz']"
      ]
     },
     "execution_count": 15,
     "metadata": {},
     "output_type": "execute_result"
    }
   ],
   "source": [
    "a = ['foo', 'bar', 'baz']\n",
    "itr = iter(a)\n",
    "list(itr)"
   ]
  },
  {
   "cell_type": "markdown",
   "id": "42e4f0b2",
   "metadata": {},
   "source": [
    "Back to the dictionary example. \n",
    "\n",
    "Notice how the loop only prints the keys"
   ]
  },
  {
   "cell_type": "code",
   "execution_count": 18,
   "id": "a048e2a7",
   "metadata": {},
   "outputs": [
    {
     "name": "stdout",
     "output_type": "stream",
     "text": [
      "foo\n",
      "bar\n",
      "baz\n"
     ]
    }
   ],
   "source": [
    "a = {'foo': 1, 'bar': 2, 'baz':3}\n",
    "for key in a:\n",
    "    print(key)"
   ]
  },
  {
   "cell_type": "markdown",
   "id": "ecc12f83",
   "metadata": {},
   "source": [
    "We can print the values by using the `.values()` method"
   ]
  },
  {
   "cell_type": "code",
   "execution_count": 22,
   "id": "2592d1bb",
   "metadata": {},
   "outputs": [
    {
     "name": "stdout",
     "output_type": "stream",
     "text": [
      "1\n",
      "2\n",
      "3\n"
     ]
    }
   ],
   "source": [
    "a = {'foo': 1, 'bar': 2, 'baz':3}\n",
    "for key in a.values():\n",
    "    print(key)"
   ]
  },
  {
   "cell_type": "markdown",
   "id": "ce3a7144",
   "metadata": {},
   "source": [
    "What if we want to look at both the keys and values....we use the `.items()` method"
   ]
  },
  {
   "cell_type": "code",
   "execution_count": 24,
   "id": "c3d4bbf9",
   "metadata": {},
   "outputs": [
    {
     "name": "stdout",
     "output_type": "stream",
     "text": [
      "k = foo, v = 1\n",
      "k = bar, v = 2\n",
      "k = baz, v = 3\n"
     ]
    }
   ],
   "source": [
    "a = {'foo': 1, 'bar': 2, 'baz':3}\n",
    "for k, v in a.items():\n",
    "    print(f'k = {k}, v = {v}')"
   ]
  },
  {
   "cell_type": "markdown",
   "id": "e2593c2d",
   "metadata": {},
   "source": [
    "### Iterating over a range of numbers"
   ]
  },
  {
   "cell_type": "code",
   "execution_count": 25,
   "id": "298bea34",
   "metadata": {},
   "outputs": [
    {
     "name": "stdout",
     "output_type": "stream",
     "text": [
      "1\n",
      "2\n",
      "3\n",
      "4\n",
      "5\n"
     ]
    }
   ],
   "source": [
    "a = [1,2,3,4,5]\n",
    "for i in a:\n",
    "    print(i)"
   ]
  },
  {
   "cell_type": "markdown",
   "id": "67a36db9",
   "metadata": {},
   "source": [
    "What if you need a large number of values?... Use the `range()` function"
   ]
  },
  {
   "cell_type": "code",
   "execution_count": 26,
   "id": "3711cf77",
   "metadata": {},
   "outputs": [
    {
     "name": "stdout",
     "output_type": "stream",
     "text": [
      "0\n",
      "1\n",
      "2\n",
      "3\n",
      "4\n",
      "5\n",
      "6\n",
      "7\n",
      "8\n",
      "9\n",
      "10\n",
      "11\n",
      "12\n",
      "13\n",
      "14\n",
      "15\n",
      "16\n",
      "17\n",
      "18\n",
      "19\n"
     ]
    }
   ],
   "source": [
    "a = range(20)\n",
    "for i in a:\n",
    "    print(i)\n"
   ]
  },
  {
   "cell_type": "markdown",
   "id": "92388fe1",
   "metadata": {},
   "source": [
    "range(start, stop, step) where stop is not included"
   ]
  },
  {
   "cell_type": "code",
   "execution_count": 28,
   "id": "f7507696",
   "metadata": {},
   "outputs": [
    {
     "name": "stdout",
     "output_type": "stream",
     "text": [
      "0\n",
      "5\n",
      "10\n",
      "15\n",
      "20\n",
      "25\n",
      "30\n",
      "35\n",
      "40\n",
      "45\n",
      "50\n",
      "55\n",
      "60\n",
      "65\n",
      "70\n",
      "75\n",
      "80\n",
      "85\n",
      "90\n",
      "95\n",
      "100\n"
     ]
    }
   ],
   "source": [
    "a = range(0, 103, 5)\n",
    "for i in a:\n",
    "    print(i)"
   ]
  },
  {
   "cell_type": "markdown",
   "id": "f8ab0722",
   "metadata": {},
   "source": [
    "### Break and Continue statements in a for Loop\n",
    "\n",
    "`break` works similar to how it works in a `while` loop. The loop terminates."
   ]
  },
  {
   "cell_type": "code",
   "execution_count": 33,
   "id": "379bfa1a",
   "metadata": {},
   "outputs": [
    {
     "name": "stdout",
     "output_type": "stream",
     "text": [
      "foo\n"
     ]
    }
   ],
   "source": [
    "a = ['foo', 'bar', 'baz', 'qux']\n",
    "\n",
    "for i in a:\n",
    "    if 'b' in i:\n",
    "        break\n",
    "    print(i)"
   ]
  },
  {
   "cell_type": "markdown",
   "id": "e9ae4fa7",
   "metadata": {},
   "source": [
    "Likewise. `continue` will stop the current iteration"
   ]
  },
  {
   "cell_type": "code",
   "execution_count": 34,
   "id": "cbc5b035",
   "metadata": {},
   "outputs": [
    {
     "name": "stdout",
     "output_type": "stream",
     "text": [
      "foo\n",
      "qux\n"
     ]
    }
   ],
   "source": [
    "a = ['foo', 'bar', 'baz', 'qux']\n",
    "\n",
    "for i in a:\n",
    "    if 'b' in i:\n",
    "        continue\n",
    "    print(i)"
   ]
  },
  {
   "cell_type": "markdown",
   "id": "2241b42f",
   "metadata": {},
   "source": [
    "For loops also have an else clause. The else clause only executes if the loop terminates do to exhaustion and not a break clause."
   ]
  },
  {
   "cell_type": "code",
   "execution_count": 37,
   "id": "e8ae8e74",
   "metadata": {},
   "outputs": [
    {
     "name": "stdout",
     "output_type": "stream",
     "text": [
      "foo\n",
      "qux\n",
      "done\n"
     ]
    }
   ],
   "source": [
    "a = ['foo', 'bar', 'baz', 'qux']\n",
    "\n",
    "for i in a:\n",
    "    if 'b' in i:\n",
    "        continue\n",
    "    print(i)\n",
    "else:\n",
    "    print('done')"
   ]
  },
  {
   "cell_type": "code",
   "execution_count": 38,
   "id": "acb64155",
   "metadata": {},
   "outputs": [
    {
     "name": "stdout",
     "output_type": "stream",
     "text": [
      "foo\n"
     ]
    }
   ],
   "source": [
    "a = ['foo', 'bar', 'baz', 'qux']\n",
    "\n",
    "for i in a:\n",
    "    if 'b' in i:\n",
    "        break\n",
    "    print(i)\n",
    "else:\n",
    "    print('done')"
   ]
  },
  {
   "cell_type": "code",
   "execution_count": 41,
   "id": "8d9b0a76",
   "metadata": {},
   "outputs": [
    {
     "name": "stdout",
     "output_type": "stream",
     "text": [
      "<list_iterator object at 0x000001F87BFCB910>\n",
      "foo\n",
      "<list_iterator object at 0x000001F87BFE7820>\n",
      "bar\n",
      "<list_iterator object at 0x000001F87BFE7820>\n",
      "baz\n",
      "<list_iterator object at 0x000001F87BFE7820>\n"
     ]
    }
   ],
   "source": [
    "a = ['foo', 'bar', 'baz']\n",
    "\n",
    "itr = iter(a)\n",
    "itr2 = iter(a)\n",
    "\n",
    "print(itr2)\n",
    "\n",
    "print(next(itr))\n",
    "print(itr)\n",
    "\n",
    "print(next(itr))\n",
    "print(itr)\n",
    "\n",
    "print(next(itr))\n",
    "print(itr)\n"
   ]
  },
  {
   "cell_type": "code",
   "execution_count": 43,
   "id": "0f1e846b",
   "metadata": {},
   "outputs": [
    {
     "data": {
      "text/plain": [
       "[5, 4, 3, 2, 1, 0, -1, -2, -3, -4]"
      ]
     },
     "execution_count": 43,
     "metadata": {},
     "output_type": "execute_result"
    }
   ],
   "source": [
    "list(range(5, -5, -1))"
   ]
  },
  {
   "cell_type": "code",
   "execution_count": null,
   "id": "c9badf00",
   "metadata": {},
   "outputs": [],
   "source": []
  }
 ],
 "metadata": {
  "kernelspec": {
   "display_name": "Python 3 (ipykernel)",
   "language": "python",
   "name": "python3"
  },
  "language_info": {
   "codemirror_mode": {
    "name": "ipython",
    "version": 3
   },
   "file_extension": ".py",
   "mimetype": "text/x-python",
   "name": "python",
   "nbconvert_exporter": "python",
   "pygments_lexer": "ipython3",
   "version": "3.9.12"
  }
 },
 "nbformat": 4,
 "nbformat_minor": 5
}
