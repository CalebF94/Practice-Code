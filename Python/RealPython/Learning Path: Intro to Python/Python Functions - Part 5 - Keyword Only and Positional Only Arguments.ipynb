{
 "cells": [
  {
   "cell_type": "markdown",
   "id": "637c6a72",
   "metadata": {},
   "source": [
    "# Python Functions: Keyword Only and Positional Only Arguments\n",
    "\n",
    "### Keyword Only Arguments\n",
    "+ You can specify a parameter can only be supplied using a keyword argument  \n",
    "+ Commonly used when you have a function with a variable number of positional arguments (collected in `*args`) but other parameters with specific purposes.\n",
    "\n"
   ]
  },
  {
   "cell_type": "code",
   "execution_count": 2,
   "id": "d0beddb0",
   "metadata": {},
   "outputs": [
    {
     "name": "stdout",
     "output_type": "stream",
     "text": [
      "-> a.b.c\n"
     ]
    }
   ],
   "source": [
    "def concat(*args):\n",
    "    print(f\"-> {'.'.join(args)}\")\n",
    "    \n",
    "concat('a', 'b', 'c')"
   ]
  },
  {
   "cell_type": "markdown",
   "id": "63bf0d66",
   "metadata": {},
   "source": [
    "What if the user wants to replace the '->'?\n",
    "\n",
    "A reasonable attempt would be to add a `prefix` parameter"
   ]
  },
  {
   "cell_type": "code",
   "execution_count": 9,
   "id": "b96cf467",
   "metadata": {},
   "outputs": [
    {
     "name": "stdout",
     "output_type": "stream",
     "text": [
      "- a.b.c\n"
     ]
    }
   ],
   "source": [
    "def concat(prefix='->', *args):\n",
    "    print(f\"{prefix} {'.'.join(args)}\")\n",
    "    \n",
    "concat('-', 'a','b','c')"
   ]
  },
  {
   "cell_type": "markdown",
   "id": "fb160d26",
   "metadata": {},
   "source": [
    "The problem with this version is that the prefix is no longer optional. We have to include a value. What if we include a default value to prefix?  \n",
    "\n",
    "Then we still don't get the expected value."
   ]
  },
  {
   "cell_type": "code",
   "execution_count": 11,
   "id": "6f1fc387",
   "metadata": {},
   "outputs": [
    {
     "name": "stdout",
     "output_type": "stream",
     "text": [
      "a b.c\n"
     ]
    }
   ],
   "source": [
    "def concat(prefix='->', *args):\n",
    "    print(f\"{prefix} {'.'.join(args)}\")\n",
    "    \n",
    "concat('a','b','c')"
   ]
  },
  {
   "cell_type": "markdown",
   "id": "46a2fea4",
   "metadata": {},
   "source": [
    "To get the expected behavior that prefix argument doesn't have to be included in function call unless we want to change it with the requirement that the user has to explicitly say they are changeing it we need to have the prefix parameter last in our function definition."
   ]
  },
  {
   "cell_type": "code",
   "execution_count": 14,
   "id": "59fe014d",
   "metadata": {},
   "outputs": [
    {
     "name": "stdout",
     "output_type": "stream",
     "text": [
      "-> a.b.c\n",
      "- a.b.c\n"
     ]
    }
   ],
   "source": [
    "def concat(*args, prefix='->'):\n",
    "    print(f'{prefix} {\".\".join(args)}')\n",
    "    \n",
    "concat('a', 'b', 'c')\n",
    "\n",
    "concat('a', 'b', 'c', prefix='-')"
   ]
  },
  {
   "cell_type": "markdown",
   "id": "d5d8a56c",
   "metadata": {},
   "source": [
    "What if we only want to create a function that only uses a specific number of parameters, but we still want the function to run if the user provides other superfluous arguments. One attempt could be to add a `*ignore` parameter that gathers all other values."
   ]
  },
  {
   "cell_type": "code",
   "execution_count": 15,
   "id": "498eb495",
   "metadata": {},
   "outputs": [],
   "source": [
    "def oper(x, y, *ignore, op='+'):\n",
    "    if op == '+':\n",
    "        return x + y\n",
    "    elif op == '-':\n",
    "        return x - y\n",
    "    elif op == '/':\n",
    "        return x / y\n",
    "    else:\n",
    "        return None\n",
    "    "
   ]
  },
  {
   "cell_type": "markdown",
   "id": "d486c6a6",
   "metadata": {},
   "source": [
    "This works in most cases but also has some wierd fringe cases. For example:"
   ]
  },
  {
   "cell_type": "code",
   "execution_count": 16,
   "id": "3bfc6560",
   "metadata": {},
   "outputs": [
    {
     "data": {
      "text/plain": [
       "7"
      ]
     },
     "execution_count": 16,
     "metadata": {},
     "output_type": "execute_result"
    }
   ],
   "source": [
    "oper(3, 4, '/')"
   ]
  },
  {
   "cell_type": "markdown",
   "id": "8aa56561",
   "metadata": {},
   "source": [
    "The way around this is to create a positional `*` argument. This is called a *bare variable argument parameter*. Now the function causes an exception if the user tries to add a third unnamed positional parameter, but works if the keyword parameter is left off"
   ]
  },
  {
   "cell_type": "code",
   "execution_count": 18,
   "id": "9e4f8d7f",
   "metadata": {},
   "outputs": [
    {
     "data": {
      "text/plain": [
       "0.75"
      ]
     },
     "execution_count": 18,
     "metadata": {},
     "output_type": "execute_result"
    }
   ],
   "source": [
    "def oper(x, y, *, op='+'):\n",
    "    if op == '+':\n",
    "        return x + y\n",
    "    elif op == '-':\n",
    "        return x - y\n",
    "    elif op == '/':\n",
    "        return x / y\n",
    "    else:\n",
    "        return None\n",
    "    \n",
    "    \n",
    "oper(3,4, op='/' )"
   ]
  },
  {
   "cell_type": "code",
   "execution_count": 19,
   "id": "16e158a1",
   "metadata": {},
   "outputs": [
    {
     "data": {
      "text/plain": [
       "7"
      ]
     },
     "execution_count": 19,
     "metadata": {},
     "output_type": "execute_result"
    }
   ],
   "source": [
    "oper(3,4)"
   ]
  },
  {
   "cell_type": "markdown",
   "id": "8c348fd0",
   "metadata": {},
   "source": [
    " ### Positional Only Arguments\n",
    " As of Python 3.8, you can also specify that some parameters can only be supplied arguments positionally. All that is needed is a bare `/` after the parameters to be positional only."
   ]
  },
  {
   "cell_type": "code",
   "execution_count": 21,
   "id": "f5e22b6e",
   "metadata": {},
   "outputs": [],
   "source": [
    "def f(x, y, /, z):\n",
    "    print(f'x -> {x}')\n",
    "    print(f'y -> {y}')\n",
    "    print(f'z -> {z}')"
   ]
  },
  {
   "cell_type": "markdown",
   "id": "3d4e53e0",
   "metadata": {},
   "source": [
    "This will force x and y to be positional only, but z can be supplied by keyword or positional"
   ]
  },
  {
   "cell_type": "code",
   "execution_count": 26,
   "id": "0072f406",
   "metadata": {},
   "outputs": [
    {
     "name": "stdout",
     "output_type": "stream",
     "text": [
      "x -> 1\n",
      "y -> 2\n",
      "z -> 3\n",
      "x -> 1\n",
      "y -> 2\n",
      "z -> 4\n"
     ]
    }
   ],
   "source": [
    "f(1, 2, 3)\n",
    "f(1, 2, z=4)"
   ]
  },
  {
   "cell_type": "markdown",
   "id": "f1735194",
   "metadata": {},
   "source": [
    "But you can't supply x and y using keywords"
   ]
  },
  {
   "cell_type": "code",
   "execution_count": 28,
   "id": "42882f1d",
   "metadata": {},
   "outputs": [
    {
     "ename": "TypeError",
     "evalue": "f() got some positional-only arguments passed as keyword arguments: 'x, y'",
     "output_type": "error",
     "traceback": [
      "\u001b[1;31m---------------------------------------------------------------------------\u001b[0m",
      "\u001b[1;31mTypeError\u001b[0m                                 Traceback (most recent call last)",
      "Input \u001b[1;32mIn [28]\u001b[0m, in \u001b[0;36m<cell line: 1>\u001b[1;34m()\u001b[0m\n\u001b[1;32m----> 1\u001b[0m \u001b[43mf\u001b[49m\u001b[43m(\u001b[49m\u001b[43mx\u001b[49m\u001b[38;5;241;43m=\u001b[39;49m\u001b[38;5;241;43m1\u001b[39;49m\u001b[43m,\u001b[49m\u001b[43m \u001b[49m\u001b[43my\u001b[49m\u001b[38;5;241;43m=\u001b[39;49m\u001b[38;5;241;43m2\u001b[39;49m\u001b[43m,\u001b[49m\u001b[43m \u001b[49m\u001b[43mz\u001b[49m\u001b[38;5;241;43m=\u001b[39;49m\u001b[38;5;241;43m3\u001b[39;49m\u001b[43m)\u001b[49m\n",
      "\u001b[1;31mTypeError\u001b[0m: f() got some positional-only arguments passed as keyword arguments: 'x, y'"
     ]
    }
   ],
   "source": [
    "f(x=1, y=2, z=3)"
   ]
  },
  {
   "cell_type": "markdown",
   "id": "46a0568e",
   "metadata": {},
   "source": [
    "You also have the ability to mix positional only arguments and keyword only arguments:\n",
    "+ THe parameters need to be ordered in a specific order:    \n",
    "1) required positional arguments  \n",
    "2) followed by a bare slash (means the following aren't positional only)  \n",
    "3) arguments that can be positional or keyword   \n",
    "4) followed by * (means the following must be provided by a keyword \n",
    "\n",
    "In the following function:  \n",
    "+ `x` and `y` must be provided positionally\n",
    "+ `a` and `b` must be provided using their keywords  \n",
    "+ `z` and `w` can be provided either way"
   ]
  },
  {
   "cell_type": "code",
   "execution_count": 30,
   "id": "1778855d",
   "metadata": {},
   "outputs": [
    {
     "name": "stdout",
     "output_type": "stream",
     "text": [
      "1 2 3 4 5 6\n"
     ]
    }
   ],
   "source": [
    "def g(x, y, /, z, w, *, a, b):\n",
    "    print(x, y, z, w, a, b)\n",
    "    \n",
    "g(1, 2, 3, 4, a=5, b=6)"
   ]
  },
  {
   "cell_type": "markdown",
   "id": "288dfd50",
   "metadata": {},
   "source": []
  }
 ],
 "metadata": {
  "kernelspec": {
   "display_name": "Python 3 (ipykernel)",
   "language": "python",
   "name": "python3"
  },
  "language_info": {
   "codemirror_mode": {
    "name": "ipython",
    "version": 3
   },
   "file_extension": ".py",
   "mimetype": "text/x-python",
   "name": "python",
   "nbconvert_exporter": "python",
   "pygments_lexer": "ipython3",
   "version": "3.9.12"
  }
 },
 "nbformat": 4,
 "nbformat_minor": 5
}
