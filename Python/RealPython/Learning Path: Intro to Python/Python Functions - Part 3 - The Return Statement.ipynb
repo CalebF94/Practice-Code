{
 "cells": [
  {
   "cell_type": "markdown",
   "id": "bd608911",
   "metadata": {},
   "source": [
    "# Python Functions: The `return` Statement\n",
    "\n",
    "The return statement does two things:  \n",
    "1) Immediately terminates the function and passes execution control back to the caller  \n",
    "2) Provides a mechanism by which the function can pass data back to the caller\n",
    "\n",
    "### Exiting a Function\n",
    "The `return` statement indicates where the function should stop. Typically there aren't statements after a return. If there isn't a value to return we may leave `return` out. \n",
    "\n",
    "Sometimes you may want to exit the function based on some kind of test.\n",
    "\n",
    "### Returning Data to the Caller\n",
    "If a return statement is followed by expression, the function call evaluates to the value of that expression."
   ]
  },
  {
   "cell_type": "code",
   "execution_count": 2,
   "id": "6b023a03",
   "metadata": {},
   "outputs": [
    {
     "data": {
      "text/plain": [
       "'foo'"
      ]
     },
     "execution_count": 2,
     "metadata": {},
     "output_type": "execute_result"
    }
   ],
   "source": [
    "def f():\n",
    "    return 'foo'\n",
    "\n",
    "s = f()\n",
    "s"
   ]
  },
  {
   "cell_type": "code",
   "execution_count": 3,
   "id": "9dda85fc",
   "metadata": {},
   "outputs": [],
   "source": [
    "def f():\n",
    "    return 10\n",
    "\n",
    "s = f()\n"
   ]
  },
  {
   "cell_type": "code",
   "execution_count": 4,
   "id": "28cc8999",
   "metadata": {},
   "outputs": [
    {
     "data": {
      "text/plain": [
       "{'foo': 1, 'bar': 2, 'baz': 3}"
      ]
     },
     "execution_count": 4,
     "metadata": {},
     "output_type": "execute_result"
    }
   ],
   "source": [
    "def f():\n",
    "    return dict(foo=1, bar=2, baz=3)\n",
    "\n",
    "f()"
   ]
  },
  {
   "cell_type": "code",
   "execution_count": 5,
   "id": "c0a27e85",
   "metadata": {},
   "outputs": [
    {
     "data": {
      "text/plain": [
       "3"
      ]
     },
     "execution_count": 5,
     "metadata": {},
     "output_type": "execute_result"
    }
   ],
   "source": [
    "f()['baz']"
   ]
  },
  {
   "cell_type": "code",
   "execution_count": 6,
   "id": "9c6ffc90",
   "metadata": {},
   "outputs": [
    {
     "data": {
      "text/plain": [
       "dict"
      ]
     },
     "execution_count": 6,
     "metadata": {},
     "output_type": "execute_result"
    }
   ],
   "source": [
    "type(f())"
   ]
  },
  {
   "cell_type": "code",
   "execution_count": 7,
   "id": "2675cc62",
   "metadata": {},
   "outputs": [
    {
     "data": {
      "text/plain": [
       "function"
      ]
     },
     "execution_count": 7,
     "metadata": {},
     "output_type": "execute_result"
    }
   ],
   "source": [
    "type(f)"
   ]
  },
  {
   "cell_type": "markdown",
   "id": "b4278fd9",
   "metadata": {},
   "source": [
    "If you want to return multiple values, simply separate them with commas and the function will automatically return the values as a tuple"
   ]
  },
  {
   "cell_type": "code",
   "execution_count": 9,
   "id": "5bb66d6c",
   "metadata": {},
   "outputs": [
    {
     "data": {
      "text/plain": [
       "('foo', 'bar')"
      ]
     },
     "execution_count": 9,
     "metadata": {},
     "output_type": "execute_result"
    }
   ],
   "source": [
    "def f():\n",
    "    return 'foo', 'bar'\n",
    "\n",
    "f()"
   ]
  },
  {
   "cell_type": "markdown",
   "id": "0c7920b9",
   "metadata": {},
   "source": [
    "If the `return` statement isn't followed by an expression or the `return` statement is left off the function returns `None`"
   ]
  },
  {
   "cell_type": "code",
   "execution_count": 11,
   "id": "2585c2f8",
   "metadata": {},
   "outputs": [
    {
     "name": "stdout",
     "output_type": "stream",
     "text": [
      "None\n"
     ]
    }
   ],
   "source": [
    "def g():\n",
    "    pass\n",
    "\n",
    "print(g())"
   ]
  },
  {
   "cell_type": "markdown",
   "id": "09e9437e",
   "metadata": {},
   "source": [
    "### Revisiting Side Effects: How variables are or aren't modified\n",
    "\n",
    "SUppose you want to write a function that takes a number and doubles it. Python doesn't have pass by reference so we can't directly modify an object in a function. We would have to apply a function that returns the modified value and reassign that back to the object\n",
    "\n"
   ]
  },
  {
   "cell_type": "code",
   "execution_count": 12,
   "id": "c0572b7c",
   "metadata": {},
   "outputs": [
    {
     "data": {
      "text/plain": [
       "10"
      ]
     },
     "execution_count": 12,
     "metadata": {},
     "output_type": "execute_result"
    }
   ],
   "source": [
    "def doubler(x):\n",
    "    return 2 * x\n",
    "\n",
    "x = 5\n",
    "\n",
    "x = doubler(x)\n",
    "x"
   ]
  },
  {
   "cell_type": "markdown",
   "id": "e0712eac",
   "metadata": {},
   "source": [
    "What about mutable objects? Python functions can directly modify mutable objects such as lists."
   ]
  },
  {
   "cell_type": "code",
   "execution_count": 16,
   "id": "edfb9a21",
   "metadata": {},
   "outputs": [
    {
     "data": {
      "text/plain": [
       "[2, 4, 6]"
      ]
     },
     "execution_count": 16,
     "metadata": {},
     "output_type": "execute_result"
    }
   ],
   "source": [
    "def double_list1(x):\n",
    "    for i, item in enumerate(x):\n",
    "        x[i] *= 2\n",
    "        \n",
    "my_list = [1,2,3]\n",
    "double_list1(my_list)\n",
    "my_list"
   ]
  },
  {
   "cell_type": "markdown",
   "id": "16a98d41",
   "metadata": {},
   "source": [
    "What if we want to replicate the manner in which python acts on immutable objects for a mutable object. We want the list doubler to mimic the integer doubler. We would prefer our function to create a new list where each item is doubled, and then we return the new list"
   ]
  },
  {
   "cell_type": "code",
   "execution_count": 22,
   "id": "015de942",
   "metadata": {},
   "outputs": [
    {
     "name": "stdout",
     "output_type": "stream",
     "text": [
      "[1, 2, 3]\n",
      "[2, 4, 6]\n",
      "[2, 4, 6]\n"
     ]
    }
   ],
   "source": [
    "def double_list2(x):\n",
    "    r = [item*2 for item in x]\n",
    "    return r\n",
    "   \n",
    "    \n",
    "a = [1,2,3]    \n",
    "b = double_list2(a)\n",
    "print(a)\n",
    "print(b)\n",
    "\n",
    "a = double_list2(a)\n",
    "print(a)"
   ]
  },
  {
   "cell_type": "code",
   "execution_count": null,
   "id": "8b004b5a",
   "metadata": {},
   "outputs": [],
   "source": []
  }
 ],
 "metadata": {
  "kernelspec": {
   "display_name": "Python 3 (ipykernel)",
   "language": "python",
   "name": "python3"
  },
  "language_info": {
   "codemirror_mode": {
    "name": "ipython",
    "version": 3
   },
   "file_extension": ".py",
   "mimetype": "text/x-python",
   "name": "python",
   "nbconvert_exporter": "python",
   "pygments_lexer": "ipython3",
   "version": "3.9.12"
  }
 },
 "nbformat": 4,
 "nbformat_minor": 5
}
