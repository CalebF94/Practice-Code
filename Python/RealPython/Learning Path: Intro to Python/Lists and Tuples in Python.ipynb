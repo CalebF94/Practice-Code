{
 "cells": [
  {
   "cell_type": "markdown",
   "id": "75defee4",
   "metadata": {},
   "source": [
    "# Lists and Tuples in Python\n",
    "What you'll learn:\n",
    "\n",
    "### Lists\n",
    "+ Collection of arbitrary objects\n",
    "+ Lists are ordered\n",
    "+ Elements accessed by index\n",
    "+ Can be nested to arbitrary lenth\n",
    "+ mutable and dynamic\n",
    "\n",
    "### Tuples\n",
    "Identical to lists in all respects, except\n",
    "+ defined differently\n",
    "+ immutable\n",
    "+ unpacking and packing"
   ]
  },
  {
   "cell_type": "markdown",
   "id": "57a04af0",
   "metadata": {},
   "source": [
    "## Lists - Ordered and Arbitrary\n",
    "+ order used when defining is maintained\n",
    "+ order makes list unique"
   ]
  },
  {
   "cell_type": "code",
   "execution_count": 1,
   "id": "00f325a4",
   "metadata": {},
   "outputs": [
    {
     "data": {
      "text/plain": [
       "False"
      ]
     },
     "execution_count": 1,
     "metadata": {},
     "output_type": "execute_result"
    }
   ],
   "source": [
    "a = [\"spam\", \"egg\", \"bacon\", \"tomato\"]\n",
    "b = [\"egg\", \"bacon\", \"tomato\", \"spam\"]\n",
    "a == b"
   ]
  },
  {
   "cell_type": "markdown",
   "id": "174cb428",
   "metadata": {},
   "source": [
    "Lists can contain arbitrary object \n",
    "\n",
    "List can even contain functions, or modules\n"
   ]
  },
  {
   "cell_type": "code",
   "execution_count": 2,
   "id": "21e0b803",
   "metadata": {},
   "outputs": [
    {
     "data": {
      "text/plain": [
       "list"
      ]
     },
     "execution_count": 2,
     "metadata": {},
     "output_type": "execute_result"
    }
   ],
   "source": [
    "a = [12.42, \"spam\", 3, 4, \"egg\", False, 3.141]\n",
    "type(a)"
   ]
  },
  {
   "cell_type": "markdown",
   "id": "b2b61760",
   "metadata": {},
   "source": [
    "A list can contain any number of objects\n",
    "\n",
    "A list with only a single object is known as a singleton list\n",
    "\n",
    "Objects within a list need not be unique\n"
   ]
  },
  {
   "cell_type": "markdown",
   "id": "c4a63d79",
   "metadata": {},
   "source": [
    "## Indexing and Slicing Lists\n",
    "+ individual elements can be accessed with an index `list[i]` \n",
    "+ indexes are zero based"
   ]
  },
  {
   "cell_type": "code",
   "execution_count": 3,
   "id": "2c191f4d",
   "metadata": {},
   "outputs": [
    {
     "name": "stdout",
     "output_type": "stream",
     "text": [
      "spam lobster\n"
     ]
    }
   ],
   "source": [
    "a = [\"spam\", \"egg\", \"bacon\", \"tomato\", \"ham\", \"lobster\"]\n",
    "print(a[0], a[-1])"
   ]
  },
  {
   "cell_type": "markdown",
   "id": "15b16781",
   "metadata": {},
   "source": [
    "To get a sublist `list[start index: end index]`; end index is not included\n",
    "\n",
    "Omitting first index starts slice at beginning of list `a[:n]`\n",
    "\n",
    "Omitting last index extends slice to end of list `a[m:]`\n",
    "\n",
    "Omitting both indexes `a[:]` returns a copy of the entire list; not a reference to the same object"
   ]
  },
  {
   "cell_type": "code",
   "execution_count": 4,
   "id": "3de6d2ba",
   "metadata": {},
   "outputs": [
    {
     "data": {
      "text/plain": [
       "['spam', 'egg', 'bacon', 'tomato']"
      ]
     },
     "execution_count": 4,
     "metadata": {},
     "output_type": "execute_result"
    }
   ],
   "source": [
    "a[0:4]"
   ]
  },
  {
   "cell_type": "code",
   "execution_count": 5,
   "id": "efffb621",
   "metadata": {},
   "outputs": [
    {
     "data": {
      "text/plain": [
       "['spam', 'egg', 'bacon', 'tomato']"
      ]
     },
     "execution_count": 5,
     "metadata": {},
     "output_type": "execute_result"
    }
   ],
   "source": [
    "a[:4]"
   ]
  },
  {
   "cell_type": "code",
   "execution_count": 6,
   "id": "b9bb8cfb",
   "metadata": {},
   "outputs": [
    {
     "data": {
      "text/plain": [
       "['tomato', 'ham', 'lobster']"
      ]
     },
     "execution_count": 6,
     "metadata": {},
     "output_type": "execute_result"
    }
   ],
   "source": [
    "a[3:]"
   ]
  },
  {
   "cell_type": "code",
   "execution_count": 7,
   "id": "a136aa61",
   "metadata": {},
   "outputs": [
    {
     "name": "stdout",
     "output_type": "stream",
     "text": [
      "1365124696640 1365124462592\n"
     ]
    }
   ],
   "source": [
    "print(id(a), id(a[:]))"
   ]
  },
  {
   "cell_type": "code",
   "execution_count": 8,
   "id": "a3b7edda",
   "metadata": {},
   "outputs": [
    {
     "name": "stdout",
     "output_type": "stream",
     "text": [
      "1365124452720 1365124452720\n"
     ]
    }
   ],
   "source": [
    "#note this is different than the behavior of a string\n",
    "s = \"bacon\"\n",
    "print(id(s), id(s[:]))"
   ]
  },
  {
   "cell_type": "markdown",
   "id": "07189d1e",
   "metadata": {},
   "source": [
    "There can also be a step index `a[0:6:2]`"
   ]
  },
  {
   "cell_type": "code",
   "execution_count": 9,
   "id": "34f1ab88",
   "metadata": {},
   "outputs": [
    {
     "data": {
      "text/plain": [
       "['spam', 'bacon', 'ham']"
      ]
     },
     "execution_count": 9,
     "metadata": {},
     "output_type": "execute_result"
    }
   ],
   "source": [
    "a[0:6:2]"
   ]
  },
  {
   "cell_type": "code",
   "execution_count": 10,
   "id": "666b074a",
   "metadata": {},
   "outputs": [
    {
     "data": {
      "text/plain": [
       "['egg', 'tomato', 'lobster']"
      ]
     },
     "execution_count": 10,
     "metadata": {},
     "output_type": "execute_result"
    }
   ],
   "source": [
    "a[1:6:2]"
   ]
  },
  {
   "cell_type": "code",
   "execution_count": 11,
   "id": "298d17d0",
   "metadata": {},
   "outputs": [
    {
     "name": "stdout",
     "output_type": "stream",
     "text": [
      "['spam', 'egg', 'bacon', 'tomato', 'ham', 'lobster']\n"
     ]
    }
   ],
   "source": [
    "print(a)"
   ]
  },
  {
   "cell_type": "code",
   "execution_count": 12,
   "id": "64f25629",
   "metadata": {},
   "outputs": [
    {
     "data": {
      "text/plain": [
       "['lobster', 'tomato', 'egg']"
      ]
     },
     "execution_count": 12,
     "metadata": {},
     "output_type": "execute_result"
    }
   ],
   "source": [
    "# negative indexing also exists\n",
    "# start at last object go to first index \n",
    "a[6:0:-2]"
   ]
  },
  {
   "cell_type": "markdown",
   "id": "c52e5992",
   "metadata": {},
   "source": [
    "You can reverse your list by `a[::-1]`"
   ]
  },
  {
   "cell_type": "code",
   "execution_count": 13,
   "id": "417c2147",
   "metadata": {},
   "outputs": [
    {
     "data": {
      "text/plain": [
       "['lobster', 'ham', 'tomato', 'bacon', 'egg', 'spam']"
      ]
     },
     "execution_count": 13,
     "metadata": {},
     "output_type": "execute_result"
    }
   ],
   "source": [
    "a[::-1]"
   ]
  },
  {
   "cell_type": "markdown",
   "id": "87fc8120",
   "metadata": {},
   "source": [
    "## Operators and Built-in Functions\n",
    "\n",
    "### `in` Operator"
   ]
  },
  {
   "cell_type": "code",
   "execution_count": 14,
   "id": "a5972256",
   "metadata": {},
   "outputs": [
    {
     "data": {
      "text/plain": [
       "True"
      ]
     },
     "execution_count": 14,
     "metadata": {},
     "output_type": "execute_result"
    }
   ],
   "source": [
    "a = [\"spam\", \"egg\", \"bacon\", \"tomato\", \"ham\", \"lobster\"]\n",
    "\"spam\" in a"
   ]
  },
  {
   "cell_type": "code",
   "execution_count": 15,
   "id": "391521ab",
   "metadata": {},
   "outputs": [
    {
     "data": {
      "text/plain": [
       "True"
      ]
     },
     "execution_count": 15,
     "metadata": {},
     "output_type": "execute_result"
    }
   ],
   "source": [
    "'kiwi' not in a"
   ]
  },
  {
   "cell_type": "markdown",
   "id": "2f12d119",
   "metadata": {},
   "source": [
    "## Concatenation (+) and Replication (*) Operators"
   ]
  },
  {
   "cell_type": "code",
   "execution_count": 16,
   "id": "55107694",
   "metadata": {},
   "outputs": [
    {
     "data": {
      "text/plain": [
       "['spam', 'egg', 'bacon', 'tomato', 'ham', 'lobster', 'kiwi', 'mango']"
      ]
     },
     "execution_count": 16,
     "metadata": {},
     "output_type": "execute_result"
    }
   ],
   "source": [
    "a + [\"kiwi\",\"mango\"]"
   ]
  },
  {
   "cell_type": "markdown",
   "id": "8406e382",
   "metadata": {},
   "source": [
    "Note this doesn't actually change `a` unless we reassign a"
   ]
  },
  {
   "cell_type": "code",
   "execution_count": 17,
   "id": "14f4cdb8",
   "metadata": {},
   "outputs": [
    {
     "name": "stdout",
     "output_type": "stream",
     "text": [
      "['spam', 'egg', 'bacon', 'tomato', 'ham', 'lobster']\n"
     ]
    }
   ],
   "source": [
    "print(a)"
   ]
  },
  {
   "cell_type": "code",
   "execution_count": 18,
   "id": "e66fe33f",
   "metadata": {},
   "outputs": [
    {
     "data": {
      "text/plain": [
       "['spam',\n",
       " 'egg',\n",
       " 'bacon',\n",
       " 'tomato',\n",
       " 'ham',\n",
       " 'lobster',\n",
       " 'spam',\n",
       " 'egg',\n",
       " 'bacon',\n",
       " 'tomato',\n",
       " 'ham',\n",
       " 'lobster']"
      ]
     },
     "execution_count": 18,
     "metadata": {},
     "output_type": "execute_result"
    }
   ],
   "source": [
    "a * 2"
   ]
  },
  {
   "cell_type": "markdown",
   "id": "34b4d87f",
   "metadata": {},
   "source": [
    "## Built in Functions\n",
    "+ `len()` returns the length of the list\n",
    "+ `min()` returns the the object with the minimum value\n",
    "+ `max()` returns the object with maximum value"
   ]
  },
  {
   "cell_type": "code",
   "execution_count": 19,
   "id": "cc8c0609",
   "metadata": {},
   "outputs": [
    {
     "data": {
      "text/plain": [
       "6"
      ]
     },
     "execution_count": 19,
     "metadata": {},
     "output_type": "execute_result"
    }
   ],
   "source": [
    "len(a)"
   ]
  },
  {
   "cell_type": "code",
   "execution_count": 20,
   "id": "2d996f19",
   "metadata": {},
   "outputs": [
    {
     "data": {
      "text/plain": [
       "'bacon'"
      ]
     },
     "execution_count": 20,
     "metadata": {},
     "output_type": "execute_result"
    }
   ],
   "source": [
    "min(a)"
   ]
  },
  {
   "cell_type": "code",
   "execution_count": 21,
   "id": "a605f1c9",
   "metadata": {},
   "outputs": [
    {
     "data": {
      "text/plain": [
       "'tomato'"
      ]
     },
     "execution_count": 21,
     "metadata": {},
     "output_type": "execute_result"
    }
   ],
   "source": [
    "max(a)"
   ]
  },
  {
   "cell_type": "code",
   "execution_count": 22,
   "id": "e02d7ca0",
   "metadata": {},
   "outputs": [
    {
     "name": "stdout",
     "output_type": "stream",
     "text": [
      "Asparagus bacon\n"
     ]
    }
   ],
   "source": [
    "b = [\"apple\", \"bacon\", \"Asparagus\", \"Zebra\"]\n",
    "print(min(b), max(b))"
   ]
  },
  {
   "cell_type": "markdown",
   "id": "269d1049",
   "metadata": {},
   "source": [
    "`min() and max()` functions use the ascii values for sorting\n",
    "\n",
    "The comparison operators also only work if the objects are of the same type"
   ]
  },
  {
   "cell_type": "code",
   "execution_count": 23,
   "id": "b65680b6",
   "metadata": {},
   "outputs": [
    {
     "ename": "TypeError",
     "evalue": "'<' not supported between instances of 'int' and 'str'",
     "output_type": "error",
     "traceback": [
      "\u001b[1;31m---------------------------------------------------------------------------\u001b[0m",
      "\u001b[1;31mTypeError\u001b[0m                                 Traceback (most recent call last)",
      "Input \u001b[1;32mIn [23]\u001b[0m, in \u001b[0;36m<cell line: 2>\u001b[1;34m()\u001b[0m\n\u001b[0;32m      1\u001b[0m b \u001b[38;5;241m=\u001b[39m b \u001b[38;5;241m+\u001b[39m [\u001b[38;5;241m12\u001b[39m, \u001b[38;5;241m10\u001b[39m]\n\u001b[1;32m----> 2\u001b[0m \u001b[38;5;28;43mmin\u001b[39;49m\u001b[43m(\u001b[49m\u001b[43mb\u001b[49m\u001b[43m)\u001b[49m\n",
      "\u001b[1;31mTypeError\u001b[0m: '<' not supported between instances of 'int' and 'str'"
     ]
    }
   ],
   "source": [
    "b = b + [12, 10]\n",
    "min(b)"
   ]
  },
  {
   "cell_type": "markdown",
   "id": "f852d5b9",
   "metadata": {},
   "source": [
    "## Nesting\n",
    "+ a element within a list can contain a list"
   ]
  },
  {
   "cell_type": "code",
   "execution_count": 24,
   "id": "a7241c9e",
   "metadata": {},
   "outputs": [
    {
     "name": "stdout",
     "output_type": "stream",
     "text": [
      "a g j\n"
     ]
    }
   ],
   "source": [
    "x = ['a', ['bb',['ccc', 'ddd'],'ee', 'ff'], 'g',['hh', 'ii'], 'j']\n",
    "print(x[0], x[2], x[4])"
   ]
  },
  {
   "cell_type": "markdown",
   "id": "050e93da",
   "metadata": {},
   "source": [
    "To access a sub-element just add another bracket"
   ]
  },
  {
   "cell_type": "code",
   "execution_count": 25,
   "id": "f40f51ec",
   "metadata": {},
   "outputs": [
    {
     "data": {
      "text/plain": [
       "['ccc', 'ddd']"
      ]
     },
     "execution_count": 25,
     "metadata": {},
     "output_type": "execute_result"
    }
   ],
   "source": [
    "x[1][1]"
   ]
  },
  {
   "cell_type": "code",
   "execution_count": 26,
   "id": "ba28df25",
   "metadata": {},
   "outputs": [
    {
     "data": {
      "text/plain": [
       "'ccc'"
      ]
     },
     "execution_count": 26,
     "metadata": {},
     "output_type": "execute_result"
    }
   ],
   "source": [
    "x[1][1][0]"
   ]
  },
  {
   "cell_type": "markdown",
   "id": "40448d8c",
   "metadata": {},
   "source": [
    "Negative Indexing also works"
   ]
  },
  {
   "cell_type": "code",
   "execution_count": 27,
   "id": "fe2a7e46",
   "metadata": {},
   "outputs": [
    {
     "data": {
      "text/plain": [
       "'ddd'"
      ]
     },
     "execution_count": 27,
     "metadata": {},
     "output_type": "execute_result"
    }
   ],
   "source": [
    "x[-4][-3][-1]"
   ]
  },
  {
   "cell_type": "code",
   "execution_count": 28,
   "id": "e93bb1cf",
   "metadata": {},
   "outputs": [
    {
     "data": {
      "text/plain": [
       "5"
      ]
     },
     "execution_count": 28,
     "metadata": {},
     "output_type": "execute_result"
    }
   ],
   "source": [
    "len(x)"
   ]
  },
  {
   "cell_type": "code",
   "execution_count": 29,
   "id": "77869539",
   "metadata": {},
   "outputs": [
    {
     "data": {
      "text/plain": [
       "4"
      ]
     },
     "execution_count": 29,
     "metadata": {},
     "output_type": "execute_result"
    }
   ],
   "source": [
    "len(x[1])"
   ]
  },
  {
   "cell_type": "markdown",
   "id": "299a0732",
   "metadata": {},
   "source": [
    "`in` operator only looks at the current level"
   ]
  },
  {
   "cell_type": "code",
   "execution_count": 30,
   "id": "2c0dad7e",
   "metadata": {},
   "outputs": [
    {
     "data": {
      "text/plain": [
       "False"
      ]
     },
     "execution_count": 30,
     "metadata": {},
     "output_type": "execute_result"
    }
   ],
   "source": [
    "'ddd' in x"
   ]
  },
  {
   "cell_type": "markdown",
   "id": "07422f21",
   "metadata": {},
   "source": [
    "## Lists - Mutable and Dynamic\n",
    "+ Once created, elements can be modifie\n",
    "+ list are dynamic; we can add values to it"
   ]
  },
  {
   "cell_type": "code",
   "execution_count": 31,
   "id": "30203313",
   "metadata": {},
   "outputs": [
    {
     "data": {
      "text/plain": [
       "['spam', 'egg', 'bacon', 'tomato', 'ham', 'lobster']"
      ]
     },
     "execution_count": 31,
     "metadata": {},
     "output_type": "execute_result"
    }
   ],
   "source": [
    "a"
   ]
  },
  {
   "cell_type": "markdown",
   "id": "ad9655bc",
   "metadata": {},
   "source": [
    "We can change a value within the list"
   ]
  },
  {
   "cell_type": "code",
   "execution_count": 32,
   "id": "65e66775",
   "metadata": {},
   "outputs": [
    {
     "data": {
      "text/plain": [
       "['spam', 'egg', 10, 'tomato', 'ham', 20]"
      ]
     },
     "execution_count": 32,
     "metadata": {},
     "output_type": "execute_result"
    }
   ],
   "source": [
    "a[2] = 10\n",
    "a[-1] = 20\n",
    "a"
   ]
  },
  {
   "cell_type": "markdown",
   "id": "7b4d8430",
   "metadata": {},
   "source": [
    "You can even delete items from a list"
   ]
  },
  {
   "cell_type": "code",
   "execution_count": 33,
   "id": "45001f15",
   "metadata": {},
   "outputs": [
    {
     "name": "stdout",
     "output_type": "stream",
     "text": [
      "['spam', 'egg', 10, 'ham', 20]\n"
     ]
    }
   ],
   "source": [
    "del a[3]\n",
    "print(a)"
   ]
  },
  {
   "cell_type": "markdown",
   "id": "cf18aa8c",
   "metadata": {},
   "source": [
    "You can also append to a list"
   ]
  },
  {
   "cell_type": "code",
   "execution_count": 34,
   "id": "39c905b1",
   "metadata": {},
   "outputs": [
    {
     "data": {
      "text/plain": [
       "['spam', 'egg', 'bacon', 'tomato', 'ham', 'lobster', 'gravy', 'kiwi']"
      ]
     },
     "execution_count": 34,
     "metadata": {},
     "output_type": "execute_result"
    }
   ],
   "source": [
    "a = ['spam', 'egg', 'bacon', 'tomato', 'ham', 'lobster']\n",
    "a += [\"gravy\", \"kiwi\"]\n",
    "a"
   ]
  },
  {
   "cell_type": "code",
   "execution_count": 35,
   "id": "b1327e43",
   "metadata": {},
   "outputs": [
    {
     "data": {
      "text/plain": [
       "[1, 2, 'spam', 'egg', 'bacon', 'tomato', 'ham', 'lobster', 'gravy', 'kiwi']"
      ]
     },
     "execution_count": 35,
     "metadata": {},
     "output_type": "execute_result"
    }
   ],
   "source": [
    "# adding to beginning\n",
    "a = [1, 2] + a\n",
    "a"
   ]
  },
  {
   "cell_type": "markdown",
   "id": "dc866f88",
   "metadata": {},
   "source": [
    "If adding items to list make sure to use a singleton list"
   ]
  },
  {
   "cell_type": "code",
   "execution_count": 36,
   "id": "5551703f",
   "metadata": {},
   "outputs": [
    {
     "ename": "TypeError",
     "evalue": "can only concatenate list (not \"int\") to list",
     "output_type": "error",
     "traceback": [
      "\u001b[1;31m---------------------------------------------------------------------------\u001b[0m",
      "\u001b[1;31mTypeError\u001b[0m                                 Traceback (most recent call last)",
      "Input \u001b[1;32mIn [36]\u001b[0m, in \u001b[0;36m<cell line: 1>\u001b[1;34m()\u001b[0m\n\u001b[1;32m----> 1\u001b[0m \u001b[43ma\u001b[49m\u001b[43m \u001b[49m\u001b[38;5;241;43m+\u001b[39;49m\u001b[43m \u001b[49m\u001b[38;5;241;43m1\u001b[39;49m\n",
      "\u001b[1;31mTypeError\u001b[0m: can only concatenate list (not \"int\") to list"
     ]
    }
   ],
   "source": [
    "a + 1"
   ]
  },
  {
   "cell_type": "code",
   "execution_count": 37,
   "id": "ed599704",
   "metadata": {},
   "outputs": [
    {
     "data": {
      "text/plain": [
       "[1,\n",
       " 2,\n",
       " 'spam',\n",
       " 'egg',\n",
       " 'bacon',\n",
       " 'tomato',\n",
       " 'ham',\n",
       " 'lobster',\n",
       " 'gravy',\n",
       " 'kiwi',\n",
       " 't',\n",
       " 'o',\n",
       " 'm',\n",
       " 'a',\n",
       " 't',\n",
       " 'o']"
      ]
     },
     "execution_count": 37,
     "metadata": {},
     "output_type": "execute_result"
    }
   ],
   "source": [
    "a += 'tomato'\n",
    "a"
   ]
  },
  {
   "cell_type": "code",
   "execution_count": 38,
   "id": "eb1cf9be",
   "metadata": {},
   "outputs": [
    {
     "data": {
      "text/plain": [
       "[1,\n",
       " 2,\n",
       " 'spam',\n",
       " 'egg',\n",
       " 'bacon',\n",
       " 'tomato',\n",
       " 'ham',\n",
       " 'lobster',\n",
       " 'gravy',\n",
       " 'kiwi',\n",
       " 't',\n",
       " 'o',\n",
       " 'm',\n",
       " 'a',\n",
       " 't',\n",
       " 'o',\n",
       " 'tomato']"
      ]
     },
     "execution_count": 38,
     "metadata": {},
     "output_type": "execute_result"
    }
   ],
   "source": [
    "a += ['tomato']\n",
    "a"
   ]
  },
  {
   "cell_type": "markdown",
   "id": "2e9642e3",
   "metadata": {},
   "source": [
    "## List Methods\n",
    "One big difference between string methods and list methods. List methods modify the list in place while string methods return a copy of the string"
   ]
  },
  {
   "cell_type": "code",
   "execution_count": 39,
   "id": "0e0a77f7",
   "metadata": {},
   "outputs": [
    {
     "data": {
      "text/plain": [
       "'MYBACON'"
      ]
     },
     "execution_count": 39,
     "metadata": {},
     "output_type": "execute_result"
    }
   ],
   "source": [
    "s = 'mybacon'\n",
    "s.upper()"
   ]
  },
  {
   "cell_type": "code",
   "execution_count": 40,
   "id": "1fe12f90",
   "metadata": {},
   "outputs": [
    {
     "data": {
      "text/plain": [
       "'mybacon'"
      ]
     },
     "execution_count": 40,
     "metadata": {},
     "output_type": "execute_result"
    }
   ],
   "source": [
    "s"
   ]
  },
  {
   "cell_type": "markdown",
   "id": "0d537af9",
   "metadata": {},
   "source": [
    "### List Methods\n",
    "+ mylist.append() adds element to end of list\n",
    "+ mylist.extend() takes iterable and adds each element to list\n",
    "+ mylist.insert() inserts an object at the specified index\n",
    "+ mylist. remove() removes an object from list. Exception raised if not in list\n",
    "+ mylist.sort() sorts a list"
   ]
  },
  {
   "cell_type": "code",
   "execution_count": 41,
   "id": "3a8f4615",
   "metadata": {},
   "outputs": [
    {
     "data": {
      "text/plain": [
       "['a', 'b', 'c']"
      ]
     },
     "execution_count": 41,
     "metadata": {},
     "output_type": "execute_result"
    }
   ],
   "source": [
    "a = ['a','b']\n",
    "a.append('c')\n",
    "a"
   ]
  },
  {
   "cell_type": "markdown",
   "id": "476146f1",
   "metadata": {},
   "source": [
    "a.append() doesn't actually return anything"
   ]
  },
  {
   "cell_type": "code",
   "execution_count": 45,
   "id": "9b3462fc",
   "metadata": {},
   "outputs": [
    {
     "name": "stdout",
     "output_type": "stream",
     "text": [
      "None\n",
      "['a', 'b', 123]\n"
     ]
    }
   ],
   "source": [
    "a = ['a','b']\n",
    "x = a.append(123)\n",
    "print(x)\n",
    "print(a)"
   ]
  },
  {
   "cell_type": "code",
   "execution_count": 46,
   "id": "863f06aa",
   "metadata": {},
   "outputs": [],
   "source": [
    "a[len(a):] = ['d', 'e']"
   ]
  },
  {
   "cell_type": "code",
   "execution_count": 47,
   "id": "6f2813aa",
   "metadata": {},
   "outputs": [
    {
     "data": {
      "text/plain": [
       "['a', 'b', 123, 'd', 'e']"
      ]
     },
     "execution_count": 47,
     "metadata": {},
     "output_type": "execute_result"
    }
   ],
   "source": [
    "a"
   ]
  },
  {
   "cell_type": "code",
   "execution_count": 43,
   "id": "46abd75e",
   "metadata": {},
   "outputs": [
    {
     "data": {
      "text/plain": [
       "['a', 'b', 123, [1, 2, 3]]"
      ]
     },
     "execution_count": 43,
     "metadata": {},
     "output_type": "execute_result"
    }
   ],
   "source": [
    "# different behavior than strings. Appends as a singular object\n",
    "a.append([1,2,3])\n",
    "a"
   ]
  },
  {
   "cell_type": "markdown",
   "id": "bacbd026",
   "metadata": {},
   "source": [
    "a.extend() behaves more like the concatenate operator"
   ]
  },
  {
   "cell_type": "code",
   "execution_count": 44,
   "id": "ebd3e28a",
   "metadata": {},
   "outputs": [
    {
     "data": {
      "text/plain": [
       "['a', 'b', 1, 2, 3]"
      ]
     },
     "execution_count": 44,
     "metadata": {},
     "output_type": "execute_result"
    }
   ],
   "source": [
    "a = ['a', 'b']\n",
    "a.extend([1, 2, 3])\n",
    "a"
   ]
  },
  {
   "cell_type": "markdown",
   "id": "f5ba28e4",
   "metadata": {},
   "source": [
    "a.insert() adds object at specified index"
   ]
  },
  {
   "cell_type": "code",
   "execution_count": null,
   "id": "15e66440",
   "metadata": {},
   "outputs": [],
   "source": [
    "a = ['spam', 'egg', 'bacon', 'tomato', 'ham', 'lobster']\n",
    "a.insert(3, 3.14)\n",
    "a"
   ]
  },
  {
   "cell_type": "markdown",
   "id": "32a510ed",
   "metadata": {},
   "source": [
    "a.remove() removes the first occurence of a object"
   ]
  },
  {
   "cell_type": "code",
   "execution_count": null,
   "id": "b1dc80ff",
   "metadata": {},
   "outputs": [],
   "source": [
    "a.remove(\"egg\")\n",
    "a"
   ]
  },
  {
   "cell_type": "markdown",
   "id": "a455451a",
   "metadata": {},
   "source": [
    "a.clear() removes all items from list"
   ]
  },
  {
   "cell_type": "code",
   "execution_count": null,
   "id": "12fed9ab",
   "metadata": {},
   "outputs": [],
   "source": [
    "a.clear()\n",
    "a"
   ]
  },
  {
   "cell_type": "code",
   "execution_count": null,
   "id": "95c4cce2",
   "metadata": {},
   "outputs": [],
   "source": [
    "a = ['spam', 'egg', 'bacon', 'tomato', 'ham', 'lobster']\n",
    "a.sort()\n",
    "a"
   ]
  },
  {
   "cell_type": "markdown",
   "id": "1b85ab6b",
   "metadata": {},
   "source": [
    "A common issue is that capital letters get sorted first. Use the key argument to correct"
   ]
  },
  {
   "cell_type": "code",
   "execution_count": null,
   "id": "19cf7579",
   "metadata": {},
   "outputs": [],
   "source": [
    "a += [\"Apple\", \"Zebra\"]\n",
    "a.sort()\n",
    "a"
   ]
  },
  {
   "cell_type": "code",
   "execution_count": null,
   "id": "ff321a14",
   "metadata": {},
   "outputs": [],
   "source": [
    "a.sort(key = str.upper)\n",
    "a"
   ]
  },
  {
   "cell_type": "code",
   "execution_count": null,
   "id": "46b6149b",
   "metadata": {},
   "outputs": [],
   "source": [
    "a.sort(key = str.upper, reverse = True)\n",
    "a"
   ]
  },
  {
   "cell_type": "markdown",
   "id": "2d15e9d5",
   "metadata": {},
   "source": [
    "## List Methods with Return Values\n",
    "+ mylist.pop() Removes element with index -1, but returns that last item"
   ]
  },
  {
   "cell_type": "code",
   "execution_count": null,
   "id": "1876efec",
   "metadata": {},
   "outputs": [],
   "source": [
    "a = ['bacon', 'egg', 'ham', 'lobster', 'spam', 'tomato']\n",
    "a.pop()"
   ]
  },
  {
   "cell_type": "code",
   "execution_count": null,
   "id": "bdd72fff",
   "metadata": {},
   "outputs": [],
   "source": [
    "a"
   ]
  },
  {
   "cell_type": "markdown",
   "id": "0639f4ea",
   "metadata": {},
   "source": [
    "+ mylist.index() returns the first index of whatever value your're searching for"
   ]
  },
  {
   "cell_type": "code",
   "execution_count": null,
   "id": "cef69fde",
   "metadata": {},
   "outputs": [],
   "source": [
    "a = ['spam', 'egg', 'bacon', 'tomato', 'ham', 'lobster']\n",
    "a.index(\"tomato\")"
   ]
  },
  {
   "cell_type": "markdown",
   "id": "ecf9d6c1",
   "metadata": {},
   "source": [
    "+ mylist.count() Counts the occurrences of an object"
   ]
  },
  {
   "cell_type": "code",
   "execution_count": null,
   "id": "4dc23d18",
   "metadata": {},
   "outputs": [],
   "source": [
    "b = [1,2,3,4,5,4,5,6,5,4,3,1]\n",
    "b.count(4)"
   ]
  },
  {
   "cell_type": "markdown",
   "id": "cfbd0b9d",
   "metadata": {},
   "source": [
    "+ mylist.copy() returns a shallow copy. Only the outermost objects are copies. Nested values are references. So if you modify the copy you will also modify the original"
   ]
  },
  {
   "cell_type": "code",
   "execution_count": null,
   "id": "6d6c554d",
   "metadata": {},
   "outputs": [],
   "source": [
    "a.copy()"
   ]
  },
  {
   "cell_type": "markdown",
   "id": "ea98f21b",
   "metadata": {},
   "source": [
    "## Defining and Using Tuples\n",
    "+ identical to lists except for: \n",
    "+ defined using ()\n",
    "+ tuples are immutable: This can cause a program to be faster"
   ]
  },
  {
   "cell_type": "code",
   "execution_count": null,
   "id": "79934f8f",
   "metadata": {},
   "outputs": [],
   "source": [
    "t = ('spam', 'egg', 'bacon', 'tomato', 'ham', 'lobster')\n",
    "type(t)"
   ]
  },
  {
   "cell_type": "markdown",
   "id": "9505f912",
   "metadata": {},
   "source": [
    "Indexing is the same\n",
    "\n",
    "Can't modify values"
   ]
  },
  {
   "cell_type": "code",
   "execution_count": null,
   "id": "7319b443",
   "metadata": {},
   "outputs": [],
   "source": [
    "t[2]=\"This won't work\""
   ]
  },
  {
   "cell_type": "markdown",
   "id": "44b31838",
   "metadata": {},
   "source": [
    "To create a singleton tuple need to include a trailing comma"
   ]
  },
  {
   "cell_type": "code",
   "execution_count": null,
   "id": "7c1a7188",
   "metadata": {},
   "outputs": [],
   "source": [
    "t = (2)\n",
    "type(t)"
   ]
  },
  {
   "cell_type": "code",
   "execution_count": null,
   "id": "448a6ba0",
   "metadata": {},
   "outputs": [],
   "source": [
    "t = (2, )\n",
    "type(t)"
   ]
  },
  {
   "cell_type": "markdown",
   "id": "6e6c5dcf",
   "metadata": {},
   "source": [
    "## Tuple Assignment, Packing and Unpacking\n"
   ]
  },
  {
   "cell_type": "code",
   "execution_count": null,
   "id": "94b19f94",
   "metadata": {},
   "outputs": [],
   "source": [
    "t = (\"spam\", \"egg\", \"bacon\",\"tomato\")\n",
    "t"
   ]
  },
  {
   "cell_type": "code",
   "execution_count": null,
   "id": "362da876",
   "metadata": {},
   "outputs": [],
   "source": [
    "# have to have equla number of elements on both sides\n",
    "(s1, s2, s3,s4) = t"
   ]
  },
  {
   "cell_type": "code",
   "execution_count": null,
   "id": "8fce60fc",
   "metadata": {},
   "outputs": [],
   "source": [
    "s1"
   ]
  },
  {
   "cell_type": "code",
   "execution_count": null,
   "id": "2f5e998e",
   "metadata": {},
   "outputs": [],
   "source": [
    "s2"
   ]
  },
  {
   "cell_type": "code",
   "execution_count": null,
   "id": "47109f34",
   "metadata": {},
   "outputs": [],
   "source": [
    "s3"
   ]
  },
  {
   "cell_type": "code",
   "execution_count": null,
   "id": "2faeddf3",
   "metadata": {},
   "outputs": [],
   "source": [
    "s4"
   ]
  },
  {
   "cell_type": "code",
   "execution_count": null,
   "id": "6065adf2",
   "metadata": {},
   "outputs": [],
   "source": [
    "type(s1)"
   ]
  },
  {
   "cell_type": "markdown",
   "id": "f25d7952",
   "metadata": {},
   "source": [
    "You can skip parenthesis in some cases"
   ]
  },
  {
   "cell_type": "code",
   "execution_count": null,
   "id": "d1545c49",
   "metadata": {},
   "outputs": [],
   "source": [
    "x1, x2, x3 = 4,5,6"
   ]
  },
  {
   "cell_type": "code",
   "execution_count": null,
   "id": "e2051064",
   "metadata": {},
   "outputs": [],
   "source": [
    "x1"
   ]
  },
  {
   "cell_type": "code",
   "execution_count": null,
   "id": "96d19044",
   "metadata": {},
   "outputs": [],
   "source": [
    "x3"
   ]
  },
  {
   "cell_type": "markdown",
   "id": "1ccf2d72",
   "metadata": {},
   "source": [
    "Tuple assignment can make swapping simple"
   ]
  },
  {
   "cell_type": "code",
   "execution_count": null,
   "id": "619b1b52",
   "metadata": {},
   "outputs": [],
   "source": [
    "a = \"spam\"\n",
    "b = 'egg'\n",
    "a,b"
   ]
  },
  {
   "cell_type": "code",
   "execution_count": null,
   "id": "18d73084",
   "metadata": {},
   "outputs": [],
   "source": [
    "a, b = b, a\n",
    "a,b"
   ]
  },
  {
   "cell_type": "code",
   "execution_count": 54,
   "id": "c52902b5",
   "metadata": {},
   "outputs": [
    {
     "data": {
      "text/plain": [
       "[1, 2, 3, 4, 5, 6, 7, 8]"
      ]
     },
     "execution_count": 54,
     "metadata": {},
     "output_type": "execute_result"
    }
   ],
   "source": [
    "a = [1, 2, 7, 8]\n",
    "a = a[:2] + [3,4,5,6] + a[-2:]\n",
    "a"
   ]
  },
  {
   "cell_type": "code",
   "execution_count": 2,
   "id": "94c1f6ad",
   "metadata": {},
   "outputs": [
    {
     "data": {
      "text/plain": [
       "['a', 'b', 'c', 'd', 'e']"
      ]
     },
     "execution_count": 2,
     "metadata": {},
     "output_type": "execute_result"
    }
   ],
   "source": [
    "a = ['a', 'b', 'c']\n",
    "a += 'de'\n",
    "a"
   ]
  },
  {
   "cell_type": "code",
   "execution_count": null,
   "id": "f18335e0",
   "metadata": {},
   "outputs": [],
   "source": []
  }
 ],
 "metadata": {
  "kernelspec": {
   "display_name": "Python 3 (ipykernel)",
   "language": "python",
   "name": "python3"
  },
  "language_info": {
   "codemirror_mode": {
    "name": "ipython",
    "version": 3
   },
   "file_extension": ".py",
   "mimetype": "text/x-python",
   "name": "python",
   "nbconvert_exporter": "python",
   "pygments_lexer": "ipython3",
   "version": "3.9.12"
  }
 },
 "nbformat": 4,
 "nbformat_minor": 5
}
