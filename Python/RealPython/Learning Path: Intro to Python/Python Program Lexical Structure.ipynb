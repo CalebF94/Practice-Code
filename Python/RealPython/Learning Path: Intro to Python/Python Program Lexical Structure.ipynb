{
 "cells": [
  {
   "cell_type": "markdown",
   "id": "ecaa3a21",
   "metadata": {},
   "source": [
    "# Python Program Lexical Structure\n",
    "What you'll cover:\n",
    "1) Syntactic elements that comprise statements  \n",
    "2) Basic units that make up a Python program  \n",
    "3) Course will prepare you for the next tutorials covering control structures"
   ]
  },
  {
   "cell_type": "markdown",
   "id": "9b4cf572",
   "metadata": {},
   "source": [
    "### Python Statements\n",
    "Statements are the basic units of instruction that the Python interpreter parses and processes  \n",
    "\n",
    "Typically, Python programs are organized with one statement per line\n",
    "\n",
    "When commands are typed at the `>>>` prompt, an output is displayed. This only happens interactively(like in a Jupyter Notebook). In a script file no output will appear"
   ]
  },
  {
   "cell_type": "markdown",
   "id": "8bd8f6c6",
   "metadata": {},
   "source": [
    "### Line Continuation\n",
    "Sometimes your code can become long to fit inside the browser window, such as the nested list below:"
   ]
  },
  {
   "cell_type": "code",
   "execution_count": 1,
   "id": "405fd26d",
   "metadata": {},
   "outputs": [
    {
     "data": {
      "text/plain": [
       "[[1, 2, 3, 4, 5],\n",
       " [6, 7, 8, 9, 10],\n",
       " [11, 12, 13, 14, 15],\n",
       " [16, 17, 18, 19, 20],\n",
       " [21, 22, 23, 24, 25]]"
      ]
     },
     "execution_count": 1,
     "metadata": {},
     "output_type": "execute_result"
    }
   ],
   "source": [
    "a = [[1, 2, 3, 4, 5], [6, 7, 8, 9, 10], [11, 12, 13, 14, 15], [16, 17, 18, 19, 20], [21, 22, 23, 24, 25]]\n",
    "a"
   ]
  },
  {
   "cell_type": "markdown",
   "id": "3e17a0e3",
   "metadata": {},
   "source": [
    "Most editors can be configured to wrap text, so that the ends of long lines are at least visible and don't disappear out the right edge of the editor window.\n",
    "\n",
    "According to PEP(Python Enhancement Proposal) the maximum line length should be 79 characters.\n",
    "\n",
    "When more characters are needed you should break the code into parts across several lines. There are several ways to do this:\n",
    "1) Implicit Line Continuation.\n",
    "- This occures when there are unmatch opening brackets or parentheses. Python will presume a statement is not complete until all brackets/parentheses are closed."
   ]
  },
  {
   "cell_type": "code",
   "execution_count": 2,
   "id": "469b17d3",
   "metadata": {},
   "outputs": [
    {
     "data": {
      "text/plain": [
       "[[1, 2, 3, 4, 5],\n",
       " [6, 7, 8, 9, 10],\n",
       " [11, 12, 13, 14, 15],\n",
       " [16, 17, 18, 19, 20],\n",
       " [21, 22, 23, 24, 25]]"
      ]
     },
     "execution_count": 2,
     "metadata": {},
     "output_type": "execute_result"
    }
   ],
   "source": [
    "a = [\n",
    "    [1, 2, 3, 4, 5],\n",
    "    [6, 7, 8, 9, 10],\n",
    "    [11, 12, 13, 14, 15],\n",
    "    [16, 17, 18, 19, 20],\n",
    "    [21, 22, 23, 24, 25]\n",
    "]\n",
    "a"
   ]
  },
  {
   "cell_type": "markdown",
   "id": "12a2758e",
   "metadata": {},
   "source": [
    "This can also be accomplished by simply wrapping a statement in `()`"
   ]
  },
  {
   "cell_type": "code",
   "execution_count": 3,
   "id": "9d185eed",
   "metadata": {},
   "outputs": [
    {
     "ename": "NameError",
     "evalue": "name 'person1_age' is not defined",
     "output_type": "error",
     "traceback": [
      "\u001b[1;31m---------------------------------------------------------------------------\u001b[0m",
      "\u001b[1;31mNameError\u001b[0m                                 Traceback (most recent call last)",
      "Input \u001b[1;32mIn [3]\u001b[0m, in \u001b[0;36m<cell line: 2>\u001b[1;34m()\u001b[0m\n\u001b[0;32m      1\u001b[0m someone_is_of_working_age \u001b[38;5;241m=\u001b[39m (\n\u001b[1;32m----> 2\u001b[0m     (\u001b[43mperson1_age\u001b[49m \u001b[38;5;241m>\u001b[39m\u001b[38;5;241m=\u001b[39m \u001b[38;5;241m18\u001b[39m \u001b[38;5;129;01mand\u001b[39;00m person1_age \u001b[38;5;241m<\u001b[39m\u001b[38;5;241m=\u001b[39m \u001b[38;5;241m65\u001b[39m)\n\u001b[0;32m      3\u001b[0m     \u001b[38;5;129;01mor\u001b[39;00m (person2_age \u001b[38;5;241m>\u001b[39m\u001b[38;5;241m=\u001b[39m \u001b[38;5;241m18\u001b[39m \u001b[38;5;129;01mand\u001b[39;00m person2_age \u001b[38;5;241m<\u001b[39m\u001b[38;5;241m=\u001b[39m \u001b[38;5;241m65\u001b[39m)\n\u001b[0;32m      4\u001b[0m     \u001b[38;5;129;01mor\u001b[39;00m (person3_age \u001b[38;5;241m>\u001b[39m\u001b[38;5;241m=\u001b[39m \u001b[38;5;241m18\u001b[39m \u001b[38;5;129;01mand\u001b[39;00m person3_age \u001b[38;5;241m<\u001b[39m\u001b[38;5;241m=\u001b[39m \u001b[38;5;241m65\u001b[39m)\n\u001b[0;32m      5\u001b[0m )\n\u001b[0;32m      7\u001b[0m someone_is_of_working_age\n",
      "\u001b[1;31mNameError\u001b[0m: name 'person1_age' is not defined"
     ]
    }
   ],
   "source": [
    "someone_is_of_working_age = (\n",
    "    (person1_age >= 18 and person1_age <= 65)\n",
    "    or (person2_age >= 18 and person2_age <= 65)\n",
    "    or (person3_age >= 18 and person3_age <= 65)\n",
    ")\n",
    "\n",
    "someone_is_of_working_age"
   ]
  },
  {
   "cell_type": "markdown",
   "id": "6c36d426",
   "metadata": {},
   "source": [
    "2) Explicit Line Continuation"
   ]
  },
  {
   "cell_type": "code",
   "execution_count": null,
   "id": "8f023400",
   "metadata": {},
   "outputs": [],
   "source": []
  }
 ],
 "metadata": {
  "kernelspec": {
   "display_name": "Python 3 (ipykernel)",
   "language": "python",
   "name": "python3"
  },
  "language_info": {
   "codemirror_mode": {
    "name": "ipython",
    "version": 3
   },
   "file_extension": ".py",
   "mimetype": "text/x-python",
   "name": "python",
   "nbconvert_exporter": "python",
   "pygments_lexer": "ipython3",
   "version": "3.9.12"
  }
 },
 "nbformat": 4,
 "nbformat_minor": 5
}
