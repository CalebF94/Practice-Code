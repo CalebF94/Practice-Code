{
 "cells": [
  {
   "cell_type": "markdown",
   "id": "ecaa3a21",
   "metadata": {},
   "source": [
    "# Python Program Lexical Structure\n",
    "What you'll cover:\n",
    "1) Syntactic elements that comprise statements  \n",
    "2) Basic units that make up a Python program  \n",
    "3) Course will prepare you for the next tutorials covering control structures"
   ]
  },
  {
   "cell_type": "markdown",
   "id": "9b4cf572",
   "metadata": {},
   "source": [
    "### Python Statements\n",
    "Statements are the basic units of instruction that the Python interpreter parses and processes  \n",
    "\n",
    "Typically, Python programs are organized with one statement per line\n",
    "\n",
    "When commands are typed at the `>>>` prompt, an output is displayed. This only happens interactively(like in a Jupyter Notebook). In a script file no output will appear"
   ]
  },
  {
   "cell_type": "markdown",
   "id": "8bd8f6c6",
   "metadata": {},
   "source": [
    "### Line Continuation\n",
    "Sometimes your code can become long to fit inside the browser window, such as the nested list below:"
   ]
  },
  {
   "cell_type": "code",
   "execution_count": 1,
   "id": "405fd26d",
   "metadata": {},
   "outputs": [
    {
     "data": {
      "text/plain": [
       "[[1, 2, 3, 4, 5],\n",
       " [6, 7, 8, 9, 10],\n",
       " [11, 12, 13, 14, 15],\n",
       " [16, 17, 18, 19, 20],\n",
       " [21, 22, 23, 24, 25]]"
      ]
     },
     "execution_count": 1,
     "metadata": {},
     "output_type": "execute_result"
    }
   ],
   "source": [
    "a = [[1, 2, 3, 4, 5], [6, 7, 8, 9, 10], [11, 12, 13, 14, 15], [16, 17, 18, 19, 20], [21, 22, 23, 24, 25]]\n",
    "a"
   ]
  },
  {
   "cell_type": "markdown",
   "id": "3e17a0e3",
   "metadata": {},
   "source": [
    "Most editors can be configured to wrap text, so that the ends of long lines are at least visible and don't disappear out the right edge of the editor window.\n",
    "\n",
    "According to PEP(Python Enhancement Proposal) the maximum line length should be 79 characters.\n",
    "\n",
    "When more characters are needed you should break the code into parts across several lines. There are several ways to do this:\n",
    "1) Implicit Line Continuation.\n",
    "- This occures when there are unmatch opening brackets or parentheses. Python will presume a statement is not complete until all brackets/parentheses are closed."
   ]
  },
  {
   "cell_type": "code",
   "execution_count": 2,
   "id": "469b17d3",
   "metadata": {},
   "outputs": [
    {
     "data": {
      "text/plain": [
       "[[1, 2, 3, 4, 5],\n",
       " [6, 7, 8, 9, 10],\n",
       " [11, 12, 13, 14, 15],\n",
       " [16, 17, 18, 19, 20],\n",
       " [21, 22, 23, 24, 25]]"
      ]
     },
     "execution_count": 2,
     "metadata": {},
     "output_type": "execute_result"
    }
   ],
   "source": [
    "a = [\n",
    "    [1, 2, 3, 4, 5],\n",
    "    [6, 7, 8, 9, 10],\n",
    "    [11, 12, 13, 14, 15],\n",
    "    [16, 17, 18, 19, 20],\n",
    "    [21, 22, 23, 24, 25]\n",
    "]\n",
    "a"
   ]
  },
  {
   "cell_type": "markdown",
   "id": "12a2758e",
   "metadata": {},
   "source": [
    "This can also be accomplished by simply wrapping a statement in `()`"
   ]
  },
  {
   "cell_type": "code",
   "execution_count": 3,
   "id": "9d185eed",
   "metadata": {},
   "outputs": [
    {
     "ename": "NameError",
     "evalue": "name 'person1_age' is not defined",
     "output_type": "error",
     "traceback": [
      "\u001b[1;31m---------------------------------------------------------------------------\u001b[0m",
      "\u001b[1;31mNameError\u001b[0m                                 Traceback (most recent call last)",
      "Input \u001b[1;32mIn [3]\u001b[0m, in \u001b[0;36m<cell line: 2>\u001b[1;34m()\u001b[0m\n\u001b[0;32m      1\u001b[0m someone_is_of_working_age \u001b[38;5;241m=\u001b[39m (\n\u001b[1;32m----> 2\u001b[0m     (\u001b[43mperson1_age\u001b[49m \u001b[38;5;241m>\u001b[39m\u001b[38;5;241m=\u001b[39m \u001b[38;5;241m18\u001b[39m \u001b[38;5;129;01mand\u001b[39;00m person1_age \u001b[38;5;241m<\u001b[39m\u001b[38;5;241m=\u001b[39m \u001b[38;5;241m65\u001b[39m)\n\u001b[0;32m      3\u001b[0m     \u001b[38;5;129;01mor\u001b[39;00m (person2_age \u001b[38;5;241m>\u001b[39m\u001b[38;5;241m=\u001b[39m \u001b[38;5;241m18\u001b[39m \u001b[38;5;129;01mand\u001b[39;00m person2_age \u001b[38;5;241m<\u001b[39m\u001b[38;5;241m=\u001b[39m \u001b[38;5;241m65\u001b[39m)\n\u001b[0;32m      4\u001b[0m     \u001b[38;5;129;01mor\u001b[39;00m (person3_age \u001b[38;5;241m>\u001b[39m\u001b[38;5;241m=\u001b[39m \u001b[38;5;241m18\u001b[39m \u001b[38;5;129;01mand\u001b[39;00m person3_age \u001b[38;5;241m<\u001b[39m\u001b[38;5;241m=\u001b[39m \u001b[38;5;241m65\u001b[39m)\n\u001b[0;32m      5\u001b[0m )\n\u001b[0;32m      7\u001b[0m someone_is_of_working_age\n",
      "\u001b[1;31mNameError\u001b[0m: name 'person1_age' is not defined"
     ]
    }
   ],
   "source": [
    "someone_is_of_working_age = (\n",
    "    (person1_age >= 18 and person1_age <= 65)\n",
    "    or (person2_age >= 18 and person2_age <= 65)\n",
    "    or (person3_age >= 18 and person3_age <= 65)\n",
    ")\n",
    "\n",
    "someone_is_of_working_age"
   ]
  },
  {
   "cell_type": "markdown",
   "id": "6c36d426",
   "metadata": {},
   "source": [
    "2) Explicit Line Continuation"
   ]
  },
  {
   "cell_type": "markdown",
   "id": "21891339",
   "metadata": {},
   "source": [
    "To indicate exlicit line continuation, you can specify a backslash (\\) character as the final character on the line. Make sure there is no white space after the backslash"
   ]
  },
  {
   "cell_type": "code",
   "execution_count": 4,
   "id": "18f24a90",
   "metadata": {},
   "outputs": [],
   "source": [
    "s = \\\n",
    "'hello world!'"
   ]
  },
  {
   "cell_type": "code",
   "execution_count": 5,
   "id": "de65efc8",
   "metadata": {},
   "outputs": [
    {
     "data": {
      "text/plain": [
       "'hello world!'"
      ]
     },
     "execution_count": 5,
     "metadata": {},
     "output_type": "execute_result"
    }
   ],
   "source": [
    "s"
   ]
  },
  {
   "cell_type": "code",
   "execution_count": 7,
   "id": "029512d2",
   "metadata": {},
   "outputs": [
    {
     "data": {
      "text/plain": [
       "15"
      ]
     },
     "execution_count": 7,
     "metadata": {},
     "output_type": "execute_result"
    }
   ],
   "source": [
    "x = 1 + 2 \\\n",
    "+ 3 + 4 \\\n",
    "+ 5\n",
    "\n",
    "x"
   ]
  },
  {
   "cell_type": "markdown",
   "id": "07b47d29",
   "metadata": {},
   "source": [
    "### Multiple Statements per Line\n",
    "Multiple statements may occur on one line if they are separated by a semicolon. \n",
    "\n",
    "stylistically, this is frowned upon, usually there is a way to make the code more 'pythonic' that is easier to read. See the examples below:"
   ]
  },
  {
   "cell_type": "code",
   "execution_count": 8,
   "id": "fe2bf195",
   "metadata": {},
   "outputs": [
    {
     "name": "stdout",
     "output_type": "stream",
     "text": [
      "1\n",
      "2\n",
      "3\n"
     ]
    }
   ],
   "source": [
    "x = 1; y = 2; z = 3\n",
    "print(x); print(y); print(z)"
   ]
  },
  {
   "cell_type": "markdown",
   "id": "bd77fab1",
   "metadata": {},
   "source": [
    "While the above code works, the following is considered more pythonic"
   ]
  },
  {
   "cell_type": "code",
   "execution_count": 9,
   "id": "44d566c3",
   "metadata": {},
   "outputs": [
    {
     "name": "stdout",
     "output_type": "stream",
     "text": [
      "1\n",
      "2\n",
      "3\n"
     ]
    }
   ],
   "source": [
    "x, y, z = 1, 2, 3\n",
    "print(x, y, z, sep = '\\n')"
   ]
  },
  {
   "cell_type": "markdown",
   "id": "ec271158",
   "metadata": {},
   "source": [
    "### Comments\n",
    "The `#` character signifies a comment in python.\n",
    "\n",
    "Comments can be included within implicit line continuation:"
   ]
  },
  {
   "cell_type": "code",
   "execution_count": 10,
   "id": "a4f65b60",
   "metadata": {},
   "outputs": [
    {
     "data": {
      "text/plain": [
       "21"
      ]
     },
     "execution_count": 10,
     "metadata": {},
     "output_type": "execute_result"
    }
   ],
   "source": [
    "x = (1 + 2   # This is a comment\n",
    "    + 3 + 4\n",
    "    + 5 + 6)\n",
    "\n",
    "x"
   ]
  },
  {
   "cell_type": "markdown",
   "id": "c8c908d3",
   "metadata": {},
   "source": [
    "However comments can't be contained within explicit line continuation. This is because nothing can follow the \\ "
   ]
  },
  {
   "cell_type": "code",
   "execution_count": 12,
   "id": "be0573f0",
   "metadata": {},
   "outputs": [
    {
     "ename": "SyntaxError",
     "evalue": "unexpected character after line continuation character (4230875798.py, line 1)",
     "output_type": "error",
     "traceback": [
      "\u001b[1;36m  Input \u001b[1;32mIn [12]\u001b[1;36m\u001b[0m\n\u001b[1;33m    x = 1 + 2 \\ #This is an illegal comment\u001b[0m\n\u001b[1;37m               ^\u001b[0m\n\u001b[1;31mSyntaxError\u001b[0m\u001b[1;31m:\u001b[0m unexpected character after line continuation character\n"
     ]
    }
   ],
   "source": [
    "x = 1 + 2 \\ #This is an illegal comment\n",
    "+ 3\n",
    "\n",
    "x"
   ]
  },
  {
   "cell_type": "markdown",
   "id": "d227aaeb",
   "metadata": {},
   "source": [
    "### Multiline Comments\n",
    "Multiline comments are most easily created by starting each line with a hash. In a scripted file, triple quoted strings can effectily function as a multiline comment. This works b/c Python ignores a string literal if it appears as a statement by itself. "
   ]
  },
  {
   "cell_type": "code",
   "execution_count": 13,
   "id": "47345f67",
   "metadata": {},
   "outputs": [
    {
     "name": "stdout",
     "output_type": "stream",
     "text": [
      "HEllo\n"
     ]
    }
   ],
   "source": [
    "# This is a simple multiline comment\n",
    "#\n",
    "# Words words words\n",
    "print(\"Hello\")"
   ]
  },
  {
   "cell_type": "code",
   "execution_count": 14,
   "id": "4b4ee338",
   "metadata": {},
   "outputs": [
    {
     "name": "stdout",
     "output_type": "stream",
     "text": [
      "Hello\n"
     ]
    }
   ],
   "source": [
    "\"\"\"Start of a comment\n",
    "\n",
    "This is one big comment\n",
    "Describing the code\n",
    "\"\"\"\n",
    "print(\"Hello\")"
   ]
  },
  {
   "cell_type": "markdown",
   "id": "f835dbde",
   "metadata": {},
   "source": [
    "The triple quoted block comment is officially discouraged by PEP 8 due the creation of a python construct called a docstring."
   ]
  },
  {
   "cell_type": "markdown",
   "id": "840ebbb8",
   "metadata": {},
   "source": [
    "### Whitespace\n",
    "\n",
    "| Character | ACSII Code | Literal Expression |\n",
    "| --- | --- | --- |\n",
    "| Space | 32 (0x20) | ' ' |\n",
    "| tab | 9 (0x9) | '\\t' |\n",
    "| newline | 10 (0xa) | '\\n' |"
   ]
  },
  {
   "cell_type": "markdown",
   "id": "c160547d",
   "metadata": {},
   "source": [
    "Typically white space is ignored and doesn't cause an issue. \n",
    "\n",
    "Whitespace is really only required to separate indentifiers, such as separating variable names from keywords"
   ]
  },
  {
   "cell_type": "code",
   "execution_count": 15,
   "id": "ebb2bed5",
   "metadata": {},
   "outputs": [
    {
     "data": {
      "text/plain": [
       "True"
      ]
     },
     "execution_count": 15,
     "metadata": {},
     "output_type": "execute_result"
    }
   ],
   "source": [
    "s = 'bar'\n",
    "s in ['foo', 'bar']"
   ]
  },
  {
   "cell_type": "code",
   "execution_count": 16,
   "id": "8dd66444",
   "metadata": {},
   "outputs": [
    {
     "ename": "NameError",
     "evalue": "name 'sin' is not defined",
     "output_type": "error",
     "traceback": [
      "\u001b[1;31m---------------------------------------------------------------------------\u001b[0m",
      "\u001b[1;31mNameError\u001b[0m                                 Traceback (most recent call last)",
      "Input \u001b[1;32mIn [16]\u001b[0m, in \u001b[0;36m<cell line: 1>\u001b[1;34m()\u001b[0m\n\u001b[1;32m----> 1\u001b[0m \u001b[43msin\u001b[49m [\u001b[38;5;124m'\u001b[39m\u001b[38;5;124mfoo\u001b[39m\u001b[38;5;124m'\u001b[39m, \u001b[38;5;124m'\u001b[39m\u001b[38;5;124mbar\u001b[39m\u001b[38;5;124m'\u001b[39m]\n",
      "\u001b[1;31mNameError\u001b[0m: name 'sin' is not defined"
     ]
    }
   ],
   "source": [
    "sin ['foo', 'bar']"
   ]
  },
  {
   "cell_type": "markdown",
   "id": "39656303",
   "metadata": {},
   "source": [
    "### Whitespace as Indentation\n",
    "In python indentation is not ignored. It is used in grouping of statements; think inside for loops for functions.\n",
    "\n"
   ]
  },
  {
   "cell_type": "code",
   "execution_count": 17,
   "id": "0045e5a4",
   "metadata": {},
   "outputs": [
    {
     "ename": "IndentationError",
     "evalue": "unexpected indent (4088312422.py, line 2)",
     "output_type": "error",
     "traceback": [
      "\u001b[1;36m  Input \u001b[1;32mIn [17]\u001b[1;36m\u001b[0m\n\u001b[1;33m    y = 1\u001b[0m\n\u001b[1;37m    ^\u001b[0m\n\u001b[1;31mIndentationError\u001b[0m\u001b[1;31m:\u001b[0m unexpected indent\n"
     ]
    }
   ],
   "source": [
    "x = 1 + 2\n",
    "    y = 1\n",
    "    \n",
    "x + y"
   ]
  },
  {
   "cell_type": "code",
   "execution_count": null,
   "id": "82f82730",
   "metadata": {},
   "outputs": [],
   "source": []
  }
 ],
 "metadata": {
  "kernelspec": {
   "display_name": "Python 3 (ipykernel)",
   "language": "python",
   "name": "python3"
  },
  "language_info": {
   "codemirror_mode": {
    "name": "ipython",
    "version": 3
   },
   "file_extension": ".py",
   "mimetype": "text/x-python",
   "name": "python",
   "nbconvert_exporter": "python",
   "pygments_lexer": "ipython3",
   "version": "3.9.12"
  }
 },
 "nbformat": 4,
 "nbformat_minor": 5
}
