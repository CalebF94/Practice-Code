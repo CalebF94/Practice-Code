{
 "cells": [
  {
   "cell_type": "markdown",
   "id": "cb84cdcc",
   "metadata": {},
   "source": [
    "# Python If Statement\n",
    "Used everday in pretty much any program\n",
    "\n",
    "### Sequential Execution vs Flow Control\n",
    "Only want to execute code if a certain criteria is met.\n",
    "\n",
    "syntax for an if statement:\n",
    "\n",
    "` if <expression>:\n",
    "    <Statement>`\n",
    "    \n",
    "`<statement>` only executes if the expression is true"
   ]
  },
  {
   "cell_type": "code",
   "execution_count": 4,
   "id": "517e2760",
   "metadata": {},
   "outputs": [
    {
     "name": "stdout",
     "output_type": "stream",
     "text": [
      "10 is greater than 3\n"
     ]
    }
   ],
   "source": [
    "x = 10 \n",
    "y = 3\n",
    "\n",
    "if x > y:\n",
    "    print(f'{x} is greater than {y}')"
   ]
  },
  {
   "cell_type": "code",
   "execution_count": 5,
   "id": "4bffb3fd",
   "metadata": {},
   "outputs": [
    {
     "name": "stdout",
     "output_type": "stream",
     "text": [
      "yes, its a sport\n"
     ]
    }
   ],
   "source": [
    "sports_list = ['baseball', 'hockey', 'dodgeball']\n",
    "if 'dodgeball' in sports_list:\n",
    "    print('yes, its a sport')"
   ]
  },
  {
   "cell_type": "markdown",
   "id": "60d607b5",
   "metadata": {},
   "source": [
    "## Else and elif Clauses\n",
    "Can use `else` and `elif` if the original expression is not true or if you want to evaluate for multiple conditions. If using elif, python will short circuit once the first statement evaluates to True"
   ]
  },
  {
   "cell_type": "code",
   "execution_count": 9,
   "id": "56eaae4b",
   "metadata": {},
   "outputs": [
    {
     "name": "stdout",
     "output_type": "stream",
     "text": [
      "Total Calories Today: 500\n",
      "Sure You can eat\n"
     ]
    }
   ],
   "source": [
    "cals_consumed = 400\n",
    "cals_in_item = 100\n",
    "total_cals = cals_consumed + cals_in_item\n",
    "print(f'Total Calories Today: {total_cals}')\n",
    "\n",
    "if total_cals >= 1600:\n",
    "    print(\"Don't eat it\")\n",
    "    \n",
    "elif total_cals < 300:\n",
    "    print(\"Eat a larger portion\")\n",
    "    \n",
    "else:\n",
    "    print(\"Sure You can eat\")"
   ]
  },
  {
   "cell_type": "markdown",
   "id": "2b505853",
   "metadata": {},
   "source": [
    "## One liners\n",
    "It is possible to write an if statement in a single line. Purely for readability. No python law states you have to use them.\n",
    "\n",
    "`if <expr>: <statement>`\n",
    "\n",
    "`if <expr>: <Statement>; <statement>; <statement>`\n",
    "\n",
    "\n",
    "\n"
   ]
  },
  {
   "cell_type": "markdown",
   "id": "44eeb8c4",
   "metadata": {},
   "source": [
    "## Condition Expressions\n",
    "\n",
    "Stream lines and if else statement to a single line. Most often used to assign to a variable.\n",
    "\n",
    "`<statement1> if <exp> else <statement2>`"
   ]
  },
  {
   "cell_type": "code",
   "execution_count": 11,
   "id": "e0e7dec2",
   "metadata": {},
   "outputs": [
    {
     "data": {
      "text/plain": [
       "'Yes'"
      ]
     },
     "execution_count": 11,
     "metadata": {},
     "output_type": "execute_result"
    }
   ],
   "source": [
    "dog_lover = True\n",
    "buy_a_dog = 'Yes' if dog_lover else 'Nope'\n",
    "\n",
    "buy_a_dog"
   ]
  },
  {
   "cell_type": "markdown",
   "id": "fea2c0b7",
   "metadata": {},
   "source": [
    "## The Pass Statement\n",
    "Use the pass statement as a placeholder. Common if you want to come back to something.\n",
    "\n",
    "The code below doesn't have any code after the first condition in the if statement. This causes an exception."
   ]
  },
  {
   "cell_type": "code",
   "execution_count": 14,
   "id": "0dda6c2f",
   "metadata": {},
   "outputs": [
    {
     "ename": "IndentationError",
     "evalue": "expected an indented block (227438974.py, line 9)",
     "output_type": "error",
     "traceback": [
      "\u001b[1;36m  Input \u001b[1;32mIn [14]\u001b[1;36m\u001b[0m\n\u001b[1;33m    elif total_cals < 300:\u001b[0m\n\u001b[1;37m    ^\u001b[0m\n\u001b[1;31mIndentationError\u001b[0m\u001b[1;31m:\u001b[0m expected an indented block\n"
     ]
    }
   ],
   "source": [
    "cals_consumed = 1600\n",
    "cals_in_item = 100\n",
    "total_cals = cals_consumed + cals_in_item\n",
    "print(f'Total Calories Today: {total_cals}')\n",
    "\n",
    "if total_cals >= 1600:\n",
    "    \n",
    "    \n",
    "elif total_cals < 300:\n",
    "    print(\"Eat a larger portion\")\n",
    "    \n",
    "else:\n",
    "    print(\"Sure You can eat\")"
   ]
  },
  {
   "cell_type": "markdown",
   "id": "38271f10",
   "metadata": {},
   "source": [
    "This code is the exact same except it has a `pass` statement after the first condition in the if statement. This program runs successfully."
   ]
  },
  {
   "cell_type": "code",
   "execution_count": 15,
   "id": "366406f1",
   "metadata": {},
   "outputs": [
    {
     "name": "stdout",
     "output_type": "stream",
     "text": [
      "Total Calories Today: 1700\n"
     ]
    }
   ],
   "source": [
    "cals_consumed = 1600\n",
    "cals_in_item = 100\n",
    "total_cals = cals_consumed + cals_in_item\n",
    "print(f'Total Calories Today: {total_cals}')\n",
    "\n",
    "if total_cals >= 1600:\n",
    "    pass\n",
    "    \n",
    "elif total_cals < 300:\n",
    "    print(\"Eat a larger portion\")\n",
    "    \n",
    "else:\n",
    "    print(\"Sure You can eat\")"
   ]
  },
  {
   "cell_type": "markdown",
   "id": "39c1dbfe",
   "metadata": {},
   "source": [
    "## Food Tracker App and Summary\n"
   ]
  },
  {
   "cell_type": "code",
   "execution_count": 22,
   "id": "4dd4101d",
   "metadata": {},
   "outputs": [
    {
     "name": "stdout",
     "output_type": "stream",
     "text": [
      "------------------------------\n",
      "Food Tracker App\n",
      "------------------------------\n",
      "\n",
      "Its Saturday. Should I eat cake and ice cream today\n",
      "Did you eat healthy on sun\n",
      "\"Y\" or \"N\"N\n",
      "Did you eat healthy on mon\n",
      "\"Y\" or \"N\"N\n",
      "Did you eat healthy on tue\n",
      "\"Y\" or \"N\"N\n",
      "Did you eat healthy on wed\n",
      "\"Y\" or \"N\"N\n",
      "Did you eat healthy on thur\n",
      "\"Y\" or \"N\"Y\n",
      "Did you eat healthy on fri\n",
      "\"Y\" or \"N\"Y\n",
      "Did you eat healthy on sat\n",
      "\"Y\" or \"N\"Y\n",
      "\n",
      "Calculating the answer...\n",
      "Tough Week. No dessert\n"
     ]
    }
   ],
   "source": [
    "print('-'*30)\n",
    "print(\"Food Tracker App\")\n",
    "print('-'*30)\n",
    "print()\n",
    "\n",
    "print('Its Saturday. Should I eat cake and ice cream today')\n",
    "\n",
    "weekdays = ['sun', 'mon', 'tue', 'wed', 'thur', 'fri', 'sat']\n",
    "answers = []\n",
    "\n",
    "for i in weekdays:\n",
    "    print(f\"Did you eat healthy on {i}\")\n",
    "    answer = input('\"Y\" or \"N\"')\n",
    "    if answer == 'Y':\n",
    "        answers.append(answer)\n",
    "        \n",
    "print()\n",
    "print('Calculating the answer...')\n",
    "\n",
    "if len(answers) == 6:\n",
    "    print('Yes eat the cake and ice cream')\n",
    "elif len(answers) == 5:\n",
    "    print(\"Eat only cake\")\n",
    "else:\n",
    "    print(\"Tough Week. No dessert\")"
   ]
  },
  {
   "cell_type": "code",
   "execution_count": null,
   "id": "294be04e",
   "metadata": {},
   "outputs": [],
   "source": []
  }
 ],
 "metadata": {
  "kernelspec": {
   "display_name": "Python 3 (ipykernel)",
   "language": "python",
   "name": "python3"
  },
  "language_info": {
   "codemirror_mode": {
    "name": "ipython",
    "version": 3
   },
   "file_extension": ".py",
   "mimetype": "text/x-python",
   "name": "python",
   "nbconvert_exporter": "python",
   "pygments_lexer": "ipython3",
   "version": "3.9.12"
  }
 },
 "nbformat": 4,
 "nbformat_minor": 5
}
