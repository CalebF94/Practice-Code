{
 "cells": [
  {
   "cell_type": "markdown",
   "id": "4d0b2d6f",
   "metadata": {},
   "source": [
    "# Dictionaries in Python\n",
    "+ What is a Dictionary\n",
    "+ Incrementally Building a Dictionary\n",
    "+ Restrictions on Keys and Values\n",
    "+ Operators and Methods\n",
    "\n",
    "### What is a Dictionary\n",
    "A dictionary is a set of key value pairs. Keys are unique.\n",
    "Some Traits:\n",
    "+ mutable\n",
    "+ Dynamic\n",
    "+ Nestable\n",
    "\n",
    "Defining a dictionary:\n",
    "\n",
    "`your_dictionary = {\n",
    "    key: value,\n",
    "    key: value\n",
    "}`"
   ]
  },
  {
   "cell_type": "code",
   "execution_count": 3,
   "id": "263cef7e",
   "metadata": {},
   "outputs": [
    {
     "data": {
      "text/plain": [
       "{'daredevil': 'kingpin', 'x-men': 'apocalypse', 'batman': 'bane'}"
      ]
     },
     "execution_count": 3,
     "metadata": {},
     "output_type": "execute_result"
    }
   ],
   "source": [
    "bad_guy = {\n",
    "    'daredevil': 'kingpin',\n",
    "    'x-men': 'apocalypse',\n",
    "    'batman': 'bane'\n",
    "}\n",
    "\n",
    "bad_guy"
   ]
  },
  {
   "cell_type": "markdown",
   "id": "de63b38d",
   "metadata": {},
   "source": [
    "Retrieve a value by specifying its key in square brackets"
   ]
  },
  {
   "cell_type": "code",
   "execution_count": 5,
   "id": "060328a6",
   "metadata": {},
   "outputs": [
    {
     "data": {
      "text/plain": [
       "'bane'"
      ]
     },
     "execution_count": 5,
     "metadata": {},
     "output_type": "execute_result"
    }
   ],
   "source": [
    "bad_guy['batman']"
   ]
  },
  {
   "cell_type": "code",
   "execution_count": 6,
   "id": "0b0fd115",
   "metadata": {},
   "outputs": [
    {
     "data": {
      "text/plain": [
       "'apocalypse'"
      ]
     },
     "execution_count": 6,
     "metadata": {},
     "output_type": "execute_result"
    }
   ],
   "source": [
    "bad_guy['x-men']"
   ]
  },
  {
   "cell_type": "markdown",
   "id": "7add7998",
   "metadata": {},
   "source": [
    "To add a new key just specify it in square brackets"
   ]
  },
  {
   "cell_type": "code",
   "execution_count": 8,
   "id": "c6a90073",
   "metadata": {},
   "outputs": [
    {
     "data": {
      "text/plain": [
       "{'daredevil': 'kingpin',\n",
       " 'x-men': 'apocalypse',\n",
       " 'batman': 'bane',\n",
       " 'deadpool': 'evil deadpool'}"
      ]
     },
     "execution_count": 8,
     "metadata": {},
     "output_type": "execute_result"
    }
   ],
   "source": [
    "bad_guy['deadpool'] = 'evil deadpool'\n",
    "bad_guy"
   ]
  },
  {
   "cell_type": "markdown",
   "id": "41e3dcfa",
   "metadata": {},
   "source": [
    "To modify a value just reassign it"
   ]
  },
  {
   "cell_type": "code",
   "execution_count": 10,
   "id": "3ef587f2",
   "metadata": {},
   "outputs": [
    {
     "data": {
      "text/plain": [
       "{'daredevil': 'kingpin',\n",
       " 'x-men': 'juggernaut',\n",
       " 'batman': 'bane',\n",
       " 'deadpool': 'evil deadpool'}"
      ]
     },
     "execution_count": 10,
     "metadata": {},
     "output_type": "execute_result"
    }
   ],
   "source": [
    "bad_guy['x-men'] = 'juggernaut'\n",
    "bad_guy"
   ]
  },
  {
   "cell_type": "markdown",
   "id": "5caa6afa",
   "metadata": {},
   "source": [
    "To delete use `del` statement and specify a key"
   ]
  },
  {
   "cell_type": "code",
   "execution_count": 13,
   "id": "45c8e2b6",
   "metadata": {},
   "outputs": [],
   "source": [
    "del bad_guy['x-men']"
   ]
  },
  {
   "cell_type": "markdown",
   "id": "1bd74bfe",
   "metadata": {},
   "source": [
    "You cannot specify a value using an index. This is because you can use a digit as a key"
   ]
  },
  {
   "cell_type": "markdown",
   "id": "1ee40a60",
   "metadata": {},
   "source": [
    "### Incrementally Building a Dictionary\n",
    "You can initialize an empty dict and add to it incrementally"
   ]
  },
  {
   "cell_type": "code",
   "execution_count": 14,
   "id": "70e15ecc",
   "metadata": {},
   "outputs": [],
   "source": [
    "my_profile = {}\n",
    "my_profile['fname'] = 'Caleb'\n",
    "my_profile['lname'] = 'Fornshell'\n",
    "my_profile['city'] = 'Minot'\n",
    "\n",
    "my_profile['past_jobs'] = ['analyst', 'groundskeeper', 'teacher']\n",
    "my_profile['transportation'] = {'bike': 'quest', 'car':'ford'}"
   ]
  },
  {
   "cell_type": "code",
   "execution_count": 15,
   "id": "6d7d7d2b",
   "metadata": {},
   "outputs": [
    {
     "data": {
      "text/plain": [
       "'Fornshell'"
      ]
     },
     "execution_count": 15,
     "metadata": {},
     "output_type": "execute_result"
    }
   ],
   "source": [
    "my_profile['lname']"
   ]
  },
  {
   "cell_type": "code",
   "execution_count": 16,
   "id": "a3b6f7bd",
   "metadata": {},
   "outputs": [
    {
     "data": {
      "text/plain": [
       "'groundskeeper'"
      ]
     },
     "execution_count": 16,
     "metadata": {},
     "output_type": "execute_result"
    }
   ],
   "source": [
    "my_profile['past_jobs'][1]"
   ]
  },
  {
   "cell_type": "code",
   "execution_count": 17,
   "id": "2f798d52",
   "metadata": {},
   "outputs": [
    {
     "data": {
      "text/plain": [
       "'ford'"
      ]
     },
     "execution_count": 17,
     "metadata": {},
     "output_type": "execute_result"
    }
   ],
   "source": [
    "my_profile['transportation']['car']"
   ]
  },
  {
   "cell_type": "markdown",
   "id": "a64726f1",
   "metadata": {},
   "source": [
    "### Restrictions on Keys and Values\n",
    "+ Keys Can only be used once\n",
    "+ keys must be immutable (numbers, boolean, tuples)\n",
    "+ Values and be ANYTHING"
   ]
  },
  {
   "cell_type": "markdown",
   "id": "5515ac48",
   "metadata": {},
   "source": [
    "### Operators and Methods\n",
    "\n"
   ]
  },
  {
   "cell_type": "code",
   "execution_count": 33,
   "id": "37d79f53",
   "metadata": {},
   "outputs": [],
   "source": [
    "bad_guy = {\n",
    "    'daredevil': 'kingpin', \n",
    "    'batman': 'bane', \n",
    "    'deadpool': 'evil deadpool'}"
   ]
  },
  {
   "cell_type": "markdown",
   "id": "2e1764f1",
   "metadata": {},
   "source": [
    "`in` and `not in` to check for keys\n",
    "\n",
    "Helps to avoid causing an error when trying to access value not in dict"
   ]
  },
  {
   "cell_type": "code",
   "execution_count": 34,
   "id": "8f5b9957",
   "metadata": {},
   "outputs": [
    {
     "data": {
      "text/plain": [
       "True"
      ]
     },
     "execution_count": 34,
     "metadata": {},
     "output_type": "execute_result"
    }
   ],
   "source": [
    "'deadpool' in bad_guy"
   ]
  },
  {
   "cell_type": "markdown",
   "id": "a8c6fa8a",
   "metadata": {},
   "source": [
    "`.get()` method to retrieve value. Useful because it doesn't raise an exception if the key isn't in the dict"
   ]
  },
  {
   "cell_type": "code",
   "execution_count": 35,
   "id": "5df0e71e",
   "metadata": {},
   "outputs": [
    {
     "data": {
      "text/plain": [
       "'evil deadpool'"
      ]
     },
     "execution_count": 35,
     "metadata": {},
     "output_type": "execute_result"
    }
   ],
   "source": [
    "bad_guy.get('deadpool')"
   ]
  },
  {
   "cell_type": "code",
   "execution_count": 36,
   "id": "63270ab6",
   "metadata": {},
   "outputs": [],
   "source": [
    "bad_guy.get('green arrow')"
   ]
  },
  {
   "cell_type": "markdown",
   "id": "dcb20b74",
   "metadata": {},
   "source": [
    "`.items()` method returns a list of the key value pairs. "
   ]
  },
  {
   "cell_type": "code",
   "execution_count": 37,
   "id": "3a49d3be",
   "metadata": {},
   "outputs": [
    {
     "data": {
      "text/plain": [
       "dict_items([('daredevil', 'kingpin'), ('batman', 'bane'), ('deadpool', 'evil deadpool')])"
      ]
     },
     "execution_count": 37,
     "metadata": {},
     "output_type": "execute_result"
    }
   ],
   "source": [
    "bad_guy.items()"
   ]
  },
  {
   "cell_type": "code",
   "execution_count": 38,
   "id": "3b1c1677",
   "metadata": {},
   "outputs": [
    {
     "data": {
      "text/plain": [
       "[('daredevil', 'kingpin'), ('batman', 'bane'), ('deadpool', 'evil deadpool')]"
      ]
     },
     "execution_count": 38,
     "metadata": {},
     "output_type": "execute_result"
    }
   ],
   "source": [
    "list(bad_guy.items())"
   ]
  },
  {
   "cell_type": "code",
   "execution_count": 39,
   "id": "1e281c96",
   "metadata": {},
   "outputs": [
    {
     "name": "stdout",
     "output_type": "stream",
     "text": [
      "kingpin\n",
      "bane\n",
      "evil deadpool\n"
     ]
    }
   ],
   "source": [
    "for i in list(bad_guy.items()):\n",
    "    print(i[1])"
   ]
  },
  {
   "cell_type": "markdown",
   "id": "847a73b8",
   "metadata": {},
   "source": [
    "`.keys()` and `.values()` methods do exactly what you'd expect"
   ]
  },
  {
   "cell_type": "code",
   "execution_count": 40,
   "id": "8bf47582",
   "metadata": {},
   "outputs": [
    {
     "data": {
      "text/plain": [
       "dict_keys(['daredevil', 'batman', 'deadpool'])"
      ]
     },
     "execution_count": 40,
     "metadata": {},
     "output_type": "execute_result"
    }
   ],
   "source": [
    "bad_guy.keys()"
   ]
  },
  {
   "cell_type": "code",
   "execution_count": 41,
   "id": "7729f94b",
   "metadata": {},
   "outputs": [
    {
     "data": {
      "text/plain": [
       "dict_values(['kingpin', 'bane', 'evil deadpool'])"
      ]
     },
     "execution_count": 41,
     "metadata": {},
     "output_type": "execute_result"
    }
   ],
   "source": [
    "bad_guy.values()"
   ]
  },
  {
   "cell_type": "markdown",
   "id": "16e51257",
   "metadata": {},
   "source": [
    "`.pop()` method removes and returns the specified item"
   ]
  },
  {
   "cell_type": "code",
   "execution_count": 42,
   "id": "b27039bb",
   "metadata": {},
   "outputs": [
    {
     "name": "stdout",
     "output_type": "stream",
     "text": [
      "evil deadpool\n"
     ]
    },
    {
     "data": {
      "text/plain": [
       "{'daredevil': 'kingpin', 'batman': 'bane'}"
      ]
     },
     "execution_count": 42,
     "metadata": {},
     "output_type": "execute_result"
    }
   ],
   "source": [
    "print(bad_guy.pop('deadpool'))\n",
    "bad_guy"
   ]
  },
  {
   "cell_type": "markdown",
   "id": "093b4a35",
   "metadata": {},
   "source": [
    "`bad_guy.popitem()` randomly removes and returns a dict item"
   ]
  },
  {
   "cell_type": "code",
   "execution_count": 44,
   "id": "367e48a2",
   "metadata": {},
   "outputs": [
    {
     "data": {
      "text/plain": [
       "('batman', 'bane')"
      ]
     },
     "execution_count": 44,
     "metadata": {},
     "output_type": "execute_result"
    }
   ],
   "source": [
    "bad_guy.popitem()"
   ]
  },
  {
   "cell_type": "code",
   "execution_count": 46,
   "id": "6c0f94cf",
   "metadata": {},
   "outputs": [
    {
     "data": {
      "text/plain": [
       "{'daredevil': 'kingpin'}"
      ]
     },
     "execution_count": 46,
     "metadata": {},
     "output_type": "execute_result"
    }
   ],
   "source": [
    "bad_guy"
   ]
  },
  {
   "cell_type": "code",
   "execution_count": 57,
   "id": "a087ef97",
   "metadata": {},
   "outputs": [],
   "source": [
    "d1 = {\n",
    "    'a': 'Robin',\n",
    "    'b': 'Galahad'\n",
    "}\n",
    "\n",
    "d2 = {\n",
    "    'c':'Rabbit',\n",
    "    'b': 'Black Knight',\n",
    "    'd': 'Shrubbery'\n",
    "}"
   ]
  },
  {
   "cell_type": "markdown",
   "id": "abb69eff",
   "metadata": {},
   "source": [
    "`.update()` method used to update or add key values pairs as arugments"
   ]
  },
  {
   "cell_type": "code",
   "execution_count": 58,
   "id": "cbe7458c",
   "metadata": {},
   "outputs": [
    {
     "data": {
      "text/plain": [
       "{'c': 'Ni', 'b': 'Black Knight', 'd': 'Green Knight'}"
      ]
     },
     "execution_count": 58,
     "metadata": {},
     "output_type": "execute_result"
    }
   ],
   "source": [
    "d2.update(c='Ni', d='Green Knight')\n",
    "d2"
   ]
  },
  {
   "cell_type": "markdown",
   "id": "e18e3d19",
   "metadata": {},
   "source": [
    "`.update()` can also be used to merge dictionaries"
   ]
  },
  {
   "cell_type": "code",
   "execution_count": 59,
   "id": "29a89493",
   "metadata": {},
   "outputs": [
    {
     "data": {
      "text/plain": [
       "{'a': 'Robin', 'b': 'Galahad'}"
      ]
     },
     "execution_count": 59,
     "metadata": {},
     "output_type": "execute_result"
    }
   ],
   "source": [
    "d1"
   ]
  },
  {
   "cell_type": "code",
   "execution_count": 60,
   "id": "fb65513a",
   "metadata": {},
   "outputs": [
    {
     "data": {
      "text/plain": [
       "{'c': 'Ni', 'b': 'Black Knight', 'd': 'Green Knight'}"
      ]
     },
     "execution_count": 60,
     "metadata": {},
     "output_type": "execute_result"
    }
   ],
   "source": [
    "d2"
   ]
  },
  {
   "cell_type": "code",
   "execution_count": 61,
   "id": "23f3403e",
   "metadata": {},
   "outputs": [],
   "source": [
    "d1.update(d2)"
   ]
  },
  {
   "cell_type": "code",
   "execution_count": 62,
   "id": "7285456a",
   "metadata": {},
   "outputs": [
    {
     "data": {
      "text/plain": [
       "{'a': 'Robin', 'b': 'Black Knight', 'c': 'Ni', 'd': 'Green Knight'}"
      ]
     },
     "execution_count": 62,
     "metadata": {},
     "output_type": "execute_result"
    }
   ],
   "source": [
    "d1"
   ]
  },
  {
   "cell_type": "markdown",
   "id": "47f8d079",
   "metadata": {},
   "source": [
    "`.clear()` empties all key value pairs"
   ]
  },
  {
   "cell_type": "code",
   "execution_count": 63,
   "id": "cb8f3627",
   "metadata": {},
   "outputs": [],
   "source": [
    "d1.clear()"
   ]
  },
  {
   "cell_type": "code",
   "execution_count": 64,
   "id": "267f5ee1",
   "metadata": {},
   "outputs": [
    {
     "data": {
      "text/plain": [
       "{}"
      ]
     },
     "execution_count": 64,
     "metadata": {},
     "output_type": "execute_result"
    }
   ],
   "source": [
    "d1"
   ]
  },
  {
   "cell_type": "code",
   "execution_count": 82,
   "id": "beef1cf7",
   "metadata": {},
   "outputs": [
    {
     "name": "stdout",
     "output_type": "stream",
     "text": [
      "OBJECTS\n",
      "CAMERA\n",
      "   - camera1\n",
      "LIGHTS\n",
      "   - light1\n",
      "   - light2\n",
      "   - light3\n"
     ]
    }
   ],
   "source": [
    "scene = { \n",
    "    \"objects\": [], \n",
    "    \"camera\": ['camera1'], \n",
    "    \"lights\": ['light1', 'light2', 'light3']  \n",
    "}\n",
    "\n",
    "for component, values in scene.items():\n",
    "    print(component.upper())\n",
    "    for value in values:\n",
    "        print(f'   - {value}')\n",
    "        "
   ]
  },
  {
   "cell_type": "code",
   "execution_count": 83,
   "id": "87047be6",
   "metadata": {},
   "outputs": [
    {
     "data": {
      "text/plain": [
       "dict_items([('objects', []), ('camera', ['camera1']), ('lights', ['light1', 'light2', 'light3'])])"
      ]
     },
     "execution_count": 83,
     "metadata": {},
     "output_type": "execute_result"
    }
   ],
   "source": [
    "scene.items()"
   ]
  },
  {
   "cell_type": "code",
   "execution_count": 84,
   "id": "086136f1",
   "metadata": {},
   "outputs": [
    {
     "data": {
      "text/plain": [
       "[('objects', []),\n",
       " ('camera', ['camera1']),\n",
       " ('lights', ['light1', 'light2', 'light3'])]"
      ]
     },
     "execution_count": 84,
     "metadata": {},
     "output_type": "execute_result"
    }
   ],
   "source": [
    "list(scene.items())"
   ]
  },
  {
   "cell_type": "code",
   "execution_count": 85,
   "id": "df02cea8",
   "metadata": {},
   "outputs": [],
   "source": [
    "d = dict(foo=100, bar=200, baz=300)"
   ]
  },
  {
   "cell_type": "code",
   "execution_count": 88,
   "id": "a5eb73b3",
   "metadata": {},
   "outputs": [],
   "source": [
    "dict = {len: 1}"
   ]
  },
  {
   "cell_type": "code",
   "execution_count": 89,
   "id": "abc55c42",
   "metadata": {},
   "outputs": [
    {
     "data": {
      "text/plain": [
       "{<function len(obj, /)>: 1}"
      ]
     },
     "execution_count": 89,
     "metadata": {},
     "output_type": "execute_result"
    }
   ],
   "source": [
    "dict"
   ]
  },
  {
   "cell_type": "code",
   "execution_count": null,
   "id": "64ede3e4",
   "metadata": {},
   "outputs": [],
   "source": []
  }
 ],
 "metadata": {
  "kernelspec": {
   "display_name": "Python 3 (ipykernel)",
   "language": "python",
   "name": "python3"
  },
  "language_info": {
   "codemirror_mode": {
    "name": "ipython",
    "version": 3
   },
   "file_extension": ".py",
   "mimetype": "text/x-python",
   "name": "python",
   "nbconvert_exporter": "python",
   "pygments_lexer": "ipython3",
   "version": "3.9.12"
  }
 },
 "nbformat": 4,
 "nbformat_minor": 5
}
