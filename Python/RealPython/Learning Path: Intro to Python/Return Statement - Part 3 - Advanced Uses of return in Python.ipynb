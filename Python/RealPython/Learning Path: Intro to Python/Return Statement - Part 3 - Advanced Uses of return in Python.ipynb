{
 "cells": [
  {
   "cell_type": "markdown",
   "id": "695a38b6",
   "metadata": {},
   "source": [
    "# `return` Statement: Advanced Uses\n",
    "\n",
    "### Closures\n",
    "+ Functions are first class objects  \n",
    "    + First class objects are objects that can be assigned to a variable, passed as an argument to a function or used as a return value in a function  \n",
    "    + Specifically we can use a function object as a return value in any `return` statement     \n",
    "+ A function that takes a function as an argument, or returns a function as a result is a *higher order function*  \n",
    "+ A *closure factory function* is a common example of a higher-order function\n",
    "    + This kind of function takes some arguments and returns an inner function  \n",
    "    + The inner function is commonly known as a closure  \n",
    "    + A closure carries info about its enclosing execution scope  \n",
    "    + Provides a way to retain state info between function calls  \n",
    "    + Closure factory functions are useful when you need to write code based on the concept of *lazy or delayed evaluation*\n",
    "    \n",
    "The following implementation of `by_factor()` uses a closure to retain the value of `factor` between calls:"
   ]
  },
  {
   "cell_type": "code",
   "execution_count": 2,
   "id": "a696845e",
   "metadata": {},
   "outputs": [],
   "source": [
    "def by_factor(factor):\n",
    "    def multiply(number):\n",
    "        return factor * number\n",
    "    return multiply"
   ]
  },
  {
   "cell_type": "markdown",
   "id": "76a43171",
   "metadata": {},
   "source": [
    "Inside by_factor(), you define an inner function called `multiply()` and return it without calling it.\n",
    "\n",
    "When we create `double` we essentially create a function that doubles any number that we pass to it. `double()` remembers that `factor = 2`"
   ]
  },
  {
   "cell_type": "code",
   "execution_count": 7,
   "id": "1b7f017b",
   "metadata": {},
   "outputs": [],
   "source": [
    "double = by_factor(2)"
   ]
  },
  {
   "cell_type": "code",
   "execution_count": 8,
   "id": "27a1251a",
   "metadata": {},
   "outputs": [
    {
     "data": {
      "text/plain": [
       "6"
      ]
     },
     "execution_count": 8,
     "metadata": {},
     "output_type": "execute_result"
    }
   ],
   "source": [
    "double(3)"
   ]
  },
  {
   "cell_type": "code",
   "execution_count": 9,
   "id": "bb1bcf81",
   "metadata": {},
   "outputs": [
    {
     "data": {
      "text/plain": [
       "15"
      ]
     },
     "execution_count": 9,
     "metadata": {},
     "output_type": "execute_result"
    }
   ],
   "source": [
    "triple = by_factor(3)\n",
    "triple(5)"
   ]
  },
  {
   "cell_type": "markdown",
   "id": "64221a9b",
   "metadata": {},
   "source": [
    "You can also use a *lambda* function to create closures. Sometimes the use of `lambda` function can make your closure factory more concise"
   ]
  },
  {
   "cell_type": "code",
   "execution_count": 11,
   "id": "d602cc13",
   "metadata": {},
   "outputs": [
    {
     "data": {
      "text/plain": [
       "10"
      ]
     },
     "execution_count": 11,
     "metadata": {},
     "output_type": "execute_result"
    }
   ],
   "source": [
    "def by_factor(factor):\n",
    "    return lambda number: factor * number\n",
    "\n",
    "double = by_factor(2)\n",
    "\n",
    "double(5)"
   ]
  },
  {
   "cell_type": "markdown",
   "id": "90286335",
   "metadata": {},
   "source": [
    "### Decorators\n",
    "+ A decorator takes a function object as an argument and returns a function object  \n",
    "+ The decorator processes the decorated function in some way and returns it or replaces it with another function or callable object.  \n",
    "+ Decorators are useful when you need to add extra logic to existing functions without modifying them  \n",
    "\n",
    "\n",
    "Example: a decorator function to get an idea of execution time of a function "
   ]
  },
  {
   "cell_type": "code",
   "execution_count": 16,
   "id": "f39a3318",
   "metadata": {},
   "outputs": [],
   "source": [
    "import time\n",
    "\n",
    "# a decorator function. added additional logic (timer)\n",
    "def my_timer(func):\n",
    "    def _timer(*args, **kwargs):\n",
    "        start = time.time()\n",
    "        result = func(*args, **kwargs)\n",
    "        end = time.time()\n",
    "        print(f\"execution time: {end - start}\")\n",
    "        return result\n",
    "    return _timer\n",
    "\n",
    "@my_timer\n",
    "def delayed_mean(sample):\n",
    "    time.sleep(1)\n",
    "    return sum(sample) / len(sample)"
   ]
  },
  {
   "cell_type": "markdown",
   "id": "1842306c",
   "metadata": {},
   "source": [
    "Notation using Closures:\n",
    "   + you may expect some_new_function = my_time(delayed_mean)  \n",
    "   + This isn't done in Python\n",
    "   \n",
    "Instead, in Python this is done using the syntax:  \n",
    "    `@my_timer  \n",
    "    def delayed_mean(sample):`  \n",
    "    \n",
    "This is equivalent to:  \n",
    "    `delayed_mean = my_timer(delayed_mean)`"
   ]
  },
  {
   "cell_type": "code",
   "execution_count": 18,
   "id": "a67345c4",
   "metadata": {},
   "outputs": [
    {
     "name": "stdout",
     "output_type": "stream",
     "text": [
      "execution time: 1.0119762420654297\n"
     ]
    },
    {
     "data": {
      "text/plain": [
       "3.3333333333333335"
      ]
     },
     "execution_count": 18,
     "metadata": {},
     "output_type": "execute_result"
    }
   ],
   "source": [
    "delayed_mean([1,2,3,4,2,3,4,5,6])"
   ]
  },
  {
   "cell_type": "code",
   "execution_count": 19,
   "id": "bcde37c3",
   "metadata": {},
   "outputs": [
    {
     "data": {
      "text/plain": [
       "1661219602.5510383"
      ]
     },
     "execution_count": 19,
     "metadata": {},
     "output_type": "execute_result"
    }
   ],
   "source": [
    "time.time()"
   ]
  },
  {
   "cell_type": "code",
   "execution_count": 22,
   "id": "8e85b3c2",
   "metadata": {},
   "outputs": [
    {
     "data": {
      "text/plain": [
       "1661219631.287281"
      ]
     },
     "execution_count": 22,
     "metadata": {},
     "output_type": "execute_result"
    }
   ],
   "source": [
    "time.time()"
   ]
  },
  {
   "cell_type": "markdown",
   "id": "af8efa88",
   "metadata": {},
   "source": [
    "### Factory Pattern \n",
    "+ The *Factory Pattern* defines an interface for creating objects on the fly in response to conditions that you can't predict when you're writing a program  \n",
    "+ You can implement a factory of user-defined objects using a function that takes saome initialization arguments and returns different objects according to the concrete input  \n",
    "+ Example) a painting application  \n",
    "    + You need to create different shapes on the fly in response to your user's choices\n",
    "    \n",
    "    \n",
    "First, you would need to create classes for each shape."
   ]
  },
  {
   "cell_type": "code",
   "execution_count": 24,
   "id": "edc31eaa",
   "metadata": {},
   "outputs": [],
   "source": [
    "class Circle:\n",
    "    def __init__(self, radius):\n",
    "        self.radius = radius\n",
    "    # Class Implementation\n",
    "    \n",
    "class Square:\n",
    "    def __init_(self, side):\n",
    "        self.side = side\n",
    "    # Class implementation"
   ]
  },
  {
   "cell_type": "markdown",
   "id": "c04e237d",
   "metadata": {},
   "source": [
    "Next you would create a function that takes a shape name and any attributes for that shape. This function would then use a dictionary to map the user input to the correct intitialization function for the shape"
   ]
  },
  {
   "cell_type": "code",
   "execution_count": 25,
   "id": "c21fcf2a",
   "metadata": {},
   "outputs": [],
   "source": [
    "def shape_factory(shape_name, *args, **kwargs):\n",
    "    shapes = {\"circle\": Circle, \"square\": Square}\n",
    "    return shapes[shape_name](*args, **kwargs)"
   ]
  },
  {
   "cell_type": "code",
   "execution_count": 26,
   "id": "20b10d6e",
   "metadata": {},
   "outputs": [],
   "source": [
    "circle = shape_factory('circle', radius = 20)"
   ]
  },
  {
   "cell_type": "code",
   "execution_count": 27,
   "id": "b598101d",
   "metadata": {},
   "outputs": [
    {
     "data": {
      "text/plain": [
       "<__main__.Circle at 0x1e696d44bb0>"
      ]
     },
     "execution_count": 27,
     "metadata": {},
     "output_type": "execute_result"
    }
   ],
   "source": [
    "circle"
   ]
  },
  {
   "cell_type": "code",
   "execution_count": 28,
   "id": "fe0c83bd",
   "metadata": {},
   "outputs": [
    {
     "data": {
      "text/plain": [
       "20"
      ]
     },
     "execution_count": 28,
     "metadata": {},
     "output_type": "execute_result"
    }
   ],
   "source": [
    "circle.radius"
   ]
  },
  {
   "cell_type": "markdown",
   "id": "1d7a2e70",
   "metadata": {},
   "source": [
    "### Using `return` in `try` ... `finally` Blocks\n",
    "+ When you use a return statement inside a `try` statement with a `finally` clause, that `finally` clause is always executed before the return statement.  \n",
    "+ This ensures that the code in the finally clause will always run. The `finally` clause is not dead code\n",
    "\n",
    "The function below attempts to convert a number to a float. If it can't the value will be returned as a string. Since there is a finally clause, the finally clause will run before the statement returns"
   ]
  },
  {
   "cell_type": "code",
   "execution_count": 31,
   "id": "79b25548",
   "metadata": {},
   "outputs": [],
   "source": [
    "def func(value):\n",
    "    try:\n",
    "        return float(value)\n",
    "    except ValueError:\n",
    "        return str(value)\n",
    "    finally: \n",
    "        # this gets run befor the function executes the return statement\n",
    "        print(\"Run this before returning\")"
   ]
  },
  {
   "cell_type": "code",
   "execution_count": 32,
   "id": "84b8af5b",
   "metadata": {},
   "outputs": [
    {
     "name": "stdout",
     "output_type": "stream",
     "text": [
      "Run this before returning\n"
     ]
    },
    {
     "data": {
      "text/plain": [
       "9.0"
      ]
     },
     "execution_count": 32,
     "metadata": {},
     "output_type": "execute_result"
    }
   ],
   "source": [
    "func(9)"
   ]
  },
  {
   "cell_type": "code",
   "execution_count": 34,
   "id": "bc550648",
   "metadata": {},
   "outputs": [
    {
     "name": "stdout",
     "output_type": "stream",
     "text": [
      "Run this before returning\n"
     ]
    },
    {
     "data": {
      "text/plain": [
       "'hello'"
      ]
     },
     "execution_count": 34,
     "metadata": {},
     "output_type": "execute_result"
    }
   ],
   "source": [
    "func(\"hello\")"
   ]
  },
  {
   "cell_type": "markdown",
   "id": "477967b8",
   "metadata": {},
   "source": [
    "### Using `return` in a Generator function\n",
    "\n",
    "A python function with a yield statement in its body is a generator function."
   ]
  }
 ],
 "metadata": {
  "kernelspec": {
   "display_name": "Python 3 (ipykernel)",
   "language": "python",
   "name": "python3"
  },
  "language_info": {
   "codemirror_mode": {
    "name": "ipython",
    "version": 3
   },
   "file_extension": ".py",
   "mimetype": "text/x-python",
   "name": "python",
   "nbconvert_exporter": "python",
   "pygments_lexer": "ipython3",
   "version": "3.9.12"
  }
 },
 "nbformat": 4,
 "nbformat_minor": 5
}
