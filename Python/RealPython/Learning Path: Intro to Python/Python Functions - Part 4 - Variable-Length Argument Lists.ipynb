{
 "cells": [
  {
   "cell_type": "markdown",
   "id": "7eedc86a",
   "metadata": {},
   "source": [
    "# Python Functions: Variable-Length Argument List\n",
    "\n",
    "Imagine we need to make a function to find the average of a set of numbers. How many parameters do we need? Python provides a system to solve this problem.\n",
    "\n",
    "### Argument Tuple Packing\n",
    "+ When a parameter name in a Python function definition is preceded by an asterisk, it indicates argument tuple packing  \n",
    "+ Any corresponding arguments in the function call are packed into a tuple that the function can refer to by the given parameter name  \n",
    "+ Python programmers conventionally use `args` for this parameter name"
   ]
  },
  {
   "cell_type": "code",
   "execution_count": 5,
   "id": "b27a08b0",
   "metadata": {},
   "outputs": [
    {
     "name": "stdout",
     "output_type": "stream",
     "text": [
      "(1, 2, 3)\n",
      "<class 'tuple'> 3\n",
      "1\n",
      "2\n",
      "3\n"
     ]
    }
   ],
   "source": [
    "def f(*args):\n",
    "    print(args)\n",
    "    print(type(args), len(args))\n",
    "    for x in args:\n",
    "        print(x)\n",
    "    \n",
    "f(1,2,3)"
   ]
  },
  {
   "cell_type": "markdown",
   "id": "54907918",
   "metadata": {},
   "source": [
    "f('foo', 'bar', 'baz', 'qux', 'quxx')"
   ]
  },
  {
   "cell_type": "markdown",
   "id": "040fa490",
   "metadata": {},
   "source": [
    "This would be useful for our average function. We can now pass in as many \n",
    "numbers as needed."
   ]
  },
  {
   "cell_type": "code",
   "execution_count": 7,
   "id": "80b01e33",
   "metadata": {},
   "outputs": [],
   "source": [
    "def avg(*args):\n",
    "    total = 0\n",
    "    for i in args:\n",
    "        total += i\n",
    "        \n",
    "    return total/len(args)"
   ]
  },
  {
   "cell_type": "code",
   "execution_count": 8,
   "id": "3044434c",
   "metadata": {},
   "outputs": [
    {
     "data": {
      "text/plain": [
       "2.0"
      ]
     },
     "execution_count": 8,
     "metadata": {},
     "output_type": "execute_result"
    }
   ],
   "source": [
    "avg(1,2,3)"
   ]
  },
  {
   "cell_type": "code",
   "execution_count": 9,
   "id": "7cd8fadc",
   "metadata": {},
   "outputs": [
    {
     "data": {
      "text/plain": [
       "2.8181818181818183"
      ]
     },
     "execution_count": 9,
     "metadata": {},
     "output_type": "execute_result"
    }
   ],
   "source": [
    "avg(1,2,3,2,3,4,2,3,4,3,4)"
   ]
  },
  {
   "cell_type": "markdown",
   "id": "e30e5d5a",
   "metadata": {},
   "source": [
    "### Argument Tuple Unpacking\n",
    "\n",
    "What if we want to pass a tuple that contains multiple values as the arguments into a function that takes multiple parameters. We can use Tuple Unpacking.\n",
    "\n",
    "Say we have a tuple that has 3 values."
   ]
  },
  {
   "cell_type": "code",
   "execution_count": 11,
   "id": "a680d7cd",
   "metadata": {},
   "outputs": [],
   "source": [
    "t = (1, 2, 3)"
   ]
  },
  {
   "cell_type": "markdown",
   "id": "562b0325",
   "metadata": {},
   "source": [
    "And we a simple function:"
   ]
  },
  {
   "cell_type": "code",
   "execution_count": 18,
   "id": "371f2d36",
   "metadata": {},
   "outputs": [],
   "source": [
    "def f(x, y, z):\n",
    "    print(f\"f'x = {x}\")\n",
    "    print(f\"f'y = {y}\")\n",
    "    print(f\"f'z = {z}\")"
   ]
  },
  {
   "cell_type": "markdown",
   "id": "f92765f6",
   "metadata": {},
   "source": [
    "We can the tuple `t` to `f()` using an `*` and python will unpack the tuple and treat it as three separate positional parameters"
   ]
  },
  {
   "cell_type": "code",
   "execution_count": 19,
   "id": "5c4e039e",
   "metadata": {},
   "outputs": [
    {
     "name": "stdout",
     "output_type": "stream",
     "text": [
      "f'x = foo\n",
      "f'y = bar\n",
      "f'z = baz\n"
     ]
    }
   ],
   "source": [
    "f(*t)"
   ]
  },
  {
   "cell_type": "code",
   "execution_count": 20,
   "id": "963cd583",
   "metadata": {},
   "outputs": [
    {
     "name": "stdout",
     "output_type": "stream",
     "text": [
      "f'x = foo\n",
      "f'y = bar\n",
      "f'z = baz\n"
     ]
    }
   ],
   "source": [
    "t = ('foo', 'bar', 'baz')\n",
    "f(*t)"
   ]
  },
  {
   "cell_type": "markdown",
   "id": "1eb4a3e3",
   "metadata": {},
   "source": [
    "You can unpack other object types as well"
   ]
  },
  {
   "cell_type": "code",
   "execution_count": 21,
   "id": "62d1ed20",
   "metadata": {},
   "outputs": [
    {
     "name": "stdout",
     "output_type": "stream",
     "text": [
      "f'x = foo\n",
      "f'y = bar\n",
      "f'z = bax\n",
      "f'x = 1\n",
      "f'y = 2\n",
      "f'z = 3\n"
     ]
    }
   ],
   "source": [
    "my_list = ['foo', 'bar', 'bax']\n",
    "my_set = {1, 2, 3}\n",
    "\n",
    "f(*my_list)\n",
    "f(*my_set)"
   ]
  },
  {
   "cell_type": "markdown",
   "id": "6025e4b7",
   "metadata": {},
   "source": [
    "You can even use unpacking and packing together:\n"
   ]
  },
  {
   "cell_type": "code",
   "execution_count": 23,
   "id": "251f6b37",
   "metadata": {},
   "outputs": [
    {
     "name": "stdout",
     "output_type": "stream",
     "text": [
      "<class 'tuple'> ('foo', 'bar', 'baz', 'quz')\n"
     ]
    }
   ],
   "source": [
    "def g(*args):\n",
    "    print(type(args), args)\n",
    "    \n",
    "a = ['foo', 'bar', 'baz', 'quz']\n",
    "g(*a)"
   ]
  },
  {
   "cell_type": "markdown",
   "id": "4257db0f",
   "metadata": {},
   "source": [
    "### Argument Dictionary Packing  \n",
    "What about if we have keyword arguments.\n",
    "\n",
    "+ The `**` operator specifies dictionary packing and unpacking  \n",
    "+ Preceding a parameter in a Python function definition by a double asterisk indicates that the corresponding argument, which are expected to be key-value pairs, should be packed into a dictionary  \n",
    "+ Python programmers conventionally use `kwargs` for this parameter name\n",
    "\n",
    "\n",
    "The following function will print out the kwargs argument, it's type and the key value pairs. The function is expecting to read in a list of key value pairs (keyword parameters)"
   ]
  },
  {
   "cell_type": "code",
   "execution_count": 24,
   "id": "4536e1f8",
   "metadata": {},
   "outputs": [
    {
     "name": "stdout",
     "output_type": "stream",
     "text": [
      "{'foo': 1, 'bar': 2, 'baz': 3}\n",
      "<class 'dict'>\n",
      "foo  ->  1\n",
      "bar  ->  2\n",
      "baz  ->  3\n"
     ]
    }
   ],
   "source": [
    "def f(**kwargs):\n",
    "    print(kwargs)\n",
    "    print(type(kwargs))\n",
    "    for key, val in kwargs.items():\n",
    "        print(key, \" -> \", val)\n",
    "        \n",
    "f(foo=1, bar=2, baz=3)"
   ]
  },
  {
   "cell_type": "markdown",
   "id": "6e01db65",
   "metadata": {},
   "source": [
    "### Argument Dictionary Unpacking\n",
    "\n",
    "If we want to pass a dictionary to a function that requires mulitiple parameters, we can use the `**` operator to unpack the dictionary in the function call.\n",
    "\n",
    "Recall the function below that we used earlier:"
   ]
  },
  {
   "cell_type": "code",
   "execution_count": 25,
   "id": "48a080a7",
   "metadata": {},
   "outputs": [],
   "source": [
    "def f(x, y, z):\n",
    "    print(f\"f'x = {x}\")\n",
    "    print(f\"f'y = {y}\")\n",
    "    print(f\"f'z = {z}\")"
   ]
  },
  {
   "cell_type": "markdown",
   "id": "24350d73",
   "metadata": {},
   "source": [
    "We can pass a dictionary to this function in the following manner:"
   ]
  },
  {
   "cell_type": "code",
   "execution_count": 26,
   "id": "62c1bfbc",
   "metadata": {},
   "outputs": [
    {
     "name": "stdout",
     "output_type": "stream",
     "text": [
      "f'x = foo\n",
      "f'y = bar\n",
      "f'z = baz\n"
     ]
    }
   ],
   "source": [
    "d = {'x': 'foo', 'y':'bar', 'z':'baz'}\n",
    "\n",
    "f(**d)"
   ]
  },
  {
   "cell_type": "markdown",
   "id": "9a9fdecf",
   "metadata": {},
   "source": [
    "Again you can use packing and unpacking together"
   ]
  },
  {
   "cell_type": "code",
   "execution_count": 27,
   "id": "5d93da90",
   "metadata": {},
   "outputs": [
    {
     "name": "stdout",
     "output_type": "stream",
     "text": [
      "{'x': 'foo', 'y': 'bar', 'z': 'baz', 'a': 'qux'}\n"
     ]
    }
   ],
   "source": [
    "def f(**kwargs):\n",
    "    print(kwargs)\n",
    "    \n",
    "    \n",
    "d = {'x': 'foo', 'y':'bar', 'z':'baz', 'a':'qux'}\n",
    "\n",
    "f(**d)"
   ]
  },
  {
   "cell_type": "markdown",
   "id": "f8fe0322",
   "metadata": {},
   "source": [
    "### Putting it all together\n",
    "+ Positional parameters, argument tuple packing, and argument dictionary packing can all be used in a single function definition  \n",
    "+ They must be in this order:  \n",
    "1) Standard positional arguments  \n",
    "2) `*args`  \n",
    "3) `**kwargs`\n",
    "\n",
    "The following function takes all three kinds of arguments"
   ]
  },
  {
   "cell_type": "code",
   "execution_count": 29,
   "id": "017d919f",
   "metadata": {},
   "outputs": [
    {
     "name": "stdout",
     "output_type": "stream",
     "text": [
      "a = 1\n",
      "b = 2\n",
      "args = ('foo', 'bar', 4)\n",
      "kwargs = {'x': 100, 'y': 'hello', 'z': 150}\n"
     ]
    }
   ],
   "source": [
    "def f(a, b, *args, **kwargs):\n",
    "    print(F'a = {a}')\n",
    "    print(F'b = {b}')\n",
    "    print(F'args = {args}')\n",
    "    print(F'kwargs = {kwargs}')\n",
    "    \n",
    "f(1, 2, 'foo', 'bar',4, x = 100, y = \"hello\", z=150)"
   ]
  },
  {
   "cell_type": "markdown",
   "id": "7b78f985",
   "metadata": {},
   "source": [
    "### Multiple Unpackings in a Python Function Call\n",
    "\n",
    "The following function takes an arbitrary number of positional arguments and pack them into a tuple"
   ]
  },
  {
   "cell_type": "code",
   "execution_count": 30,
   "id": "eb8dc91d",
   "metadata": {},
   "outputs": [],
   "source": [
    "def f(*args):\n",
    "    for i in args:\n",
    "        print(i)\n",
    "        \n",
    "a = [1 ,2, 3]\n",
    "t = (4,5,6)\n",
    "s = {7,8,9}"
   ]
  },
  {
   "cell_type": "markdown",
   "id": "168feb1e",
   "metadata": {},
   "source": [
    "To pass `a, t, and s` into `f()` we simply unpack all objects in the function call, so we end up passing 9 values"
   ]
  },
  {
   "cell_type": "code",
   "execution_count": 31,
   "id": "46d78e45",
   "metadata": {},
   "outputs": [
    {
     "name": "stdout",
     "output_type": "stream",
     "text": [
      "1\n",
      "2\n",
      "3\n",
      "4\n",
      "5\n",
      "6\n",
      "8\n",
      "9\n",
      "7\n"
     ]
    }
   ],
   "source": [
    "f(*a, *t, *s)"
   ]
  },
  {
   "cell_type": "markdown",
   "id": "66330412",
   "metadata": {},
   "source": [
    "The same thing can be done with dictionarys. The following will pack any number of keyword arguments into a single dict."
   ]
  },
  {
   "cell_type": "code",
   "execution_count": 37,
   "id": "792b452a",
   "metadata": {},
   "outputs": [
    {
     "name": "stdout",
     "output_type": "stream",
     "text": [
      "a -> 1\n",
      "b -> 2\n",
      "x -> 3\n",
      "y -> 4\n"
     ]
    }
   ],
   "source": [
    "def g(**kwargs):\n",
    "    for k, value in kwargs.items():\n",
    "        print(k, \"->\", value)\n",
    "\n",
    "d1 = {'a': 1, 'b':2}\n",
    "d2 = {'x': 3, 'y': 4}\n",
    "\n",
    "g(**d1, **d2)"
   ]
  },
  {
   "cell_type": "markdown",
   "id": "f5f38f85",
   "metadata": {},
   "source": [
    "You can also perform unpacking with literals"
   ]
  },
  {
   "cell_type": "code",
   "execution_count": 40,
   "id": "4875adc4",
   "metadata": {},
   "outputs": [
    {
     "name": "stdout",
     "output_type": "stream",
     "text": [
      "1\n",
      "2\n",
      "3\n",
      "4\n",
      "5\n",
      "6\n"
     ]
    }
   ],
   "source": [
    "f(*[1,2,3], *[4,5,6])"
   ]
  },
  {
   "cell_type": "code",
   "execution_count": 41,
   "id": "436a64fa",
   "metadata": {},
   "outputs": [
    {
     "name": "stdout",
     "output_type": "stream",
     "text": [
      "a -> 1\n",
      "b -> 2\n",
      "x -> 3\n",
      "y -> 4\n"
     ]
    }
   ],
   "source": [
    "g(**{'a':1, 'b':2}, **{'x':3,'y':4})"
   ]
  },
  {
   "cell_type": "code",
   "execution_count": null,
   "id": "f0358d88",
   "metadata": {},
   "outputs": [],
   "source": []
  }
 ],
 "metadata": {
  "kernelspec": {
   "display_name": "Python 3 (ipykernel)",
   "language": "python",
   "name": "python3"
  },
  "language_info": {
   "codemirror_mode": {
    "name": "ipython",
    "version": 3
   },
   "file_extension": ".py",
   "mimetype": "text/x-python",
   "name": "python",
   "nbconvert_exporter": "python",
   "pygments_lexer": "ipython3",
   "version": "3.9.12"
  }
 },
 "nbformat": 4,
 "nbformat_minor": 5
}
