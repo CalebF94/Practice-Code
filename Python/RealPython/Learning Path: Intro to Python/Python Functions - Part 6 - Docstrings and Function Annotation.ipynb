{
 "cells": [
  {
   "cell_type": "markdown",
   "id": "3f368b66",
   "metadata": {},
   "source": [
    "# Python Functions: Doctrings and Function Annotation\n",
    "\n",
    "It is good programming practice to provide documentation to other programmers on how to use your function:  \n",
    "+ what it does  \n",
    "+ what it returns  \n",
    "+ what parameters it needs\n",
    "\n",
    "It is also helpful when you revisit. \n",
    "\n",
    "Python does this using a docstring:\n",
    "\n",
    "### Docstring\n",
    "\n",
    "Python creates a docstring when the first line after the function header is a string literal. Typically this is indicated using triple quotes. If the docstring fits on single line begin and end line with triple quotes. If the docstring consists of multiple lines the first line should consist of a summary followed by a blank line followed by a more detailed description. The closing quotes should be on their own line."
   ]
  },
  {
   "cell_type": "code",
   "execution_count": 1,
   "id": "f3375f52",
   "metadata": {},
   "outputs": [],
   "source": [
    "def foo(bar=0, baz=1):\n",
    "    \"\"\"Perform a foo transformation\n",
    "    \n",
    "    Keyword Arguments:\n",
    "    bar -- magnitude along the bar axis (default = 0)\n",
    "    baz -- magnitude along the baz axis (default = 1)\n",
    "    \"\"\"\n",
    "    \n",
    "    pass\n"
   ]
  },
  {
   "cell_type": "markdown",
   "id": "055e2250",
   "metadata": {},
   "source": [
    "Notice where this documentation will show up (in Jupyter):\n",
    "\n",
    "If we start typing the function and hit Shift & tab the summary will appear. Hit the `+` to reveal the details"
   ]
  },
  {
   "cell_type": "code",
   "execution_count": 2,
   "id": "ca6a8ef3",
   "metadata": {},
   "outputs": [],
   "source": [
    "foo()"
   ]
  },
  {
   "cell_type": "markdown",
   "id": "b0c71f88",
   "metadata": {},
   "source": [
    "The docstring can also be revealed through the dunder attribute doc `.__doc__`\n",
    "\n",
    "we can also use the help feature"
   ]
  },
  {
   "cell_type": "code",
   "execution_count": 3,
   "id": "06a292d8",
   "metadata": {},
   "outputs": [
    {
     "ename": "ModuleNotFoundError",
     "evalue": "No module named 'docstring'",
     "output_type": "error",
     "traceback": [
      "\u001b[1;31m---------------------------------------------------------------------------\u001b[0m",
      "\u001b[1;31mModuleNotFoundError\u001b[0m                       Traceback (most recent call last)",
      "Input \u001b[1;32mIn [3]\u001b[0m, in \u001b[0;36m<cell line: 1>\u001b[1;34m()\u001b[0m\n\u001b[1;32m----> 1\u001b[0m \u001b[38;5;28;01mfrom\u001b[39;00m \u001b[38;5;21;01mdocstring\u001b[39;00m \u001b[38;5;28;01mimport\u001b[39;00m \u001b[38;5;241m*\u001b[39m\n\u001b[0;32m      3\u001b[0m printavg\u001b[38;5;241m.\u001b[39m\u001b[38;5;18m__doc__\u001b[39m\n",
      "\u001b[1;31mModuleNotFoundError\u001b[0m: No module named 'docstring'"
     ]
    }
   ],
   "source": [
    "from docstring import *\n",
    "\n",
    "printavg.__doc__"
   ]
  },
  {
   "cell_type": "code",
   "execution_count": 4,
   "id": "0aea15bb",
   "metadata": {},
   "outputs": [
    {
     "name": "stdout",
     "output_type": "stream",
     "text": [
      "Help on function foo in module __main__:\n",
      "\n",
      "foo(bar=0, baz=1)\n",
      "    Perform a foo transformation\n",
      "    \n",
      "    Keyword Arguments:\n",
      "    bar -- magnitude along the bar axis (default = 0)\n",
      "    baz -- magnitude along the baz axis (default = 1)\n",
      "\n"
     ]
    }
   ],
   "source": [
    "help(foo)"
   ]
  },
  {
   "cell_type": "markdown",
   "id": "8ab373f8",
   "metadata": {},
   "source": [
    "### Python Function Annotations\n",
    "\n",
    "Another documentation feature is using function annotation. \n",
    "\n",
    "You attach metadata to a functions parameters and return value:  \n",
    "+ Parameters: created by adding a `:` after a parameter name\n",
    "+ Return Values: created by adding a `->` between the the right parenthsis(which closes the parameter list) and the ending `:`\n",
    "+ An annotation can be any expression or object\n",
    "+ Information is saved as a dictionary in the dunder attribute `__annotations__` and be accessed using dot notation"
   ]
  },
  {
   "cell_type": "code",
   "execution_count": 5,
   "id": "46986eca",
   "metadata": {},
   "outputs": [],
   "source": [
    "def f(a: '<a>', b: '<b>') -> '<ret_value>':\n",
    "    pass"
   ]
  },
  {
   "cell_type": "code",
   "execution_count": 6,
   "id": "d6e20432",
   "metadata": {},
   "outputs": [
    {
     "data": {
      "text/plain": [
       "{'a': '<a>', 'b': '<b>', 'return': '<ret_value>'}"
      ]
     },
     "execution_count": 6,
     "metadata": {},
     "output_type": "execute_result"
    }
   ],
   "source": [
    "f.__annotations__"
   ]
  },
  {
   "cell_type": "code",
   "execution_count": 7,
   "id": "eb836e57",
   "metadata": {},
   "outputs": [
    {
     "data": {
      "text/plain": [
       "'<a>'"
      ]
     },
     "execution_count": 7,
     "metadata": {},
     "output_type": "execute_result"
    }
   ],
   "source": [
    "f.__annotations__['a']"
   ]
  },
  {
   "cell_type": "code",
   "execution_count": 8,
   "id": "6f1f463f",
   "metadata": {},
   "outputs": [
    {
     "data": {
      "text/plain": [
       "'<ret_value>'"
      ]
     },
     "execution_count": 8,
     "metadata": {},
     "output_type": "execute_result"
    }
   ],
   "source": [
    "f.__annotations__['return']"
   ]
  },
  {
   "cell_type": "markdown",
   "id": "ee54a069",
   "metadata": {},
   "source": [
    "The annotations don't have to be strings. For Example you could provide data type information."
   ]
  },
  {
   "cell_type": "code",
   "execution_count": 9,
   "id": "460e12b2",
   "metadata": {},
   "outputs": [],
   "source": [
    "def f(a: int, b: str) -> float:\n",
    "    print(a, b)\n",
    "    return(3.5)"
   ]
  },
  {
   "cell_type": "code",
   "execution_count": 10,
   "id": "6f183bee",
   "metadata": {},
   "outputs": [
    {
     "data": {
      "text/plain": [
       "{'a': int, 'b': str, 'return': float}"
      ]
     },
     "execution_count": 10,
     "metadata": {},
     "output_type": "execute_result"
    }
   ],
   "source": [
    "f.__annotations__"
   ]
  },
  {
   "cell_type": "markdown",
   "id": "6e830415",
   "metadata": {},
   "source": [
    "If annotations become more complicated, we can a dictionary for each parameter:"
   ]
  },
  {
   "cell_type": "code",
   "execution_count": 11,
   "id": "bf86420b",
   "metadata": {},
   "outputs": [],
   "source": [
    "def area(\n",
    "    r: {\n",
    "        'desc': 'radius of circle',\n",
    "        'type': float\n",
    "        }) -> \\\n",
    "        {\n",
    "        'desc': 'area of circle',\n",
    "        'type': float\n",
    "        }:\n",
    "    return 3.14159 * (r ** 2)\n",
    "    "
   ]
  },
  {
   "cell_type": "code",
   "execution_count": 12,
   "id": "e7cb73bb",
   "metadata": {},
   "outputs": [
    {
     "data": {
      "text/plain": [
       "28.27431"
      ]
     },
     "execution_count": 12,
     "metadata": {},
     "output_type": "execute_result"
    }
   ],
   "source": [
    "area(3)"
   ]
  },
  {
   "cell_type": "code",
   "execution_count": 13,
   "id": "eb71ed0a",
   "metadata": {},
   "outputs": [
    {
     "data": {
      "text/plain": [
       "{'r': {'desc': 'radius of circle', 'type': float},\n",
       " 'return': {'desc': 'area of circle', 'type': float}}"
      ]
     },
     "execution_count": 13,
     "metadata": {},
     "output_type": "execute_result"
    }
   ],
   "source": [
    "area.__annotations__"
   ]
  },
  {
   "cell_type": "markdown",
   "id": "c1187030",
   "metadata": {},
   "source": [
    "Default values go after annotations:\n",
    "+ `def(a: int = 12, b: str = 'baz') -> float:`\n",
    "\n",
    "    Annotations aren't enforced. Just b/c you say a is an int you can still provide a string. The annotations are only stored in the `__annotations__`"
   ]
  },
  {
   "cell_type": "markdown",
   "id": "b3ba6a79",
   "metadata": {},
   "source": [
    "### Creating/Modifying __annotations__ Directly\n",
    "\n",
    "`__annotations__` is just another function attribute. It can be created using the `.` dot operator.  \n",
    "    `f.__annotations__ == {a....`"
   ]
  },
  {
   "cell_type": "code",
   "execution_count": 15,
   "id": "e2e00db7",
   "metadata": {},
   "outputs": [],
   "source": [
    "def f(a, b):\n",
    "    return\n",
    "\n"
   ]
  },
  {
   "cell_type": "code",
   "execution_count": 21,
   "id": "cfe5e30c",
   "metadata": {},
   "outputs": [],
   "source": [
    "f.__annotations__= {'a': int, 'b': str, 'return': float}"
   ]
  },
  {
   "cell_type": "code",
   "execution_count": 22,
   "id": "cbbd07e2",
   "metadata": {},
   "outputs": [
    {
     "data": {
      "text/plain": [
       "{'a': int, 'b': str, 'return': float}"
      ]
     },
     "execution_count": 22,
     "metadata": {},
     "output_type": "execute_result"
    }
   ],
   "source": [
    "f.__annotations__"
   ]
  },
  {
   "cell_type": "markdown",
   "id": "956da7c1",
   "metadata": {},
   "source": [
    "We can actully modify an annotation during program execution."
   ]
  },
  {
   "cell_type": "code",
   "execution_count": 23,
   "id": "e92c68f3",
   "metadata": {},
   "outputs": [],
   "source": [
    "def f() -> 0:\n",
    "    f.__annotations__['return'] += 1\n",
    "    print(f\"f() has been executed {f.__annotations__['return']}\")"
   ]
  },
  {
   "cell_type": "code",
   "execution_count": 24,
   "id": "4d0eb889",
   "metadata": {},
   "outputs": [
    {
     "name": "stdout",
     "output_type": "stream",
     "text": [
      "f() has been executed 1\n"
     ]
    }
   ],
   "source": [
    "f()"
   ]
  },
  {
   "cell_type": "code",
   "execution_count": 25,
   "id": "29180d8b",
   "metadata": {},
   "outputs": [
    {
     "name": "stdout",
     "output_type": "stream",
     "text": [
      "f() has been executed 2\n"
     ]
    }
   ],
   "source": [
    "f()"
   ]
  },
  {
   "cell_type": "markdown",
   "id": "23ef69ac",
   "metadata": {},
   "source": [
    "### Deep Dive: Enforcing Type-Checking\n",
    "\n",
    "Below is a function that checks whether the data type provided matches those specified in an annotations."
   ]
  },
  {
   "cell_type": "code",
   "execution_count": 37,
   "id": "72b35378",
   "metadata": {},
   "outputs": [],
   "source": [
    "def f(a: int, b: str, c: float):\n",
    "    import inspect\n",
    "    args = inspect.getfullargspec(f).args\n",
    "    annotations = inspect.getfullargspec(f).annotations\n",
    "    for x in args:\n",
    "        print(x, '->',\n",
    "             'arg is', type(locals()[x]), ',',\n",
    "             'annotation is', annotations[x],\n",
    "             '/', (type(locals()[x])) is annotations[x])"
   ]
  },
  {
   "cell_type": "code",
   "execution_count": 38,
   "id": "ae239ec3",
   "metadata": {},
   "outputs": [
    {
     "name": "stdout",
     "output_type": "stream",
     "text": [
      "a -> arg is <class 'int'> , annotation is <class 'int'> / True\n",
      "b -> arg is <class 'str'> , annotation is <class 'str'> / True\n",
      "c -> arg is <class 'float'> , annotation is <class 'float'> / True\n"
     ]
    }
   ],
   "source": [
    "f(1, \"hello\", 1.2)"
   ]
  },
  {
   "cell_type": "code",
   "execution_count": 39,
   "id": "3712a211",
   "metadata": {},
   "outputs": [
    {
     "name": "stdout",
     "output_type": "stream",
     "text": [
      "a -> arg is <class 'int'> , annotation is <class 'int'> / True\n",
      "b -> arg is <class 'int'> , annotation is <class 'str'> / False\n",
      "c -> arg is <class 'float'> , annotation is <class 'float'> / True\n"
     ]
    }
   ],
   "source": [
    "f(1, 1, 2.1)"
   ]
  },
  {
   "cell_type": "code",
   "execution_count": 40,
   "id": "2e2b2cdb",
   "metadata": {},
   "outputs": [
    {
     "name": "stdout",
     "output_type": "stream",
     "text": [
      "a -> arg is <class 'int'> , annotation is <class 'int'> / True\n",
      "b -> arg is <class 'str'> , annotation is <class 'str'> / True\n",
      "c -> arg is <class 'int'> , annotation is <class 'float'> / False\n"
     ]
    }
   ],
   "source": [
    "f(1, \"hello\", 4)"
   ]
  },
  {
   "cell_type": "code",
   "execution_count": null,
   "id": "3e6bc1a6",
   "metadata": {},
   "outputs": [],
   "source": []
  }
 ],
 "metadata": {
  "kernelspec": {
   "display_name": "Python 3 (ipykernel)",
   "language": "python",
   "name": "python3"
  },
  "language_info": {
   "codemirror_mode": {
    "name": "ipython",
    "version": 3
   },
   "file_extension": ".py",
   "mimetype": "text/x-python",
   "name": "python",
   "nbconvert_exporter": "python",
   "pygments_lexer": "ipython3",
   "version": "3.9.12"
  }
 },
 "nbformat": 4,
 "nbformat_minor": 5
}
