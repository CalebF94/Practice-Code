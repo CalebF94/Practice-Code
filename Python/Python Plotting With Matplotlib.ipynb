{
 "cells": [
  {
   "cell_type": "markdown",
   "id": "3f7f8f56",
   "metadata": {},
   "source": [
    "# Python Plotting With Matplotlib\n",
    "\n",
    "By the end of this course, you’ll:\n",
    "\n",
    "    Know the differences between PyLab and Pyplot\n",
    "    Grasp the key concepts in the design of matplotlib\n",
    "    Understand plt.subplots()\n",
    "    Visualize arrays with matplotlib\n",
    "    Plot by combining pandas and matplotlib\n",
    "\n",
    "\n",
    "## Video 1: Overview\n",
    "\n",
    "Plotting library. It's a massive library, but the beginnings are pretty simple to get started with. This course will cover the foundations.\n",
    "\n",
    "## Video 2: NumPy Review\n",
    "\n",
    "NumPy - Numerical Python - is required for Matplotlib. Provides efficient mathematical operations for manipulating data"
   ]
  },
  {
   "cell_type": "code",
   "execution_count": 1,
   "id": "eb83af61",
   "metadata": {},
   "outputs": [],
   "source": [
    "import numpy as np"
   ]
  },
  {
   "cell_type": "markdown",
   "id": "6e8196e9",
   "metadata": {},
   "source": [
    "#### numpy.random.seed()\n",
    "sets the seed for the pseudorandom process. Setting the seed ensures programs using random numbers generate the same outcome\n",
    "\n",
    "Python uses ndarrays. Like a python list but with a fixed size and common data type. \n",
    "\n",
    "#### numpy.arange()\n",
    "\n",
    "creates a one-dimensional ndarray filled with evenly spaced values. Lower bound is inclusive; upper bound is excluded."
   ]
  },
  {
   "cell_type": "code",
   "execution_count": 2,
   "id": "20894973",
   "metadata": {},
   "outputs": [
    {
     "data": {
      "text/plain": [
       "array([0, 1, 2, 3, 4])"
      ]
     },
     "execution_count": 2,
     "metadata": {},
     "output_type": "execute_result"
    }
   ],
   "source": [
    "np.arange(5)"
   ]
  },
  {
   "cell_type": "code",
   "execution_count": 4,
   "id": "2aec267d",
   "metadata": {},
   "outputs": [
    {
     "data": {
      "text/plain": [
       "array([1, 3, 5])"
      ]
     },
     "execution_count": 4,
     "metadata": {},
     "output_type": "execute_result"
    }
   ],
   "source": [
    "np.arange(start=1, stop=6, step=2)"
   ]
  },
  {
   "cell_type": "code",
   "execution_count": 5,
   "id": "b552845c",
   "metadata": {},
   "outputs": [
    {
     "data": {
      "text/plain": [
       "array([1, 3])"
      ]
     },
     "execution_count": 5,
     "metadata": {},
     "output_type": "execute_result"
    }
   ],
   "source": [
    "# notice 5 is not included\n",
    "np.arange(start=1, stop=5, step=2)"
   ]
  },
  {
   "cell_type": "code",
   "execution_count": 6,
   "id": "a35ab255",
   "metadata": {},
   "outputs": [
    {
     "data": {
      "text/plain": [
       "array([0.5, 1. , 1.5, 2. , 2.5, 3. , 3.5, 4. , 4.5])"
      ]
     },
     "execution_count": 6,
     "metadata": {},
     "output_type": "execute_result"
    }
   ],
   "source": [
    "np.arange(start=.5, stop = 5, step = .5)"
   ]
  },
  {
   "cell_type": "markdown",
   "id": "b0db0d38",
   "metadata": {},
   "source": [
    "#### numpy.random.randint()\n",
    "\n",
    "Generates numbers between a lower bound(inclusive) and an upper bound (exclusive). The size parameter dictates the shape of the ndarray. "
   ]
  },
  {
   "cell_type": "code",
   "execution_count": 8,
   "id": "f3aef397",
   "metadata": {},
   "outputs": [
    {
     "data": {
      "text/plain": [
       "array([[5, 2, 1, 0],\n",
       "       [3, 1, 4, 2],\n",
       "       [0, 8, 1, 6]])"
      ]
     },
     "execution_count": 8,
     "metadata": {},
     "output_type": "execute_result"
    }
   ],
   "source": [
    "# this will return a two-dimensional array consisting of 3 arrays of 4 elements each\n",
    "np.random.randint(low=0, high=10, size=(3,4))"
   ]
  },
  {
   "cell_type": "markdown",
   "id": "08510071",
   "metadata": {},
   "source": [
    "####  numpy.column_stack()\n",
    "\n",
    "Stacks two one-dimensional ndarrays on top of each other"
   ]
  },
  {
   "cell_type": "code",
   "execution_count": 9,
   "id": "4d269e26",
   "metadata": {},
   "outputs": [
    {
     "data": {
      "text/plain": [
       "array([[1, 4],\n",
       "       [2, 5],\n",
       "       [3, 6]])"
      ]
     },
     "execution_count": 9,
     "metadata": {},
     "output_type": "execute_result"
    }
   ],
   "source": [
    "a = np.arange(1, 4)\n",
    "b = np.arange(4, 7)\n",
    "\n",
    "## each array becomes a column\n",
    ".column_stack((a,b))"
   ]
  },
  {
   "cell_type": "code",
   "execution_count": 10,
   "id": "b8d247d6",
   "metadata": {},
   "outputs": [
    {
     "data": {
      "text/plain": [
       "(array([1, 2, 3]), array([4, 5, 6]))"
      ]
     },
     "execution_count": 10,
     "metadata": {},
     "output_type": "execute_result"
    }
   ],
   "source": [
    "(a, b)"
   ]
  },
  {
   "cell_type": "code",
   "execution_count": 11,
   "id": "52563275",
   "metadata": {},
   "outputs": [
    {
     "data": {
      "text/plain": [
       "array([[1, 2, 3],\n",
       "       [4, 5, 6]])"
      ]
     },
     "execution_count": 11,
     "metadata": {},
     "output_type": "execute_result"
    }
   ],
   "source": [
    "np.row_stack((a,b))"
   ]
  },
  {
   "cell_type": "markdown",
   "id": "358040cd",
   "metadata": {},
   "source": [
    "#### Transposing and Reshaping\n",
    "\n",
    "reshape() can change the dimensions of an array. Transpose will switch the rows and columns"
   ]
  },
  {
   "cell_type": "code",
   "execution_count": 13,
   "id": "25ead5bd",
   "metadata": {},
   "outputs": [
    {
     "data": {
      "text/plain": [
       "array([0, 1, 2, 3, 4, 5])"
      ]
     },
     "execution_count": 13,
     "metadata": {},
     "output_type": "execute_result"
    }
   ],
   "source": [
    "x = np.arange(6)\n",
    "x"
   ]
  },
  {
   "cell_type": "code",
   "execution_count": 14,
   "id": "f91ac51f",
   "metadata": {},
   "outputs": [
    {
     "data": {
      "text/plain": [
       "array([[0, 1],\n",
       "       [2, 3],\n",
       "       [4, 5]])"
      ]
     },
     "execution_count": 14,
     "metadata": {},
     "output_type": "execute_result"
    }
   ],
   "source": [
    "b = x.reshape(3, 2)\n",
    "b"
   ]
  },
  {
   "cell_type": "code",
   "execution_count": 16,
   "id": "7ea214e7",
   "metadata": {},
   "outputs": [
    {
     "data": {
      "text/plain": [
       "array([[0, 1, 2],\n",
       "       [3, 4, 5]])"
      ]
     },
     "execution_count": 16,
     "metadata": {},
     "output_type": "execute_result"
    }
   ],
   "source": [
    "c = x.reshape(2,3)\n",
    "c"
   ]
  },
  {
   "cell_type": "code",
   "execution_count": 18,
   "id": "5d9015b1",
   "metadata": {},
   "outputs": [
    {
     "ename": "ValueError",
     "evalue": "cannot reshape array of size 6 into shape (4,5)",
     "output_type": "error",
     "traceback": [
      "\u001b[1;31m---------------------------------------------------------------------------\u001b[0m",
      "\u001b[1;31mValueError\u001b[0m                                Traceback (most recent call last)",
      "Input \u001b[1;32mIn [18]\u001b[0m, in \u001b[0;36m<cell line: 1>\u001b[1;34m()\u001b[0m\n\u001b[1;32m----> 1\u001b[0m d \u001b[38;5;241m=\u001b[39m \u001b[43mx\u001b[49m\u001b[38;5;241;43m.\u001b[39;49m\u001b[43mreshape\u001b[49m\u001b[43m(\u001b[49m\u001b[38;5;241;43m4\u001b[39;49m\u001b[43m,\u001b[49m\u001b[38;5;241;43m5\u001b[39;49m\u001b[43m)\u001b[49m\n\u001b[0;32m      2\u001b[0m d\n",
      "\u001b[1;31mValueError\u001b[0m: cannot reshape array of size 6 into shape (4,5)"
     ]
    }
   ],
   "source": [
    "# total number of elements needs to match\n",
    "d = x.reshape(4,5)\n",
    "d"
   ]
  },
  {
   "cell_type": "code",
   "execution_count": 23,
   "id": "eca5670b",
   "metadata": {},
   "outputs": [
    {
     "data": {
      "text/plain": [
       "array([[0, 3],\n",
       "       [1, 4],\n",
       "       [2, 5]])"
      ]
     },
     "execution_count": 23,
     "metadata": {},
     "output_type": "execute_result"
    }
   ],
   "source": [
    "c.transpose()"
   ]
  },
  {
   "cell_type": "markdown",
   "id": "22761bb2",
   "metadata": {},
   "source": [
    "#### numpy.diag()\n",
    "\n",
    "creates a two dimensional array out of the numbers we supply are on the main diagonal and the rest of the entries are 0."
   ]
  },
  {
   "cell_type": "code",
   "execution_count": 26,
   "id": "257a99fb",
   "metadata": {},
   "outputs": [
    {
     "data": {
      "text/plain": [
       "array([[0., 0., 0., 0., 0.],\n",
       "       [0., 1., 0., 0., 0.],\n",
       "       [0., 0., 2., 0., 0.],\n",
       "       [0., 0., 0., 3., 0.],\n",
       "       [0., 0., 0., 0., 4.]])"
      ]
     },
     "execution_count": 26,
     "metadata": {},
     "output_type": "execute_result"
    }
   ],
   "source": [
    "a = np.linspace(start = 0, stop = 4, num = 5)\n",
    "np.diag(a)"
   ]
  },
  {
   "cell_type": "code",
   "execution_count": null,
   "id": "2e2801b5",
   "metadata": {},
   "outputs": [],
   "source": []
  }
 ],
 "metadata": {
  "kernelspec": {
   "display_name": "Python 3 (ipykernel)",
   "language": "python",
   "name": "python3"
  },
  "language_info": {
   "codemirror_mode": {
    "name": "ipython",
    "version": 3
   },
   "file_extension": ".py",
   "mimetype": "text/x-python",
   "name": "python",
   "nbconvert_exporter": "python",
   "pygments_lexer": "ipython3",
   "version": "3.9.12"
  }
 },
 "nbformat": 4,
 "nbformat_minor": 5
}
