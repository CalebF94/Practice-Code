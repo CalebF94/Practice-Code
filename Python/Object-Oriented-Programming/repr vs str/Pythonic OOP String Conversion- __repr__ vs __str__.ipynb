{
 "cells": [
  {
   "cell_type": "markdown",
   "id": "e367b970",
   "metadata": {},
   "source": [
    "# Course Intro & Example Python Class\n"
   ]
  },
  {
   "cell_type": "code",
   "execution_count": 1,
   "id": "db8b9062",
   "metadata": {},
   "outputs": [],
   "source": [
    "class Car:\n",
    "    def __init__(self, color, mileage):\n",
    "        self.color = color\n",
    "        self.mileage = mileage\n",
    "        \n",
    "my_car = Car('red', 37281)"
   ]
  },
  {
   "cell_type": "markdown",
   "id": "e82a0beb",
   "metadata": {},
   "source": [
    "When we print the `my_car` object the results are not very helpful. This class will address how to improve this"
   ]
  },
  {
   "cell_type": "code",
   "execution_count": 2,
   "id": "781c41f9",
   "metadata": {},
   "outputs": [
    {
     "name": "stdout",
     "output_type": "stream",
     "text": [
      "<__main__.Car object at 0x00000258DA5BDE20>\n"
     ]
    }
   ],
   "source": [
    "print(my_car)"
   ]
  },
  {
   "cell_type": "markdown",
   "id": "9999304c",
   "metadata": {},
   "source": [
    "## String Conversion Workarounds and to_string()\n",
    "\n",
    "A common workaround is that people start printing the attributes directly"
   ]
  },
  {
   "cell_type": "code",
   "execution_count": 3,
   "id": "9a36a043",
   "metadata": {},
   "outputs": [
    {
     "name": "stdout",
     "output_type": "stream",
     "text": [
      "red\n"
     ]
    }
   ],
   "source": [
    "print(my_car.color)"
   ]
  },
  {
   "cell_type": "markdown",
   "id": "f648cb93",
   "metadata": {},
   "source": [
    "However there is a built in method that works much better. Use the __repr__ and __str__ methods"
   ]
  },
  {
   "cell_type": "markdown",
   "id": "41aba5d2",
   "metadata": {},
   "source": [
    "## How and When to use __str__\n",
    "First we're going to add a `__str__` method to the Car class\n",
    "\n",
    "Double underscore methods, or dunder or magic methods, the double underscores are just used to namespace these particular groups of methods.\n",
    "\n",
    "The `__str__()` method will return the color of the car when printing an instance of the Car class"
   ]
  },
  {
   "cell_type": "code",
   "execution_count": 7,
   "id": "c2791ce4",
   "metadata": {},
   "outputs": [],
   "source": [
    "class Car:\n",
    "    def __init__(self, color, mileage):\n",
    "        self.color = color\n",
    "        self.mileage = mileage\n",
    "        \n",
    "    def __str__(self):\n",
    "        return f\"a {self.color} car\"\n",
    "        \n",
    "my_car = Car('red', 37281)"
   ]
  },
  {
   "cell_type": "markdown",
   "id": "40a830c3",
   "metadata": {},
   "source": [
    "Now if we print `my_car` we get a more useful output. Notice that if we just send `my_car` to the terminal we still get the address"
   ]
  },
  {
   "cell_type": "code",
   "execution_count": 8,
   "id": "feff0850",
   "metadata": {},
   "outputs": [
    {
     "name": "stdout",
     "output_type": "stream",
     "text": [
      "a red car\n"
     ]
    }
   ],
   "source": [
    "print(my_car)"
   ]
  },
  {
   "cell_type": "code",
   "execution_count": 9,
   "id": "04a4a4c9",
   "metadata": {},
   "outputs": [
    {
     "data": {
      "text/plain": [
       "<__main__.Car at 0x258da5bdf70>"
      ]
     },
     "execution_count": 9,
     "metadata": {},
     "output_type": "execute_result"
    }
   ],
   "source": [
    "my_car"
   ]
  },
  {
   "cell_type": "markdown",
   "id": "2ad5def3",
   "metadata": {},
   "source": [
    "## How and when to use __repr__\n",
    "\n",
    "Now, we add a `__repr__` method to our class and modify the `__str__` method"
   ]
  },
  {
   "cell_type": "code",
   "execution_count": 10,
   "id": "0eb4e8e3",
   "metadata": {},
   "outputs": [],
   "source": [
    "class Car:\n",
    "    def __init__(self, color, mileage):\n",
    "        self.color = color\n",
    "        self.mileage = mileage\n",
    "        \n",
    "    def __repr__(self):\n",
    "        return '__repr__ for Car'\n",
    "        \n",
    "    def __str__(self):\n",
    "        return '__repr__ for Car'\n",
    "        \n",
    "my_car = Car('red', 37281)"
   ]
  },
  {
   "cell_type": "markdown",
   "id": "5d6f5139",
   "metadata": {},
   "source": [
    "Now if something calls `__repr__` behind the scenes our repr method will be called, and similarly for the `__Str__`. Take for example:\n",
    "\n",
    "outputting `my_car` to the console"
   ]
  },
  {
   "cell_type": "code",
   "execution_count": 11,
   "id": "b3b99dd2",
   "metadata": {},
   "outputs": [
    {
     "data": {
      "text/plain": [
       "__repr__ for Car"
      ]
     },
     "execution_count": 11,
     "metadata": {},
     "output_type": "execute_result"
    }
   ],
   "source": [
    "my_car"
   ]
  },
  {
   "cell_type": "markdown",
   "id": "5f17e840",
   "metadata": {},
   "source": [
    "printing `my_car`"
   ]
  },
  {
   "cell_type": "code",
   "execution_count": 12,
   "id": "65603d96",
   "metadata": {},
   "outputs": [
    {
     "name": "stdout",
     "output_type": "stream",
     "text": [
      "__repr__ for Car\n"
     ]
    }
   ],
   "source": [
    "print(my_car)"
   ]
  },
  {
   "cell_type": "markdown",
   "id": "b812edf8",
   "metadata": {},
   "source": [
    "## Repr vs Str\n",
    "\n",
    "Both get called by some convention, but what are the differences. Let's look at an example using the datetime module"
   ]
  },
  {
   "cell_type": "code",
   "execution_count": 13,
   "id": "69f89b29",
   "metadata": {},
   "outputs": [],
   "source": [
    "import datetime\n",
    "today = datetime.date.today()"
   ]
  },
  {
   "cell_type": "code",
   "execution_count": 14,
   "id": "a6df8a80",
   "metadata": {},
   "outputs": [
    {
     "data": {
      "text/plain": [
       "'2022-08-30'"
      ]
     },
     "execution_count": 14,
     "metadata": {},
     "output_type": "execute_result"
    }
   ],
   "source": [
    "str(today)"
   ]
  },
  {
   "cell_type": "code",
   "execution_count": 15,
   "id": "69eb9696",
   "metadata": {},
   "outputs": [
    {
     "data": {
      "text/plain": [
       "'datetime.date(2022, 8, 30)'"
      ]
     },
     "execution_count": 15,
     "metadata": {},
     "output_type": "execute_result"
    }
   ],
   "source": [
    "repr(today)"
   ]
  },
  {
   "cell_type": "markdown",
   "id": "a32e08cc",
   "metadata": {},
   "source": [
    "Using this example we can see some characteristics of each method:\n",
    "\n",
    "`__str__` is designed to make the output easy to read for the human user  \n",
    "\n",
    "`__repr__` is more unambiguous. Ideally the output should give everything the user needs to recreate an identical object"
   ]
  },
  {
   "cell_type": "markdown",
   "id": "1070a0bd",
   "metadata": {},
   "source": [
    "## A complete example & best practices\n",
    "\n",
    "Put a `__repr__` for each class you define\n",
    "+ return a string that contains the car class name and parameters for that instance\n",
    "\n",
    "+ Note the `self.__class__.__name__` returns the name of the class that you are currently working in\n",
    "\n",
    "At a minimum each class should at least have a `__repr__` method. If print is called on a class without a `__str__` it will fall back on the `__repr__` method. A basic minimum example of using repr is shown below:"
   ]
  },
  {
   "cell_type": "code",
   "execution_count": 19,
   "id": "8f52e6ea",
   "metadata": {},
   "outputs": [
    {
     "data": {
      "text/plain": [
       "Car('red', 12345)"
      ]
     },
     "execution_count": 19,
     "metadata": {},
     "output_type": "execute_result"
    }
   ],
   "source": [
    "class Car:\n",
    "    def __init__(self, color, mileage):\n",
    "        self.color = color\n",
    "        self.mileage = mileage\n",
    "        \n",
    "    def __repr__(self):\n",
    "        return f\"{self.__class__.__name__}('{self.color}', {self.mileage})\"\n",
    "    \n",
    "    \n",
    "my_car = Car('red', 12345)\n",
    "my_car"
   ]
  },
  {
   "cell_type": "markdown",
   "id": "3073f289",
   "metadata": {},
   "source": [
    "# String Conversion for Python Containers (Lists, Dicts, etc)\n",
    "\n",
    "Note what happens when you call str on a list"
   ]
  },
  {
   "cell_type": "code",
   "execution_count": 18,
   "id": "b33e60a8",
   "metadata": {},
   "outputs": [
    {
     "data": {
      "text/plain": [
       "'[datetime.date(2022, 8, 30), datetime.date(2022, 8, 30), datetime.date(2022, 8, 30)]'"
      ]
     },
     "execution_count": 18,
     "metadata": {},
     "output_type": "execute_result"
    }
   ],
   "source": [
    "str([today, today, today])"
   ]
  },
  {
   "cell_type": "code",
   "execution_count": null,
   "id": "779cd3dc",
   "metadata": {},
   "outputs": [],
   "source": []
  }
 ],
 "metadata": {
  "kernelspec": {
   "display_name": "Python 3 (ipykernel)",
   "language": "python",
   "name": "python3"
  },
  "language_info": {
   "codemirror_mode": {
    "name": "ipython",
    "version": 3
   },
   "file_extension": ".py",
   "mimetype": "text/x-python",
   "name": "python",
   "nbconvert_exporter": "python",
   "pygments_lexer": "ipython3",
   "version": "3.9.12"
  }
 },
 "nbformat": 4,
 "nbformat_minor": 5
}
