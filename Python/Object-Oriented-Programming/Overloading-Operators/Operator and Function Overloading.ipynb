{
 "cells": [
  {
   "cell_type": "markdown",
   "id": "26c762e0",
   "metadata": {},
   "source": [
    "# Operator and Function Overloading in Custom Python Classes\n",
    "\n",
    "The `+` and `*` operators behave differently when used on `str` vs `int` or `float` objects. "
   ]
  },
  {
   "cell_type": "code",
   "execution_count": 1,
   "id": "20e72c43",
   "metadata": {},
   "outputs": [
    {
     "data": {
      "text/plain": [
       "2"
      ]
     },
     "execution_count": 1,
     "metadata": {},
     "output_type": "execute_result"
    }
   ],
   "source": [
    "1+1"
   ]
  },
  {
   "cell_type": "code",
   "execution_count": 2,
   "id": "b3dbdc10",
   "metadata": {},
   "outputs": [
    {
     "data": {
      "text/plain": [
       "'RealPython'"
      ]
     },
     "execution_count": 2,
     "metadata": {},
     "output_type": "execute_result"
    }
   ],
   "source": [
    "'Real'+ 'Python'"
   ]
  },
  {
   "cell_type": "markdown",
   "id": "2e889ea2",
   "metadata": {},
   "source": [
    "Changing the behavior of an operator for a certain type of class is known as *operator overloading*.\n",
    "\n",
    "This Tutorial will cover the following:  \n",
    "+ The API that handles operators and built-ins in Python  \n",
    "+ The 'Secret' behind `len()` and other built-ins  \n",
    "+ How to make classes capable of using operators  \n",
    "+ How to make your classes compatible with Python's built in functions\n",
    "\n",
    "## The Python Data Model\n",
    "\n",
    "Suppose you have a class representing an online shopping cart with two attributes: 1) customer name 2) List of items in the cart\n",
    "\n",
    "You'll probably want to get the number of items in the cart or add(Append) an item to the cart. One way to do this would be to implement two new functions, but you could also do this using special python methods (dunder methods)\n",
    "    - In this example we would look at `__len__()` and `__add__()`\n",
    "    \n",
    "## The Internals of Operations Like len() and []\n",
    "Every class in Python defines its own behavior for built-in function and methods. When you're calling len() on an object, Python handles the call as `obj.__len__()`.\n",
    "\n",
    "When you define these special methods in your own class, you override the behavior of the function or operaotr associated with them, because behind the scenes Python is calling your method. Notice that when the dunder method is called the same output is produced"
   ]
  },
  {
   "cell_type": "code",
   "execution_count": 7,
   "id": "79dc5917",
   "metadata": {},
   "outputs": [
    {
     "data": {
      "text/plain": [
       "11"
      ]
     },
     "execution_count": 7,
     "metadata": {},
     "output_type": "execute_result"
    }
   ],
   "source": [
    "a = 'Real Python'\n",
    "b = ['Real', 'Python']\n",
    "len(a)"
   ]
  },
  {
   "cell_type": "code",
   "execution_count": 8,
   "id": "806579a1",
   "metadata": {},
   "outputs": [
    {
     "data": {
      "text/plain": [
       "11"
      ]
     },
     "execution_count": 8,
     "metadata": {},
     "output_type": "execute_result"
    }
   ],
   "source": [
    "a.__len__()"
   ]
  },
  {
   "cell_type": "code",
   "execution_count": 5,
   "id": "8e0110fd",
   "metadata": {},
   "outputs": [
    {
     "data": {
      "text/plain": [
       "'Real'"
      ]
     },
     "execution_count": 5,
     "metadata": {},
     "output_type": "execute_result"
    }
   ],
   "source": [
    "b[0]"
   ]
  },
  {
   "cell_type": "code",
   "execution_count": 6,
   "id": "8e8731ef",
   "metadata": {},
   "outputs": [
    {
     "data": {
      "text/plain": [
       "'Real'"
      ]
     },
     "execution_count": 6,
     "metadata": {},
     "output_type": "execute_result"
    }
   ],
   "source": [
    "b.__getitem__(0)"
   ]
  },
  {
   "cell_type": "markdown",
   "id": "cfa46e81",
   "metadata": {},
   "source": [
    "Calling `dir()` on an object provides a list of the dunder methods"
   ]
  },
  {
   "cell_type": "code",
   "execution_count": 9,
   "id": "dd02c745",
   "metadata": {},
   "outputs": [
    {
     "data": {
      "text/plain": [
       "['__add__',\n",
       " '__class__',\n",
       " '__contains__',\n",
       " '__delattr__',\n",
       " '__dir__',\n",
       " '__doc__',\n",
       " '__eq__',\n",
       " '__format__',\n",
       " '__ge__',\n",
       " '__getattribute__',\n",
       " '__getitem__',\n",
       " '__getnewargs__',\n",
       " '__gt__',\n",
       " '__hash__',\n",
       " '__init__',\n",
       " '__init_subclass__',\n",
       " '__iter__',\n",
       " '__le__',\n",
       " '__len__',\n",
       " '__lt__',\n",
       " '__mod__',\n",
       " '__mul__',\n",
       " '__ne__',\n",
       " '__new__',\n",
       " '__reduce__',\n",
       " '__reduce_ex__',\n",
       " '__repr__',\n",
       " '__rmod__',\n",
       " '__rmul__',\n",
       " '__setattr__',\n",
       " '__sizeof__',\n",
       " '__str__',\n",
       " '__subclasshook__',\n",
       " 'capitalize',\n",
       " 'casefold',\n",
       " 'center',\n",
       " 'count',\n",
       " 'encode',\n",
       " 'endswith',\n",
       " 'expandtabs',\n",
       " 'find',\n",
       " 'format',\n",
       " 'format_map',\n",
       " 'index',\n",
       " 'isalnum',\n",
       " 'isalpha',\n",
       " 'isascii',\n",
       " 'isdecimal',\n",
       " 'isdigit',\n",
       " 'isidentifier',\n",
       " 'islower',\n",
       " 'isnumeric',\n",
       " 'isprintable',\n",
       " 'isspace',\n",
       " 'istitle',\n",
       " 'isupper',\n",
       " 'join',\n",
       " 'ljust',\n",
       " 'lower',\n",
       " 'lstrip',\n",
       " 'maketrans',\n",
       " 'partition',\n",
       " 'removeprefix',\n",
       " 'removesuffix',\n",
       " 'replace',\n",
       " 'rfind',\n",
       " 'rindex',\n",
       " 'rjust',\n",
       " 'rpartition',\n",
       " 'rsplit',\n",
       " 'rstrip',\n",
       " 'split',\n",
       " 'splitlines',\n",
       " 'startswith',\n",
       " 'strip',\n",
       " 'swapcase',\n",
       " 'title',\n",
       " 'translate',\n",
       " 'upper',\n",
       " 'zfill']"
      ]
     },
     "execution_count": 9,
     "metadata": {},
     "output_type": "execute_result"
    }
   ],
   "source": [
    "dir(a)"
   ]
  },
  {
   "cell_type": "markdown",
   "id": "47414923",
   "metadata": {},
   "source": [
    "## Overloading Built-in Functions\n",
    "\n",
    "All you need to do is define the corresponding special method in your class\n",
    "\n",
    "### Giving a Length to you Objects\n",
    "You'll need to define the `__len__()` method. You'll have keep in mind what the dunder method is supposed to return. `__len__()` only returns an integer."
   ]
  },
  {
   "cell_type": "code",
   "execution_count": 10,
   "id": "92eff2e8",
   "metadata": {},
   "outputs": [
    {
     "data": {
      "text/plain": [
       "3"
      ]
     },
     "execution_count": 10,
     "metadata": {},
     "output_type": "execute_result"
    }
   ],
   "source": [
    "class Order:\n",
    "    def __init__(self, cart, customer):\n",
    "        self.cart = list(cart)\n",
    "        self.customer = customer\n",
    "\n",
    "    def __len__(self):\n",
    "        return len(self.cart)\n",
    "\n",
    "order = Order(['banana', 'apple', 'mango'], 'Real Python')\n",
    "len(order)"
   ]
  },
  {
   "cell_type": "markdown",
   "id": "cbde3651",
   "metadata": {},
   "source": [
    "### Printing Your Objects Prettily Using `str()`\n",
    "\n",
    "This is another helpful method to overload. See the example below"
   ]
  },
  {
   "cell_type": "code",
   "execution_count": 13,
   "id": "117c5476",
   "metadata": {},
   "outputs": [
    {
     "name": "stdout",
     "output_type": "stream",
     "text": [
      "3i+4j\n",
      "3i+4j\n",
      "3i-4j\n"
     ]
    }
   ],
   "source": [
    "class Vector:\n",
    "    def __init__(self, x_comp, y_comp):\n",
    "        self.x_comp = x_comp\n",
    "        self.y_comp = y_comp\n",
    "\n",
    "    def __str__(self):\n",
    "        # By default, sign of +ve number is not displayed\n",
    "        # Using `+`, sign is always displayed\n",
    "        return f'{self.x_comp}i{self.y_comp:+}j'\n",
    "\n",
    "vector = Vector(3, 4)\n",
    "print(str(vector))\n",
    "\n",
    "print(vector)\n",
    "\n",
    "print(Vector(3,-4))"
   ]
  },
  {
   "cell_type": "markdown",
   "id": "3840d681",
   "metadata": {},
   "source": [
    "### Representing Your Objects Using `repr()`\n",
    "\n",
    "Use the `repr()` function to obtain the parsable string representation of an object (the code used to create the object). This is also what is used to display the object in a REPL session. If this method is not defined you get an reference to location in memory"
   ]
  },
  {
   "cell_type": "code",
   "execution_count": 14,
   "id": "31512567",
   "metadata": {},
   "outputs": [
    {
     "data": {
      "text/plain": [
       "'Vector(3, 4)'"
      ]
     },
     "execution_count": 14,
     "metadata": {},
     "output_type": "execute_result"
    }
   ],
   "source": [
    "class Vector:\n",
    "    def __init__(self, x_comp, y_comp):\n",
    "        self.x_comp = x_comp\n",
    "        self.y_comp = y_comp\n",
    "\n",
    "    def __repr__(self):\n",
    "        return f'Vector({self.x_comp}, {self.y_comp})'\n",
    "\n",
    "\n",
    "vector = Vector(3, 4)\n",
    "repr(vector)"
   ]
  },
  {
   "cell_type": "markdown",
   "id": "2a161e14",
   "metadata": {},
   "source": [
    "### Making an Object Truthy or Falsey\n",
    "\n",
    "Use the `__bool__()` dunder method. This will determine the truth value of an instance. IF `__bool__()` is not implemented the value returned by `__len__()` is used\n",
    "\n",
    "For example, a cart may be considered truthy if the cart contains items(has a length > 0 ) and falsey if the cart is empty."
   ]
  },
  {
   "cell_type": "code",
   "execution_count": 17,
   "id": "697cc22e",
   "metadata": {},
   "outputs": [
    {
     "name": "stdout",
     "output_type": "stream",
     "text": [
      "Caleb has items\n",
      "Alex has no items\n"
     ]
    }
   ],
   "source": [
    "class Order:\n",
    "    def __init__(self, cart, customer):\n",
    "        self.cart = cart\n",
    "        self.customer = customer\n",
    "        \n",
    "    def __bool__(self):\n",
    "        return len(self.cart) > 0\n",
    "    \n",
    "mycart1 = Order(['eggs', 'bacon'], 'Caleb')\n",
    "mycart2 = Order([], 'Alex')\n",
    "\n",
    "if mycart1:\n",
    "    print(f'{mycart1.customer} has items')\n",
    "    \n",
    "if not mycart2:\n",
    "    print(f\"{mycart2.customer} has no items\")\n",
    "    \n"
   ]
  },
  {
   "cell_type": "markdown",
   "id": "fccf06e2",
   "metadata": {},
   "source": [
    "## Overloading Built in Operators\n"
   ]
  }
 ],
 "metadata": {
  "kernelspec": {
   "display_name": "Python 3 (ipykernel)",
   "language": "python",
   "name": "python3"
  },
  "language_info": {
   "codemirror_mode": {
    "name": "ipython",
    "version": 3
   },
   "file_extension": ".py",
   "mimetype": "text/x-python",
   "name": "python",
   "nbconvert_exporter": "python",
   "pygments_lexer": "ipython3",
   "version": "3.9.12"
  }
 },
 "nbformat": 4,
 "nbformat_minor": 5
}
