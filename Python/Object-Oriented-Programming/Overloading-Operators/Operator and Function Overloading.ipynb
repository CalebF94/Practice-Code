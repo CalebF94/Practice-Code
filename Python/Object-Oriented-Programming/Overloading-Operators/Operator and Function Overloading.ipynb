{
 "cells": [
  {
   "cell_type": "markdown",
   "id": "26c762e0",
   "metadata": {},
   "source": [
    "# Operator and Function Overloading in Custom Python Classes\n",
    "\n",
    "The `+` and `*` operators behave differently when used on `str` vs `int` or `float` objects. "
   ]
  },
  {
   "cell_type": "code",
   "execution_count": 2,
   "id": "20e72c43",
   "metadata": {},
   "outputs": [
    {
     "data": {
      "text/plain": [
       "2"
      ]
     },
     "execution_count": 2,
     "metadata": {},
     "output_type": "execute_result"
    }
   ],
   "source": [
    "1+1"
   ]
  },
  {
   "cell_type": "code",
   "execution_count": 3,
   "id": "b3dbdc10",
   "metadata": {},
   "outputs": [
    {
     "data": {
      "text/plain": [
       "'RealPython'"
      ]
     },
     "execution_count": 3,
     "metadata": {},
     "output_type": "execute_result"
    }
   ],
   "source": [
    "'Real'+ 'Python'"
   ]
  },
  {
   "cell_type": "markdown",
   "id": "2e889ea2",
   "metadata": {},
   "source": [
    "Changing the behavior of an operator for a certain type of class is known as *operator overloading*.\n",
    "\n",
    "This Tutorial will cover the following:  \n",
    "+ The API that handles operators and built-ins in Python  \n",
    "+ The 'Secret' behind `len()` and other built-ins  \n",
    "+ How to make classes capable of using operators  \n",
    "+ How to make your classes compatible with Python's built in functions\n",
    "\n",
    "## The Python Data Model\n",
    "\n",
    "Suppose you have a class representing an online shopping cart with two attributes: 1) customer name 2) List of items in the cart\n",
    "\n",
    "You'll probably want to get the number of items in the cart or add(Append) an item to the cart. One way to do this would be to implement two new functions, but you could also do this using special python methods (dunder methods)\n",
    "    - In this example we would look at `__len__()` and `__add__()`\n",
    "    \n",
    "## The Internals of Operations Like len() and []\n",
    "Every class in Python defines its own behavior for built-in function and methods. When you're calling len() on an object, Python handles the call as `obj.__len__()`.\n",
    "\n",
    "When you define these special methods in your own class, you override the behavior of the function or operaotr associated with them, because behind the scenes Python is calling your method. Notice that when the dunder method is called the same output is produced"
   ]
  },
  {
   "cell_type": "code",
   "execution_count": 4,
   "id": "79dc5917",
   "metadata": {},
   "outputs": [
    {
     "data": {
      "text/plain": [
       "11"
      ]
     },
     "execution_count": 4,
     "metadata": {},
     "output_type": "execute_result"
    }
   ],
   "source": [
    "a = 'Real Python'\n",
    "b = ['Real', 'Python']\n",
    "len(a)"
   ]
  },
  {
   "cell_type": "code",
   "execution_count": 5,
   "id": "806579a1",
   "metadata": {},
   "outputs": [
    {
     "data": {
      "text/plain": [
       "11"
      ]
     },
     "execution_count": 5,
     "metadata": {},
     "output_type": "execute_result"
    }
   ],
   "source": [
    "a.__len__()"
   ]
  },
  {
   "cell_type": "code",
   "execution_count": 6,
   "id": "8e0110fd",
   "metadata": {},
   "outputs": [
    {
     "data": {
      "text/plain": [
       "'Real'"
      ]
     },
     "execution_count": 6,
     "metadata": {},
     "output_type": "execute_result"
    }
   ],
   "source": [
    "b[0]"
   ]
  },
  {
   "cell_type": "code",
   "execution_count": 7,
   "id": "8e8731ef",
   "metadata": {},
   "outputs": [
    {
     "data": {
      "text/plain": [
       "'Real'"
      ]
     },
     "execution_count": 7,
     "metadata": {},
     "output_type": "execute_result"
    }
   ],
   "source": [
    "b.__getitem__(0)"
   ]
  },
  {
   "cell_type": "markdown",
   "id": "cfa46e81",
   "metadata": {},
   "source": [
    "Calling `dir()` on an object provides a list of the dunder methods"
   ]
  },
  {
   "cell_type": "code",
   "execution_count": 8,
   "id": "dd02c745",
   "metadata": {},
   "outputs": [
    {
     "data": {
      "text/plain": [
       "['__add__',\n",
       " '__class__',\n",
       " '__contains__',\n",
       " '__delattr__',\n",
       " '__dir__',\n",
       " '__doc__',\n",
       " '__eq__',\n",
       " '__format__',\n",
       " '__ge__',\n",
       " '__getattribute__',\n",
       " '__getitem__',\n",
       " '__getnewargs__',\n",
       " '__gt__',\n",
       " '__hash__',\n",
       " '__init__',\n",
       " '__init_subclass__',\n",
       " '__iter__',\n",
       " '__le__',\n",
       " '__len__',\n",
       " '__lt__',\n",
       " '__mod__',\n",
       " '__mul__',\n",
       " '__ne__',\n",
       " '__new__',\n",
       " '__reduce__',\n",
       " '__reduce_ex__',\n",
       " '__repr__',\n",
       " '__rmod__',\n",
       " '__rmul__',\n",
       " '__setattr__',\n",
       " '__sizeof__',\n",
       " '__str__',\n",
       " '__subclasshook__',\n",
       " 'capitalize',\n",
       " 'casefold',\n",
       " 'center',\n",
       " 'count',\n",
       " 'encode',\n",
       " 'endswith',\n",
       " 'expandtabs',\n",
       " 'find',\n",
       " 'format',\n",
       " 'format_map',\n",
       " 'index',\n",
       " 'isalnum',\n",
       " 'isalpha',\n",
       " 'isascii',\n",
       " 'isdecimal',\n",
       " 'isdigit',\n",
       " 'isidentifier',\n",
       " 'islower',\n",
       " 'isnumeric',\n",
       " 'isprintable',\n",
       " 'isspace',\n",
       " 'istitle',\n",
       " 'isupper',\n",
       " 'join',\n",
       " 'ljust',\n",
       " 'lower',\n",
       " 'lstrip',\n",
       " 'maketrans',\n",
       " 'partition',\n",
       " 'removeprefix',\n",
       " 'removesuffix',\n",
       " 'replace',\n",
       " 'rfind',\n",
       " 'rindex',\n",
       " 'rjust',\n",
       " 'rpartition',\n",
       " 'rsplit',\n",
       " 'rstrip',\n",
       " 'split',\n",
       " 'splitlines',\n",
       " 'startswith',\n",
       " 'strip',\n",
       " 'swapcase',\n",
       " 'title',\n",
       " 'translate',\n",
       " 'upper',\n",
       " 'zfill']"
      ]
     },
     "execution_count": 8,
     "metadata": {},
     "output_type": "execute_result"
    }
   ],
   "source": [
    "dir(a)"
   ]
  },
  {
   "cell_type": "markdown",
   "id": "47414923",
   "metadata": {},
   "source": [
    "## Overloading Built-in Functions\n",
    "\n",
    "All you need to do is define the corresponding special method in your class\n",
    "\n",
    "### Giving a Length to your Objects\n",
    "You'll need to define the `__len__()` method. You'll have keep in mind what the dunder method is supposed to return. `__len__()` only returns an integer."
   ]
  },
  {
   "cell_type": "code",
   "execution_count": 9,
   "id": "92eff2e8",
   "metadata": {},
   "outputs": [
    {
     "data": {
      "text/plain": [
       "3"
      ]
     },
     "execution_count": 9,
     "metadata": {},
     "output_type": "execute_result"
    }
   ],
   "source": [
    "class Order:\n",
    "    def __init__(self, cart, customer):\n",
    "        self.cart = list(cart)\n",
    "        self.customer = customer\n",
    "\n",
    "    def __len__(self):\n",
    "        return len(self.cart)\n",
    "\n",
    "order = Order(['banana', 'apple', 'mango'], 'Real Python')\n",
    "len(order)"
   ]
  },
  {
   "cell_type": "markdown",
   "id": "cbde3651",
   "metadata": {},
   "source": [
    "### Printing Your Objects Prettily Using `str()`\n",
    "\n",
    "This is another helpful method to overload. See the example below"
   ]
  },
  {
   "cell_type": "code",
   "execution_count": 10,
   "id": "117c5476",
   "metadata": {},
   "outputs": [
    {
     "name": "stdout",
     "output_type": "stream",
     "text": [
      "3i+4j\n",
      "3i+4j\n",
      "3i-4j\n"
     ]
    }
   ],
   "source": [
    "class Vector:\n",
    "    def __init__(self, x_comp, y_comp):\n",
    "        self.x_comp = x_comp\n",
    "        self.y_comp = y_comp\n",
    "\n",
    "    def __str__(self):\n",
    "        # By default, sign of +ve number is not displayed\n",
    "        # Using `+`, sign is always displayed\n",
    "        return f'{self.x_comp}i{self.y_comp:+}j'\n",
    "\n",
    "vector = Vector(3, 4)\n",
    "print(str(vector))\n",
    "\n",
    "print(vector)\n",
    "\n",
    "print(Vector(3,-4))"
   ]
  },
  {
   "cell_type": "markdown",
   "id": "3840d681",
   "metadata": {},
   "source": [
    "### Representing Your Objects Using `repr()`\n",
    "\n",
    "Use the `repr()` function to obtain the parsable string representation of an object (the code used to create the object). This is also what is used to display the object in a REPL session. If this method is not defined you get an reference to location in memory"
   ]
  },
  {
   "cell_type": "code",
   "execution_count": 11,
   "id": "31512567",
   "metadata": {},
   "outputs": [
    {
     "data": {
      "text/plain": [
       "'Vector(3, 4)'"
      ]
     },
     "execution_count": 11,
     "metadata": {},
     "output_type": "execute_result"
    }
   ],
   "source": [
    "class Vector:\n",
    "    def __init__(self, x_comp, y_comp):\n",
    "        self.x_comp = x_comp\n",
    "        self.y_comp = y_comp\n",
    "\n",
    "    def __repr__(self):\n",
    "        return f'Vector({self.x_comp}, {self.y_comp})'\n",
    "\n",
    "\n",
    "vector = Vector(3, 4)\n",
    "repr(vector)"
   ]
  },
  {
   "cell_type": "markdown",
   "id": "2a161e14",
   "metadata": {},
   "source": [
    "### Making an Object Truthy or Falsey\n",
    "\n",
    "Use the `__bool__()` dunder method. This will determine the truth value of an instance. IF `__bool__()` is not implemented the value returned by `__len__()` is used\n",
    "\n",
    "For example, a cart may be considered truthy if the cart contains items(has a length > 0 ) and falsey if the cart is empty."
   ]
  },
  {
   "cell_type": "code",
   "execution_count": 12,
   "id": "697cc22e",
   "metadata": {},
   "outputs": [
    {
     "name": "stdout",
     "output_type": "stream",
     "text": [
      "Caleb has items\n",
      "Alex has no items\n"
     ]
    }
   ],
   "source": [
    "class Order:\n",
    "    def __init__(self, cart, customer):\n",
    "        self.cart = cart\n",
    "        self.customer = customer\n",
    "        \n",
    "    def __bool__(self):\n",
    "        return len(self.cart) > 0\n",
    "    \n",
    "mycart1 = Order(['eggs', 'bacon'], 'Caleb')\n",
    "mycart2 = Order([], 'Alex')\n",
    "\n",
    "if mycart1:\n",
    "    print(f'{mycart1.customer} has items')\n",
    "    \n",
    "if not mycart2:\n",
    "    print(f\"{mycart2.customer} has no items\")\n",
    "    \n"
   ]
  },
  {
   "cell_type": "markdown",
   "id": "fccf06e2",
   "metadata": {},
   "source": [
    "## Overloading Built in Operators\n",
    "Changing the behavior of operators is similar to changing function behavior. All you do is redefine the dunder method.\n",
    "\n",
    "### Making Your Objects Capable of Being Added Using +\n",
    "The special method corresponding to the `+` operator is the `_add__()` method. It is recommended that `__add__()` returns a new instance of the class instead of modifying the calling instance"
   ]
  },
  {
   "cell_type": "code",
   "execution_count": 13,
   "id": "16686ceb",
   "metadata": {},
   "outputs": [
    {
     "data": {
      "text/plain": [
       "'Realpython'"
      ]
     },
     "execution_count": 13,
     "metadata": {},
     "output_type": "execute_result"
    }
   ],
   "source": [
    "a = 'Real'\n",
    "a + 'python' # gives a new str instance"
   ]
  },
  {
   "cell_type": "markdown",
   "id": "32c3f178",
   "metadata": {},
   "source": [
    "Let's implement the ability to append new items to our cart in the Order class. The `-` and `*` operators can be overloaded in a similar fashion using the `__sub__()` and `__mul__()` methods"
   ]
  },
  {
   "cell_type": "code",
   "execution_count": 15,
   "id": "75c87fec",
   "metadata": {},
   "outputs": [
    {
     "name": "stdout",
     "output_type": "stream",
     "text": [
      "['banana', 'apple', 'orange']\n"
     ]
    }
   ],
   "source": [
    "class Order:\n",
    "    def __init__(self, cart, customer):\n",
    "        self.cart = list(cart)\n",
    "        self.customer = customer\n",
    "        \n",
    "    def __add__(self, other):\n",
    "        new_cart = self.cart.copy()\n",
    "        new_cart.append(other)\n",
    "        \n",
    "        # creating and returning a separate instance of the Order class\n",
    "        return Order(new_cart, self.customer)\n",
    "    \n",
    "order = Order(['banana', 'apple'], 'Real Python')\n",
    "\n",
    "print((order + 'orange').cart)"
   ]
  },
  {
   "cell_type": "markdown",
   "id": "bbd22ee9",
   "metadata": {},
   "source": [
    "### Shortcuts: the += Operator\n",
    "This special operator corresponds to the `__iadd__()` method. This method should make changes directly to the self argument and return the result, which may or may not be self."
   ]
  },
  {
   "cell_type": "code",
   "execution_count": 16,
   "id": "c21a25ba",
   "metadata": {},
   "outputs": [
    {
     "data": {
      "text/plain": [
       "['banana', 'apple', 'mango']"
      ]
     },
     "execution_count": 16,
     "metadata": {},
     "output_type": "execute_result"
    }
   ],
   "source": [
    "class Order:\n",
    "    def __init__(self, cart, customer):\n",
    "        self.cart = list(cart)\n",
    "        self.customer = customer\n",
    "\n",
    "    def __iadd__(self, other):\n",
    "        self.cart.append(other)\n",
    "        return self\n",
    "\n",
    "order = Order(['banana', 'apple'], 'Real Python')\n",
    "order += 'mango'\n",
    "order.cart"
   ]
  },
  {
   "cell_type": "markdown",
   "id": "59c9da74",
   "metadata": {},
   "source": [
    "## Indexing and Slicing Your Objects Using []\n",
    "The `[]` operator is called the indexing operator and is used in various contexts in Python. You can change its behavior using the `__getitem__()` special method. An implementation in our cart object is shown below\n"
   ]
  },
  {
   "cell_type": "code",
   "execution_count": 18,
   "id": "2e194061",
   "metadata": {},
   "outputs": [
    {
     "name": "stdout",
     "output_type": "stream",
     "text": [
      "banana\n"
     ]
    },
    {
     "data": {
      "text/plain": [
       "'apple'"
      ]
     },
     "execution_count": 18,
     "metadata": {},
     "output_type": "execute_result"
    }
   ],
   "source": [
    "class Order:\n",
    "    def __init__(self, cart, customer):\n",
    "        self.cart = list(cart)\n",
    "        self.customer = customer\n",
    "        \n",
    "    def __getitem__(self, key):\n",
    "        return self.cart[key]\n",
    "    \n",
    "    \n",
    "order = Order(['banana', 'apple'], 'Real Python')\n",
    "print(order[0])\n",
    "\n",
    "order[-1]"
   ]
  },
  {
   "cell_type": "markdown",
   "id": "6cb195e0",
   "metadata": {},
   "source": [
    "## Reverse Operators: Making Your Classes Mathematically Correct\n",
    "defining the `__add__()`, `__sub__()`, `__mul__()` only works when the class instance is on the left hand side of the operator."
   ]
  },
  {
   "cell_type": "code",
   "execution_count": 20,
   "id": "606b00d3",
   "metadata": {},
   "outputs": [
    {
     "name": "stdout",
     "output_type": "stream",
     "text": [
      "['banana', 'apple', 'orange']\n"
     ]
    },
    {
     "ename": "TypeError",
     "evalue": "can only concatenate str (not \"Order\") to str",
     "output_type": "error",
     "traceback": [
      "\u001b[1;31m---------------------------------------------------------------------------\u001b[0m",
      "\u001b[1;31mTypeError\u001b[0m                                 Traceback (most recent call last)",
      "Input \u001b[1;32mIn [20]\u001b[0m, in \u001b[0;36m<cell line: 17>\u001b[1;34m()\u001b[0m\n\u001b[0;32m     13\u001b[0m order \u001b[38;5;241m=\u001b[39m Order([\u001b[38;5;124m'\u001b[39m\u001b[38;5;124mbanana\u001b[39m\u001b[38;5;124m'\u001b[39m, \u001b[38;5;124m'\u001b[39m\u001b[38;5;124mapple\u001b[39m\u001b[38;5;124m'\u001b[39m], \u001b[38;5;124m'\u001b[39m\u001b[38;5;124mReal Python\u001b[39m\u001b[38;5;124m'\u001b[39m)\n\u001b[0;32m     15\u001b[0m \u001b[38;5;28mprint\u001b[39m((order\u001b[38;5;241m+\u001b[39m\u001b[38;5;124m'\u001b[39m\u001b[38;5;124morange\u001b[39m\u001b[38;5;124m'\u001b[39m)\u001b[38;5;241m.\u001b[39mcart)\n\u001b[1;32m---> 17\u001b[0m \u001b[38;5;28mprint\u001b[39m((\u001b[38;5;124;43m'\u001b[39;49m\u001b[38;5;124;43morange\u001b[39;49m\u001b[38;5;124;43m'\u001b[39;49m\u001b[38;5;241;43m+\u001b[39;49m\u001b[43m \u001b[49m\u001b[43morder\u001b[49m)\u001b[38;5;241m.\u001b[39mcart)\n",
      "\u001b[1;31mTypeError\u001b[0m: can only concatenate str (not \"Order\") to str"
     ]
    }
   ],
   "source": [
    "class Order:\n",
    "    def __init__(self, cart, customer):\n",
    "        self.cart = list(cart)\n",
    "        self.customer = customer\n",
    "        \n",
    "    def __add__(self, other):\n",
    "        new_cart = self.cart.copy()\n",
    "        new_cart.append(other)\n",
    "        \n",
    "        # creating and returning a separate instance of the Order class\n",
    "        return Order(new_cart, self.customer)\n",
    "    \n",
    "order = Order(['banana', 'apple'], 'Real Python')\n",
    "\n",
    "#Class on left\n",
    "print((order+'orange').cart)\n",
    "\n",
    "# Class on right. TypeError\n",
    "print(('orange'+ order).cart)"
   ]
  },
  {
   "cell_type": "markdown",
   "id": "4351c7a6",
   "metadata": {},
   "source": [
    "To overcome this use the reverse special methods `__radd__()`, `__rsub__()`, and `__rmul__()` and so on. This will allow us to handle calls such as `('orange'+ order).cart`. We can configure the `__radd__()` method to to append something to the front of the card."
   ]
  },
  {
   "cell_type": "code",
   "execution_count": 22,
   "id": "9f2d4796",
   "metadata": {},
   "outputs": [
    {
     "name": "stdout",
     "output_type": "stream",
     "text": [
      "['banana', 'apple', 'orange']\n",
      "['mango', 'banana', 'apple', 'orange']\n"
     ]
    }
   ],
   "source": [
    "class Order:\n",
    "    def __init__(self, cart, customer):\n",
    "        self.cart = list(cart)\n",
    "        self.customer = customer\n",
    "\n",
    "    def __add__(self, other):\n",
    "        new_cart = self.cart.copy()\n",
    "        new_cart.append(other)\n",
    "        return Order(new_cart, self.customer)\n",
    "\n",
    "    def __radd__(self, other):\n",
    "        new_cart = self.cart.copy()\n",
    "        new_cart.insert(0, other)\n",
    "        return Order(new_cart, self.customer)\n",
    "\n",
    "order = Order(['banana', 'apple'], 'Real Python')\n",
    "\n",
    "order = order + 'orange'\n",
    "print(order.cart)\n",
    "\n",
    "\n",
    "order = 'mango' + order\n",
    "print(order.cart)"
   ]
  },
  {
   "cell_type": "code",
   "execution_count": null,
   "id": "060ec9d8",
   "metadata": {},
   "outputs": [],
   "source": []
  }
 ],
 "metadata": {
  "kernelspec": {
   "display_name": "Python 3 (ipykernel)",
   "language": "python",
   "name": "python3"
  },
  "language_info": {
   "codemirror_mode": {
    "name": "ipython",
    "version": 3
   },
   "file_extension": ".py",
   "mimetype": "text/x-python",
   "name": "python",
   "nbconvert_exporter": "python",
   "pygments_lexer": "ipython3",
   "version": "3.9.12"
  }
 },
 "nbformat": 4,
 "nbformat_minor": 5
}
