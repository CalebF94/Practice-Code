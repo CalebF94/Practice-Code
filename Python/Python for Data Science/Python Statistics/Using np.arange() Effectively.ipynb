{
 "cells": [
  {
   "cell_type": "markdown",
   "id": "937c931f",
   "metadata": {},
   "source": [
    "# NumPy's arange() function\n",
    "\n",
    "## Video 1: How to use np.arange() Overview"
   ]
  },
  {
   "cell_type": "code",
   "execution_count": 1,
   "id": "870d6d72",
   "metadata": {},
   "outputs": [
    {
     "data": {
      "text/plain": [
       "<function numpy.arange>"
      ]
     },
     "execution_count": 1,
     "metadata": {},
     "output_type": "execute_result"
    }
   ],
   "source": [
    "import numpy as np\n",
    "\n",
    "np.arange"
   ]
  },
  {
   "cell_type": "code",
   "execution_count": 2,
   "id": "37e90084",
   "metadata": {},
   "outputs": [
    {
     "data": {
      "text/plain": [
       "array([1, 2, 3, 4, 5, 6, 7, 8, 9])"
      ]
     },
     "execution_count": 2,
     "metadata": {},
     "output_type": "execute_result"
    }
   ],
   "source": [
    "np.arange(start=1, stop=10, step=1)"
   ]
  },
  {
   "cell_type": "code",
   "execution_count": 4,
   "id": "96b96ba9",
   "metadata": {},
   "outputs": [
    {
     "data": {
      "text/plain": [
       "array([1, 2, 3, 4, 5, 6, 7, 8, 9])"
      ]
     },
     "execution_count": 4,
     "metadata": {},
     "output_type": "execute_result"
    }
   ],
   "source": [
    "np.arange(1, 10, 1)"
   ]
  },
  {
   "cell_type": "code",
   "execution_count": 5,
   "id": "9d539293",
   "metadata": {},
   "outputs": [
    {
     "data": {
      "text/plain": [
       "array([0, 1, 2, 3, 4, 5, 6, 7, 8, 9])"
      ]
     },
     "execution_count": 5,
     "metadata": {},
     "output_type": "execute_result"
    }
   ],
   "source": [
    "np.arange(10) # default start is 0"
   ]
  },
  {
   "cell_type": "code",
   "execution_count": 6,
   "id": "13016603",
   "metadata": {},
   "outputs": [
    {
     "data": {
      "text/plain": [
       "array([1., 2., 3., 4., 5., 6., 7., 8., 9.])"
      ]
     },
     "execution_count": 6,
     "metadata": {},
     "output_type": "execute_result"
    }
   ],
   "source": [
    "np.arange(1.0, 10, 1)"
   ]
  },
  {
   "cell_type": "code",
   "execution_count": 8,
   "id": "bae26cf9",
   "metadata": {},
   "outputs": [
    {
     "data": {
      "text/plain": [
       "array([1. , 1.5, 2. , 2.5, 3. , 3.5, 4. , 4.5, 5. , 5.5, 6. , 6.5, 7. ,\n",
       "       7.5, 8. , 8.5, 9. , 9.5])"
      ]
     },
     "execution_count": 8,
     "metadata": {},
     "output_type": "execute_result"
    }
   ],
   "source": [
    "np.arange(1, 10, 0.5)"
   ]
  },
  {
   "cell_type": "code",
   "execution_count": 9,
   "id": "067381ca",
   "metadata": {},
   "outputs": [
    {
     "data": {
      "text/plain": [
       "array([10,  9,  8,  7,  6,  5,  4,  3,  2,  1])"
      ]
     },
     "execution_count": 9,
     "metadata": {},
     "output_type": "execute_result"
    }
   ],
   "source": [
    "np.arange(10, 0, -1)"
   ]
  },
  {
   "cell_type": "markdown",
   "id": "807353bd",
   "metadata": {},
   "source": [
    "## Video 2: Data Types\n",
    "\n",
    "If no data type is given numpy will guess which data type to use"
   ]
  },
  {
   "cell_type": "code",
   "execution_count": 10,
   "id": "37c41135",
   "metadata": {},
   "outputs": [],
   "source": [
    "import numpy as np\n",
    "\n",
    "x = np.arange(10)"
   ]
  },
  {
   "cell_type": "code",
   "execution_count": 13,
   "id": "707f4676",
   "metadata": {},
   "outputs": [
    {
     "data": {
      "text/plain": [
       "dtype('int32')"
      ]
     },
     "execution_count": 13,
     "metadata": {},
     "output_type": "execute_result"
    }
   ],
   "source": [
    "x.dtype # will be an integer as there is no reason to assume floats"
   ]
  },
  {
   "cell_type": "code",
   "execution_count": 14,
   "id": "5a9e9b0f",
   "metadata": {},
   "outputs": [
    {
     "data": {
      "text/plain": [
       "4"
      ]
     },
     "execution_count": 14,
     "metadata": {},
     "output_type": "execute_result"
    }
   ],
   "source": [
    "x.itemsize # in bytes"
   ]
  },
  {
   "cell_type": "code",
   "execution_count": 15,
   "id": "c9518af4",
   "metadata": {},
   "outputs": [
    {
     "data": {
      "text/plain": [
       "array([1, 2, 3, 4, 5, 6, 7, 8, 9], dtype=int8)"
      ]
     },
     "execution_count": 15,
     "metadata": {},
     "output_type": "execute_result"
    }
   ],
   "source": [
    "np.arange(1, 10, dtype=np.int8)"
   ]
  },
  {
   "cell_type": "code",
   "execution_count": 16,
   "id": "7a580af1",
   "metadata": {},
   "outputs": [
    {
     "name": "stderr",
     "output_type": "stream",
     "text": [
      "C:\\Users\\cfornshell\\AppData\\Local\\Temp\\ipykernel_1240\\986623931.py:2: DeprecationWarning: NumPy will stop allowing conversion of out-of-bound Python integers to integer arrays.  The conversion of 1000 to int8 will fail in the future.\n",
      "For the old behavior, usually:\n",
      "    np.array(value).astype(dtype)`\n",
      "will give the desired result (the cast overflows).\n",
      "  np.arange(1000, 1010, dtype=np.int8)\n",
      "C:\\Users\\cfornshell\\AppData\\Local\\Temp\\ipykernel_1240\\986623931.py:2: DeprecationWarning: NumPy will stop allowing conversion of out-of-bound Python integers to integer arrays.  The conversion of 1001 to int8 will fail in the future.\n",
      "For the old behavior, usually:\n",
      "    np.array(value).astype(dtype)`\n",
      "will give the desired result (the cast overflows).\n",
      "  np.arange(1000, 1010, dtype=np.int8)\n"
     ]
    },
    {
     "data": {
      "text/plain": [
       "array([-24, -23, -22, -21, -20, -19, -18, -17, -16, -15], dtype=int8)"
      ]
     },
     "execution_count": 16,
     "metadata": {},
     "output_type": "execute_result"
    }
   ],
   "source": [
    "# if changing the data type, beware of using a dtype that is too small\n",
    "np.arange(1000, 1010, dtype=np.int8)"
   ]
  },
  {
   "cell_type": "markdown",
   "id": "21dbb315",
   "metadata": {},
   "source": [
    "## Video 3: Manipulation\n",
    "\n",
    "arange returns an ndarray which has useful manipulation features"
   ]
  },
  {
   "cell_type": "code",
   "execution_count": 19,
   "id": "b970bb23",
   "metadata": {},
   "outputs": [],
   "source": [
    "import numpy as np\n",
    "\n",
    "x = np.arange(5)"
   ]
  },
  {
   "cell_type": "code",
   "execution_count": 21,
   "id": "0254fd8f",
   "metadata": {},
   "outputs": [
    {
     "data": {
      "text/plain": [
       "numpy.ndarray"
      ]
     },
     "execution_count": 21,
     "metadata": {},
     "output_type": "execute_result"
    }
   ],
   "source": [
    "type(x)"
   ]
  },
  {
   "cell_type": "code",
   "execution_count": 22,
   "id": "25bfc200",
   "metadata": {},
   "outputs": [
    {
     "data": {
      "text/plain": [
       "array([ 0,  1,  4,  9, 16])"
      ]
     },
     "execution_count": 22,
     "metadata": {},
     "output_type": "execute_result"
    }
   ],
   "source": [
    "x**2"
   ]
  },
  {
   "cell_type": "code",
   "execution_count": 23,
   "id": "fcfef344",
   "metadata": {},
   "outputs": [],
   "source": [
    "x=np.arange(-10, 10, .5)"
   ]
  },
  {
   "cell_type": "code",
   "execution_count": 24,
   "id": "3d486cbb",
   "metadata": {},
   "outputs": [
    {
     "data": {
      "text/plain": [
       "array([10. ,  9.5,  9. ,  8.5,  8. ,  7.5,  7. ,  6.5,  6. ,  5.5,  5. ,\n",
       "        4.5,  4. ,  3.5,  3. ,  2.5,  2. ,  1.5,  1. ,  0.5,  0. ,  0.5,\n",
       "        1. ,  1.5,  2. ,  2.5,  3. ,  3.5,  4. ,  4.5,  5. ,  5.5,  6. ,\n",
       "        6.5,  7. ,  7.5,  8. ,  8.5,  9. ,  9.5])"
      ]
     },
     "execution_count": 24,
     "metadata": {},
     "output_type": "execute_result"
    }
   ],
   "source": [
    "np.abs(x)"
   ]
  },
  {
   "cell_type": "code",
   "execution_count": 31,
   "id": "c5917330",
   "metadata": {},
   "outputs": [
    {
     "data": {
      "text/plain": [
       "array([ 0.84147098,  0.90929743,  0.14112001, -0.7568025 , -0.95892427,\n",
       "       -0.2794155 ,  0.6569866 ,  0.98935825,  0.41211849])"
      ]
     },
     "execution_count": 31,
     "metadata": {},
     "output_type": "execute_result"
    }
   ],
   "source": [
    "np.sin(x)"
   ]
  },
  {
   "cell_type": "code",
   "execution_count": 30,
   "id": "33ab04ff",
   "metadata": {},
   "outputs": [],
   "source": [
    "# you can also reshape the ndarray that gets returned\n",
    "x = np.arange(1, 10)"
   ]
  },
  {
   "cell_type": "code",
   "execution_count": 28,
   "id": "230d8874",
   "metadata": {},
   "outputs": [
    {
     "data": {
      "text/plain": [
       "(9,)"
      ]
     },
     "execution_count": 28,
     "metadata": {},
     "output_type": "execute_result"
    }
   ],
   "source": [
    "x.shape"
   ]
  },
  {
   "cell_type": "code",
   "execution_count": 29,
   "id": "adb387be",
   "metadata": {},
   "outputs": [
    {
     "data": {
      "text/plain": [
       "array([[1, 2, 3],\n",
       "       [4, 5, 6],\n",
       "       [7, 8, 9]])"
      ]
     },
     "execution_count": 29,
     "metadata": {},
     "output_type": "execute_result"
    }
   ],
   "source": [
    "x.reshape(3, 3)"
   ]
  },
  {
   "cell_type": "markdown",
   "id": "4c305e4f",
   "metadata": {},
   "source": [
    "## Video 4: arange() vs range()\n",
    "\n",
    "Differences:\n",
    "1. range only works with integers\n",
    "2. range doesn't return a list/array. Numbers are generated on demand\n",
    "3. np.arange is faster at creating sequences\n",
    "4. meshgrid: "
   ]
  },
  {
   "cell_type": "code",
   "execution_count": 34,
   "id": "4850c5a4",
   "metadata": {},
   "outputs": [
    {
     "data": {
      "text/plain": [
       "<function numpy.arange>"
      ]
     },
     "execution_count": 34,
     "metadata": {},
     "output_type": "execute_result"
    }
   ],
   "source": [
    "import numpy as np\n",
    "\n",
    "#returns an ndarrary\n",
    "np.arange"
   ]
  },
  {
   "cell_type": "code",
   "execution_count": 35,
   "id": "a12f8f5e",
   "metadata": {},
   "outputs": [
    {
     "data": {
      "text/plain": [
       "range"
      ]
     },
     "execution_count": 35,
     "metadata": {},
     "output_type": "execute_result"
    }
   ],
   "source": [
    "#range itself is a type\n",
    "type(range(10))"
   ]
  },
  {
   "cell_type": "markdown",
   "id": "7681d4ee",
   "metadata": {},
   "source": [
    "## Video 5: Other functions\n",
    "\n",
    "There are other functions that return or produce similar outputs:\n",
    "1. linspace: allows you to specify the number of elements that you want. \n",
    "2. logspace: same as linspace except it takes the log\n",
    "3. gemospace: uses the geom\n",
    "4"
   ]
  },
  {
   "cell_type": "code",
   "execution_count": 3,
   "id": "859e75ae",
   "metadata": {},
   "outputs": [
    {
     "data": {
      "text/plain": [
       "array([ 1,  2,  3,  4,  5,  6,  7,  8,  9, 10, 11, 12, 13, 14, 15, 16, 17,\n",
       "       18, 19, 20, 21, 22, 23, 24, 25, 26, 27, 28, 29, 30, 31, 32, 33, 34,\n",
       "       35, 36, 37, 38, 39, 40, 41, 42, 43, 44, 45, 46, 47, 48, 49, 50, 51,\n",
       "       52, 53, 54, 55, 56, 57, 58, 59, 60, 61, 62, 63, 64, 65, 66, 67, 68,\n",
       "       69, 70, 71, 72, 73, 74, 75, 76, 77, 78, 79, 80, 81, 82, 83, 84, 85,\n",
       "       86, 87, 88, 89, 90, 91, 92, 93, 94, 95, 96, 97, 98, 99])"
      ]
     },
     "execution_count": 3,
     "metadata": {},
     "output_type": "execute_result"
    }
   ],
   "source": [
    "import numpy as np\n",
    "\n",
    "np.arange(1, 100, 1, dtype=np.int32)"
   ]
  },
  {
   "cell_type": "code",
   "execution_count": 4,
   "id": "0deb8059",
   "metadata": {},
   "outputs": [
    {
     "data": {
      "text/plain": [
       "array([  1.     ,   4.09375,   7.1875 ,  10.28125,  13.375  ,  16.46875,\n",
       "        19.5625 ,  22.65625,  25.75   ,  28.84375,  31.9375 ,  35.03125,\n",
       "        38.125  ,  41.21875,  44.3125 ,  47.40625,  50.5    ,  53.59375,\n",
       "        56.6875 ,  59.78125,  62.875  ,  65.96875,  69.0625 ,  72.15625,\n",
       "        75.25   ,  78.34375,  81.4375 ,  84.53125,  87.625  ,  90.71875,\n",
       "        93.8125 ,  96.90625, 100.     ])"
      ]
     },
     "execution_count": 4,
     "metadata": {},
     "output_type": "execute_result"
    }
   ],
   "source": [
    "#Notice that the endpoint is included\n",
    "np.linspace(1, 100, num=33)"
   ]
  },
  {
   "cell_type": "code",
   "execution_count": 5,
   "id": "41d2b582",
   "metadata": {},
   "outputs": [
    {
     "data": {
      "text/plain": [
       "array([ 1.,  4.,  7., 10., 13., 16., 19., 22., 25., 28., 31., 34., 37.,\n",
       "       40., 43., 46., 49., 52., 55., 58., 61., 64., 67., 70., 73., 76.,\n",
       "       79., 82., 85., 88., 91., 94., 97.])"
      ]
     },
     "execution_count": 5,
     "metadata": {},
     "output_type": "execute_result"
    }
   ],
   "source": [
    "# Not allowing the enpoint drastically changes the values\n",
    "np.linspace(1, 100, num=33, endpoint=False)"
   ]
  },
  {
   "cell_type": "code",
   "execution_count": 6,
   "id": "5af81054",
   "metadata": {},
   "outputs": [
    {
     "data": {
      "text/plain": [
       "array([1.e+01, 1.e+04, 1.e+07, 1.e+10, 1.e+13, 1.e+16, 1.e+19, 1.e+22,\n",
       "       1.e+25, 1.e+28, 1.e+31, 1.e+34, 1.e+37, 1.e+40, 1.e+43, 1.e+46,\n",
       "       1.e+49, 1.e+52, 1.e+55, 1.e+58, 1.e+61, 1.e+64, 1.e+67, 1.e+70,\n",
       "       1.e+73, 1.e+76, 1.e+79, 1.e+82, 1.e+85, 1.e+88, 1.e+91, 1.e+94,\n",
       "       1.e+97])"
      ]
     },
     "execution_count": 6,
     "metadata": {},
     "output_type": "execute_result"
    }
   ],
   "source": [
    "np.logspace(1, 100, num=33, endpoint=False)"
   ]
  },
  {
   "cell_type": "code",
   "execution_count": 7,
   "id": "603b29b9",
   "metadata": {},
   "outputs": [
    {
     "data": {
      "text/plain": [
       "[array([[1, 2, 3, 4],\n",
       "        [1, 2, 3, 4],\n",
       "        [1, 2, 3, 4],\n",
       "        [1, 2, 3, 4]]),\n",
       " array([[1, 1, 1, 1],\n",
       "        [2, 2, 2, 2],\n",
       "        [3, 3, 3, 3],\n",
       "        [4, 4, 4, 4]])]"
      ]
     },
     "execution_count": 7,
     "metadata": {},
     "output_type": "execute_result"
    }
   ],
   "source": [
    "x=np.array([1,2,3,4])\n",
    "y=np.array([1,2,3,4])\n",
    "np.meshgrid(x,y)"
   ]
  },
  {
   "cell_type": "code",
   "execution_count": null,
   "id": "8578838f",
   "metadata": {},
   "outputs": [],
   "source": []
  }
 ],
 "metadata": {
  "kernelspec": {
   "display_name": "Python 3 (ipykernel)",
   "language": "python",
   "name": "python3"
  },
  "language_info": {
   "codemirror_mode": {
    "name": "ipython",
    "version": 3
   },
   "file_extension": ".py",
   "mimetype": "text/x-python",
   "name": "python",
   "nbconvert_exporter": "python",
   "pygments_lexer": "ipython3",
   "version": "3.11.5"
  }
 },
 "nbformat": 4,
 "nbformat_minor": 5
}
