{
 "cells": [
  {
   "cell_type": "code",
   "execution_count": null,
   "id": "28bb4e40",
   "metadata": {},
   "outputs": [],
   "source": [
    "import math # This isn't commonly used\n",
    "import statistics\n",
    "import numpy as np\n",
    "import scipy.stats\n",
    "import pandas as pd"
   ]
  },
  {
   "cell_type": "markdown",
   "id": "55203648",
   "metadata": {},
   "source": [
    "Above are some of the common packages used to perform calculations and analysis. Below we are just creating some sample data to perform calculations on."
   ]
  },
  {
   "cell_type": "code",
   "execution_count": 3,
   "id": "9ef96217",
   "metadata": {},
   "outputs": [
    {
     "name": "stdout",
     "output_type": "stream",
     "text": [
      "[8.0, 1, 2.5, 4, 28.0]\n",
      "[8.0, 1, 2.5, nan, 4, 28.0]\n"
     ]
    }
   ],
   "source": [
    "x = [8.0, 1, 2.5, 4, 28.0]\n",
    "x_with_nan = [8.0, 1, 2.5, math.nan, 4, 28.0]\n",
    "print(x)\n",
    "\n",
    "print(x_with_nan)"
   ]
  },
  {
   "cell_type": "markdown",
   "id": "559e3bde",
   "metadata": {},
   "source": [
    "Nan values are common in data science and data analysis. In python you can use any of the following interchangably to generate NAN values:\n",
    "1. float('nan')\n",
    "2. math.nan\n",
    "3. np.nan\n",
    "\n",
    "Note that comparing two nan values for equality will return false"
   ]
  },
  {
   "cell_type": "code",
   "execution_count": 6,
   "id": "e585ad48",
   "metadata": {},
   "outputs": [
    {
     "data": {
      "text/plain": [
       "False"
      ]
     },
     "execution_count": 6,
     "metadata": {},
     "output_type": "execute_result"
    }
   ],
   "source": [
    "float('nan') == math.nan == np.nan"
   ]
  },
  {
   "cell_type": "code",
   "execution_count": 7,
   "id": "e8a55e4e",
   "metadata": {},
   "outputs": [],
   "source": [
    "# creating an ndarray and a pd Series out of the lists\n",
    "y, y_with_nan = np.array(x), np.array(x_with_nan)\n",
    "z, z_with_nan = pd.Series(x), pd.Series(x_with_nan)"
   ]
  },
  {
   "cell_type": "markdown",
   "id": "eaea9481",
   "metadata": {},
   "source": [
    "## Measures of central tendancy\n",
    "\n",
    "In this tutorial we'll cover:\n",
    "1. Mean\n",
    "2. Weighted Mean\n",
    "3. Geometric Mean\n",
    "4. Harmonic Mean\n",
    "5. Median\n",
    "6. Mode\n",
    "\n",
    "### Mean"
   ]
  },
  {
   "cell_type": "code",
   "execution_count": 12,
   "id": "206594a4",
   "metadata": {},
   "outputs": [
    {
     "data": {
      "text/plain": [
       "8.7"
      ]
     },
     "execution_count": 12,
     "metadata": {},
     "output_type": "execute_result"
    }
   ],
   "source": [
    "# calculating using the sum and len functions\n",
    "mean_ = sum(x)/len(x)\n",
    "mean_"
   ]
  },
  {
   "cell_type": "code",
   "execution_count": 13,
   "id": "9aad2df3",
   "metadata": {},
   "outputs": [
    {
     "data": {
      "text/plain": [
       "8.7"
      ]
     },
     "execution_count": 13,
     "metadata": {},
     "output_type": "execute_result"
    }
   ],
   "source": [
    "# using the built-in Python statistics functions\n",
    "mean_ = statistics.mean(x)\n",
    "mean_"
   ]
  },
  {
   "cell_type": "code",
   "execution_count": 14,
   "id": "f87a13e0",
   "metadata": {},
   "outputs": [
    {
     "data": {
      "text/plain": [
       "8.7"
      ]
     },
     "execution_count": 14,
     "metadata": {},
     "output_type": "execute_result"
    }
   ],
   "source": [
    "mean_ = statistics.fmean(x) # faster always returns a floating point number\n",
    "mean_"
   ]
  },
  {
   "cell_type": "code",
   "execution_count": 15,
   "id": "26851d1c",
   "metadata": {},
   "outputs": [
    {
     "name": "stdout",
     "output_type": "stream",
     "text": [
      "nan\n",
      "nan\n"
     ]
    }
   ],
   "source": [
    "# what happens when there is nan value...returns nan\n",
    "print(statistics.mean(x_with_nan))\n",
    "print(statistics.fmean(x_with_nan))"
   ]
  },
  {
   "cell_type": "code",
   "execution_count": 18,
   "id": "d5eba578",
   "metadata": {},
   "outputs": [
    {
     "name": "stdout",
     "output_type": "stream",
     "text": [
      "8.7\n",
      "8.7\n"
     ]
    }
   ],
   "source": [
    "#using numpy function. There is a corresponding method as well\n",
    "print(np.mean(y))\n",
    "print(y.mean())"
   ]
  },
  {
   "cell_type": "code",
   "execution_count": 19,
   "id": "7cbc8fe6",
   "metadata": {},
   "outputs": [
    {
     "data": {
      "text/plain": [
       "8.7"
      ]
     },
     "execution_count": 19,
     "metadata": {},
     "output_type": "execute_result"
    }
   ],
   "source": [
    "# in numpy you can ignore the nan values by using the nanmean() function/method\n",
    "np.nanmean(y_with_nan)"
   ]
  },
  {
   "cell_type": "code",
   "execution_count": 23,
   "id": "2b56335b",
   "metadata": {},
   "outputs": [
    {
     "name": "stdout",
     "output_type": "stream",
     "text": [
      "8.7\n",
      "8.7\n"
     ]
    }
   ],
   "source": [
    "#pandas also has a mean() function, but it ignores nan values by default. This is because of the default value of the skipna parameter\n",
    "print(z.mean())\n",
    "print(z_with_nan.mean())"
   ]
  },
  {
   "cell_type": "markdown",
   "id": "a5732753",
   "metadata": {},
   "source": [
    "### Weighted Means\n",
    "\n",
    "You can implement the weighted mean in pure Python by combining sum() with either range() or zip()"
   ]
  },
  {
   "cell_type": "code",
   "execution_count": 29,
   "id": "e5c44ab9",
   "metadata": {},
   "outputs": [
    {
     "name": "stdout",
     "output_type": "stream",
     "text": [
      "6.95\n",
      "6.95\n"
     ]
    }
   ],
   "source": [
    "x = [8.0, 1, 2.5, 4, 28.0]\n",
    "w = [0.1, 0.2, 0.3, 0.25, 0.15]\n",
    "\n",
    "wmean = sum(w[i] * x[i] for i in range(len(x))) / sum(w)\n",
    "print(wmean)\n",
    "\n",
    "wmean = sum(x_ * w_ for (x_, w_) in zip(x, w)) / sum(w)\n",
    "print(wmean)"
   ]
  },
  {
   "cell_type": "code",
   "execution_count": 32,
   "id": "4616d872",
   "metadata": {},
   "outputs": [
    {
     "name": "stdout",
     "output_type": "stream",
     "text": [
      "6.95\n",
      "6.95\n"
     ]
    }
   ],
   "source": [
    "# numpy may be better for larger datasets\n",
    "y, z, w = np.array(x), pd.Series(x), np.array(w)\n",
    "wmean = np.average(y, weights=w)\n",
    "print(wmean)\n",
    "\n",
    "wmean = np.average(z, weights=w)\n",
    "print(wmean)"
   ]
  },
  {
   "cell_type": "markdown",
   "id": "57bc9f56",
   "metadata": {},
   "source": [
    "### Harmonic mean\n",
    "\n",
    "The harmonic mean is the reciprocal of the mean of the reciprocals of all items in the dataset"
   ]
  },
  {
   "cell_type": "code",
   "execution_count": 34,
   "id": "a23c5626",
   "metadata": {},
   "outputs": [
    {
     "data": {
      "text/plain": [
       "2.7613412228796843"
      ]
     },
     "execution_count": 34,
     "metadata": {},
     "output_type": "execute_result"
    }
   ],
   "source": [
    "# using pure Python\n",
    "hmean = len(x) / sum(1/item for item in x)\n",
    "hmean"
   ]
  },
  {
   "cell_type": "code",
   "execution_count": 36,
   "id": "bd0f83ff",
   "metadata": {},
   "outputs": [
    {
     "data": {
      "text/plain": [
       "2.7613412228796843"
      ]
     },
     "execution_count": 36,
     "metadata": {},
     "output_type": "execute_result"
    }
   ],
   "source": [
    "# using the statistics library\n",
    "hmean = statistics.harmonic_mean(x)\n",
    "hmean"
   ]
  },
  {
   "cell_type": "markdown",
   "id": "041e1090",
   "metadata": {},
   "source": [
    "Note that if there's at least one zero then it'll return 0. If there's at least one nan then it will return nan. If there's at least one negative number then it will return an error"
   ]
  },
  {
   "cell_type": "code",
   "execution_count": 37,
   "id": "ce77ea5f",
   "metadata": {},
   "outputs": [
    {
     "name": "stdout",
     "output_type": "stream",
     "text": [
      "nan\n",
      "0\n"
     ]
    },
    {
     "ename": "StatisticsError",
     "evalue": "harmonic mean does not support negative values",
     "output_type": "error",
     "traceback": [
      "\u001b[1;31m---------------------------------------------------------------------------\u001b[0m",
      "\u001b[1;31mStatisticsError\u001b[0m                           Traceback (most recent call last)",
      "Cell \u001b[1;32mIn[37], line 5\u001b[0m\n\u001b[0;32m      1\u001b[0m \u001b[38;5;28mprint\u001b[39m(statistics\u001b[38;5;241m.\u001b[39mharmonic_mean(x_with_nan))\n\u001b[0;32m      3\u001b[0m \u001b[38;5;28mprint\u001b[39m(statistics\u001b[38;5;241m.\u001b[39mharmonic_mean([\u001b[38;5;241m1\u001b[39m, \u001b[38;5;241m0\u001b[39m, \u001b[38;5;241m2\u001b[39m]))\n\u001b[1;32m----> 5\u001b[0m \u001b[38;5;28mprint\u001b[39m(statistics\u001b[38;5;241m.\u001b[39mharmonic_mean([\u001b[38;5;241m1\u001b[39m, \u001b[38;5;241m2\u001b[39m, \u001b[38;5;241m-\u001b[39m\u001b[38;5;241m2\u001b[39m]))\n",
      "File \u001b[1;32m~\\AppData\\Local\\anaconda3\\Lib\\statistics.py:541\u001b[0m, in \u001b[0;36mharmonic_mean\u001b[1;34m(data, weights)\u001b[0m\n\u001b[0;32m    539\u001b[0m \u001b[38;5;28;01mtry\u001b[39;00m:\n\u001b[0;32m    540\u001b[0m     data \u001b[38;5;241m=\u001b[39m _fail_neg(data, errmsg)\n\u001b[1;32m--> 541\u001b[0m     T, total, count \u001b[38;5;241m=\u001b[39m _sum(w \u001b[38;5;241m/\u001b[39m x \u001b[38;5;28;01mif\u001b[39;00m w \u001b[38;5;28;01melse\u001b[39;00m \u001b[38;5;241m0\u001b[39m \u001b[38;5;28;01mfor\u001b[39;00m w, x \u001b[38;5;129;01min\u001b[39;00m \u001b[38;5;28mzip\u001b[39m(weights, data))\n\u001b[0;32m    542\u001b[0m \u001b[38;5;28;01mexcept\u001b[39;00m \u001b[38;5;167;01mZeroDivisionError\u001b[39;00m:\n\u001b[0;32m    543\u001b[0m     \u001b[38;5;28;01mreturn\u001b[39;00m \u001b[38;5;241m0\u001b[39m\n",
      "File \u001b[1;32m~\\AppData\\Local\\anaconda3\\Lib\\statistics.py:193\u001b[0m, in \u001b[0;36m_sum\u001b[1;34m(data)\u001b[0m\n\u001b[0;32m    191\u001b[0m \u001b[38;5;28;01mfor\u001b[39;00m typ, values \u001b[38;5;129;01min\u001b[39;00m groupby(data, \u001b[38;5;28mtype\u001b[39m):\n\u001b[0;32m    192\u001b[0m     types_add(typ)\n\u001b[1;32m--> 193\u001b[0m     \u001b[38;5;28;01mfor\u001b[39;00m n, d \u001b[38;5;129;01min\u001b[39;00m \u001b[38;5;28mmap\u001b[39m(_exact_ratio, values):\n\u001b[0;32m    194\u001b[0m         count \u001b[38;5;241m+\u001b[39m\u001b[38;5;241m=\u001b[39m \u001b[38;5;241m1\u001b[39m\n\u001b[0;32m    195\u001b[0m         partials[d] \u001b[38;5;241m=\u001b[39m partials_get(d, \u001b[38;5;241m0\u001b[39m) \u001b[38;5;241m+\u001b[39m n\n",
      "File \u001b[1;32m~\\AppData\\Local\\anaconda3\\Lib\\statistics.py:541\u001b[0m, in \u001b[0;36m<genexpr>\u001b[1;34m(.0)\u001b[0m\n\u001b[0;32m    539\u001b[0m \u001b[38;5;28;01mtry\u001b[39;00m:\n\u001b[0;32m    540\u001b[0m     data \u001b[38;5;241m=\u001b[39m _fail_neg(data, errmsg)\n\u001b[1;32m--> 541\u001b[0m     T, total, count \u001b[38;5;241m=\u001b[39m _sum(w \u001b[38;5;241m/\u001b[39m x \u001b[38;5;28;01mif\u001b[39;00m w \u001b[38;5;28;01melse\u001b[39;00m \u001b[38;5;241m0\u001b[39m \u001b[38;5;28;01mfor\u001b[39;00m w, x \u001b[38;5;129;01min\u001b[39;00m \u001b[38;5;28mzip\u001b[39m(weights, data))\n\u001b[0;32m    542\u001b[0m \u001b[38;5;28;01mexcept\u001b[39;00m \u001b[38;5;167;01mZeroDivisionError\u001b[39;00m:\n\u001b[0;32m    543\u001b[0m     \u001b[38;5;28;01mreturn\u001b[39;00m \u001b[38;5;241m0\u001b[39m\n",
      "File \u001b[1;32m~\\AppData\\Local\\anaconda3\\Lib\\statistics.py:355\u001b[0m, in \u001b[0;36m_fail_neg\u001b[1;34m(values, errmsg)\u001b[0m\n\u001b[0;32m    353\u001b[0m \u001b[38;5;28;01mfor\u001b[39;00m x \u001b[38;5;129;01min\u001b[39;00m values:\n\u001b[0;32m    354\u001b[0m     \u001b[38;5;28;01mif\u001b[39;00m x \u001b[38;5;241m<\u001b[39m \u001b[38;5;241m0\u001b[39m:\n\u001b[1;32m--> 355\u001b[0m         \u001b[38;5;28;01mraise\u001b[39;00m StatisticsError(errmsg)\n\u001b[0;32m    356\u001b[0m     \u001b[38;5;28;01myield\u001b[39;00m x\n",
      "\u001b[1;31mStatisticsError\u001b[0m: harmonic mean does not support negative values"
     ]
    }
   ],
   "source": [
    "print(statistics.harmonic_mean(x_with_nan))\n",
    "\n",
    "print(statistics.harmonic_mean([1, 0, 2]))\n",
    "\n",
    "print(statistics.harmonic_mean([1, 2, -2]))  # Raises StatisticsError"
   ]
  },
  {
   "cell_type": "code",
   "execution_count": 38,
   "id": "9b73c848",
   "metadata": {},
   "outputs": [
    {
     "data": {
      "text/plain": [
       "2.7613412228796843"
      ]
     },
     "execution_count": 38,
     "metadata": {},
     "output_type": "execute_result"
    }
   ],
   "source": [
    "# using the scipy.stats\n",
    "scipy.stats.hmean(y)"
   ]
  },
  {
   "cell_type": "code",
   "execution_count": 39,
   "id": "a3a43be9",
   "metadata": {},
   "outputs": [
    {
     "data": {
      "text/plain": [
       "2.7613412228796843"
      ]
     },
     "execution_count": 39,
     "metadata": {},
     "output_type": "execute_result"
    }
   ],
   "source": [
    "scipy.stats.hmean(z)"
   ]
  },
  {
   "cell_type": "markdown",
   "id": "f80d4dbd",
   "metadata": {},
   "source": [
    "### Geometric Mean\n",
    "\n",
    "The Geometric mean is the n-th root of the product of all n elements in a list x"
   ]
  },
  {
   "cell_type": "code",
   "execution_count": 43,
   "id": "e4a0d379",
   "metadata": {},
   "outputs": [
    {
     "name": "stdout",
     "output_type": "stream",
     "text": [
      "4.677885674856041\n",
      "4.677885674856041\n"
     ]
    }
   ],
   "source": [
    "# using pure python\n",
    "gmean = 1\n",
    "gmean2 = 1\n",
    "for item in x:\n",
    "    gmean *= item\n",
    "    gmean2 *= item\n",
    "    \n",
    "    \n",
    "gmean **= 1/len(x)\n",
    "print(gmean)\n",
    "print(gmean2**(1/len(x)))"
   ]
  },
  {
   "cell_type": "code",
   "execution_count": 44,
   "id": "d0f92cba",
   "metadata": {},
   "outputs": [
    {
     "data": {
      "text/plain": [
       "4.67788567485604"
      ]
     },
     "execution_count": 44,
     "metadata": {},
     "output_type": "execute_result"
    }
   ],
   "source": [
    "# using the the statistics package\n",
    "gmean = statistics.geometric_mean(x)\n",
    "gmean"
   ]
  },
  {
   "cell_type": "code",
   "execution_count": 47,
   "id": "92910310",
   "metadata": {},
   "outputs": [
    {
     "data": {
      "text/plain": [
       "nan"
      ]
     },
     "execution_count": 47,
     "metadata": {},
     "output_type": "execute_result"
    }
   ],
   "source": [
    "#returns nan if nan values are included\n",
    "gmean = statistics.geometric_mean(x_with_nan)\n",
    "gmean"
   ]
  },
  {
   "cell_type": "code",
   "execution_count": 48,
   "id": "d87a901a",
   "metadata": {},
   "outputs": [
    {
     "data": {
      "text/plain": [
       "4.67788567485604"
      ]
     },
     "execution_count": 48,
     "metadata": {},
     "output_type": "execute_result"
    }
   ],
   "source": [
    "#scipy can also calculate the geometric mean\n",
    "scipy.stats.gmean(y)"
   ]
  },
  {
   "cell_type": "code",
   "execution_count": 50,
   "id": "006910f2",
   "metadata": {},
   "outputs": [
    {
     "data": {
      "text/plain": [
       "4.67788567485604"
      ]
     },
     "execution_count": 50,
     "metadata": {},
     "output_type": "execute_result"
    }
   ],
   "source": [
    "scipy.stats.gmean(z)"
   ]
  },
  {
   "cell_type": "markdown",
   "id": "18c8667e",
   "metadata": {},
   "source": [
    "### Median"
   ]
  },
  {
   "cell_type": "code",
   "execution_count": null,
   "id": "e9fd7236",
   "metadata": {},
   "outputs": [],
   "source": []
  }
 ],
 "metadata": {
  "kernelspec": {
   "display_name": "Python 3 (ipykernel)",
   "language": "python",
   "name": "python3"
  },
  "language_info": {
   "codemirror_mode": {
    "name": "ipython",
    "version": 3
   },
   "file_extension": ".py",
   "mimetype": "text/x-python",
   "name": "python",
   "nbconvert_exporter": "python",
   "pygments_lexer": "ipython3",
   "version": "3.11.5"
  }
 },
 "nbformat": 4,
 "nbformat_minor": 5
}
