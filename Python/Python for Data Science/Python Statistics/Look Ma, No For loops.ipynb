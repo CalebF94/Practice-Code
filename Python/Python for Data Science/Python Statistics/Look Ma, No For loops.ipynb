{
 "cells": [
  {
   "cell_type": "markdown",
   "id": "42dbfcad",
   "metadata": {},
   "source": [
    "# Look Ma, No for Loops: Array Programming with NumPy\n",
    "\n",
    "Python has a number of statistics libraries to use in data analyis:\n",
    "\n",
    "1. statistics library is a built in for descriptive statistics. \n",
    "2. NumPy used for numerical computing, opotimized for working with single and multi-dimensional arrays. Used ndarrays. contains many [routines](https://numpy.org/doc/stable/reference/routines.statistics.html) for statistical analysis\n",
    "3. SciPy used for scientific computing based on Numpy. Contains a scipy.stats for statistical analysis\n",
    "4. pandas numerical computing based on NumPy. Uses Series for 1D data and DataFrame objects for 2D data\n",
    "5. Matplotlib used for data visualization. Works well with NumPy, SciPy and pandas\n",
    "\n",
    "The code below will focus on using NumPy for Array Programming. It follows this [tutorial](https://realpython.com/numpy-array-programming/) from realpython.com\n",
    "\n",
    "## Intro to NumPy Arrays\n",
    "\n",
    "There are three concepts that lend NumPy it's power:\n",
    "1. Vectorization\n",
    "2. Broadcasting\n",
    "3. Indexing\n",
    "\n",
    "## Getting into Shape: Intro to NumPy Arrays\n",
    "\n",
    "The fundamental object of NumPy is the ndarray(numpy.array)\n",
    "\n",
    "Below is code to generate a d 3-dimensional array with 36 elements"
   ]
  },
  {
   "cell_type": "code",
   "execution_count": 62,
   "id": "ebb41068",
   "metadata": {},
   "outputs": [
    {
     "data": {
      "text/plain": [
       "array([[[ 0,  1,  2],\n",
       "        [ 3,  4,  5],\n",
       "        [ 6,  7,  8],\n",
       "        [ 9, 10, 11]],\n",
       "\n",
       "       [[12, 13, 14],\n",
       "        [15, 16, 17],\n",
       "        [18, 19, 20],\n",
       "        [21, 22, 23]],\n",
       "\n",
       "       [[24, 25, 26],\n",
       "        [27, 28, 29],\n",
       "        [30, 31, 32],\n",
       "        [33, 34, 35]]])"
      ]
     },
     "execution_count": 62,
     "metadata": {},
     "output_type": "execute_result"
    }
   ],
   "source": [
    "from statistics import mean\n",
    "import numpy as np\n",
    "#from timeit import timeit\n",
    "\n",
    "# a 2 by 4 by 3 array\n",
    "arr = np.arange(36).reshape(3, 4, 3) # a container with three 3x4grids\n",
    "arr"
   ]
  },
  {
   "cell_type": "code",
   "execution_count": 63,
   "id": "12eb0440",
   "metadata": {},
   "outputs": [
    {
     "data": {
      "text/plain": [
       "(3, 4, 3)"
      ]
     },
     "execution_count": 63,
     "metadata": {},
     "output_type": "execute_result"
    }
   ],
   "source": [
    "# the shape \n",
    "arr.shape"
   ]
  },
  {
   "cell_type": "markdown",
   "id": "5791f128",
   "metadata": {},
   "source": [
    "## What is Vectorization\n",
    "\n",
    "Vectorization is expressing operations as occurring on entire arrays rather than on the individual elements within the array.  Vectorization replaces explicit loops in code\n",
    "\n",
    "### Counting: Easy as 1, 2, 3\n",
    "Example: Suppose you have a 1-D vector of boolean values for which you want to count the number of False to True transitions. Using for loops you could write a function"
   ]
  },
  {
   "cell_type": "code",
   "execution_count": 64,
   "id": "3dc395e7",
   "metadata": {},
   "outputs": [],
   "source": [
    "# First get random data\n",
    "np.random.seed(444)\n",
    "x = np.random.choice([False, True], size=100000)\n"
   ]
  },
  {
   "cell_type": "code",
   "execution_count": 81,
   "id": "10bf9a3a",
   "metadata": {},
   "outputs": [
    {
     "data": {
      "text/plain": [
       "24984"
      ]
     },
     "execution_count": 81,
     "metadata": {},
     "output_type": "execute_result"
    }
   ],
   "source": [
    "def count_transitions(x):\n",
    "    counter = 0\n",
    "    \n",
    "    for i in range(0, len(x)-1, 1):\n",
    "        #print(f'i={i} and i+1={i+1}')\n",
    "        if x[i] > x[i+1]:\n",
    "            counter += 1\n",
    "    return counter\n",
    "\n",
    "c = count_transitions(x)\n",
    "c"
   ]
  },
  {
   "cell_type": "markdown",
   "id": "1cb555b0",
   "metadata": {},
   "source": [
    "In vectorized form this could be written as shown in the next cell."
   ]
  },
  {
   "cell_type": "code",
   "execution_count": 82,
   "id": "d38ecec1",
   "metadata": {},
   "outputs": [
    {
     "data": {
      "text/plain": [
       "24984"
      ]
     },
     "execution_count": 82,
     "metadata": {},
     "output_type": "execute_result"
    }
   ],
   "source": [
    "np.count_nonzero(x[:-1] < x[1:])"
   ]
  },
  {
   "cell_type": "markdown",
   "id": "a5ee0c29",
   "metadata": {},
   "source": [
    "When compared to the count_transitions function the vectorized version is much quicker. Note the %timeit is known as python magic function. the -o notation allows the result of the magic function to be stored in a variable"
   ]
  },
  {
   "cell_type": "code",
   "execution_count": 83,
   "id": "a20450ce",
   "metadata": {},
   "outputs": [
    {
     "name": "stdout",
     "output_type": "stream",
     "text": [
      "56.7 ms ± 111 µs per loop (mean ± std. dev. of 7 runs, 10 loops each)\n"
     ]
    }
   ],
   "source": [
    "t1 = %timeit -o count_transitions(x)"
   ]
  },
  {
   "cell_type": "code",
   "execution_count": 84,
   "id": "443806ce",
   "metadata": {},
   "outputs": [
    {
     "name": "stdout",
     "output_type": "stream",
     "text": [
      "6.62 µs ± 100 ns per loop (mean ± std. dev. of 7 runs, 100,000 loops each)\n"
     ]
    }
   ],
   "source": [
    "t2 = %timeit -o np.count_nonzero(x[:-1] < x[1:])"
   ]
  },
  {
   "cell_type": "code",
   "execution_count": 93,
   "id": "11d43ced",
   "metadata": {},
   "outputs": [
    {
     "data": {
      "text/plain": [
       "0.05652902000001632"
      ]
     },
     "execution_count": 93,
     "metadata": {},
     "output_type": "execute_result"
    }
   ],
   "source": [
    "#t1 best time is over 8800 times slower than the best \n",
    "t1.best/t2.best"
   ]
  },
  {
   "cell_type": "code",
   "execution_count": 97,
   "id": "30a13730",
   "metadata": {},
   "outputs": [
    {
     "data": {
      "text/plain": [
       "3756.2366319916046"
      ]
     },
     "execution_count": 97,
     "metadata": {},
     "output_type": "execute_result"
    }
   ],
   "source": [
    "0.1*mean(t1.all_runs)/0.00001*mean(t2.all_runs)"
   ]
  },
  {
   "cell_type": "code",
   "execution_count": null,
   "id": "494473a1",
   "metadata": {},
   "outputs": [],
   "source": []
  }
 ],
 "metadata": {
  "kernelspec": {
   "display_name": "Python 3 (ipykernel)",
   "language": "python",
   "name": "python3"
  },
  "language_info": {
   "codemirror_mode": {
    "name": "ipython",
    "version": 3
   },
   "file_extension": ".py",
   "mimetype": "text/x-python",
   "name": "python",
   "nbconvert_exporter": "python",
   "pygments_lexer": "ipython3",
   "version": "3.11.5"
  }
 },
 "nbformat": 4,
 "nbformat_minor": 5
}
