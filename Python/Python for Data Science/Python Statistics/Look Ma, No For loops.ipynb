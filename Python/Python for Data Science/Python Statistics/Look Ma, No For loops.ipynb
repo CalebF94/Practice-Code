{
 "cells": [
  {
   "cell_type": "markdown",
   "id": "42dbfcad",
   "metadata": {},
   "source": [
    "# Look Ma, No for Loops: Array Programming with NumPy\n",
    "\n",
    "Python has a number of statistics libraries to use in data analyis:\n",
    "\n",
    "1. statistics library is a built in for descriptive statistics. \n",
    "2. NumPy used for numerical computing, opotimized for working with single and multi-dimensional arrays. Used ndarrays. contains many [routines](https://numpy.org/doc/stable/reference/routines.statistics.html) for statistical analysis\n",
    "3. SciPy used for scientific computing based on Numpy. Contains a scipy.stats for statistical analysis\n",
    "4. pandas numerical computing based on NumPy. Uses Series for 1D data and DataFrame objects for 2D data\n",
    "5. Matplotlib used for data visualization. Works well with NumPy, SciPy and pandas\n",
    "\n",
    "The code below will focus on using NumPy for Array Programming. It follows this [tutorial](https://realpython.com/numpy-array-programming/) from realpython.com\n",
    "\n",
    "## Intro to NumPy Arrays\n",
    "\n",
    "There are three concepts that lend NumPy it's power:\n",
    "1. Vectorization\n",
    "2. Broadcasting\n",
    "3. Indexing\n",
    "\n",
    "## Getting into Shape: Intro to NumPy Arrays\n",
    "\n",
    "The fundamental object of NumPy is the ndarray(numpy.array)\n",
    "\n",
    "Below is code to generate a d 3-dimensional array with 36 elements"
   ]
  },
  {
   "cell_type": "code",
   "execution_count": 1,
   "id": "ebb41068",
   "metadata": {},
   "outputs": [
    {
     "data": {
      "text/plain": [
       "array([[[ 0,  1,  2],\n",
       "        [ 3,  4,  5],\n",
       "        [ 6,  7,  8],\n",
       "        [ 9, 10, 11]],\n",
       "\n",
       "       [[12, 13, 14],\n",
       "        [15, 16, 17],\n",
       "        [18, 19, 20],\n",
       "        [21, 22, 23]],\n",
       "\n",
       "       [[24, 25, 26],\n",
       "        [27, 28, 29],\n",
       "        [30, 31, 32],\n",
       "        [33, 34, 35]]])"
      ]
     },
     "execution_count": 1,
     "metadata": {},
     "output_type": "execute_result"
    }
   ],
   "source": [
    "from statistics import mean\n",
    "import numpy as np\n",
    "#from timeit import timeit\n",
    "\n",
    "# a 2 by 4 by 3 array\n",
    "arr = np.arange(36).reshape(3, 4, 3) # a container with three 3x4grids\n",
    "arr"
   ]
  },
  {
   "cell_type": "code",
   "execution_count": 2,
   "id": "12eb0440",
   "metadata": {},
   "outputs": [
    {
     "data": {
      "text/plain": [
       "(3, 4, 3)"
      ]
     },
     "execution_count": 2,
     "metadata": {},
     "output_type": "execute_result"
    }
   ],
   "source": [
    "# the shape \n",
    "arr.shape"
   ]
  },
  {
   "cell_type": "markdown",
   "id": "5791f128",
   "metadata": {},
   "source": [
    "## What is Vectorization\n",
    "\n",
    "Vectorization is expressing operations as occurring on entire arrays rather than on the individual elements within the array.  Vectorization replaces explicit loops in code\n",
    "\n",
    "### Counting: Easy as 1, 2, 3\n",
    "Example: Suppose you have a 1-D vector of boolean values for which you want to count the number of False to True transitions. Using for loops you could write a function"
   ]
  },
  {
   "cell_type": "code",
   "execution_count": 3,
   "id": "3dc395e7",
   "metadata": {},
   "outputs": [],
   "source": [
    "# First get random data\n",
    "np.random.seed(444)\n",
    "x = np.random.choice([False, True], size=100000)\n"
   ]
  },
  {
   "cell_type": "code",
   "execution_count": 4,
   "id": "10bf9a3a",
   "metadata": {},
   "outputs": [
    {
     "data": {
      "text/plain": [
       "24984"
      ]
     },
     "execution_count": 4,
     "metadata": {},
     "output_type": "execute_result"
    }
   ],
   "source": [
    "def count_transitions(x):\n",
    "    counter = 0\n",
    "    \n",
    "    for i in range(0, len(x)-1, 1):\n",
    "        #print(f'i={i} and i+1={i+1}')\n",
    "        if x[i] > x[i+1]:\n",
    "            counter += 1\n",
    "    return counter\n",
    "\n",
    "c = count_transitions(x)\n",
    "c"
   ]
  },
  {
   "cell_type": "markdown",
   "id": "1cb555b0",
   "metadata": {},
   "source": [
    "In vectorized form this could be written as shown in the next cell."
   ]
  },
  {
   "cell_type": "code",
   "execution_count": 5,
   "id": "d38ecec1",
   "metadata": {},
   "outputs": [
    {
     "data": {
      "text/plain": [
       "24984"
      ]
     },
     "execution_count": 5,
     "metadata": {},
     "output_type": "execute_result"
    }
   ],
   "source": [
    "np.count_nonzero(x[:-1] < x[1:])"
   ]
  },
  {
   "cell_type": "markdown",
   "id": "a5ee0c29",
   "metadata": {},
   "source": [
    "When compared to the count_transitions function the vectorized version is much quicker. Note the %timeit is known as python magic function. the -o notation allows the result of the magic function to be stored in a variable"
   ]
  },
  {
   "cell_type": "code",
   "execution_count": 6,
   "id": "a20450ce",
   "metadata": {},
   "outputs": [
    {
     "name": "stdout",
     "output_type": "stream",
     "text": [
      "58.6 ms ± 1.69 ms per loop (mean ± std. dev. of 7 runs, 10 loops each)\n"
     ]
    }
   ],
   "source": [
    "t1 = %timeit -o count_transitions(x)"
   ]
  },
  {
   "cell_type": "code",
   "execution_count": 7,
   "id": "443806ce",
   "metadata": {},
   "outputs": [
    {
     "name": "stdout",
     "output_type": "stream",
     "text": [
      "6.56 µs ± 99.8 ns per loop (mean ± std. dev. of 7 runs, 100,000 loops each)\n"
     ]
    }
   ],
   "source": [
    "t2 = %timeit -o np.count_nonzero(x[:-1] < x[1:])"
   ]
  },
  {
   "cell_type": "code",
   "execution_count": 8,
   "id": "11d43ced",
   "metadata": {},
   "outputs": [
    {
     "data": {
      "text/plain": [
       "8947.241059450862"
      ]
     },
     "execution_count": 8,
     "metadata": {},
     "output_type": "execute_result"
    }
   ],
   "source": [
    "#t1 best time is over 8800 times slower than the best \n",
    "t1.best/t2.best"
   ]
  },
  {
   "cell_type": "code",
   "execution_count": 9,
   "id": "30a13730",
   "metadata": {},
   "outputs": [
    {
     "data": {
      "text/plain": [
       "3843.933469002647"
      ]
     },
     "execution_count": 9,
     "metadata": {},
     "output_type": "execute_result"
    }
   ],
   "source": [
    "0.1*mean(t1.all_runs)/0.00001*mean(t2.all_runs)"
   ]
  },
  {
   "cell_type": "markdown",
   "id": "09113fbe",
   "metadata": {},
   "source": [
    "### Buy Low Sell High Example\n",
    "\n",
    "Given a stock’s price history as a sequence, and assuming that you are only allowed to make one purchase and one sale, what is the maximum profit that can be obtained? For example, given prices = (20, 18, 14, 17, 20, 21, 15), the max profit would be 7, from buying at 14 and selling at 21."
   ]
  },
  {
   "cell_type": "code",
   "execution_count": 25,
   "id": "2480d9bc",
   "metadata": {},
   "outputs": [
    {
     "name": "stdout",
     "output_type": "stream",
     "text": [
      "px = 21 min_px = 21 max_px = 0\n",
      "px = 18 min_px = 18 max_px = 0\n",
      "px = 14 min_px = 14 max_px = 0\n",
      "px = 17 min_px = 14 max_px = 3\n",
      "px = 20 min_px = 14 max_px = 6\n",
      "px = 21 min_px = 14 max_px = 7\n",
      "px = 15 min_px = 14 max_px = 7\n",
      "px = 10 min_px = 10 max_px = 7\n"
     ]
    },
    {
     "data": {
      "text/plain": [
       "7"
      ]
     },
     "execution_count": 25,
     "metadata": {},
     "output_type": "execute_result"
    }
   ],
   "source": [
    "import matplotlib.pyplot as plt\n",
    "\n",
    "def profits(prices):\n",
    "    max_px = 0\n",
    "    min_px = prices[0]\n",
    "    for px in prices:\n",
    "        min_px = min(px, min_px)\n",
    "        max_px = max(max_px, px - min_px)\n",
    "        print(f'px = {px} min_px = {min_px} max_px = {max_px}')\n",
    "    return max_px\n",
    "\n",
    "prices = [21, 18, 14, 17, 20, 21, 15, 10]\n",
    "profits(prices)"
   ]
  },
  {
   "cell_type": "code",
   "execution_count": 26,
   "id": "2ccc8367",
   "metadata": {},
   "outputs": [],
   "source": [
    "# create a mostly NAN array with a few 'turning points'\n",
    "prices = np.full(100, fill_value=np.nan)\n",
    "prices[[0, 25, 60, -1]] = [80., 30., 75., 50.]\n",
    "\n",
    "# linearly interpolate the missing values and add some noise\n",
    "x = np.arange(len(prices))\n",
    "is_valid = ~np.isnan(prices)# Boolean vector checking if prices is NaN\n",
    "prices = np.interp(x=x, xp=x[is_valid], fp=prices[is_valid]) #interpolates between the non valid prices\n",
    "prices += np.random.randn(len(prices)) * 2 #adding noise to the trends"
   ]
  },
  {
   "cell_type": "code",
   "execution_count": 47,
   "id": "a1c5fef7",
   "metadata": {},
   "outputs": [
    {
     "data": {
      "image/png": "[encoded data removed]",
      "text/plain": [
       "<Figure size 640x480 with 1 Axes>"
      ]
     },
     "metadata": {},
     "output_type": "display_data"
    }
   ],
   "source": []
  },
  {
   "cell_type": "markdown",
   "id": "7ecd697b",
   "metadata": {},
   "source": [
    "NumPs universal functions all have an accumulate() method. This means you can find the difference between each price and a running minimum (element-wise), and then take the max of theis sequence"
   ]
  },
  {
   "cell_type": "code",
   "execution_count": 51,
   "id": "05418fa0",
   "metadata": {},
   "outputs": [],
   "source": [
    "def profit_with_numpy(prices):\n",
    "    \"\"\"Price minus cumulative minimum price, element-wise\"\"\"\n",
    "    prices = np.asarray(prices)\n",
    "    return np.max(prices - np.minimum.accumulate(prices))"
   ]
  },
  {
   "cell_type": "code",
   "execution_count": 67,
   "id": "c2ac87da",
   "metadata": {},
   "outputs": [],
   "source": [
    "prf = profit_with_numpy(prices)\n",
    "#finding the indexes of the minimum value and maximum value that comes after the global minimum\n",
    "index_min = np.argmin(prices)\n",
    "index_max = np.argmax(prices[index_min:]) + index_min"
   ]
  },
  {
   "cell_type": "code",
   "execution_count": 68,
   "id": "20c9e918",
   "metadata": {},
   "outputs": [
    {
     "data": {
      "image/png": "[encoded data removed]",
      "text/plain": [
       "<Figure size 640x480 with 1 Axes>"
      ]
     },
     "metadata": {},
     "output_type": "display_data"
    }
   ],
   "source": [
    "fig, ax = plt.subplots()\n",
    "ax.set_title('Buy Low, Sell High')\n",
    "ax.plot(x, prices, color='blue')\n",
    "ax.plot(index_min, prices[index_min], marker = 'o', color='red')\n",
    "ax.plot(index_max, prices[index_max], marker = 'o', color='green')\n",
    "ax.set_ylabel('Price')\n",
    "ax.grid(axis='y')\n",
    "ax.set_facecolor('lightgrey')"
   ]
  },
  {
   "cell_type": "code",
   "execution_count": null,
   "id": "1c8b34d6",
   "metadata": {},
   "outputs": [],
   "source": []
  }
 ],
 "metadata": {
  "kernelspec": {
   "display_name": "Python 3 (ipykernel)",
   "language": "python",
   "name": "python3"
  },
  "language_info": {
   "codemirror_mode": {
    "name": "ipython",
    "version": 3
   },
   "file_extension": ".py",
   "mimetype": "text/x-python",
   "name": "python",
   "nbconvert_exporter": "python",
   "pygments_lexer": "ipython3",
   "version": "3.11.5"
  }
 },
 "nbformat": 4,
 "nbformat_minor": 5
}
