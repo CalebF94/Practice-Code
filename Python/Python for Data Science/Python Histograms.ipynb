{
 "cells": [
  {
   "cell_type": "markdown",
   "id": "6d9de51f",
   "metadata": {},
   "source": [
    "# Python Histogram Visuals\n",
    "\n",
    "## Video 2: Using pure python"
   ]
  },
  {
   "cell_type": "code",
   "execution_count": 1,
   "id": "967e421c",
   "metadata": {},
   "outputs": [],
   "source": [
    "a = [0,1,1,1,2,3,7,7,23]"
   ]
  },
  {
   "cell_type": "code",
   "execution_count": 2,
   "id": "fe48f948",
   "metadata": {},
   "outputs": [],
   "source": [
    "# Make a function to count number of times each element appears\n",
    "def count_elements(seq) -> dict:\n",
    "    hist = {}\n",
    "    for i in seq:\n",
    "        hist[i] = hist.get(i, 0) + 1\n",
    "        \n",
    "    return hist"
   ]
  },
  {
   "cell_type": "code",
   "execution_count": 3,
   "id": "7df65247",
   "metadata": {},
   "outputs": [
    {
     "data": {
      "text/plain": [
       "{0: 1, 1: 3, 2: 1, 3: 1, 7: 2, 23: 1}"
      ]
     },
     "execution_count": 3,
     "metadata": {},
     "output_type": "execute_result"
    }
   ],
   "source": [
    "counted = count_elements(a)\n",
    "counted"
   ]
  },
  {
   "cell_type": "code",
   "execution_count": 6,
   "id": "8a4eb4cc",
   "metadata": {},
   "outputs": [
    {
     "data": {
      "text/plain": [
       "Counter({1: 3, 7: 2, 0: 1, 2: 1, 3: 1, 23: 1})"
      ]
     },
     "execution_count": 6,
     "metadata": {},
     "output_type": "execute_result"
    }
   ],
   "source": [
    "# the collections library does the same thing\n",
    "from collections import Counter\n",
    "recounted = Counter(a)\n",
    "recounted # sorted from most occuring to least occuring"
   ]
  },
  {
   "cell_type": "code",
   "execution_count": 8,
   "id": "b08aa68e",
   "metadata": {},
   "outputs": [
    {
     "name": "stdout",
     "output_type": "stream",
     "text": [
      "True\n"
     ]
    }
   ],
   "source": [
    "print(recounted.items() == counted.items())"
   ]
  },
  {
   "cell_type": "code",
   "execution_count": 26,
   "id": "352e03dd",
   "metadata": {},
   "outputs": [],
   "source": [
    "# Really we want to create a visual though\n",
    "def ascii_histogram(seq) -> None:\n",
    "    counted = count_elements(seq)\n",
    "    for k in sorted(counted):\n",
    "        print(f'{k} {\"+\" * counted[k]}')"
   ]
  },
  {
   "cell_type": "code",
   "execution_count": 27,
   "id": "5a0fe31c",
   "metadata": {},
   "outputs": [
    {
     "name": "stdout",
     "output_type": "stream",
     "text": [
      "1 +++++++\n",
      "3 ++++++++++++++\n",
      "4 ++++++\n",
      "6 +++++++++\n",
      "8 ++++++\n",
      "9 ++++++++++++\n",
      "10 ++++++++++++\n"
     ]
    }
   ],
   "source": [
    "# creating data to put into our ascii_histogram() function\n",
    "import random\n",
    "random.seed(1)\n",
    "vals = [1, 3, 4, 6, 8, 9, 10]\n",
    "freq = [random.randint(5, 15) for _ in vals]\n",
    "\n",
    "data = []\n",
    "\n",
    "for f, v in zip(freq, vals):\n",
    "    data.extend([v]*f)\n",
    "    \n",
    "ascii_histogram(data)"
   ]
  },
  {
   "cell_type": "markdown",
   "id": "288cc5b4",
   "metadata": {},
   "source": [
    "## Video 3: NumPy Histograms\n",
    "\n",
    "typically we have to define bins to make histograms. This can be done using numbpy.\n",
    "\n",
    "By default NumPy creates 10 bins where the start of the first bin is the minimum of the dataset. The end of the last bin the max of the dataset. The lower bound is inclusive and the upper bound in exclusive [, ). The exception is the final bin which is [, ]"
   ]
  },
  {
   "cell_type": "code",
   "execution_count": 31,
   "id": "047f54e6",
   "metadata": {},
   "outputs": [
    {
     "name": "stdout",
     "output_type": "stream",
     "text": [
      "[ 13  23  91 261  80  21   7   2   1   1]\n",
      "\n",
      "[ 2.11   5.874  9.638 13.402 17.166 20.93  24.694 28.458 32.222 35.986\n",
      " 39.749]\n"
     ]
    }
   ],
   "source": [
    "import numpy as np\n",
    "\n",
    "np.random.seed(444)\n",
    "np.set_printoptions(precision=3)\n",
    "\n",
    "d = np.random.laplace(loc=15, scale=3, size=500)\n",
    "\n",
    "hist, bin_edges = np.histogram(d)\n",
    "print(hist) # number of occurences\n",
    "print()\n",
    "print(bin_edges)# show where bin edges are. Numpy ranges are [, )"
   ]
  },
  {
   "cell_type": "markdown",
   "id": "e7f17573",
   "metadata": {},
   "source": [
    "## Video 4: Matplotlib and Pandas\n",
    "\n",
    "This video we will actually plot a histogram"
   ]
  },
  {
   "cell_type": "code",
   "execution_count": 35,
   "id": "a2212af8",
   "metadata": {},
   "outputs": [
    {
     "data": {
      "text/plain": [
       "(0.0, 80.0)"
      ]
     },
     "execution_count": 35,
     "metadata": {},
     "output_type": "execute_result"
    },
    {
     "data": {
      "image/png": "[encoded data removed]",
      "text/plain": [
       "<Figure size 640x480 with 1 Axes>"
      ]
     },
     "metadata": {},
     "output_type": "display_data"
    }
   ],
   "source": [
    "import matplotlib.pyplot as plt\n",
    "\n",
    "n, bins, patches = plt.hist(x=d, bins='auto', color='#0504aa', alpha=0.7, rwidth=0.85)\n",
    "plt.grid(axis = 'y', alpha = 0.75)\n",
    "plt.xlabel('Value')\n",
    "plt.ylabel('Frequency')\n",
    "plt.title('My First Histogram')\n",
    "plt.text(23, 24, r'$\\mu=15, b=3$')\n",
    "maxfreq=n.max()\n",
    "plt.ylim(top=np.ceil(maxfreq/10) * 10 if maxfreq %10 else maxfreq + 10)\n"
   ]
  },
  {
   "cell_type": "code",
   "execution_count": 38,
   "id": "512fc941",
   "metadata": {},
   "outputs": [
    {
     "data": {
      "image/png": "[encoded data removed]",
      "text/plain": [
       "<Figure size 640x480 with 1 Axes>"
      ]
     },
     "metadata": {},
     "output_type": "display_data"
    }
   ],
   "source": [
    "import pandas as pd\n",
    "\n",
    "size, scale = 1000, 10\n",
    "commutes = pd.Series(np.random.gamma(scale, size=size) ** 1.5)\n",
    "\n",
    "commutes.plot.hist(grid=True, bins=20, rwidth=0.9, color='#607c8e')\n",
    "plt.title('Commute Times for 1,000 Commuters')\n",
    "plt.ylabel('Counts')\n",
    "plt.xlabel('Commute Time')\n",
    "plt.grid(axis='y', alpha=0.75)"
   ]
  },
  {
   "cell_type": "code",
   "execution_count": null,
   "id": "63141415",
   "metadata": {},
   "outputs": [],
   "source": []
  }
 ],
 "metadata": {
  "kernelspec": {
   "display_name": "Python 3 (ipykernel)",
   "language": "python",
   "name": "python3"
  },
  "language_info": {
   "codemirror_mode": {
    "name": "ipython",
    "version": 3
   },
   "file_extension": ".py",
   "mimetype": "text/x-python",
   "name": "python",
   "nbconvert_exporter": "python",
   "pygments_lexer": "ipython3",
   "version": "3.11.5"
  }
 },
 "nbformat": 4,
 "nbformat_minor": 5
}
