{
 "cells": [
  {
   "cell_type": "markdown",
   "id": "3de1e3d2",
   "metadata": {},
   "source": [
    "# Reading and Writing CSV files"
   ]
  },
  {
   "cell_type": "code",
   "execution_count": 22,
   "id": "7e502295",
   "metadata": {},
   "outputs": [
    {
     "name": "stdout",
     "output_type": "stream",
     "text": [
      "Current working directory is ['C:\\\\Users\\\\cfornshell\\\\Real Python\\\\Data Science With Python Core Skills']\n",
      "\n"
     ]
    }
   ],
   "source": [
    "cwd = !cd\n",
    "print(f'Current working directory is {cwd}\\n')"
   ]
  },
  {
   "cell_type": "markdown",
   "id": "bae55150",
   "metadata": {},
   "source": [
    "## Video 1: What are CSV files\n",
    "We'll focus on two ways to import CSV files  \n",
    "\n",
    "    - Python built in library\n",
    "    - Pandas\n",
    "    \n",
    "## Video 2: Reading CSVs with Python's \"csv\" Module"
   ]
  },
  {
   "cell_type": "markdown",
   "id": "62a36d10",
   "metadata": {},
   "source": [
    "First thing you need to do is import the csv module and open the csv file"
   ]
  },
  {
   "cell_type": "code",
   "execution_count": 23,
   "id": "85933545",
   "metadata": {},
   "outputs": [
    {
     "name": "stdout",
     "output_type": "stream",
     "text": [
      "Column names are name, department, birthday month\n",
      "\tJohn Smith works in the Accounting department, and was born in November\n",
      "\tErica Meyers works in the IT department, and was born in March\n",
      "Processed 3 lines.\n"
     ]
    }
   ],
   "source": [
    "import csv\n",
    "\n",
    "with open('Data/employee_birthday.csv') as csv_file:\n",
    "    csv_reader = csv.reader(csv_file, delimiter=\",\")\n",
    "    line_count = 0\n",
    "    for row in csv_reader:\n",
    "        if line_count == 0:\n",
    "            print(f'Column names are {\", \".join(row)}')\n",
    "            line_count += 1\n",
    "        else:\n",
    "            print(f'\\t{row[0]} works in the {row[1]} department, and was born in {row[2]}')\n",
    "            line_count += 1\n",
    "            \n",
    "    print(f'Processed {line_count} lines.')\n",
    "                  "
   ]
  },
  {
   "cell_type": "markdown",
   "id": "81da56f7",
   "metadata": {},
   "source": [
    "You can also use a DictReader to reference the columns by their header name"
   ]
  },
  {
   "cell_type": "code",
   "execution_count": 28,
   "id": "477fa714",
   "metadata": {},
   "outputs": [
    {
     "name": "stdout",
     "output_type": "stream",
     "text": [
      "Column names are name, department, birthday month\n",
      "\tJohn Smith works in the Accounting department, and was born in November\n",
      "\tErica Meyers works in the IT department, and was born in March\n",
      "Processed 3 lines.\n"
     ]
    }
   ],
   "source": [
    "with open('Data/employee_birthday.csv') as csv_file:\n",
    "    csv_reader = csv.DictReader(csv_file, delimiter=\",\")\n",
    "    line_count = 0\n",
    "    for row in csv_reader:\n",
    "        if line_count == 0:\n",
    "            print(f'Column names are {\", \".join(row)}')\n",
    "            line_count += 1\n",
    "        print(f'\\t{row[\"name\"]} works in the {row[\"department\"]} department, and was born in {row[\"birthday month\"]}')\n",
    "        line_count += 1\n",
    "            \n",
    "    print(f'Processed {line_count} lines.')"
   ]
  },
  {
   "cell_type": "markdown",
   "id": "b78b3862",
   "metadata": {},
   "source": [
    "## Video 3: Advanced CSV Reader Parameter\n",
    "What if you want to read in data that contains commas, such as addresses?\n",
    "\n",
    "The first thing you could do is change the delimiter. It may be easiest to just use the pipe delimiter rather than a comma."
   ]
  },
  {
   "cell_type": "code",
   "execution_count": 31,
   "id": "5be8b31a",
   "metadata": {},
   "outputs": [
    {
     "name": "stdout",
     "output_type": "stream",
     "text": [
      "Column names are name, address, date joined\n",
      "\tjohn smith lives at 1132 Anywhere Lane Hoboken NJ, 07030 and joined the company on Jan 4\n",
      "\terica meyers lives at 1234 Anywhere Lane Hoboken JN, 07030 and joined the company on March 2\n",
      "Processed 3 lines.\n"
     ]
    }
   ],
   "source": [
    "with open('Data/different_delim.csv') as csv_file:\n",
    "    csv_reader = csv.DictReader(csv_file, delimiter=\"|\")\n",
    "    line_count = 0\n",
    "    for row in csv_reader:\n",
    "        if line_count == 0:\n",
    "            print(f'Column names are {\", \".join(row)}')\n",
    "            line_count += 1\n",
    "        print(f'\\t{row[\"name\"]} lives at {row[\"address\"]} and joined the company on {row[\"date joined\"]}')\n",
    "        line_count += 1\n",
    "            \n",
    "    print(f'Processed {line_count} lines.')"
   ]
  },
  {
   "cell_type": "markdown",
   "id": "dc0fd7fd",
   "metadata": {},
   "source": [
    "You can also use quotes within the csv to wrap the comma containing text. Then you can use the csv_reader to ignore the commas within the quotes"
   ]
  },
  {
   "cell_type": "code",
   "execution_count": 32,
   "id": "ff0161b8",
   "metadata": {},
   "outputs": [
    {
     "name": "stdout",
     "output_type": "stream",
     "text": [
      "Column names are name, address, date joined\n",
      "\tjohn smith lives at 1132 Anywhere Lane Hoboken NJ, 07030 and joined the company on Jan 4\n",
      "\terica meyers lives at 1234 Anywhere Lane Hoboken JN, 07030 and joined the company on March 2\n",
      "Processed 3 lines.\n"
     ]
    }
   ],
   "source": [
    "with open('Data/quote_wrapping.csv') as csv_file:\n",
    "    csv_reader = csv.DictReader(csv_file, delimiter=\",\", quotechar='\"')\n",
    "    line_count = 0\n",
    "    for row in csv_reader:\n",
    "        if line_count == 0:\n",
    "            print(f'Column names are {\", \".join(row)}')\n",
    "            line_count += 1\n",
    "        print(f'\\t{row[\"name\"]} lives at {row[\"address\"]} and joined the company on {row[\"date joined\"]}')\n",
    "        line_count += 1\n",
    "            \n",
    "    print(f'Processed {line_count} lines.')"
   ]
  },
  {
   "cell_type": "markdown",
   "id": "5a2c7426",
   "metadata": {},
   "source": [
    "Another option is to use an escape character. An escape character essentially tells the csv reader to ignore anything that appears directly after the defined character. In the example below we're telling {csv_reader} to ignore the comma that comes after the pipe operator"
   ]
  },
  {
   "cell_type": "code",
   "execution_count": 35,
   "id": "adf8ce1d",
   "metadata": {},
   "outputs": [
    {
     "name": "stdout",
     "output_type": "stream",
     "text": [
      "Column names are name, address, date joined\n",
      "\tjohn smith,1132 Anywhere Lane Hoboken NJ, 07030 lives at Jan 4 and joined the company on None\n",
      "\terica meyers,1234 Anywhere Lane Hoboken JN, 07030 lives at March 2 and joined the company on None\n",
      "Processed 3 lines.\n"
     ]
    }
   ],
   "source": [
    "with open('Data/escape_char.csv') as csv_file:\n",
    "    csv_reader = csv.DictReader(csv_file, delimiter=\",\", escapechar='|')\n",
    "    line_count = 0\n",
    "    for row in csv_reader:\n",
    "        if line_count == 0:\n",
    "            print(f'Column names are {\", \".join(row)}')\n",
    "            line_count += 1\n",
    "        print(f'\\t{row[\"name\"]} lives at {row[\"address\"]} and joined the company on {row[\"date joined\"]}')\n",
    "        line_count += 1\n",
    "            \n",
    "    print(f'Processed {line_count} lines.')"
   ]
  },
  {
   "cell_type": "markdown",
   "id": "b09a82af",
   "metadata": {},
   "source": [
    "## Video 4: Writing CSV's With Python's csv Module"
   ]
  },
  {
   "cell_type": "code",
   "execution_count": 44,
   "id": "b097bbc7",
   "metadata": {},
   "outputs": [],
   "source": [
    "with open('OutData\\employee_file.csv', mode='w', newline='') as employee_file:\n",
    "        employee_writer = csv.writer(employee_file, delimiter=',', quotechar='\"', quoting=csv.QUOTE_MINIMAL)\n",
    "        \n",
    "        employee_writer.writerow(['John Smith', 'Accounting', 'November'])\n",
    "        employee_writer.writerow(['Erica Meyers', 'IT', 'March'])"
   ]
  },
  {
   "cell_type": "markdown",
   "id": "36a61ca0",
   "metadata": {},
   "source": [
    "You may want to add quotes around everything in that case change 'QUOTE_MINIMAL' to 'QUOTE_ALL'"
   ]
  },
  {
   "cell_type": "code",
   "execution_count": 46,
   "id": "68763481",
   "metadata": {},
   "outputs": [],
   "source": [
    "with open('OutData\\employee_file_Quotes.csv', mode='w', newline='') as employee_file:\n",
    "        employee_writer = csv.writer(employee_file, delimiter=',', quotechar='\"', quoting=csv.QUOTE_ALL)\n",
    "        \n",
    "        employee_writer.writerow(['John Smith', 'Accounting', 'November'])\n",
    "        employee_writer.writerow(['Erica Meyers', 'IT', 'March'])"
   ]
  },
  {
   "cell_type": "markdown",
   "id": "6f198552",
   "metadata": {},
   "source": [
    "You may want to add escape characters to the output"
   ]
  },
  {
   "cell_type": "code",
   "execution_count": 47,
   "id": "b964a997",
   "metadata": {},
   "outputs": [],
   "source": [
    "with open('OutData\\employee_file_escapes.csv', mode='w', newline='') as employee_file:\n",
    "        employee_writer = csv.writer(employee_file, delimiter=',', quotechar='\"', quoting=csv.QUOTE_NONE, escapechar=\"|\")\n",
    "        \n",
    "        employee_writer.writerow(['Smith, John', 'Accounting', 'November'])\n",
    "        employee_writer.writerow(['Meyers, Erica', 'IT', 'March'])"
   ]
  },
  {
   "cell_type": "markdown",
   "id": "f40b563f",
   "metadata": {},
   "source": [
    "You can also write a csv using a dictionary. To do this you need to add a list of field names and then reference those fields"
   ]
  },
  {
   "cell_type": "code",
   "execution_count": 48,
   "id": "3f2fff9a",
   "metadata": {},
   "outputs": [],
   "source": [
    "with open('OutData\\employee_file_dict.csv', mode='w', newline='') as employee_file:\n",
    "        fieldnames = ['name', 'department', 'birth month']\n",
    "        employee_writer = csv.DictWriter(employee_file, fieldnames=fieldnames)\n",
    "        \n",
    "        employee_writer.writeheader() #This adds the fieldnames parameter as a header row\n",
    "        employee_writer.writerow({'name':'John Smith', 'department':'Accounting', 'birth month':'November'})\n",
    "        employee_writer.writerow({'name':'Erica Meyers', 'department':'IT', 'birth month':'March'})"
   ]
  },
  {
   "cell_type": "markdown",
   "id": "db515455",
   "metadata": {},
   "source": [
    "## Video 5: Reading CSVs with pandas\n"
   ]
  },
  {
   "cell_type": "code",
   "execution_count": 1,
   "id": "8d41c72c",
   "metadata": {},
   "outputs": [],
   "source": [
    "import pandas as pd"
   ]
  },
  {
   "cell_type": "markdown",
   "id": "4d9c9519",
   "metadata": {},
   "source": [
    "Reading in a csv is as simple as using pd.read_csv() method  \n",
    "Automatically reads the first row as headers"
   ]
  },
  {
   "cell_type": "code",
   "execution_count": 3,
   "id": "791fb153",
   "metadata": {},
   "outputs": [
    {
     "data": {
      "text/html": [
       "<div>\n",
       "<style scoped>\n",
       "    .dataframe tbody tr th:only-of-type {\n",
       "        vertical-align: middle;\n",
       "    }\n",
       "\n",
       "    .dataframe tbody tr th {\n",
       "        vertical-align: top;\n",
       "    }\n",
       "\n",
       "    .dataframe thead th {\n",
       "        text-align: right;\n",
       "    }\n",
       "</style>\n",
       "<table border=\"1\" class=\"dataframe\">\n",
       "  <thead>\n",
       "    <tr style=\"text-align: right;\">\n",
       "      <th></th>\n",
       "      <th>Name</th>\n",
       "      <th>Hire Date</th>\n",
       "      <th>Salary</th>\n",
       "      <th>Sick Days remaining</th>\n",
       "    </tr>\n",
       "  </thead>\n",
       "  <tbody>\n",
       "    <tr>\n",
       "      <th>0</th>\n",
       "      <td>Graham Chapman</td>\n",
       "      <td>03/15/14</td>\n",
       "      <td>50000.0</td>\n",
       "      <td>10</td>\n",
       "    </tr>\n",
       "    <tr>\n",
       "      <th>1</th>\n",
       "      <td>John Cleese</td>\n",
       "      <td>06/01/15</td>\n",
       "      <td>65000.0</td>\n",
       "      <td>8</td>\n",
       "    </tr>\n",
       "    <tr>\n",
       "      <th>2</th>\n",
       "      <td>Eric Idle</td>\n",
       "      <td>05/12/14</td>\n",
       "      <td>45000.0</td>\n",
       "      <td>10</td>\n",
       "    </tr>\n",
       "    <tr>\n",
       "      <th>3</th>\n",
       "      <td>Terry Jones</td>\n",
       "      <td>11/01/13</td>\n",
       "      <td>70000.0</td>\n",
       "      <td>3</td>\n",
       "    </tr>\n",
       "    <tr>\n",
       "      <th>4</th>\n",
       "      <td>Terry Gilliam</td>\n",
       "      <td>08/12/14</td>\n",
       "      <td>48000.0</td>\n",
       "      <td>7</td>\n",
       "    </tr>\n",
       "    <tr>\n",
       "      <th>5</th>\n",
       "      <td>Michael Palin</td>\n",
       "      <td>05/23/13</td>\n",
       "      <td>66000.0</td>\n",
       "      <td>8</td>\n",
       "    </tr>\n",
       "  </tbody>\n",
       "</table>\n",
       "</div>"
      ],
      "text/plain": [
       "             Name Hire Date   Salary  Sick Days remaining\n",
       "0  Graham Chapman  03/15/14  50000.0                   10\n",
       "1     John Cleese  06/01/15  65000.0                    8\n",
       "2       Eric Idle  05/12/14  45000.0                   10\n",
       "3     Terry Jones  11/01/13  70000.0                    3\n",
       "4   Terry Gilliam  08/12/14  48000.0                    7\n",
       "5   Michael Palin  05/23/13  66000.0                    8"
      ]
     },
     "execution_count": 3,
     "metadata": {},
     "output_type": "execute_result"
    }
   ],
   "source": [
    "df = pd.read_csv('Data/hrdata.csv')\n",
    "df"
   ]
  },
  {
   "cell_type": "markdown",
   "id": "d860f36f",
   "metadata": {},
   "source": [
    "There are a couple of changes that we can make to improve structure of the data frame:  \n",
    "    1) Change the index from the 0 based column to the name field  \n",
    "    2) Hire date is parsed as a string\n",
    "    \n",
    "Both of these issues can be fixed by using a few parameters in the pd.read_csv() method"
   ]
  },
  {
   "cell_type": "code",
   "execution_count": 6,
   "id": "7f90db6d",
   "metadata": {},
   "outputs": [
    {
     "name": "stderr",
     "output_type": "stream",
     "text": [
      "C:\\Users\\cfornshell\\AppData\\Local\\Temp\\ipykernel_26472\\407876663.py:1: UserWarning: Could not infer format, so each element will be parsed individually, falling back to `dateutil`. To ensure parsing is consistent and as-expected, please specify a format.\n",
      "  df = pd.read_csv('Data/hrdata.csv', index_col='Name', parse_dates=['Hire Date'])\n"
     ]
    },
    {
     "data": {
      "text/html": [
       "<div>\n",
       "<style scoped>\n",
       "    .dataframe tbody tr th:only-of-type {\n",
       "        vertical-align: middle;\n",
       "    }\n",
       "\n",
       "    .dataframe tbody tr th {\n",
       "        vertical-align: top;\n",
       "    }\n",
       "\n",
       "    .dataframe thead th {\n",
       "        text-align: right;\n",
       "    }\n",
       "</style>\n",
       "<table border=\"1\" class=\"dataframe\">\n",
       "  <thead>\n",
       "    <tr style=\"text-align: right;\">\n",
       "      <th></th>\n",
       "      <th>Hire Date</th>\n",
       "      <th>Salary</th>\n",
       "      <th>Sick Days remaining</th>\n",
       "    </tr>\n",
       "    <tr>\n",
       "      <th>Name</th>\n",
       "      <th></th>\n",
       "      <th></th>\n",
       "      <th></th>\n",
       "    </tr>\n",
       "  </thead>\n",
       "  <tbody>\n",
       "    <tr>\n",
       "      <th>Graham Chapman</th>\n",
       "      <td>2014-03-15</td>\n",
       "      <td>50000.0</td>\n",
       "      <td>10</td>\n",
       "    </tr>\n",
       "    <tr>\n",
       "      <th>John Cleese</th>\n",
       "      <td>2015-06-01</td>\n",
       "      <td>65000.0</td>\n",
       "      <td>8</td>\n",
       "    </tr>\n",
       "    <tr>\n",
       "      <th>Eric Idle</th>\n",
       "      <td>2014-05-12</td>\n",
       "      <td>45000.0</td>\n",
       "      <td>10</td>\n",
       "    </tr>\n",
       "    <tr>\n",
       "      <th>Terry Jones</th>\n",
       "      <td>2013-11-01</td>\n",
       "      <td>70000.0</td>\n",
       "      <td>3</td>\n",
       "    </tr>\n",
       "    <tr>\n",
       "      <th>Terry Gilliam</th>\n",
       "      <td>2014-08-12</td>\n",
       "      <td>48000.0</td>\n",
       "      <td>7</td>\n",
       "    </tr>\n",
       "    <tr>\n",
       "      <th>Michael Palin</th>\n",
       "      <td>2013-05-23</td>\n",
       "      <td>66000.0</td>\n",
       "      <td>8</td>\n",
       "    </tr>\n",
       "  </tbody>\n",
       "</table>\n",
       "</div>"
      ],
      "text/plain": [
       "                Hire Date   Salary  Sick Days remaining\n",
       "Name                                                   \n",
       "Graham Chapman 2014-03-15  50000.0                   10\n",
       "John Cleese    2015-06-01  65000.0                    8\n",
       "Eric Idle      2014-05-12  45000.0                   10\n",
       "Terry Jones    2013-11-01  70000.0                    3\n",
       "Terry Gilliam  2014-08-12  48000.0                    7\n",
       "Michael Palin  2013-05-23  66000.0                    8"
      ]
     },
     "execution_count": 6,
     "metadata": {},
     "output_type": "execute_result"
    }
   ],
   "source": [
    "df = pd.read_csv('Data/hrdata.csv', index_col='Name', parse_dates=['Hire Date'])\n",
    "df"
   ]
  },
  {
   "cell_type": "markdown",
   "id": "3cc1eb60",
   "metadata": {},
   "source": [
    "Another helpful feature is to provide custom column names. This is accomplished by using names parameter"
   ]
  },
  {
   "cell_type": "code",
   "execution_count": 8,
   "id": "08bbb0fa",
   "metadata": {},
   "outputs": [
    {
     "name": "stderr",
     "output_type": "stream",
     "text": [
      "C:\\Users\\cfornshell\\AppData\\Local\\Temp\\ipykernel_26472\\1374493166.py:1: UserWarning: Could not infer format, so each element will be parsed individually, falling back to `dateutil`. To ensure parsing is consistent and as-expected, please specify a format.\n",
      "  df = pd.read_csv('Data/hrdata.csv',\n"
     ]
    },
    {
     "data": {
      "text/html": [
       "<div>\n",
       "<style scoped>\n",
       "    .dataframe tbody tr th:only-of-type {\n",
       "        vertical-align: middle;\n",
       "    }\n",
       "\n",
       "    .dataframe tbody tr th {\n",
       "        vertical-align: top;\n",
       "    }\n",
       "\n",
       "    .dataframe thead th {\n",
       "        text-align: right;\n",
       "    }\n",
       "</style>\n",
       "<table border=\"1\" class=\"dataframe\">\n",
       "  <thead>\n",
       "    <tr style=\"text-align: right;\">\n",
       "      <th></th>\n",
       "      <th>Hired</th>\n",
       "      <th>Salary</th>\n",
       "      <th>Sick Days</th>\n",
       "    </tr>\n",
       "    <tr>\n",
       "      <th>Employee</th>\n",
       "      <th></th>\n",
       "      <th></th>\n",
       "      <th></th>\n",
       "    </tr>\n",
       "  </thead>\n",
       "  <tbody>\n",
       "    <tr>\n",
       "      <th>Graham Chapman</th>\n",
       "      <td>2014-03-15</td>\n",
       "      <td>50000.0</td>\n",
       "      <td>10</td>\n",
       "    </tr>\n",
       "    <tr>\n",
       "      <th>John Cleese</th>\n",
       "      <td>2015-06-01</td>\n",
       "      <td>65000.0</td>\n",
       "      <td>8</td>\n",
       "    </tr>\n",
       "    <tr>\n",
       "      <th>Eric Idle</th>\n",
       "      <td>2014-05-12</td>\n",
       "      <td>45000.0</td>\n",
       "      <td>10</td>\n",
       "    </tr>\n",
       "    <tr>\n",
       "      <th>Terry Jones</th>\n",
       "      <td>2013-11-01</td>\n",
       "      <td>70000.0</td>\n",
       "      <td>3</td>\n",
       "    </tr>\n",
       "    <tr>\n",
       "      <th>Terry Gilliam</th>\n",
       "      <td>2014-08-12</td>\n",
       "      <td>48000.0</td>\n",
       "      <td>7</td>\n",
       "    </tr>\n",
       "    <tr>\n",
       "      <th>Michael Palin</th>\n",
       "      <td>2013-05-23</td>\n",
       "      <td>66000.0</td>\n",
       "      <td>8</td>\n",
       "    </tr>\n",
       "  </tbody>\n",
       "</table>\n",
       "</div>"
      ],
      "text/plain": [
       "                    Hired   Salary  Sick Days\n",
       "Employee                                     \n",
       "Graham Chapman 2014-03-15  50000.0         10\n",
       "John Cleese    2015-06-01  65000.0          8\n",
       "Eric Idle      2014-05-12  45000.0         10\n",
       "Terry Jones    2013-11-01  70000.0          3\n",
       "Terry Gilliam  2014-08-12  48000.0          7\n",
       "Michael Palin  2013-05-23  66000.0          8"
      ]
     },
     "execution_count": 8,
     "metadata": {},
     "output_type": "execute_result"
    }
   ],
   "source": [
    "df = pd.read_csv('Data/hrdata.csv',\n",
    "                index_col = 'Employee',\n",
    "                parse_dates=['Hired'],\n",
    "                header=0, # setting to 0 allows us to specify custom column names\n",
    "                names=['Employee', 'Hired', 'Salary', 'Sick Days'])\n",
    "\n",
    "df"
   ]
  },
  {
   "cell_type": "markdown",
   "id": "95b86f6d",
   "metadata": {},
   "source": [
    "## Video 6: Writing CSVs with pandas\n",
    "To write a pandas dataframe to csv use the dataframe.to_csv() method and specify a save location"
   ]
  },
  {
   "cell_type": "code",
   "execution_count": 10,
   "id": "8015db55",
   "metadata": {},
   "outputs": [
    {
     "data": {
      "text/html": [
       "<div>\n",
       "<style scoped>\n",
       "    .dataframe tbody tr th:only-of-type {\n",
       "        vertical-align: middle;\n",
       "    }\n",
       "\n",
       "    .dataframe tbody tr th {\n",
       "        vertical-align: top;\n",
       "    }\n",
       "\n",
       "    .dataframe thead th {\n",
       "        text-align: right;\n",
       "    }\n",
       "</style>\n",
       "<table border=\"1\" class=\"dataframe\">\n",
       "  <thead>\n",
       "    <tr style=\"text-align: right;\">\n",
       "      <th></th>\n",
       "      <th>Hired</th>\n",
       "      <th>Salary</th>\n",
       "      <th>Sick Days</th>\n",
       "    </tr>\n",
       "    <tr>\n",
       "      <th>Employee</th>\n",
       "      <th></th>\n",
       "      <th></th>\n",
       "      <th></th>\n",
       "    </tr>\n",
       "  </thead>\n",
       "  <tbody>\n",
       "    <tr>\n",
       "      <th>Graham Chapman</th>\n",
       "      <td>2014-03-15 00:00:00</td>\n",
       "      <td>50000.0</td>\n",
       "      <td>10</td>\n",
       "    </tr>\n",
       "    <tr>\n",
       "      <th>John Cleese</th>\n",
       "      <td>2015-06-01 00:00:00</td>\n",
       "      <td>65000.0</td>\n",
       "      <td>8</td>\n",
       "    </tr>\n",
       "    <tr>\n",
       "      <th>Eric Idle</th>\n",
       "      <td>2014-05-12 00:00:00</td>\n",
       "      <td>45000.0</td>\n",
       "      <td>10</td>\n",
       "    </tr>\n",
       "    <tr>\n",
       "      <th>Terry Jones</th>\n",
       "      <td>2013-11-01 00:00:00</td>\n",
       "      <td>70000.0</td>\n",
       "      <td>3</td>\n",
       "    </tr>\n",
       "    <tr>\n",
       "      <th>Terry Gilliam</th>\n",
       "      <td>2014-08-12 00:00:00</td>\n",
       "      <td>48000.0</td>\n",
       "      <td>7</td>\n",
       "    </tr>\n",
       "    <tr>\n",
       "      <th>Michael Palin</th>\n",
       "      <td>2013-05-23 00:00:00</td>\n",
       "      <td>66000.0</td>\n",
       "      <td>8</td>\n",
       "    </tr>\n",
       "    <tr>\n",
       "      <th>Caleb Fornshell</th>\n",
       "      <td>2021-03-15</td>\n",
       "      <td>123000.0</td>\n",
       "      <td>8</td>\n",
       "    </tr>\n",
       "  </tbody>\n",
       "</table>\n",
       "</div>"
      ],
      "text/plain": [
       "                               Hired    Salary  Sick Days\n",
       "Employee                                                 \n",
       "Graham Chapman   2014-03-15 00:00:00   50000.0         10\n",
       "John Cleese      2015-06-01 00:00:00   65000.0          8\n",
       "Eric Idle        2014-05-12 00:00:00   45000.0         10\n",
       "Terry Jones      2013-11-01 00:00:00   70000.0          3\n",
       "Terry Gilliam    2014-08-12 00:00:00   48000.0          7\n",
       "Michael Palin    2013-05-23 00:00:00   66000.0          8\n",
       "Caleb Fornshell           2021-03-15  123000.0          8"
      ]
     },
     "execution_count": 10,
     "metadata": {},
     "output_type": "execute_result"
    }
   ],
   "source": [
    "df.loc['Caleb Fornshell'] = ['2021-03-15', 123000, 8] # adding a row to the dataframe\n",
    "df"
   ]
  },
  {
   "cell_type": "code",
   "execution_count": 12,
   "id": "9b00a79c",
   "metadata": {},
   "outputs": [],
   "source": [
    "df.to_csv('OutData/hrdata_modified.csv')"
   ]
  },
  {
   "cell_type": "code",
   "execution_count": null,
   "id": "baf58dbd",
   "metadata": {},
   "outputs": [],
   "source": []
  }
 ],
 "metadata": {
  "kernelspec": {
   "display_name": "Python 3 (ipykernel)",
   "language": "python",
   "name": "python3"
  },
  "language_info": {
   "codemirror_mode": {
    "name": "ipython",
    "version": 3
   },
   "file_extension": ".py",
   "mimetype": "text/x-python",
   "name": "python",
   "nbconvert_exporter": "python",
   "pygments_lexer": "ipython3",
   "version": "3.11.5"
  }
 },
 "nbformat": 4,
 "nbformat_minor": 5
}
