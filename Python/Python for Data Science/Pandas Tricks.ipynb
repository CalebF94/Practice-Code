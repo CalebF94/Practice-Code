{
 "cells": [
  {
   "cell_type": "markdown",
   "id": "861f1740",
   "metadata": {},
   "source": [
    "# Pandas Tricks: Real Python Course\n",
    "\n",
    "## Video 2: Configure Options and Settings at Interpretter Startup\n",
    "\n",
    "In this video we learn how to set some settings when using pandas"
   ]
  },
  {
   "cell_type": "code",
   "execution_count": 7,
   "id": "f9a796fa",
   "metadata": {},
   "outputs": [],
   "source": [
    "import pandas as pd\n",
    "import numpy as np\n",
    "\n",
    "def start():\n",
    "    options = {\n",
    "        'display': {\n",
    "            'max_columns': None,\n",
    "            'max_colwidth': 25,\n",
    "            'expand_frame_repr': False,\n",
    "            'max_rows': 10,\n",
    "            'max_seq_items': 50,\n",
    "            'precision': 2, \n",
    "            'show_dimensions': False\n",
    "        },\n",
    "        'mode': {\n",
    "            'chained_assignment': None\n",
    "        }\n",
    "    }\n",
    "    \n",
    "    for category, option in options.items():\n",
    "            for op, value in option.items():\n",
    "                pd.set_option(f'{category}.{op}', value)\n",
    "                \n",
    "#if __name__ == '__main__':\n",
    "#    start()\n",
    "#   del start"
   ]
  },
  {
   "cell_type": "code",
   "execution_count": 8,
   "id": "8a2f6f2f",
   "metadata": {},
   "outputs": [],
   "source": [
    "start()"
   ]
  },
  {
   "cell_type": "code",
   "execution_count": 9,
   "id": "fccd6487",
   "metadata": {},
   "outputs": [],
   "source": [
    "data = pd.DataFrame(np.random.randn(50, 3))"
   ]
  },
  {
   "cell_type": "code",
   "execution_count": 10,
   "id": "ae98f98d",
   "metadata": {},
   "outputs": [
    {
     "data": {
      "text/html": [
       "<div>\n",
       "<style scoped>\n",
       "    .dataframe tbody tr th:only-of-type {\n",
       "        vertical-align: middle;\n",
       "    }\n",
       "\n",
       "    .dataframe tbody tr th {\n",
       "        vertical-align: top;\n",
       "    }\n",
       "\n",
       "    .dataframe thead th {\n",
       "        text-align: right;\n",
       "    }\n",
       "</style>\n",
       "<table border=\"1\" class=\"dataframe\">\n",
       "  <thead>\n",
       "    <tr style=\"text-align: right;\">\n",
       "      <th></th>\n",
       "      <th>0</th>\n",
       "      <th>1</th>\n",
       "      <th>2</th>\n",
       "    </tr>\n",
       "  </thead>\n",
       "  <tbody>\n",
       "    <tr>\n",
       "      <th>0</th>\n",
       "      <td>-0.51</td>\n",
       "      <td>-1.47</td>\n",
       "      <td>2.05</td>\n",
       "    </tr>\n",
       "    <tr>\n",
       "      <th>1</th>\n",
       "      <td>0.48</td>\n",
       "      <td>-0.05</td>\n",
       "      <td>-0.17</td>\n",
       "    </tr>\n",
       "    <tr>\n",
       "      <th>2</th>\n",
       "      <td>0.75</td>\n",
       "      <td>1.65</td>\n",
       "      <td>-0.99</td>\n",
       "    </tr>\n",
       "    <tr>\n",
       "      <th>3</th>\n",
       "      <td>1.48</td>\n",
       "      <td>-1.41</td>\n",
       "      <td>0.26</td>\n",
       "    </tr>\n",
       "    <tr>\n",
       "      <th>4</th>\n",
       "      <td>0.05</td>\n",
       "      <td>-0.04</td>\n",
       "      <td>-0.98</td>\n",
       "    </tr>\n",
       "    <tr>\n",
       "      <th>...</th>\n",
       "      <td>...</td>\n",
       "      <td>...</td>\n",
       "      <td>...</td>\n",
       "    </tr>\n",
       "    <tr>\n",
       "      <th>45</th>\n",
       "      <td>1.27</td>\n",
       "      <td>-0.29</td>\n",
       "      <td>-0.64</td>\n",
       "    </tr>\n",
       "    <tr>\n",
       "      <th>46</th>\n",
       "      <td>-2.16</td>\n",
       "      <td>-1.60</td>\n",
       "      <td>0.58</td>\n",
       "    </tr>\n",
       "    <tr>\n",
       "      <th>47</th>\n",
       "      <td>0.23</td>\n",
       "      <td>-0.54</td>\n",
       "      <td>-0.03</td>\n",
       "    </tr>\n",
       "    <tr>\n",
       "      <th>48</th>\n",
       "      <td>0.27</td>\n",
       "      <td>1.97</td>\n",
       "      <td>-2.74</td>\n",
       "    </tr>\n",
       "    <tr>\n",
       "      <th>49</th>\n",
       "      <td>0.94</td>\n",
       "      <td>1.41</td>\n",
       "      <td>0.30</td>\n",
       "    </tr>\n",
       "  </tbody>\n",
       "</table>\n",
       "</div>"
      ],
      "text/plain": [
       "       0     1     2\n",
       "0  -0.51 -1.47  2.05\n",
       "1   0.48 -0.05 -0.17\n",
       "2   0.75  1.65 -0.99\n",
       "3   1.48 -1.41  0.26\n",
       "4   0.05 -0.04 -0.98\n",
       "..   ...   ...   ...\n",
       "45  1.27 -0.29 -0.64\n",
       "46 -2.16 -1.60  0.58\n",
       "47  0.23 -0.54 -0.03\n",
       "48  0.27  1.97 -2.74\n",
       "49  0.94  1.41  0.30"
      ]
     },
     "execution_count": 10,
     "metadata": {},
     "output_type": "execute_result"
    }
   ],
   "source": [
    "data"
   ]
  },
  {
   "cell_type": "markdown",
   "id": "f8112491",
   "metadata": {},
   "source": [
    "## Video 3: Make Toy Data Structures with pandas' Testing Module\n",
    "\n",
    "pandas has a module that allows you to quickly create sample data"
   ]
  },
  {
   "cell_type": "code",
   "execution_count": 17,
   "id": "043e4441",
   "metadata": {},
   "outputs": [
    {
     "data": {
      "text/html": [
       "<div>\n",
       "<style scoped>\n",
       "    .dataframe tbody tr th:only-of-type {\n",
       "        vertical-align: middle;\n",
       "    }\n",
       "\n",
       "    .dataframe tbody tr th {\n",
       "        vertical-align: top;\n",
       "    }\n",
       "\n",
       "    .dataframe thead th {\n",
       "        text-align: right;\n",
       "    }\n",
       "</style>\n",
       "<table border=\"1\" class=\"dataframe\">\n",
       "  <thead>\n",
       "    <tr style=\"text-align: right;\">\n",
       "      <th></th>\n",
       "      <th>A</th>\n",
       "      <th>B</th>\n",
       "      <th>C</th>\n",
       "      <th>D</th>\n",
       "    </tr>\n",
       "  </thead>\n",
       "  <tbody>\n",
       "    <tr>\n",
       "      <th>2000-01-31</th>\n",
       "      <td>0.36</td>\n",
       "      <td>0.27</td>\n",
       "      <td>0.35</td>\n",
       "      <td>-0.54</td>\n",
       "    </tr>\n",
       "    <tr>\n",
       "      <th>2000-02-29</th>\n",
       "      <td>0.38</td>\n",
       "      <td>-0.48</td>\n",
       "      <td>-0.43</td>\n",
       "      <td>-0.89</td>\n",
       "    </tr>\n",
       "    <tr>\n",
       "      <th>2000-03-31</th>\n",
       "      <td>1.38</td>\n",
       "      <td>0.30</td>\n",
       "      <td>-0.50</td>\n",
       "      <td>0.11</td>\n",
       "    </tr>\n",
       "    <tr>\n",
       "      <th>2000-04-30</th>\n",
       "      <td>1.18</td>\n",
       "      <td>-0.18</td>\n",
       "      <td>0.23</td>\n",
       "      <td>-0.74</td>\n",
       "    </tr>\n",
       "    <tr>\n",
       "      <th>2000-05-31</th>\n",
       "      <td>-0.94</td>\n",
       "      <td>1.18</td>\n",
       "      <td>-0.65</td>\n",
       "      <td>-0.08</td>\n",
       "    </tr>\n",
       "  </tbody>\n",
       "</table>\n",
       "</div>"
      ],
      "text/plain": [
       "               A     B     C     D\n",
       "2000-01-31  0.36  0.27  0.35 -0.54\n",
       "2000-02-29  0.38 -0.48 -0.43 -0.89\n",
       "2000-03-31  1.38  0.30 -0.50  0.11\n",
       "2000-04-30  1.18 -0.18  0.23 -0.74\n",
       "2000-05-31 -0.94  1.18 -0.65 -0.08"
      ]
     },
     "execution_count": 17,
     "metadata": {},
     "output_type": "execute_result"
    }
   ],
   "source": [
    "import pandas._testing as tm\n",
    "import numpy as np\n",
    "\n",
    "tm.N, tm.K = 15, 3\n",
    "np.random.seed(444)\n",
    "tm.makeTimeDataFrame(freq=\"M\").head()"
   ]
  },
  {
   "cell_type": "code",
   "execution_count": 18,
   "id": "bd9b5ebc",
   "metadata": {},
   "outputs": [
    {
     "data": {
      "text/html": [
       "<div>\n",
       "<style scoped>\n",
       "    .dataframe tbody tr th:only-of-type {\n",
       "        vertical-align: middle;\n",
       "    }\n",
       "\n",
       "    .dataframe tbody tr th {\n",
       "        vertical-align: top;\n",
       "    }\n",
       "\n",
       "    .dataframe thead th {\n",
       "        text-align: right;\n",
       "    }\n",
       "</style>\n",
       "<table border=\"1\" class=\"dataframe\">\n",
       "  <thead>\n",
       "    <tr style=\"text-align: right;\">\n",
       "      <th></th>\n",
       "      <th>A</th>\n",
       "      <th>B</th>\n",
       "      <th>C</th>\n",
       "      <th>D</th>\n",
       "    </tr>\n",
       "  </thead>\n",
       "  <tbody>\n",
       "    <tr>\n",
       "      <th>b8jgVbQbug</th>\n",
       "      <td>-0.75</td>\n",
       "      <td>-0.10</td>\n",
       "      <td>-0.06</td>\n",
       "      <td>0.04</td>\n",
       "    </tr>\n",
       "    <tr>\n",
       "      <th>OKCyyhkEvY</th>\n",
       "      <td>0.50</td>\n",
       "      <td>0.80</td>\n",
       "      <td>-0.17</td>\n",
       "      <td>-1.49</td>\n",
       "    </tr>\n",
       "    <tr>\n",
       "      <th>RtcTWq0AMT</th>\n",
       "      <td>-0.15</td>\n",
       "      <td>0.51</td>\n",
       "      <td>-0.09</td>\n",
       "      <td>-0.72</td>\n",
       "    </tr>\n",
       "    <tr>\n",
       "      <th>vtdamOujY0</th>\n",
       "      <td>-0.35</td>\n",
       "      <td>0.27</td>\n",
       "      <td>1.55</td>\n",
       "      <td>-0.05</td>\n",
       "    </tr>\n",
       "    <tr>\n",
       "      <th>tW49Zqe3lC</th>\n",
       "      <td>0.16</td>\n",
       "      <td>0.84</td>\n",
       "      <td>0.69</td>\n",
       "      <td>1.54</td>\n",
       "    </tr>\n",
       "  </tbody>\n",
       "</table>\n",
       "</div>"
      ],
      "text/plain": [
       "               A     B     C     D\n",
       "b8jgVbQbug -0.75 -0.10 -0.06  0.04\n",
       "OKCyyhkEvY  0.50  0.80 -0.17 -1.49\n",
       "RtcTWq0AMT -0.15  0.51 -0.09 -0.72\n",
       "vtdamOujY0 -0.35  0.27  1.55 -0.05\n",
       "tW49Zqe3lC  0.16  0.84  0.69  1.54"
      ]
     },
     "execution_count": 18,
     "metadata": {},
     "output_type": "execute_result"
    }
   ],
   "source": [
    "tm.makeDataFrame().head()"
   ]
  },
  {
   "cell_type": "code",
   "execution_count": 19,
   "id": "fac7e683",
   "metadata": {},
   "outputs": [
    {
     "data": {
      "text/plain": [
       "['makeBoolIndex',\n",
       " 'makeCategoricalIndex',\n",
       " 'makeCustomDataframe',\n",
       " 'makeCustomIndex',\n",
       " 'makeDataFrame',\n",
       " 'makeDateIndex',\n",
       " 'makeFloatIndex',\n",
       " 'makeFloatSeries',\n",
       " 'makeIntIndex',\n",
       " 'makeIntervalIndex',\n",
       " 'makeMissingDataframe',\n",
       " 'makeMixedDataFrame',\n",
       " 'makeMultiIndex',\n",
       " 'makeNumericIndex',\n",
       " 'makeObjectSeries',\n",
       " 'makePeriodFrame',\n",
       " 'makePeriodIndex',\n",
       " 'makePeriodSeries',\n",
       " 'makeRangeIndex',\n",
       " 'makeStringIndex',\n",
       " 'makeStringSeries',\n",
       " 'makeTimeDataFrame',\n",
       " 'makeTimeSeries',\n",
       " 'makeTimedeltaIndex',\n",
       " 'makeUIntIndex',\n",
       " 'make_rand_series']"
      ]
     },
     "execution_count": 19,
     "metadata": {},
     "output_type": "execute_result"
    }
   ],
   "source": [
    "[i for i in dir(tm) if i.startswith('make')]"
   ]
  },
  {
   "cell_type": "markdown",
   "id": "b9b031c6",
   "metadata": {},
   "source": [
    "## Video 4: Take Advantage of Accessor Methods\n",
    "\n",
    "An Accessor is an interface to access additional methods"
   ]
  },
  {
   "cell_type": "code",
   "execution_count": 22,
   "id": "0c9d74d8",
   "metadata": {},
   "outputs": [
    {
     "data": {
      "text/plain": [
       "{'cat', 'dt', 'sparse', 'str'}"
      ]
     },
     "execution_count": 22,
     "metadata": {},
     "output_type": "execute_result"
    }
   ],
   "source": [
    "import pandas as pd\n",
    "\n",
    "#the Series object has 4 accessor types\n",
    "pd.Series._accessors"
   ]
  },
  {
   "cell_type": "code",
   "execution_count": 23,
   "id": "53d2dde8",
   "metadata": {},
   "outputs": [],
   "source": [
    "addr = pd.Series([\n",
    "    'Washington DC 20003',\n",
    "    'Brooklyn, NY 11211-1755',\n",
    "    'Omaha, NE 68154',\n",
    "    'Pittsburgh, PA 15211'\n",
    "])"
   ]
  },
  {
   "cell_type": "code",
   "execution_count": 25,
   "id": "f788cd6e",
   "metadata": {},
   "outputs": [
    {
     "data": {
      "text/plain": [
       "'HELLO'"
      ]
     },
     "execution_count": 25,
     "metadata": {},
     "output_type": "execute_result"
    }
   ],
   "source": [
    "s = 'hello'\n",
    "s.upper()"
   ]
  },
  {
   "cell_type": "code",
   "execution_count": 26,
   "id": "eb9c097c",
   "metadata": {},
   "outputs": [
    {
     "data": {
      "text/plain": [
       "0        WASHINGTON DC 20003\n",
       "1    BROOKLYN, NY 11211-1755\n",
       "2            OMAHA, NE 68154\n",
       "3       PITTSBURGH, PA 15211\n",
       "dtype: object"
      ]
     },
     "execution_count": 26,
     "metadata": {},
     "output_type": "execute_result"
    }
   ],
   "source": [
    "# to call upper on every item in the series you can't call upper\n",
    "# yyou have to use an accessor str\n",
    "addr.str.upper()"
   ]
  },
  {
   "cell_type": "code",
   "execution_count": 29,
   "id": "a4f171aa",
   "metadata": {},
   "outputs": [
    {
     "data": {
      "text/plain": [
       "0    5\n",
       "1    9\n",
       "2    5\n",
       "3    5\n",
       "dtype: int64"
      ]
     },
     "execution_count": 29,
     "metadata": {},
     "output_type": "execute_result"
    }
   ],
   "source": [
    "addr.str.count(r'\\d')"
   ]
  },
  {
   "cell_type": "code",
   "execution_count": 30,
   "id": "b51c6891",
   "metadata": {},
   "outputs": [],
   "source": [
    "daterng = pd.Series(pd.date_range('2019', periods=9, freq='Q'))"
   ]
  },
  {
   "cell_type": "code",
   "execution_count": 31,
   "id": "916072e6",
   "metadata": {},
   "outputs": [
    {
     "data": {
      "text/plain": [
       "0   2019-03-31\n",
       "1   2019-06-30\n",
       "2   2019-09-30\n",
       "3   2019-12-31\n",
       "4   2020-03-31\n",
       "5   2020-06-30\n",
       "6   2020-09-30\n",
       "7   2020-12-31\n",
       "8   2021-03-31\n",
       "dtype: datetime64[ns]"
      ]
     },
     "execution_count": 31,
     "metadata": {},
     "output_type": "execute_result"
    }
   ],
   "source": [
    "daterng"
   ]
  },
  {
   "cell_type": "code",
   "execution_count": 32,
   "id": "e9eda260",
   "metadata": {},
   "outputs": [
    {
     "data": {
      "text/plain": [
       "0       Sunday\n",
       "1       Sunday\n",
       "2       Monday\n",
       "3      Tuesday\n",
       "4      Tuesday\n",
       "5      Tuesday\n",
       "6    Wednesday\n",
       "7     Thursday\n",
       "8    Wednesday\n",
       "dtype: object"
      ]
     },
     "execution_count": 32,
     "metadata": {},
     "output_type": "execute_result"
    }
   ],
   "source": [
    "daterng.dt.day_name()"
   ]
  },
  {
   "cell_type": "code",
   "execution_count": 34,
   "id": "ce82c772",
   "metadata": {},
   "outputs": [
    {
     "data": {
      "text/plain": [
       "2   2019-09-30\n",
       "3   2019-12-31\n",
       "6   2020-09-30\n",
       "7   2020-12-31\n",
       "dtype: datetime64[ns]"
      ]
     },
     "execution_count": 34,
     "metadata": {},
     "output_type": "execute_result"
    }
   ],
   "source": [
    "daterng[daterng.dt.quarter >2]"
   ]
  },
  {
   "cell_type": "code",
   "execution_count": 35,
   "id": "68ae405e",
   "metadata": {},
   "outputs": [
    {
     "data": {
      "text/plain": [
       "3   2019-12-31\n",
       "7   2020-12-31\n",
       "dtype: datetime64[ns]"
      ]
     },
     "execution_count": 35,
     "metadata": {},
     "output_type": "execute_result"
    }
   ],
   "source": [
    "daterng[daterng.dt.is_year_end]"
   ]
  },
  {
   "cell_type": "code",
   "execution_count": null,
   "id": "2da08476",
   "metadata": {},
   "outputs": [],
   "source": []
  }
 ],
 "metadata": {
  "kernelspec": {
   "display_name": "Python 3 (ipykernel)",
   "language": "python",
   "name": "python3"
  },
  "language_info": {
   "codemirror_mode": {
    "name": "ipython",
    "version": 3
   },
   "file_extension": ".py",
   "mimetype": "text/x-python",
   "name": "python",
   "nbconvert_exporter": "python",
   "pygments_lexer": "ipython3",
   "version": "3.11.5"
  }
 },
 "nbformat": 4,
 "nbformat_minor": 5
}
