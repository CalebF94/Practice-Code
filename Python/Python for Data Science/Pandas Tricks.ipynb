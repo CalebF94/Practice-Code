{
 "cells": [
  {
   "cell_type": "markdown",
   "id": "861f1740",
   "metadata": {},
   "source": [
    "# Pandas Tricks: Real Python Course\n",
    "\n",
    "## Video 2: Configure Options and Settings at Interpretter Startup\n",
    "\n",
    "In this video we learn how to set some settings when using pandas"
   ]
  },
  {
   "cell_type": "code",
   "execution_count": 2,
   "id": "f9a796fa",
   "metadata": {},
   "outputs": [],
   "source": [
    "import pandas as pd\n",
    "import numpy as np\n",
    "\n",
    "def start():\n",
    "    options = {\n",
    "        'display': {\n",
    "            'max_columns': None,\n",
    "            'max_colwidth': 25,\n",
    "            'expand_frame_repr': False,\n",
    "            'max_rows': 10,\n",
    "            'max_seq_items': 50,\n",
    "            'precision': 2, \n",
    "            'show_dimensions': False\n",
    "        },\n",
    "        'mode': {\n",
    "            'chained_assignment': None\n",
    "        }\n",
    "    }\n",
    "    \n",
    "    for category, option in options.items():\n",
    "            for op, value in option.items():\n",
    "                pd.set_option(f'{category}.{op}', value)\n",
    "                \n",
    "#if __name__ == '__main__':\n",
    "#    start()\n",
    "#   del start"
   ]
  },
  {
   "cell_type": "code",
   "execution_count": 3,
   "id": "8a2f6f2f",
   "metadata": {},
   "outputs": [],
   "source": [
    "start()"
   ]
  },
  {
   "cell_type": "code",
   "execution_count": 4,
   "id": "fccd6487",
   "metadata": {},
   "outputs": [],
   "source": [
    "data = pd.DataFrame(np.random.randn(50, 3))"
   ]
  },
  {
   "cell_type": "code",
   "execution_count": 5,
   "id": "ae98f98d",
   "metadata": {},
   "outputs": [
    {
     "data": {
      "text/html": [
       "<div>\n",
       "<style scoped>\n",
       "    .dataframe tbody tr th:only-of-type {\n",
       "        vertical-align: middle;\n",
       "    }\n",
       "\n",
       "    .dataframe tbody tr th {\n",
       "        vertical-align: top;\n",
       "    }\n",
       "\n",
       "    .dataframe thead th {\n",
       "        text-align: right;\n",
       "    }\n",
       "</style>\n",
       "<table border=\"1\" class=\"dataframe\">\n",
       "  <thead>\n",
       "    <tr style=\"text-align: right;\">\n",
       "      <th></th>\n",
       "      <th>0</th>\n",
       "      <th>1</th>\n",
       "      <th>2</th>\n",
       "    </tr>\n",
       "  </thead>\n",
       "  <tbody>\n",
       "    <tr>\n",
       "      <th>0</th>\n",
       "      <td>-1.01</td>\n",
       "      <td>4.52e-01</td>\n",
       "      <td>1.41</td>\n",
       "    </tr>\n",
       "    <tr>\n",
       "      <th>1</th>\n",
       "      <td>0.64</td>\n",
       "      <td>6.73e-02</td>\n",
       "      <td>0.20</td>\n",
       "    </tr>\n",
       "    <tr>\n",
       "      <th>2</th>\n",
       "      <td>-0.86</td>\n",
       "      <td>-3.00e-01</td>\n",
       "      <td>-0.51</td>\n",
       "    </tr>\n",
       "    <tr>\n",
       "      <th>3</th>\n",
       "      <td>1.18</td>\n",
       "      <td>1.75e+00</td>\n",
       "      <td>-0.34</td>\n",
       "    </tr>\n",
       "    <tr>\n",
       "      <th>4</th>\n",
       "      <td>0.15</td>\n",
       "      <td>-7.79e-03</td>\n",
       "      <td>0.37</td>\n",
       "    </tr>\n",
       "    <tr>\n",
       "      <th>...</th>\n",
       "      <td>...</td>\n",
       "      <td>...</td>\n",
       "      <td>...</td>\n",
       "    </tr>\n",
       "    <tr>\n",
       "      <th>45</th>\n",
       "      <td>-0.92</td>\n",
       "      <td>8.88e-01</td>\n",
       "      <td>-0.54</td>\n",
       "    </tr>\n",
       "    <tr>\n",
       "      <th>46</th>\n",
       "      <td>0.88</td>\n",
       "      <td>-2.53e-02</td>\n",
       "      <td>-1.40</td>\n",
       "    </tr>\n",
       "    <tr>\n",
       "      <th>47</th>\n",
       "      <td>1.01</td>\n",
       "      <td>-2.21e-01</td>\n",
       "      <td>0.73</td>\n",
       "    </tr>\n",
       "    <tr>\n",
       "      <th>48</th>\n",
       "      <td>0.55</td>\n",
       "      <td>5.77e-01</td>\n",
       "      <td>0.99</td>\n",
       "    </tr>\n",
       "    <tr>\n",
       "      <th>49</th>\n",
       "      <td>-0.21</td>\n",
       "      <td>8.59e-01</td>\n",
       "      <td>-1.08</td>\n",
       "    </tr>\n",
       "  </tbody>\n",
       "</table>\n",
       "</div>"
      ],
      "text/plain": [
       "       0         1     2\n",
       "0  -1.01  4.52e-01  1.41\n",
       "1   0.64  6.73e-02  0.20\n",
       "2  -0.86 -3.00e-01 -0.51\n",
       "3   1.18  1.75e+00 -0.34\n",
       "4   0.15 -7.79e-03  0.37\n",
       "..   ...       ...   ...\n",
       "45 -0.92  8.88e-01 -0.54\n",
       "46  0.88 -2.53e-02 -1.40\n",
       "47  1.01 -2.21e-01  0.73\n",
       "48  0.55  5.77e-01  0.99\n",
       "49 -0.21  8.59e-01 -1.08"
      ]
     },
     "execution_count": 5,
     "metadata": {},
     "output_type": "execute_result"
    }
   ],
   "source": [
    "data"
   ]
  },
  {
   "cell_type": "markdown",
   "id": "f8112491",
   "metadata": {},
   "source": [
    "## Video 3: Make Toy Data Structures with pandas' Testing Module\n",
    "\n",
    "pandas has a module that allows you to quickly create sample data"
   ]
  },
  {
   "cell_type": "code",
   "execution_count": 6,
   "id": "043e4441",
   "metadata": {},
   "outputs": [
    {
     "data": {
      "text/html": [
       "<div>\n",
       "<style scoped>\n",
       "    .dataframe tbody tr th:only-of-type {\n",
       "        vertical-align: middle;\n",
       "    }\n",
       "\n",
       "    .dataframe tbody tr th {\n",
       "        vertical-align: top;\n",
       "    }\n",
       "\n",
       "    .dataframe thead th {\n",
       "        text-align: right;\n",
       "    }\n",
       "</style>\n",
       "<table border=\"1\" class=\"dataframe\">\n",
       "  <thead>\n",
       "    <tr style=\"text-align: right;\">\n",
       "      <th></th>\n",
       "      <th>A</th>\n",
       "      <th>B</th>\n",
       "      <th>C</th>\n",
       "      <th>D</th>\n",
       "    </tr>\n",
       "  </thead>\n",
       "  <tbody>\n",
       "    <tr>\n",
       "      <th>2000-01-31</th>\n",
       "      <td>0.36</td>\n",
       "      <td>0.27</td>\n",
       "      <td>0.35</td>\n",
       "      <td>-0.54</td>\n",
       "    </tr>\n",
       "    <tr>\n",
       "      <th>2000-02-29</th>\n",
       "      <td>0.38</td>\n",
       "      <td>-0.48</td>\n",
       "      <td>-0.43</td>\n",
       "      <td>-0.89</td>\n",
       "    </tr>\n",
       "    <tr>\n",
       "      <th>2000-03-31</th>\n",
       "      <td>1.38</td>\n",
       "      <td>0.30</td>\n",
       "      <td>-0.50</td>\n",
       "      <td>0.11</td>\n",
       "    </tr>\n",
       "    <tr>\n",
       "      <th>2000-04-30</th>\n",
       "      <td>1.18</td>\n",
       "      <td>-0.18</td>\n",
       "      <td>0.23</td>\n",
       "      <td>-0.74</td>\n",
       "    </tr>\n",
       "    <tr>\n",
       "      <th>2000-05-31</th>\n",
       "      <td>-0.94</td>\n",
       "      <td>1.18</td>\n",
       "      <td>-0.65</td>\n",
       "      <td>-0.08</td>\n",
       "    </tr>\n",
       "  </tbody>\n",
       "</table>\n",
       "</div>"
      ],
      "text/plain": [
       "               A     B     C     D\n",
       "2000-01-31  0.36  0.27  0.35 -0.54\n",
       "2000-02-29  0.38 -0.48 -0.43 -0.89\n",
       "2000-03-31  1.38  0.30 -0.50  0.11\n",
       "2000-04-30  1.18 -0.18  0.23 -0.74\n",
       "2000-05-31 -0.94  1.18 -0.65 -0.08"
      ]
     },
     "execution_count": 6,
     "metadata": {},
     "output_type": "execute_result"
    }
   ],
   "source": [
    "import pandas._testing as tm\n",
    "import numpy as np\n",
    "\n",
    "tm.N, tm.K = 15, 3\n",
    "np.random.seed(444)\n",
    "tm.makeTimeDataFrame(freq=\"M\").head()"
   ]
  },
  {
   "cell_type": "code",
   "execution_count": 7,
   "id": "bd9b5ebc",
   "metadata": {},
   "outputs": [
    {
     "data": {
      "text/html": [
       "<div>\n",
       "<style scoped>\n",
       "    .dataframe tbody tr th:only-of-type {\n",
       "        vertical-align: middle;\n",
       "    }\n",
       "\n",
       "    .dataframe tbody tr th {\n",
       "        vertical-align: top;\n",
       "    }\n",
       "\n",
       "    .dataframe thead th {\n",
       "        text-align: right;\n",
       "    }\n",
       "</style>\n",
       "<table border=\"1\" class=\"dataframe\">\n",
       "  <thead>\n",
       "    <tr style=\"text-align: right;\">\n",
       "      <th></th>\n",
       "      <th>A</th>\n",
       "      <th>B</th>\n",
       "      <th>C</th>\n",
       "      <th>D</th>\n",
       "    </tr>\n",
       "  </thead>\n",
       "  <tbody>\n",
       "    <tr>\n",
       "      <th>b8jgVbQbug</th>\n",
       "      <td>-0.75</td>\n",
       "      <td>-0.10</td>\n",
       "      <td>-0.06</td>\n",
       "      <td>0.04</td>\n",
       "    </tr>\n",
       "    <tr>\n",
       "      <th>OKCyyhkEvY</th>\n",
       "      <td>0.50</td>\n",
       "      <td>0.80</td>\n",
       "      <td>-0.17</td>\n",
       "      <td>-1.49</td>\n",
       "    </tr>\n",
       "    <tr>\n",
       "      <th>RtcTWq0AMT</th>\n",
       "      <td>-0.15</td>\n",
       "      <td>0.51</td>\n",
       "      <td>-0.09</td>\n",
       "      <td>-0.72</td>\n",
       "    </tr>\n",
       "    <tr>\n",
       "      <th>vtdamOujY0</th>\n",
       "      <td>-0.35</td>\n",
       "      <td>0.27</td>\n",
       "      <td>1.55</td>\n",
       "      <td>-0.05</td>\n",
       "    </tr>\n",
       "    <tr>\n",
       "      <th>tW49Zqe3lC</th>\n",
       "      <td>0.16</td>\n",
       "      <td>0.84</td>\n",
       "      <td>0.69</td>\n",
       "      <td>1.54</td>\n",
       "    </tr>\n",
       "  </tbody>\n",
       "</table>\n",
       "</div>"
      ],
      "text/plain": [
       "               A     B     C     D\n",
       "b8jgVbQbug -0.75 -0.10 -0.06  0.04\n",
       "OKCyyhkEvY  0.50  0.80 -0.17 -1.49\n",
       "RtcTWq0AMT -0.15  0.51 -0.09 -0.72\n",
       "vtdamOujY0 -0.35  0.27  1.55 -0.05\n",
       "tW49Zqe3lC  0.16  0.84  0.69  1.54"
      ]
     },
     "execution_count": 7,
     "metadata": {},
     "output_type": "execute_result"
    }
   ],
   "source": [
    "tm.makeDataFrame().head()"
   ]
  },
  {
   "cell_type": "code",
   "execution_count": 8,
   "id": "fac7e683",
   "metadata": {},
   "outputs": [
    {
     "data": {
      "text/plain": [
       "['makeBoolIndex',\n",
       " 'makeCategoricalIndex',\n",
       " 'makeCustomDataframe',\n",
       " 'makeCustomIndex',\n",
       " 'makeDataFrame',\n",
       " 'makeDateIndex',\n",
       " 'makeFloatIndex',\n",
       " 'makeFloatSeries',\n",
       " 'makeIntIndex',\n",
       " 'makeIntervalIndex',\n",
       " 'makeMissingDataframe',\n",
       " 'makeMixedDataFrame',\n",
       " 'makeMultiIndex',\n",
       " 'makeNumericIndex',\n",
       " 'makeObjectSeries',\n",
       " 'makePeriodFrame',\n",
       " 'makePeriodIndex',\n",
       " 'makePeriodSeries',\n",
       " 'makeRangeIndex',\n",
       " 'makeStringIndex',\n",
       " 'makeStringSeries',\n",
       " 'makeTimeDataFrame',\n",
       " 'makeTimeSeries',\n",
       " 'makeTimedeltaIndex',\n",
       " 'makeUIntIndex',\n",
       " 'make_rand_series']"
      ]
     },
     "execution_count": 8,
     "metadata": {},
     "output_type": "execute_result"
    }
   ],
   "source": [
    "[i for i in dir(tm) if i.startswith('make')]"
   ]
  },
  {
   "cell_type": "markdown",
   "id": "b9b031c6",
   "metadata": {},
   "source": [
    "## Video 4: Take Advantage of Accessor Methods\n",
    "\n",
    "An Accessor is an interface to access additional methods"
   ]
  },
  {
   "cell_type": "code",
   "execution_count": 9,
   "id": "0c9d74d8",
   "metadata": {},
   "outputs": [
    {
     "data": {
      "text/plain": [
       "{'cat', 'dt', 'sparse', 'str'}"
      ]
     },
     "execution_count": 9,
     "metadata": {},
     "output_type": "execute_result"
    }
   ],
   "source": [
    "import pandas as pd\n",
    "\n",
    "#the Series object has 4 accessor types\n",
    "pd.Series._accessors"
   ]
  },
  {
   "cell_type": "code",
   "execution_count": 10,
   "id": "53d2dde8",
   "metadata": {},
   "outputs": [],
   "source": [
    "addr = pd.Series([\n",
    "    'Washington DC 20003',\n",
    "    'Brooklyn, NY 11211-1755',\n",
    "    'Omaha, NE 68154',\n",
    "    'Pittsburgh, PA 15211'\n",
    "])"
   ]
  },
  {
   "cell_type": "code",
   "execution_count": 11,
   "id": "f788cd6e",
   "metadata": {},
   "outputs": [
    {
     "data": {
      "text/plain": [
       "'HELLO'"
      ]
     },
     "execution_count": 11,
     "metadata": {},
     "output_type": "execute_result"
    }
   ],
   "source": [
    "s = 'hello'\n",
    "s.upper()"
   ]
  },
  {
   "cell_type": "code",
   "execution_count": 12,
   "id": "eb9c097c",
   "metadata": {},
   "outputs": [
    {
     "data": {
      "text/plain": [
       "0        WASHINGTON DC 20003\n",
       "1    BROOKLYN, NY 11211-1755\n",
       "2            OMAHA, NE 68154\n",
       "3       PITTSBURGH, PA 15211\n",
       "dtype: object"
      ]
     },
     "execution_count": 12,
     "metadata": {},
     "output_type": "execute_result"
    }
   ],
   "source": [
    "# to call upper on every item in the series you can't call upper\n",
    "# yyou have to use an accessor str\n",
    "addr.str.upper()"
   ]
  },
  {
   "cell_type": "code",
   "execution_count": 13,
   "id": "a4f171aa",
   "metadata": {},
   "outputs": [
    {
     "data": {
      "text/plain": [
       "0    5\n",
       "1    9\n",
       "2    5\n",
       "3    5\n",
       "dtype: int64"
      ]
     },
     "execution_count": 13,
     "metadata": {},
     "output_type": "execute_result"
    }
   ],
   "source": [
    "addr.str.count(r'\\d')"
   ]
  },
  {
   "cell_type": "code",
   "execution_count": 14,
   "id": "b51c6891",
   "metadata": {},
   "outputs": [],
   "source": [
    "daterng = pd.Series(pd.date_range('2019', periods=9, freq='Q'))"
   ]
  },
  {
   "cell_type": "code",
   "execution_count": 15,
   "id": "916072e6",
   "metadata": {},
   "outputs": [
    {
     "data": {
      "text/plain": [
       "0   2019-03-31\n",
       "1   2019-06-30\n",
       "2   2019-09-30\n",
       "3   2019-12-31\n",
       "4   2020-03-31\n",
       "5   2020-06-30\n",
       "6   2020-09-30\n",
       "7   2020-12-31\n",
       "8   2021-03-31\n",
       "dtype: datetime64[ns]"
      ]
     },
     "execution_count": 15,
     "metadata": {},
     "output_type": "execute_result"
    }
   ],
   "source": [
    "daterng"
   ]
  },
  {
   "cell_type": "code",
   "execution_count": 16,
   "id": "e9eda260",
   "metadata": {},
   "outputs": [
    {
     "data": {
      "text/plain": [
       "0       Sunday\n",
       "1       Sunday\n",
       "2       Monday\n",
       "3      Tuesday\n",
       "4      Tuesday\n",
       "5      Tuesday\n",
       "6    Wednesday\n",
       "7     Thursday\n",
       "8    Wednesday\n",
       "dtype: object"
      ]
     },
     "execution_count": 16,
     "metadata": {},
     "output_type": "execute_result"
    }
   ],
   "source": [
    "daterng.dt.day_name()"
   ]
  },
  {
   "cell_type": "code",
   "execution_count": 17,
   "id": "ce82c772",
   "metadata": {},
   "outputs": [
    {
     "data": {
      "text/plain": [
       "2   2019-09-30\n",
       "3   2019-12-31\n",
       "6   2020-09-30\n",
       "7   2020-12-31\n",
       "dtype: datetime64[ns]"
      ]
     },
     "execution_count": 17,
     "metadata": {},
     "output_type": "execute_result"
    }
   ],
   "source": [
    "daterng[daterng.dt.quarter >2]"
   ]
  },
  {
   "cell_type": "code",
   "execution_count": 18,
   "id": "68ae405e",
   "metadata": {},
   "outputs": [
    {
     "data": {
      "text/plain": [
       "3   2019-12-31\n",
       "7   2020-12-31\n",
       "dtype: datetime64[ns]"
      ]
     },
     "execution_count": 18,
     "metadata": {},
     "output_type": "execute_result"
    }
   ],
   "source": [
    "daterng[daterng.dt.is_year_end]"
   ]
  },
  {
   "cell_type": "markdown",
   "id": "082f2cb9",
   "metadata": {},
   "source": [
    "## Video 5: Create a DatetimeIndex from Component Columns\n",
    "\n",
    "Each column contains a single portion of a date (day, month year)"
   ]
  },
  {
   "cell_type": "code",
   "execution_count": 19,
   "id": "319bf557",
   "metadata": {},
   "outputs": [],
   "source": [
    "import pandas as pd\n",
    "import numpy as np\n",
    "from itertools import product"
   ]
  },
  {
   "cell_type": "code",
   "execution_count": 21,
   "id": "e1424a13",
   "metadata": {},
   "outputs": [],
   "source": [
    "datecols=['year', 'month', 'day']\n",
    "df = pd.DataFrame(list(product([2019, 2020], [1,2], [1,2,3])),\n",
    "                 columns=datecols)\n",
    "\n",
    "df['data']=np.random.randn(len(df))"
   ]
  },
  {
   "cell_type": "code",
   "execution_count": 22,
   "id": "3d8e8dd4",
   "metadata": {},
   "outputs": [
    {
     "data": {
      "text/html": [
       "<div>\n",
       "<style scoped>\n",
       "    .dataframe tbody tr th:only-of-type {\n",
       "        vertical-align: middle;\n",
       "    }\n",
       "\n",
       "    .dataframe tbody tr th {\n",
       "        vertical-align: top;\n",
       "    }\n",
       "\n",
       "    .dataframe thead th {\n",
       "        text-align: right;\n",
       "    }\n",
       "</style>\n",
       "<table border=\"1\" class=\"dataframe\">\n",
       "  <thead>\n",
       "    <tr style=\"text-align: right;\">\n",
       "      <th></th>\n",
       "      <th>year</th>\n",
       "      <th>month</th>\n",
       "      <th>day</th>\n",
       "      <th>data</th>\n",
       "    </tr>\n",
       "  </thead>\n",
       "  <tbody>\n",
       "    <tr>\n",
       "      <th>0</th>\n",
       "      <td>2019</td>\n",
       "      <td>1</td>\n",
       "      <td>1</td>\n",
       "      <td>-0.26</td>\n",
       "    </tr>\n",
       "    <tr>\n",
       "      <th>1</th>\n",
       "      <td>2019</td>\n",
       "      <td>1</td>\n",
       "      <td>2</td>\n",
       "      <td>0.03</td>\n",
       "    </tr>\n",
       "    <tr>\n",
       "      <th>2</th>\n",
       "      <td>2019</td>\n",
       "      <td>1</td>\n",
       "      <td>3</td>\n",
       "      <td>0.12</td>\n",
       "    </tr>\n",
       "    <tr>\n",
       "      <th>3</th>\n",
       "      <td>2019</td>\n",
       "      <td>2</td>\n",
       "      <td>1</td>\n",
       "      <td>-0.44</td>\n",
       "    </tr>\n",
       "    <tr>\n",
       "      <th>4</th>\n",
       "      <td>2019</td>\n",
       "      <td>2</td>\n",
       "      <td>2</td>\n",
       "      <td>0.61</td>\n",
       "    </tr>\n",
       "    <tr>\n",
       "      <th>...</th>\n",
       "      <td>...</td>\n",
       "      <td>...</td>\n",
       "      <td>...</td>\n",
       "      <td>...</td>\n",
       "    </tr>\n",
       "    <tr>\n",
       "      <th>7</th>\n",
       "      <td>2020</td>\n",
       "      <td>1</td>\n",
       "      <td>2</td>\n",
       "      <td>-0.97</td>\n",
       "    </tr>\n",
       "    <tr>\n",
       "      <th>8</th>\n",
       "      <td>2020</td>\n",
       "      <td>1</td>\n",
       "      <td>3</td>\n",
       "      <td>0.60</td>\n",
       "    </tr>\n",
       "    <tr>\n",
       "      <th>9</th>\n",
       "      <td>2020</td>\n",
       "      <td>2</td>\n",
       "      <td>1</td>\n",
       "      <td>0.87</td>\n",
       "    </tr>\n",
       "    <tr>\n",
       "      <th>10</th>\n",
       "      <td>2020</td>\n",
       "      <td>2</td>\n",
       "      <td>2</td>\n",
       "      <td>-0.89</td>\n",
       "    </tr>\n",
       "    <tr>\n",
       "      <th>11</th>\n",
       "      <td>2020</td>\n",
       "      <td>2</td>\n",
       "      <td>3</td>\n",
       "      <td>2.20</td>\n",
       "    </tr>\n",
       "  </tbody>\n",
       "</table>\n",
       "</div>"
      ],
      "text/plain": [
       "    year  month  day  data\n",
       "0   2019      1    1 -0.26\n",
       "1   2019      1    2  0.03\n",
       "2   2019      1    3  0.12\n",
       "3   2019      2    1 -0.44\n",
       "4   2019      2    2  0.61\n",
       "..   ...    ...  ...   ...\n",
       "7   2020      1    2 -0.97\n",
       "8   2020      1    3  0.60\n",
       "9   2020      2    1  0.87\n",
       "10  2020      2    2 -0.89\n",
       "11  2020      2    3  2.20"
      ]
     },
     "execution_count": 22,
     "metadata": {},
     "output_type": "execute_result"
    }
   ],
   "source": [
    "df"
   ]
  },
  {
   "cell_type": "code",
   "execution_count": 23,
   "id": "4015c2f4",
   "metadata": {},
   "outputs": [],
   "source": [
    "# takes the three columns of datecols and converts them to the index colum\n",
    "df.index = pd.to_datetime(df[datecols])"
   ]
  },
  {
   "cell_type": "code",
   "execution_count": 24,
   "id": "f74c6bd8",
   "metadata": {},
   "outputs": [
    {
     "data": {
      "text/html": [
       "<div>\n",
       "<style scoped>\n",
       "    .dataframe tbody tr th:only-of-type {\n",
       "        vertical-align: middle;\n",
       "    }\n",
       "\n",
       "    .dataframe tbody tr th {\n",
       "        vertical-align: top;\n",
       "    }\n",
       "\n",
       "    .dataframe thead th {\n",
       "        text-align: right;\n",
       "    }\n",
       "</style>\n",
       "<table border=\"1\" class=\"dataframe\">\n",
       "  <thead>\n",
       "    <tr style=\"text-align: right;\">\n",
       "      <th></th>\n",
       "      <th>year</th>\n",
       "      <th>month</th>\n",
       "      <th>day</th>\n",
       "      <th>data</th>\n",
       "    </tr>\n",
       "  </thead>\n",
       "  <tbody>\n",
       "    <tr>\n",
       "      <th>2019-01-01</th>\n",
       "      <td>2019</td>\n",
       "      <td>1</td>\n",
       "      <td>1</td>\n",
       "      <td>-0.26</td>\n",
       "    </tr>\n",
       "    <tr>\n",
       "      <th>2019-01-02</th>\n",
       "      <td>2019</td>\n",
       "      <td>1</td>\n",
       "      <td>2</td>\n",
       "      <td>0.03</td>\n",
       "    </tr>\n",
       "    <tr>\n",
       "      <th>2019-01-03</th>\n",
       "      <td>2019</td>\n",
       "      <td>1</td>\n",
       "      <td>3</td>\n",
       "      <td>0.12</td>\n",
       "    </tr>\n",
       "    <tr>\n",
       "      <th>2019-02-01</th>\n",
       "      <td>2019</td>\n",
       "      <td>2</td>\n",
       "      <td>1</td>\n",
       "      <td>-0.44</td>\n",
       "    </tr>\n",
       "    <tr>\n",
       "      <th>2019-02-02</th>\n",
       "      <td>2019</td>\n",
       "      <td>2</td>\n",
       "      <td>2</td>\n",
       "      <td>0.61</td>\n",
       "    </tr>\n",
       "    <tr>\n",
       "      <th>...</th>\n",
       "      <td>...</td>\n",
       "      <td>...</td>\n",
       "      <td>...</td>\n",
       "      <td>...</td>\n",
       "    </tr>\n",
       "    <tr>\n",
       "      <th>2020-01-02</th>\n",
       "      <td>2020</td>\n",
       "      <td>1</td>\n",
       "      <td>2</td>\n",
       "      <td>-0.97</td>\n",
       "    </tr>\n",
       "    <tr>\n",
       "      <th>2020-01-03</th>\n",
       "      <td>2020</td>\n",
       "      <td>1</td>\n",
       "      <td>3</td>\n",
       "      <td>0.60</td>\n",
       "    </tr>\n",
       "    <tr>\n",
       "      <th>2020-02-01</th>\n",
       "      <td>2020</td>\n",
       "      <td>2</td>\n",
       "      <td>1</td>\n",
       "      <td>0.87</td>\n",
       "    </tr>\n",
       "    <tr>\n",
       "      <th>2020-02-02</th>\n",
       "      <td>2020</td>\n",
       "      <td>2</td>\n",
       "      <td>2</td>\n",
       "      <td>-0.89</td>\n",
       "    </tr>\n",
       "    <tr>\n",
       "      <th>2020-02-03</th>\n",
       "      <td>2020</td>\n",
       "      <td>2</td>\n",
       "      <td>3</td>\n",
       "      <td>2.20</td>\n",
       "    </tr>\n",
       "  </tbody>\n",
       "</table>\n",
       "</div>"
      ],
      "text/plain": [
       "            year  month  day  data\n",
       "2019-01-01  2019      1    1 -0.26\n",
       "2019-01-02  2019      1    2  0.03\n",
       "2019-01-03  2019      1    3  0.12\n",
       "2019-02-01  2019      2    1 -0.44\n",
       "2019-02-02  2019      2    2  0.61\n",
       "...          ...    ...  ...   ...\n",
       "2020-01-02  2020      1    2 -0.97\n",
       "2020-01-03  2020      1    3  0.60\n",
       "2020-02-01  2020      2    1  0.87\n",
       "2020-02-02  2020      2    2 -0.89\n",
       "2020-02-03  2020      2    3  2.20"
      ]
     },
     "execution_count": 24,
     "metadata": {},
     "output_type": "execute_result"
    }
   ],
   "source": [
    "#notice that the index is now filled with dates\n",
    "df"
   ]
  },
  {
   "cell_type": "code",
   "execution_count": 25,
   "id": "66df4ce6",
   "metadata": {},
   "outputs": [],
   "source": [
    "# We can drop the year, month, day columns\n",
    "df = df.drop(datecols, axis=1)"
   ]
  },
  {
   "cell_type": "code",
   "execution_count": 26,
   "id": "adfff931",
   "metadata": {},
   "outputs": [
    {
     "data": {
      "text/html": [
       "<div>\n",
       "<style scoped>\n",
       "    .dataframe tbody tr th:only-of-type {\n",
       "        vertical-align: middle;\n",
       "    }\n",
       "\n",
       "    .dataframe tbody tr th {\n",
       "        vertical-align: top;\n",
       "    }\n",
       "\n",
       "    .dataframe thead th {\n",
       "        text-align: right;\n",
       "    }\n",
       "</style>\n",
       "<table border=\"1\" class=\"dataframe\">\n",
       "  <thead>\n",
       "    <tr style=\"text-align: right;\">\n",
       "      <th></th>\n",
       "      <th>data</th>\n",
       "    </tr>\n",
       "  </thead>\n",
       "  <tbody>\n",
       "    <tr>\n",
       "      <th>2019-01-01</th>\n",
       "      <td>-0.26</td>\n",
       "    </tr>\n",
       "    <tr>\n",
       "      <th>2019-01-02</th>\n",
       "      <td>0.03</td>\n",
       "    </tr>\n",
       "    <tr>\n",
       "      <th>2019-01-03</th>\n",
       "      <td>0.12</td>\n",
       "    </tr>\n",
       "    <tr>\n",
       "      <th>2019-02-01</th>\n",
       "      <td>-0.44</td>\n",
       "    </tr>\n",
       "    <tr>\n",
       "      <th>2019-02-02</th>\n",
       "      <td>0.61</td>\n",
       "    </tr>\n",
       "    <tr>\n",
       "      <th>...</th>\n",
       "      <td>...</td>\n",
       "    </tr>\n",
       "    <tr>\n",
       "      <th>2020-01-02</th>\n",
       "      <td>-0.97</td>\n",
       "    </tr>\n",
       "    <tr>\n",
       "      <th>2020-01-03</th>\n",
       "      <td>0.60</td>\n",
       "    </tr>\n",
       "    <tr>\n",
       "      <th>2020-02-01</th>\n",
       "      <td>0.87</td>\n",
       "    </tr>\n",
       "    <tr>\n",
       "      <th>2020-02-02</th>\n",
       "      <td>-0.89</td>\n",
       "    </tr>\n",
       "    <tr>\n",
       "      <th>2020-02-03</th>\n",
       "      <td>2.20</td>\n",
       "    </tr>\n",
       "  </tbody>\n",
       "</table>\n",
       "</div>"
      ],
      "text/plain": [
       "            data\n",
       "2019-01-01 -0.26\n",
       "2019-01-02  0.03\n",
       "2019-01-03  0.12\n",
       "2019-02-01 -0.44\n",
       "2019-02-02  0.61\n",
       "...          ...\n",
       "2020-01-02 -0.97\n",
       "2020-01-03  0.60\n",
       "2020-02-01  0.87\n",
       "2020-02-02 -0.89\n",
       "2020-02-03  2.20"
      ]
     },
     "execution_count": 26,
     "metadata": {},
     "output_type": "execute_result"
    }
   ],
   "source": [
    "df"
   ]
  },
  {
   "cell_type": "code",
   "execution_count": 27,
   "id": "5af8d5cf",
   "metadata": {},
   "outputs": [
    {
     "data": {
      "text/plain": [
       "2019-01-01   -0.26\n",
       "2019-01-02    0.03\n",
       "2019-01-03    0.12\n",
       "2019-02-01   -0.44\n",
       "2019-02-02    0.61\n",
       "              ... \n",
       "2020-01-02   -0.97\n",
       "2020-01-03    0.60\n",
       "2020-02-01    0.87\n",
       "2020-02-02   -0.89\n",
       "2020-02-03    2.20\n",
       "Name: data, dtype: float64"
      ]
     },
     "execution_count": 27,
     "metadata": {},
     "output_type": "execute_result"
    }
   ],
   "source": [
    "#Since we only have one column of data, we can use the squeeze function to convert the DF into a series\n",
    "df.squeeze()"
   ]
  },
  {
   "cell_type": "markdown",
   "id": "3f043f89",
   "metadata": {},
   "source": [
    "## Video 5: Use Categorical Data to Save Time and Space\n",
    "\n",
    "Large dataframes can take a while to compute certain functions. Categorical data can reduce the time considerable"
   ]
  },
  {
   "cell_type": "code",
   "execution_count": 28,
   "id": "8a46e3b4",
   "metadata": {},
   "outputs": [],
   "source": [
    "# Notice there are repeats. Pandas has to store each individually\n",
    "colors = pd.Series([\n",
    "    'periwinkle',\n",
    "    'mint green',\n",
    "    'burnt orange',\n",
    "    'periwinkle',\n",
    "    'burnt orange',\n",
    "    'rose',\n",
    "    'rose',\n",
    "    'mint green',\n",
    "    'rose',\n",
    "    'navy'\n",
    "])"
   ]
  },
  {
   "cell_type": "code",
   "execution_count": 29,
   "id": "f0b282b3",
   "metadata": {},
   "outputs": [
    {
     "data": {
      "text/plain": [
       "0      periwinkle\n",
       "1      mint green\n",
       "2    burnt orange\n",
       "3      periwinkle\n",
       "4    burnt orange\n",
       "5            rose\n",
       "6            rose\n",
       "7      mint green\n",
       "8            rose\n",
       "9            navy\n",
       "dtype: object"
      ]
     },
     "execution_count": 29,
     "metadata": {},
     "output_type": "execute_result"
    }
   ],
   "source": [
    "import pandas as pd\n",
    "\n",
    "colors"
   ]
  },
  {
   "cell_type": "code",
   "execution_count": 31,
   "id": "6ef0794e",
   "metadata": {},
   "outputs": [
    {
     "data": {
      "text/plain": [
       "{'periwinkle': 0, 'mint green': 1, 'burnt orange': 2, 'rose': 3, 'navy': 4}"
      ]
     },
     "execution_count": 31,
     "metadata": {},
     "output_type": "execute_result"
    }
   ],
   "source": [
    "# this will assign an integer for each unique value in colors\n",
    "mapper = {v: k for k, v in enumerate(colors.unique())}\n",
    "mapper"
   ]
  },
  {
   "cell_type": "code",
   "execution_count": 33,
   "id": "34c4fb44",
   "metadata": {},
   "outputs": [
    {
     "data": {
      "text/plain": [
       "0    0\n",
       "1    1\n",
       "2    2\n",
       "3    0\n",
       "4    2\n",
       "5    3\n",
       "6    3\n",
       "7    1\n",
       "8    3\n",
       "9    4\n",
       "dtype: int64"
      ]
     },
     "execution_count": 33,
     "metadata": {},
     "output_type": "execute_result"
    }
   ],
   "source": [
    "as_int = colors.map(mapper)\n",
    "as_int # as_int has integer values replaces the color name with the corresponding integer value from the mapper dictionary"
   ]
  },
  {
   "cell_type": "code",
   "execution_count": 34,
   "id": "7fb097ec",
   "metadata": {},
   "outputs": [
    {
     "data": {
      "text/plain": [
       "Index(['burnt orange', 'mint green', 'navy', 'periwinkle', 'rose'], dtype='object')"
      ]
     },
     "execution_count": 34,
     "metadata": {},
     "output_type": "execute_result"
    }
   ],
   "source": [
    "# an alternative approach is to make the colors series to type of category\n",
    "ccolors = colors.astype('category')\n",
    "ccolors.cat.categories"
   ]
  },
  {
   "cell_type": "code",
   "execution_count": 35,
   "id": "c64ab36f",
   "metadata": {},
   "outputs": [
    {
     "data": {
      "text/plain": [
       "0    3\n",
       "1    1\n",
       "2    0\n",
       "3    3\n",
       "4    0\n",
       "5    4\n",
       "6    4\n",
       "7    1\n",
       "8    4\n",
       "9    2\n",
       "dtype: int8"
      ]
     },
     "execution_count": 35,
     "metadata": {},
     "output_type": "execute_result"
    }
   ],
   "source": [
    "ccolors.cat.codes"
   ]
  },
  {
   "cell_type": "code",
   "execution_count": 36,
   "id": "7409fdc6",
   "metadata": {},
   "outputs": [
    {
     "ename": "TypeError",
     "evalue": "Cannot setitem on a Categorical with a new category (a new color), set the categories first",
     "output_type": "error",
     "traceback": [
      "\u001b[1;31m---------------------------------------------------------------------------\u001b[0m",
      "\u001b[1;31mTypeError\u001b[0m                                 Traceback (most recent call last)",
      "Cell \u001b[1;32mIn[36], line 3\u001b[0m\n\u001b[0;32m      1\u001b[0m \u001b[38;5;66;03m# you do lose from functionality by converting categories\u001b[39;00m\n\u001b[0;32m      2\u001b[0m \u001b[38;5;66;03m# for example if we want to add an additional color\u001b[39;00m\n\u001b[1;32m----> 3\u001b[0m ccolors\u001b[38;5;241m.\u001b[39miloc[\u001b[38;5;241m5\u001b[39m]\u001b[38;5;241m=\u001b[39m\u001b[38;5;124m'\u001b[39m\u001b[38;5;124ma new color\u001b[39m\u001b[38;5;124m'\u001b[39m\n",
      "File \u001b[1;32m~\\AppData\\Local\\anaconda3\\Lib\\site-packages\\pandas\\core\\indexing.py:849\u001b[0m, in \u001b[0;36m_LocationIndexer.__setitem__\u001b[1;34m(self, key, value)\u001b[0m\n\u001b[0;32m    846\u001b[0m \u001b[38;5;28mself\u001b[39m\u001b[38;5;241m.\u001b[39m_has_valid_setitem_indexer(key)\n\u001b[0;32m    848\u001b[0m iloc \u001b[38;5;241m=\u001b[39m \u001b[38;5;28mself\u001b[39m \u001b[38;5;28;01mif\u001b[39;00m \u001b[38;5;28mself\u001b[39m\u001b[38;5;241m.\u001b[39mname \u001b[38;5;241m==\u001b[39m \u001b[38;5;124m\"\u001b[39m\u001b[38;5;124miloc\u001b[39m\u001b[38;5;124m\"\u001b[39m \u001b[38;5;28;01melse\u001b[39;00m \u001b[38;5;28mself\u001b[39m\u001b[38;5;241m.\u001b[39mobj\u001b[38;5;241m.\u001b[39miloc\n\u001b[1;32m--> 849\u001b[0m iloc\u001b[38;5;241m.\u001b[39m_setitem_with_indexer(indexer, value, \u001b[38;5;28mself\u001b[39m\u001b[38;5;241m.\u001b[39mname)\n",
      "File \u001b[1;32m~\\AppData\\Local\\anaconda3\\Lib\\site-packages\\pandas\\core\\indexing.py:1837\u001b[0m, in \u001b[0;36m_iLocIndexer._setitem_with_indexer\u001b[1;34m(self, indexer, value, name)\u001b[0m\n\u001b[0;32m   1835\u001b[0m     \u001b[38;5;28mself\u001b[39m\u001b[38;5;241m.\u001b[39m_setitem_with_indexer_split_path(indexer, value, name)\n\u001b[0;32m   1836\u001b[0m \u001b[38;5;28;01melse\u001b[39;00m:\n\u001b[1;32m-> 1837\u001b[0m     \u001b[38;5;28mself\u001b[39m\u001b[38;5;241m.\u001b[39m_setitem_single_block(indexer, value, name)\n",
      "File \u001b[1;32m~\\AppData\\Local\\anaconda3\\Lib\\site-packages\\pandas\\core\\indexing.py:2077\u001b[0m, in \u001b[0;36m_iLocIndexer._setitem_single_block\u001b[1;34m(self, indexer, value, name)\u001b[0m\n\u001b[0;32m   2074\u001b[0m \u001b[38;5;28mself\u001b[39m\u001b[38;5;241m.\u001b[39mobj\u001b[38;5;241m.\u001b[39m_check_is_chained_assignment_possible()\n\u001b[0;32m   2076\u001b[0m \u001b[38;5;66;03m# actually do the set\u001b[39;00m\n\u001b[1;32m-> 2077\u001b[0m \u001b[38;5;28mself\u001b[39m\u001b[38;5;241m.\u001b[39mobj\u001b[38;5;241m.\u001b[39m_mgr \u001b[38;5;241m=\u001b[39m \u001b[38;5;28mself\u001b[39m\u001b[38;5;241m.\u001b[39mobj\u001b[38;5;241m.\u001b[39m_mgr\u001b[38;5;241m.\u001b[39msetitem(indexer\u001b[38;5;241m=\u001b[39mindexer, value\u001b[38;5;241m=\u001b[39mvalue)\n\u001b[0;32m   2078\u001b[0m \u001b[38;5;28mself\u001b[39m\u001b[38;5;241m.\u001b[39mobj\u001b[38;5;241m.\u001b[39m_maybe_update_cacher(clear\u001b[38;5;241m=\u001b[39m\u001b[38;5;28;01mTrue\u001b[39;00m, inplace\u001b[38;5;241m=\u001b[39m\u001b[38;5;28;01mTrue\u001b[39;00m)\n",
      "File \u001b[1;32m~\\AppData\\Local\\anaconda3\\Lib\\site-packages\\pandas\\core\\internals\\managers.py:394\u001b[0m, in \u001b[0;36mBaseBlockManager.setitem\u001b[1;34m(self, indexer, value)\u001b[0m\n\u001b[0;32m    389\u001b[0m \u001b[38;5;28;01mif\u001b[39;00m using_copy_on_write() \u001b[38;5;129;01mand\u001b[39;00m \u001b[38;5;129;01mnot\u001b[39;00m \u001b[38;5;28mself\u001b[39m\u001b[38;5;241m.\u001b[39m_has_no_reference(\u001b[38;5;241m0\u001b[39m):\n\u001b[0;32m    390\u001b[0m     \u001b[38;5;66;03m# if being referenced -> perform Copy-on-Write and clear the reference\u001b[39;00m\n\u001b[0;32m    391\u001b[0m     \u001b[38;5;66;03m# this method is only called if there is a single block -> hardcoded 0\u001b[39;00m\n\u001b[0;32m    392\u001b[0m     \u001b[38;5;28mself\u001b[39m \u001b[38;5;241m=\u001b[39m \u001b[38;5;28mself\u001b[39m\u001b[38;5;241m.\u001b[39mcopy()\n\u001b[1;32m--> 394\u001b[0m \u001b[38;5;28;01mreturn\u001b[39;00m \u001b[38;5;28mself\u001b[39m\u001b[38;5;241m.\u001b[39mapply(\u001b[38;5;124m\"\u001b[39m\u001b[38;5;124msetitem\u001b[39m\u001b[38;5;124m\"\u001b[39m, indexer\u001b[38;5;241m=\u001b[39mindexer, value\u001b[38;5;241m=\u001b[39mvalue)\n",
      "File \u001b[1;32m~\\AppData\\Local\\anaconda3\\Lib\\site-packages\\pandas\\core\\internals\\managers.py:352\u001b[0m, in \u001b[0;36mBaseBlockManager.apply\u001b[1;34m(self, f, align_keys, **kwargs)\u001b[0m\n\u001b[0;32m    350\u001b[0m         applied \u001b[38;5;241m=\u001b[39m b\u001b[38;5;241m.\u001b[39mapply(f, \u001b[38;5;241m*\u001b[39m\u001b[38;5;241m*\u001b[39mkwargs)\n\u001b[0;32m    351\u001b[0m     \u001b[38;5;28;01melse\u001b[39;00m:\n\u001b[1;32m--> 352\u001b[0m         applied \u001b[38;5;241m=\u001b[39m \u001b[38;5;28mgetattr\u001b[39m(b, f)(\u001b[38;5;241m*\u001b[39m\u001b[38;5;241m*\u001b[39mkwargs)\n\u001b[0;32m    353\u001b[0m     result_blocks \u001b[38;5;241m=\u001b[39m extend_blocks(applied, result_blocks)\n\u001b[0;32m    355\u001b[0m out \u001b[38;5;241m=\u001b[39m \u001b[38;5;28mtype\u001b[39m(\u001b[38;5;28mself\u001b[39m)\u001b[38;5;241m.\u001b[39mfrom_blocks(result_blocks, \u001b[38;5;28mself\u001b[39m\u001b[38;5;241m.\u001b[39maxes)\n",
      "File \u001b[1;32m~\\AppData\\Local\\anaconda3\\Lib\\site-packages\\pandas\\core\\internals\\blocks.py:1622\u001b[0m, in \u001b[0;36mEABackedBlock.setitem\u001b[1;34m(self, indexer, value, using_cow)\u001b[0m\n\u001b[0;32m   1619\u001b[0m check_setitem_lengths(indexer, value, values)\n\u001b[0;32m   1621\u001b[0m \u001b[38;5;28;01mtry\u001b[39;00m:\n\u001b[1;32m-> 1622\u001b[0m     values[indexer] \u001b[38;5;241m=\u001b[39m value\n\u001b[0;32m   1623\u001b[0m \u001b[38;5;28;01mexcept\u001b[39;00m (\u001b[38;5;167;01mValueError\u001b[39;00m, \u001b[38;5;167;01mTypeError\u001b[39;00m) \u001b[38;5;28;01mas\u001b[39;00m err:\n\u001b[0;32m   1624\u001b[0m     _catch_deprecated_value_error(err)\n",
      "File \u001b[1;32m~\\AppData\\Local\\anaconda3\\Lib\\site-packages\\pandas\\core\\arrays\\_mixins.py:249\u001b[0m, in \u001b[0;36mNDArrayBackedExtensionArray.__setitem__\u001b[1;34m(self, key, value)\u001b[0m\n\u001b[0;32m    247\u001b[0m \u001b[38;5;28;01mdef\u001b[39;00m \u001b[38;5;21m__setitem__\u001b[39m(\u001b[38;5;28mself\u001b[39m, key, value) \u001b[38;5;241m-\u001b[39m\u001b[38;5;241m>\u001b[39m \u001b[38;5;28;01mNone\u001b[39;00m:\n\u001b[0;32m    248\u001b[0m     key \u001b[38;5;241m=\u001b[39m check_array_indexer(\u001b[38;5;28mself\u001b[39m, key)\n\u001b[1;32m--> 249\u001b[0m     value \u001b[38;5;241m=\u001b[39m \u001b[38;5;28mself\u001b[39m\u001b[38;5;241m.\u001b[39m_validate_setitem_value(value)\n\u001b[0;32m    250\u001b[0m     \u001b[38;5;28mself\u001b[39m\u001b[38;5;241m.\u001b[39m_ndarray[key] \u001b[38;5;241m=\u001b[39m value\n",
      "File \u001b[1;32m~\\AppData\\Local\\anaconda3\\Lib\\site-packages\\pandas\\core\\arrays\\categorical.py:1297\u001b[0m, in \u001b[0;36mCategorical._validate_setitem_value\u001b[1;34m(self, value)\u001b[0m\n\u001b[0;32m   1295\u001b[0m     \u001b[38;5;28;01mreturn\u001b[39;00m \u001b[38;5;28mself\u001b[39m\u001b[38;5;241m.\u001b[39m_validate_listlike(value)\n\u001b[0;32m   1296\u001b[0m \u001b[38;5;28;01melse\u001b[39;00m:\n\u001b[1;32m-> 1297\u001b[0m     \u001b[38;5;28;01mreturn\u001b[39;00m \u001b[38;5;28mself\u001b[39m\u001b[38;5;241m.\u001b[39m_validate_scalar(value)\n",
      "File \u001b[1;32m~\\AppData\\Local\\anaconda3\\Lib\\site-packages\\pandas\\core\\arrays\\categorical.py:1322\u001b[0m, in \u001b[0;36mCategorical._validate_scalar\u001b[1;34m(self, fill_value)\u001b[0m\n\u001b[0;32m   1320\u001b[0m     fill_value \u001b[38;5;241m=\u001b[39m \u001b[38;5;28mself\u001b[39m\u001b[38;5;241m.\u001b[39m_unbox_scalar(fill_value)\n\u001b[0;32m   1321\u001b[0m \u001b[38;5;28;01melse\u001b[39;00m:\n\u001b[1;32m-> 1322\u001b[0m     \u001b[38;5;28;01mraise\u001b[39;00m \u001b[38;5;167;01mTypeError\u001b[39;00m(\n\u001b[0;32m   1323\u001b[0m         \u001b[38;5;124m\"\u001b[39m\u001b[38;5;124mCannot setitem on a Categorical with a new \u001b[39m\u001b[38;5;124m\"\u001b[39m\n\u001b[0;32m   1324\u001b[0m         \u001b[38;5;124mf\u001b[39m\u001b[38;5;124m\"\u001b[39m\u001b[38;5;124mcategory (\u001b[39m\u001b[38;5;132;01m{\u001b[39;00mfill_value\u001b[38;5;132;01m}\u001b[39;00m\u001b[38;5;124m), set the categories first\u001b[39m\u001b[38;5;124m\"\u001b[39m\n\u001b[0;32m   1325\u001b[0m     ) \u001b[38;5;28;01mfrom\u001b[39;00m \u001b[38;5;28;01mNone\u001b[39;00m\n\u001b[0;32m   1326\u001b[0m \u001b[38;5;28;01mreturn\u001b[39;00m fill_value\n",
      "\u001b[1;31mTypeError\u001b[0m: Cannot setitem on a Categorical with a new category (a new color), set the categories first"
     ]
    }
   ],
   "source": [
    "# you do lose from functionality by converting categories\n",
    "# for example if we want to add an additional color\n",
    "ccolors.iloc[5]='a new color'"
   ]
  },
  {
   "cell_type": "code",
   "execution_count": 37,
   "id": "debc02b4",
   "metadata": {},
   "outputs": [
    {
     "data": {
      "text/plain": [
       "0      periwinkle\n",
       "1      mint green\n",
       "2    burnt orange\n",
       "3      periwinkle\n",
       "4    burnt orange\n",
       "5            rose\n",
       "6            rose\n",
       "7      mint green\n",
       "8            rose\n",
       "9            navy\n",
       "dtype: category\n",
       "Categories (6, object): ['burnt orange', 'mint green', 'navy', 'periwinkle', 'rose', 'a new color']"
      ]
     },
     "execution_count": 37,
     "metadata": {},
     "output_type": "execute_result"
    }
   ],
   "source": [
    "ccolors = ccolors.cat.add_categories(['a new color'])\n",
    "ccolors # notice that 'a new color' was added to the list of categories"
   ]
  },
  {
   "cell_type": "code",
   "execution_count": 39,
   "id": "ef235b51",
   "metadata": {},
   "outputs": [
    {
     "data": {
      "text/plain": [
       "0      periwinkle\n",
       "1      mint green\n",
       "2    burnt orange\n",
       "3      periwinkle\n",
       "4    burnt orange\n",
       "5     a new color\n",
       "6            rose\n",
       "7      mint green\n",
       "8            rose\n",
       "9            navy\n",
       "dtype: category\n",
       "Categories (6, object): ['burnt orange', 'mint green', 'navy', 'periwinkle', 'rose', 'a new color']"
      ]
     },
     "execution_count": 39,
     "metadata": {},
     "output_type": "execute_result"
    }
   ],
   "source": [
    "#Now we can insert an item in our list\n",
    "ccolors.iloc[5]= 'a new color'\n",
    "ccolors"
   ]
  },
  {
   "cell_type": "markdown",
   "id": "4685f471",
   "metadata": {},
   "source": [
    "## Video 6: Introspect Groupby Objects via Iteration\n"
   ]
  },
  {
   "cell_type": "code",
   "execution_count": 42,
   "id": "f77e1620",
   "metadata": {},
   "outputs": [
    {
     "data": {
      "text/html": [
       "<div>\n",
       "<style scoped>\n",
       "    .dataframe tbody tr th:only-of-type {\n",
       "        vertical-align: middle;\n",
       "    }\n",
       "\n",
       "    .dataframe tbody tr th {\n",
       "        vertical-align: top;\n",
       "    }\n",
       "\n",
       "    .dataframe thead th {\n",
       "        text-align: right;\n",
       "    }\n",
       "</style>\n",
       "<table border=\"1\" class=\"dataframe\">\n",
       "  <thead>\n",
       "    <tr style=\"text-align: right;\">\n",
       "      <th></th>\n",
       "      <th>sex</th>\n",
       "      <th>length</th>\n",
       "      <th>diam</th>\n",
       "      <th>height</th>\n",
       "      <th>weight</th>\n",
       "      <th>rings</th>\n",
       "    </tr>\n",
       "  </thead>\n",
       "  <tbody>\n",
       "    <tr>\n",
       "      <th>0</th>\n",
       "      <td>M</td>\n",
       "      <td>0.46</td>\n",
       "      <td>0.36</td>\n",
       "      <td>0.10</td>\n",
       "      <td>0.51</td>\n",
       "      <td>15</td>\n",
       "    </tr>\n",
       "    <tr>\n",
       "      <th>1</th>\n",
       "      <td>M</td>\n",
       "      <td>0.35</td>\n",
       "      <td>0.27</td>\n",
       "      <td>0.09</td>\n",
       "      <td>0.23</td>\n",
       "      <td>7</td>\n",
       "    </tr>\n",
       "    <tr>\n",
       "      <th>2</th>\n",
       "      <td>F</td>\n",
       "      <td>0.53</td>\n",
       "      <td>0.42</td>\n",
       "      <td>0.14</td>\n",
       "      <td>0.68</td>\n",
       "      <td>9</td>\n",
       "    </tr>\n",
       "    <tr>\n",
       "      <th>3</th>\n",
       "      <td>M</td>\n",
       "      <td>0.44</td>\n",
       "      <td>0.36</td>\n",
       "      <td>0.12</td>\n",
       "      <td>0.52</td>\n",
       "      <td>10</td>\n",
       "    </tr>\n",
       "    <tr>\n",
       "      <th>4</th>\n",
       "      <td>I</td>\n",
       "      <td>0.33</td>\n",
       "      <td>0.26</td>\n",
       "      <td>0.08</td>\n",
       "      <td>0.20</td>\n",
       "      <td>7</td>\n",
       "    </tr>\n",
       "  </tbody>\n",
       "</table>\n",
       "</div>"
      ],
      "text/plain": [
       "  sex  length  diam  height  weight  rings\n",
       "0   M    0.46  0.36    0.10    0.51     15\n",
       "1   M    0.35  0.27    0.09    0.23      7\n",
       "2   F    0.53  0.42    0.14    0.68      9\n",
       "3   M    0.44  0.36    0.12    0.52     10\n",
       "4   I    0.33  0.26    0.08    0.20      7"
      ]
     },
     "execution_count": 42,
     "metadata": {},
     "output_type": "execute_result"
    }
   ],
   "source": [
    "import pandas as pd\n",
    "\n",
    "url = 'https://archive.ics.uci.edu/ml/machine-learning-databases/abalone/abalone.data'\n",
    "cols = ['sex', 'length', 'diam', 'height', 'weight', 'rings']\n",
    "abalone = pd.read_csv(url, usecols=[0,1,2,3,4,8], names=cols)\n",
    "\n",
    "abalone.head()"
   ]
  },
  {
   "cell_type": "code",
   "execution_count": 44,
   "id": "1f2d43c1",
   "metadata": {},
   "outputs": [
    {
     "data": {
      "text/html": [
       "<div>\n",
       "<style scoped>\n",
       "    .dataframe tbody tr th:only-of-type {\n",
       "        vertical-align: middle;\n",
       "    }\n",
       "\n",
       "    .dataframe tbody tr th {\n",
       "        vertical-align: top;\n",
       "    }\n",
       "\n",
       "    .dataframe thead th {\n",
       "        text-align: right;\n",
       "    }\n",
       "</style>\n",
       "<table border=\"1\" class=\"dataframe\">\n",
       "  <thead>\n",
       "    <tr style=\"text-align: right;\">\n",
       "      <th></th>\n",
       "      <th>sex</th>\n",
       "      <th>length</th>\n",
       "      <th>diam</th>\n",
       "      <th>height</th>\n",
       "      <th>weight</th>\n",
       "      <th>rings</th>\n",
       "      <th>ring_quartile</th>\n",
       "    </tr>\n",
       "  </thead>\n",
       "  <tbody>\n",
       "    <tr>\n",
       "      <th>0</th>\n",
       "      <td>M</td>\n",
       "      <td>0.46</td>\n",
       "      <td>0.36</td>\n",
       "      <td>0.10</td>\n",
       "      <td>0.51</td>\n",
       "      <td>15</td>\n",
       "      <td>4</td>\n",
       "    </tr>\n",
       "    <tr>\n",
       "      <th>1</th>\n",
       "      <td>M</td>\n",
       "      <td>0.35</td>\n",
       "      <td>0.27</td>\n",
       "      <td>0.09</td>\n",
       "      <td>0.23</td>\n",
       "      <td>7</td>\n",
       "      <td>1</td>\n",
       "    </tr>\n",
       "    <tr>\n",
       "      <th>2</th>\n",
       "      <td>F</td>\n",
       "      <td>0.53</td>\n",
       "      <td>0.42</td>\n",
       "      <td>0.14</td>\n",
       "      <td>0.68</td>\n",
       "      <td>9</td>\n",
       "      <td>2</td>\n",
       "    </tr>\n",
       "    <tr>\n",
       "      <th>3</th>\n",
       "      <td>M</td>\n",
       "      <td>0.44</td>\n",
       "      <td>0.36</td>\n",
       "      <td>0.12</td>\n",
       "      <td>0.52</td>\n",
       "      <td>10</td>\n",
       "      <td>3</td>\n",
       "    </tr>\n",
       "    <tr>\n",
       "      <th>4</th>\n",
       "      <td>I</td>\n",
       "      <td>0.33</td>\n",
       "      <td>0.26</td>\n",
       "      <td>0.08</td>\n",
       "      <td>0.20</td>\n",
       "      <td>7</td>\n",
       "      <td>1</td>\n",
       "    </tr>\n",
       "  </tbody>\n",
       "</table>\n",
       "</div>"
      ],
      "text/plain": [
       "  sex  length  diam  height  weight  rings ring_quartile\n",
       "0   M    0.46  0.36    0.10    0.51     15             4\n",
       "1   M    0.35  0.27    0.09    0.23      7             1\n",
       "2   F    0.53  0.42    0.14    0.68      9             2\n",
       "3   M    0.44  0.36    0.12    0.52     10             3\n",
       "4   I    0.33  0.26    0.08    0.20      7             1"
      ]
     },
     "execution_count": 44,
     "metadata": {},
     "output_type": "execute_result"
    }
   ],
   "source": [
    "abalone['ring_quartile'] = pd.qcut(abalone['rings'], q=4, labels = range(1,5))# adds a column called 'ring_quartile'\n",
    "abalone.head()"
   ]
  },
  {
   "cell_type": "code",
   "execution_count": 45,
   "id": "242705bb",
   "metadata": {},
   "outputs": [],
   "source": [
    "grouped = abalone.groupby('ring_quartile')"
   ]
  },
  {
   "cell_type": "code",
   "execution_count": 47,
   "id": "0f13264c",
   "metadata": {},
   "outputs": [
    {
     "data": {
      "text/plain": [
       "<pandas.core.groupby.generic.DataFrameGroupBy object at 0x0000024FB78D89D0>"
      ]
     },
     "execution_count": 47,
     "metadata": {},
     "output_type": "execute_result"
    }
   ],
   "source": [
    "grouped # just returns an address"
   ]
  },
  {
   "cell_type": "code",
   "execution_count": 48,
   "id": "09a1323e",
   "metadata": {},
   "outputs": [
    {
     "name": "stdout",
     "output_type": "stream",
     "text": [
      "Help on method __iter__ in module pandas.core.groupby.groupby:\n",
      "\n",
      "__iter__() -> 'Iterator[tuple[Hashable, NDFrameT]]' method of pandas.core.groupby.generic.DataFrameGroupBy instance\n",
      "    Groupby iterator.\n",
      "    \n",
      "    Returns\n",
      "    -------\n",
      "    Generator yielding sequence of (name, subsetted object)\n",
      "    for each group\n",
      "\n"
     ]
    }
   ],
   "source": [
    "# calling help on the grouped object we see that groupby objects are iterable\n",
    "help(grouped.__iter__)"
   ]
  },
  {
   "cell_type": "code",
   "execution_count": 51,
   "id": "5d1f8d6c",
   "metadata": {},
   "outputs": [
    {
     "name": "stdout",
     "output_type": "stream",
     "text": [
      "Ring Quartile: 1\n",
      "----------------\n",
      "     sex  length  diam  height  weight  rings ring_quartile\n",
      "2619   M    0.69  0.54    0.18    1.71      8             1\n",
      "1044   M    0.69  0.53    0.17    1.70      8             1\n",
      "1026   M    0.65  0.52    0.17    1.56      8             1\n",
      "\n",
      "Ring Quartile: 2\n",
      "----------------\n",
      "     sex  length  diam  height  weight  rings ring_quartile\n",
      "2811   M    0.72  0.57    0.19    2.33      9             2\n",
      "1426   F    0.74  0.57    0.21    2.25      9             2\n",
      "1821   F    0.72  0.55    0.20    2.07      9             2\n",
      "\n",
      "Ring Quartile: 3\n",
      "----------------\n",
      "     sex  length  diam  height  weight  rings ring_quartile\n",
      "1209   F    0.78  0.63    0.21    2.66     11             3\n",
      "1051   F    0.73  0.60    0.22    2.56     11             3\n",
      "3715   M    0.78  0.60    0.21    2.55     11             3\n",
      "\n",
      "Ring Quartile: 4\n",
      "----------------\n",
      "     sex  length  diam  height  weight  rings ring_quartile\n",
      "891    M    0.73  0.59    0.23    2.83     17             4\n",
      "1763   M    0.78  0.63    0.25    2.78     12             4\n",
      "165    M    0.72  0.57    0.19    2.55     14             4\n",
      "\n"
     ]
    }
   ],
   "source": [
    "for index, frame in grouped: #frame is each record belonging to each ring quartile\n",
    "    print(f'Ring Quartile: {index}')\n",
    "    print(\"-\"*16)\n",
    "    print(frame.nlargest(3, 'weight'), end='\\n\\n')"
   ]
  },
  {
   "cell_type": "code",
   "execution_count": 52,
   "id": "630c98d9",
   "metadata": {},
   "outputs": [
    {
     "data": {
      "text/html": [
       "<div>\n",
       "<style scoped>\n",
       "    .dataframe tbody tr th:only-of-type {\n",
       "        vertical-align: middle;\n",
       "    }\n",
       "\n",
       "    .dataframe tbody tr th {\n",
       "        vertical-align: top;\n",
       "    }\n",
       "\n",
       "    .dataframe thead th {\n",
       "        text-align: right;\n",
       "    }\n",
       "</style>\n",
       "<table border=\"1\" class=\"dataframe\">\n",
       "  <thead>\n",
       "    <tr style=\"text-align: right;\">\n",
       "      <th></th>\n",
       "      <th>sex</th>\n",
       "      <th>length</th>\n",
       "      <th>diam</th>\n",
       "      <th>height</th>\n",
       "      <th>weight</th>\n",
       "      <th>rings</th>\n",
       "      <th>ring_quartile</th>\n",
       "    </tr>\n",
       "  </thead>\n",
       "  <tbody>\n",
       "    <tr>\n",
       "      <th>2</th>\n",
       "      <td>F</td>\n",
       "      <td>0.53</td>\n",
       "      <td>0.42</td>\n",
       "      <td>0.14</td>\n",
       "      <td>0.68</td>\n",
       "      <td>9</td>\n",
       "      <td>2</td>\n",
       "    </tr>\n",
       "    <tr>\n",
       "      <th>8</th>\n",
       "      <td>M</td>\n",
       "      <td>0.47</td>\n",
       "      <td>0.37</td>\n",
       "      <td>0.12</td>\n",
       "      <td>0.51</td>\n",
       "      <td>9</td>\n",
       "      <td>2</td>\n",
       "    </tr>\n",
       "    <tr>\n",
       "      <th>19</th>\n",
       "      <td>M</td>\n",
       "      <td>0.45</td>\n",
       "      <td>0.32</td>\n",
       "      <td>0.10</td>\n",
       "      <td>0.38</td>\n",
       "      <td>9</td>\n",
       "      <td>2</td>\n",
       "    </tr>\n",
       "    <tr>\n",
       "      <th>23</th>\n",
       "      <td>F</td>\n",
       "      <td>0.55</td>\n",
       "      <td>0.41</td>\n",
       "      <td>0.14</td>\n",
       "      <td>0.76</td>\n",
       "      <td>9</td>\n",
       "      <td>2</td>\n",
       "    </tr>\n",
       "    <tr>\n",
       "      <th>39</th>\n",
       "      <td>M</td>\n",
       "      <td>0.35</td>\n",
       "      <td>0.29</td>\n",
       "      <td>0.09</td>\n",
       "      <td>0.33</td>\n",
       "      <td>9</td>\n",
       "      <td>2</td>\n",
       "    </tr>\n",
       "  </tbody>\n",
       "</table>\n",
       "</div>"
      ],
      "text/plain": [
       "   sex  length  diam  height  weight  rings ring_quartile\n",
       "2    F    0.53  0.42    0.14    0.68      9             2\n",
       "8    M    0.47  0.37    0.12    0.51      9             2\n",
       "19   M    0.45  0.32    0.10    0.38      9             2\n",
       "23   F    0.55  0.41    0.14    0.76      9             2\n",
       "39   M    0.35  0.29    0.09    0.33      9             2"
      ]
     },
     "execution_count": 52,
     "metadata": {},
     "output_type": "execute_result"
    }
   ],
   "source": [
    "# you can return a single group using the .get_group function\n",
    "grouped.get_group(2).head() # returns rows belonging to the 2nd quartile"
   ]
  },
  {
   "cell_type": "code",
   "execution_count": 57,
   "id": "896b2715",
   "metadata": {},
   "outputs": [
    {
     "data": {
      "text/html": [
       "<div>\n",
       "<style scoped>\n",
       "    .dataframe tbody tr th:only-of-type {\n",
       "        vertical-align: middle;\n",
       "    }\n",
       "\n",
       "    .dataframe tbody tr th {\n",
       "        vertical-align: top;\n",
       "    }\n",
       "\n",
       "    .dataframe thead tr th {\n",
       "        text-align: left;\n",
       "    }\n",
       "\n",
       "    .dataframe thead tr:last-of-type th {\n",
       "        text-align: right;\n",
       "    }\n",
       "</style>\n",
       "<table border=\"1\" class=\"dataframe\">\n",
       "  <thead>\n",
       "    <tr>\n",
       "      <th></th>\n",
       "      <th colspan=\"2\" halign=\"left\">height</th>\n",
       "      <th colspan=\"2\" halign=\"left\">weight</th>\n",
       "    </tr>\n",
       "    <tr>\n",
       "      <th></th>\n",
       "      <th>mean</th>\n",
       "      <th>median</th>\n",
       "      <th>mean</th>\n",
       "      <th>median</th>\n",
       "    </tr>\n",
       "    <tr>\n",
       "      <th>ring_quartile</th>\n",
       "      <th></th>\n",
       "      <th></th>\n",
       "      <th></th>\n",
       "      <th></th>\n",
       "    </tr>\n",
       "  </thead>\n",
       "  <tbody>\n",
       "    <tr>\n",
       "      <th>1</th>\n",
       "      <td>0.11</td>\n",
       "      <td>0.10</td>\n",
       "      <td>0.43</td>\n",
       "      <td>0.37</td>\n",
       "    </tr>\n",
       "    <tr>\n",
       "      <th>2</th>\n",
       "      <td>0.14</td>\n",
       "      <td>0.14</td>\n",
       "      <td>0.85</td>\n",
       "      <td>0.84</td>\n",
       "    </tr>\n",
       "    <tr>\n",
       "      <th>3</th>\n",
       "      <td>0.16</td>\n",
       "      <td>0.15</td>\n",
       "      <td>1.07</td>\n",
       "      <td>1.06</td>\n",
       "    </tr>\n",
       "    <tr>\n",
       "      <th>4</th>\n",
       "      <td>0.16</td>\n",
       "      <td>0.17</td>\n",
       "      <td>1.11</td>\n",
       "      <td>1.07</td>\n",
       "    </tr>\n",
       "  </tbody>\n",
       "</table>\n",
       "</div>"
      ],
      "text/plain": [
       "              height        weight       \n",
       "                mean median   mean median\n",
       "ring_quartile                            \n",
       "1               0.11   0.10   0.43   0.37\n",
       "2               0.14   0.14   0.85   0.84\n",
       "3               0.16   0.15   1.07   1.06\n",
       "4               0.16   0.17   1.11   1.07"
      ]
     },
     "execution_count": 57,
     "metadata": {},
     "output_type": "execute_result"
    }
   ],
   "source": [
    "# you can also call aggregate functions of groups\n",
    "grouped[['height', 'weight']].agg(['mean', 'median'])"
   ]
  },
  {
   "cell_type": "markdown",
   "id": "8bfc165d",
   "metadata": {},
   "source": [
    "## Video 7: Mapping Trick for Membership Binning\n"
   ]
  },
  {
   "cell_type": "code",
   "execution_count": 58,
   "id": "9552c853",
   "metadata": {},
   "outputs": [],
   "source": [
    "from typing import Any\n",
    "\n",
    "countries = pd.Series([\n",
    "    'United States',\n",
    "    'Canada',\n",
    "    'Mexico',\n",
    "    'Belgium',\n",
    "    'United Kingdom',\n",
    "    'Thailand'\n",
    "])\n",
    "\n",
    "groups = {\n",
    "    'North America': ('United States', 'Canada', 'Mexico', 'Greenland'),\n",
    "    'Europe': ('France', 'Germany', 'United Kingdom', 'Belgium')\n",
    "}"
   ]
  },
  {
   "cell_type": "code",
   "execution_count": 63,
   "id": "d9b77bb7",
   "metadata": {},
   "outputs": [],
   "source": [
    "def membership_map(s: pd.Series, groups: dict,\n",
    "                  fillvalue:Any=-1) -> pd.Series:\n",
    "    groups = {x: k for k, v in groups.items() for x in v}\n",
    "    return s.map(groups).fillna(fillvalue)"
   ]
  },
  {
   "cell_type": "code",
   "execution_count": 64,
   "id": "320ce985",
   "metadata": {},
   "outputs": [
    {
     "data": {
      "text/plain": [
       "0    North America\n",
       "1    North America\n",
       "2    North America\n",
       "3           Europe\n",
       "4           Europe\n",
       "5            other\n",
       "dtype: object"
      ]
     },
     "execution_count": 64,
     "metadata": {},
     "output_type": "execute_result"
    }
   ],
   "source": [
    "membership_map(countries, groups, fillvalue='other')"
   ]
  },
  {
   "cell_type": "markdown",
   "id": "423d5e8b",
   "metadata": {},
   "source": [
    "## Video 8: How pandas Uses Boolean Operators\n",
    "\n",
    "Bitwise operators are evaluated first (&, |, ~)\n",
    "Arithmetic operators are evaluated next (<, <=, >, >=, !=, ==)\n",
    "Boolean operators are then evaluated(and, not, or)\n",
    "\n",
    "pandas doesn't use the boolean operators and uses the bitwise operators instead"
   ]
  },
  {
   "cell_type": "code",
   "execution_count": 66,
   "id": "982675ed",
   "metadata": {},
   "outputs": [
    {
     "data": {
      "text/plain": [
       "0     True\n",
       "1    False\n",
       "2     True\n",
       "dtype: bool"
      ]
     },
     "execution_count": 66,
     "metadata": {},
     "output_type": "execute_result"
    }
   ],
   "source": [
    "# The bitwise operators compare the items in similar locations to each other\n",
    "pd.Series([True, False, True]) & pd.Series(['True', 'True', 'True'])"
   ]
  },
  {
   "cell_type": "code",
   "execution_count": 67,
   "id": "2b2e369c",
   "metadata": {},
   "outputs": [
    {
     "ename": "ValueError",
     "evalue": "The truth value of a Series is ambiguous. Use a.empty, a.bool(), a.item(), a.any() or a.all().",
     "output_type": "error",
     "traceback": [
      "\u001b[1;31m---------------------------------------------------------------------------\u001b[0m",
      "\u001b[1;31mValueError\u001b[0m                                Traceback (most recent call last)",
      "\u001b[1;32m~\\AppData\\Local\\Temp\\ipykernel_7696\\1667811235.py\u001b[0m in \u001b[0;36m?\u001b[1;34m()\u001b[0m\n\u001b[1;32m----> 1\u001b[1;33m \u001b[0mpd\u001b[0m\u001b[1;33m.\u001b[0m\u001b[0mSeries\u001b[0m\u001b[1;33m(\u001b[0m\u001b[1;33m[\u001b[0m\u001b[1;32mTrue\u001b[0m\u001b[1;33m,\u001b[0m \u001b[1;32mFalse\u001b[0m\u001b[1;33m,\u001b[0m \u001b[1;32mTrue\u001b[0m\u001b[1;33m]\u001b[0m\u001b[1;33m)\u001b[0m \u001b[1;32mand\u001b[0m \u001b[0mpd\u001b[0m\u001b[1;33m.\u001b[0m\u001b[0mSeries\u001b[0m\u001b[1;33m(\u001b[0m\u001b[1;33m[\u001b[0m\u001b[1;34m'True'\u001b[0m\u001b[1;33m,\u001b[0m \u001b[1;34m'True'\u001b[0m\u001b[1;33m,\u001b[0m \u001b[1;34m'True'\u001b[0m\u001b[1;33m]\u001b[0m\u001b[1;33m)\u001b[0m\u001b[1;33m\u001b[0m\u001b[1;33m\u001b[0m\u001b[0m\n\u001b[0m",
      "\u001b[1;32m~\\AppData\\Local\\anaconda3\\Lib\\site-packages\\pandas\\core\\generic.py\u001b[0m in \u001b[0;36m?\u001b[1;34m(self)\u001b[0m\n\u001b[0;32m   1464\u001b[0m     \u001b[1;33m@\u001b[0m\u001b[0mfinal\u001b[0m\u001b[1;33m\u001b[0m\u001b[1;33m\u001b[0m\u001b[0m\n\u001b[0;32m   1465\u001b[0m     \u001b[1;32mdef\u001b[0m \u001b[0m__nonzero__\u001b[0m\u001b[1;33m(\u001b[0m\u001b[0mself\u001b[0m\u001b[1;33m)\u001b[0m \u001b[1;33m->\u001b[0m \u001b[0mNoReturn\u001b[0m\u001b[1;33m:\u001b[0m\u001b[1;33m\u001b[0m\u001b[1;33m\u001b[0m\u001b[0m\n\u001b[1;32m-> 1466\u001b[1;33m         raise ValueError(\n\u001b[0m\u001b[0;32m   1467\u001b[0m             \u001b[1;34mf\"The truth value of a {type(self).__name__} is ambiguous. \"\u001b[0m\u001b[1;33m\u001b[0m\u001b[1;33m\u001b[0m\u001b[0m\n\u001b[0;32m   1468\u001b[0m             \u001b[1;34m\"Use a.empty, a.bool(), a.item(), a.any() or a.all().\"\u001b[0m\u001b[1;33m\u001b[0m\u001b[1;33m\u001b[0m\u001b[0m\n\u001b[0;32m   1469\u001b[0m         )\n",
      "\u001b[1;31mValueError\u001b[0m: The truth value of a Series is ambiguous. Use a.empty, a.bool(), a.item(), a.any() or a.all()."
     ]
    }
   ],
   "source": [
    "# attempts to compare the entire series\n",
    "pd.Series([True, False, True]) and pd.Series(['True', 'True', 'True'])"
   ]
  },
  {
   "cell_type": "code",
   "execution_count": 69,
   "id": "4c0a0f30",
   "metadata": {},
   "outputs": [
    {
     "data": {
      "text/plain": [
       "0    0\n",
       "1    1\n",
       "2    2\n",
       "3    3\n",
       "4    4\n",
       "5    5\n",
       "6    6\n",
       "7    7\n",
       "8    8\n",
       "9    9\n",
       "dtype: int64"
      ]
     },
     "execution_count": 69,
     "metadata": {},
     "output_type": "execute_result"
    }
   ],
   "source": [
    "s = pd.Series(range(10))\n",
    "s"
   ]
  },
  {
   "cell_type": "code",
   "execution_count": 70,
   "id": "345fed8f",
   "metadata": {},
   "outputs": [
    {
     "ename": "ValueError",
     "evalue": "The truth value of a Series is ambiguous. Use a.empty, a.bool(), a.item(), a.any() or a.all().",
     "output_type": "error",
     "traceback": [
      "\u001b[1;31m---------------------------------------------------------------------------\u001b[0m",
      "\u001b[1;31mValueError\u001b[0m                                Traceback (most recent call last)",
      "\u001b[1;32m~\\AppData\\Local\\Temp\\ipykernel_7696\\2201677203.py\u001b[0m in \u001b[0;36m?\u001b[1;34m()\u001b[0m\n\u001b[1;32m----> 1\u001b[1;33m \u001b[0ms\u001b[0m \u001b[1;33m%\u001b[0m \u001b[1;36m2\u001b[0m \u001b[1;33m==\u001b[0m \u001b[1;36m0\u001b[0m \u001b[1;33m&\u001b[0m \u001b[0ms\u001b[0m \u001b[1;33m>\u001b[0m\u001b[1;36m3\u001b[0m\u001b[1;33m\u001b[0m\u001b[1;33m\u001b[0m\u001b[0m\n\u001b[0m",
      "\u001b[1;32m~\\AppData\\Local\\anaconda3\\Lib\\site-packages\\pandas\\core\\generic.py\u001b[0m in \u001b[0;36m?\u001b[1;34m(self)\u001b[0m\n\u001b[0;32m   1464\u001b[0m     \u001b[1;33m@\u001b[0m\u001b[0mfinal\u001b[0m\u001b[1;33m\u001b[0m\u001b[1;33m\u001b[0m\u001b[0m\n\u001b[0;32m   1465\u001b[0m     \u001b[1;32mdef\u001b[0m \u001b[0m__nonzero__\u001b[0m\u001b[1;33m(\u001b[0m\u001b[0mself\u001b[0m\u001b[1;33m)\u001b[0m \u001b[1;33m->\u001b[0m \u001b[0mNoReturn\u001b[0m\u001b[1;33m:\u001b[0m\u001b[1;33m\u001b[0m\u001b[1;33m\u001b[0m\u001b[0m\n\u001b[1;32m-> 1466\u001b[1;33m         raise ValueError(\n\u001b[0m\u001b[0;32m   1467\u001b[0m             \u001b[1;34mf\"The truth value of a {type(self).__name__} is ambiguous. \"\u001b[0m\u001b[1;33m\u001b[0m\u001b[1;33m\u001b[0m\u001b[0m\n\u001b[0;32m   1468\u001b[0m             \u001b[1;34m\"Use a.empty, a.bool(), a.item(), a.any() or a.all().\"\u001b[0m\u001b[1;33m\u001b[0m\u001b[1;33m\u001b[0m\u001b[0m\n\u001b[0;32m   1469\u001b[0m         )\n",
      "\u001b[1;31mValueError\u001b[0m: The truth value of a Series is ambiguous. Use a.empty, a.bool(), a.item(), a.any() or a.all()."
     ]
    }
   ],
   "source": [
    "s % 2 == 0 & s >3"
   ]
  },
  {
   "cell_type": "markdown",
   "id": "92a936f0",
   "metadata": {},
   "source": [
    "## Video 9: Load Data from the Clipboard"
   ]
  },
  {
   "cell_type": "code",
   "execution_count": 83,
   "id": "945911f6",
   "metadata": {},
   "outputs": [],
   "source": [
    "import pandas as pd\n",
    "df = pd.read_clipboard(na_values=[None], parse_dates=['d'])"
   ]
  },
  {
   "cell_type": "code",
   "execution_count": 84,
   "id": "0f4578ea",
   "metadata": {},
   "outputs": [
    {
     "data": {
      "text/html": [
       "<div>\n",
       "<style scoped>\n",
       "    .dataframe tbody tr th:only-of-type {\n",
       "        vertical-align: middle;\n",
       "    }\n",
       "\n",
       "    .dataframe tbody tr th {\n",
       "        vertical-align: top;\n",
       "    }\n",
       "\n",
       "    .dataframe thead th {\n",
       "        text-align: right;\n",
       "    }\n",
       "</style>\n",
       "<table border=\"1\" class=\"dataframe\">\n",
       "  <thead>\n",
       "    <tr style=\"text-align: right;\">\n",
       "      <th></th>\n",
       "      <th>a</th>\n",
       "      <th>b</th>\n",
       "      <th>c</th>\n",
       "      <th>d</th>\n",
       "    </tr>\n",
       "  </thead>\n",
       "  <tbody>\n",
       "    <tr>\n",
       "      <th>0</th>\n",
       "      <td>0</td>\n",
       "      <td>1.00</td>\n",
       "      <td>inf</td>\n",
       "      <td>1/1/2000</td>\n",
       "    </tr>\n",
       "    <tr>\n",
       "      <th>1</th>\n",
       "      <td>2</td>\n",
       "      <td>67.38</td>\n",
       "      <td>NaN</td>\n",
       "      <td>5-Jan-19</td>\n",
       "    </tr>\n",
       "    <tr>\n",
       "      <th>2</th>\n",
       "      <td>4</td>\n",
       "      <td>234.86</td>\n",
       "      <td>NaN</td>\n",
       "      <td>7/24/2020</td>\n",
       "    </tr>\n",
       "    <tr>\n",
       "      <th>3</th>\n",
       "      <td>6</td>\n",
       "      <td>34.12</td>\n",
       "      <td>NaN</td>\n",
       "      <td>NaT</td>\n",
       "    </tr>\n",
       "  </tbody>\n",
       "</table>\n",
       "</div>"
      ],
      "text/plain": [
       "   a       b    c          d\n",
       "0  0    1.00  inf   1/1/2000\n",
       "1  2   67.38  NaN   5-Jan-19\n",
       "2  4  234.86  NaN  7/24/2020\n",
       "3  6   34.12  NaN        NaT"
      ]
     },
     "execution_count": 84,
     "metadata": {},
     "output_type": "execute_result"
    }
   ],
   "source": [
    "df"
   ]
  },
  {
   "cell_type": "code",
   "execution_count": 85,
   "id": "204c3b2b",
   "metadata": {},
   "outputs": [
    {
     "data": {
      "text/plain": [
       "a      int64\n",
       "b    float64\n",
       "c    float64\n",
       "d     object\n",
       "dtype: object"
      ]
     },
     "execution_count": 85,
     "metadata": {},
     "output_type": "execute_result"
    }
   ],
   "source": [
    "df.dtypes"
   ]
  },
  {
   "cell_type": "markdown",
   "id": "bec27f49",
   "metadata": {},
   "source": [
    "# Video 10: Write pandas Objects Directly to compressed Formats"
   ]
  },
  {
   "cell_type": "code",
   "execution_count": 86,
   "id": "47ce084d",
   "metadata": {},
   "outputs": [
    {
     "data": {
      "text/html": [
       "<div>\n",
       "<style scoped>\n",
       "    .dataframe tbody tr th:only-of-type {\n",
       "        vertical-align: middle;\n",
       "    }\n",
       "\n",
       "    .dataframe tbody tr th {\n",
       "        vertical-align: top;\n",
       "    }\n",
       "\n",
       "    .dataframe thead th {\n",
       "        text-align: right;\n",
       "    }\n",
       "</style>\n",
       "<table border=\"1\" class=\"dataframe\">\n",
       "  <thead>\n",
       "    <tr style=\"text-align: right;\">\n",
       "      <th></th>\n",
       "      <th>sex</th>\n",
       "      <th>length</th>\n",
       "      <th>diam</th>\n",
       "      <th>height</th>\n",
       "      <th>weight</th>\n",
       "      <th>rings</th>\n",
       "    </tr>\n",
       "  </thead>\n",
       "  <tbody>\n",
       "    <tr>\n",
       "      <th>0</th>\n",
       "      <td>M</td>\n",
       "      <td>0.46</td>\n",
       "      <td>0.36</td>\n",
       "      <td>0.10</td>\n",
       "      <td>0.51</td>\n",
       "      <td>15</td>\n",
       "    </tr>\n",
       "    <tr>\n",
       "      <th>1</th>\n",
       "      <td>M</td>\n",
       "      <td>0.35</td>\n",
       "      <td>0.27</td>\n",
       "      <td>0.09</td>\n",
       "      <td>0.23</td>\n",
       "      <td>7</td>\n",
       "    </tr>\n",
       "    <tr>\n",
       "      <th>2</th>\n",
       "      <td>F</td>\n",
       "      <td>0.53</td>\n",
       "      <td>0.42</td>\n",
       "      <td>0.14</td>\n",
       "      <td>0.68</td>\n",
       "      <td>9</td>\n",
       "    </tr>\n",
       "    <tr>\n",
       "      <th>3</th>\n",
       "      <td>M</td>\n",
       "      <td>0.44</td>\n",
       "      <td>0.36</td>\n",
       "      <td>0.12</td>\n",
       "      <td>0.52</td>\n",
       "      <td>10</td>\n",
       "    </tr>\n",
       "    <tr>\n",
       "      <th>4</th>\n",
       "      <td>I</td>\n",
       "      <td>0.33</td>\n",
       "      <td>0.26</td>\n",
       "      <td>0.08</td>\n",
       "      <td>0.20</td>\n",
       "      <td>7</td>\n",
       "    </tr>\n",
       "  </tbody>\n",
       "</table>\n",
       "</div>"
      ],
      "text/plain": [
       "  sex  length  diam  height  weight  rings\n",
       "0   M    0.46  0.36    0.10    0.51     15\n",
       "1   M    0.35  0.27    0.09    0.23      7\n",
       "2   F    0.53  0.42    0.14    0.68      9\n",
       "3   M    0.44  0.36    0.12    0.52     10\n",
       "4   I    0.33  0.26    0.08    0.20      7"
      ]
     },
     "execution_count": 86,
     "metadata": {},
     "output_type": "execute_result"
    }
   ],
   "source": [
    "import pandas as pd\n",
    "\n",
    "url = 'https://archive.ics.uci.edu/ml/machine-learning-databases/abalone/abalone.data'\n",
    "cols = ['sex', 'length', 'diam', 'height', 'weight', 'rings']\n",
    "abalone = pd.read_csv(url, usecols=[0,1,2,3,4,8], names=cols)\n",
    "\n",
    "abalone.head()"
   ]
  },
  {
   "cell_type": "code",
   "execution_count": 87,
   "id": "eeb1441a",
   "metadata": {},
   "outputs": [],
   "source": [
    "abalone.to_json('df.json.gz', orient='records', lines=True, compression='gzip') # file created in local directory"
   ]
  },
  {
   "cell_type": "code",
   "execution_count": 88,
   "id": "ad2e0caa",
   "metadata": {},
   "outputs": [],
   "source": [
    "#lets save the same dataframe uncompressed and compare the sizes\n",
    "import os.path\n",
    "abalone.to_json('df.json', orient='records', lines=True)\n"
   ]
  },
  {
   "cell_type": "code",
   "execution_count": 89,
   "id": "ccaa2323",
   "metadata": {},
   "outputs": [
    {
     "data": {
      "text/plain": [
       "9.905475020965616"
      ]
     },
     "execution_count": 89,
     "metadata": {},
     "output_type": "execute_result"
    }
   ],
   "source": [
    "# the uncompressed file is nearly 10 times larger than the compressed version\n",
    "os.path.getsize('df.json')/os.path.getsize('df.json.gz')"
   ]
  },
  {
   "cell_type": "code",
   "execution_count": null,
   "id": "005884cb",
   "metadata": {},
   "outputs": [],
   "source": []
  }
 ],
 "metadata": {
  "kernelspec": {
   "display_name": "Python 3 (ipykernel)",
   "language": "python",
   "name": "python3"
  },
  "language_info": {
   "codemirror_mode": {
    "name": "ipython",
    "version": 3
   },
   "file_extension": ".py",
   "mimetype": "text/x-python",
   "name": "python",
   "nbconvert_exporter": "python",
   "pygments_lexer": "ipython3",
   "version": "3.11.5"
  }
 },
 "nbformat": 4,
 "nbformat_minor": 5
}
