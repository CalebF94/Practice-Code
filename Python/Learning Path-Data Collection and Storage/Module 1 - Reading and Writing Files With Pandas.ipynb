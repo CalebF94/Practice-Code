{
 "cells": [
  {
   "cell_type": "markdown",
   "id": "202d33ca",
   "metadata": {},
   "source": [
    "# Reading and Writing Files with Pandas\n",
    "read_csv method, to_csv are powerful methods to read and write files.  \n",
    "\n",
    "This course will cover:  \n",
    "+ Reading and writing data  \n",
    "+ Working with the Pandas IOTools API  \n",
    "+ Working with Different File Formats\n",
    "+ Working with Big Data\n",
    "\n",
    "## Installing Pandas\n",
    "Basic stuff, didn't need to do anything\n",
    "\n",
    "Variables:  \n",
    "Country - `COUNTRY`  \n",
    "Population - `POP`  \n",
    "Area - `AREA`  \n",
    "Gross Domestic Product - `GDP`  \n",
    "Continent  - `CONT`  \n",
    "Independence Day - `IND_DAY`\n",
    "\n",
    "Data structure: This data uses a dictonary data stucture\n",
    "\n",
    "\n",
    "He had us copy and paste the data to format the dataframe"
   ]
  },
  {
   "cell_type": "code",
   "execution_count": 6,
   "id": "e22dee45",
   "metadata": {},
   "outputs": [],
   "source": [
    "data = {\n",
    "    'CHN': {'COUNTRY': 'China', 'POP': 1_398.72, 'AREA': 9_596.96,\n",
    "            'GDP': 12_234.78, 'CONT': 'Asia'},\n",
    "    'IND': {'COUNTRY': 'India', 'POP': 1_351.16, 'AREA': 3_287.26,\n",
    "            'GDP': 2_575.67, 'CONT': 'Asia', 'IND_DAY': '1947-08-15'},\n",
    "    'USA': {'COUNTRY': 'US', 'POP': 329.74, 'AREA': 9_833.52,\n",
    "            'GDP': 19_485.39, 'CONT': 'N.America',\n",
    "            'IND_DAY': '1776-07-04'},\n",
    "    'IDN': {'COUNTRY': 'Indonesia', 'POP': 268.07, 'AREA': 1_910.93,\n",
    "            'GDP': 1_015.54, 'CONT': 'Asia', 'IND_DAY': '1945-08-17'},\n",
    "    'BRA': {'COUNTRY': 'Brazil', 'POP': 210.32, 'AREA': 8_515.77,\n",
    "            'GDP': 2_055.51, 'CONT': 'S.America', 'IND_DAY': '1822-09-07'},\n",
    "    'PAK': {'COUNTRY': 'Pakistan', 'POP': 205.71, 'AREA': 881.91,\n",
    "            'GDP': 302.14, 'CONT': 'Asia', 'IND_DAY': '1947-08-14'},\n",
    "    'NGA': {'COUNTRY': 'Nigeria', 'POP': 200.96, 'AREA': 923.77,\n",
    "            'GDP': 375.77, 'CONT': 'Africa', 'IND_DAY': '1960-10-01'},\n",
    "    'BGD': {'COUNTRY': 'Bangladesh', 'POP': 167.09, 'AREA': 147.57,\n",
    "            'GDP': 245.63, 'CONT': 'Asia', 'IND_DAY': '1971-03-26'},\n",
    "    'RUS': {'COUNTRY': 'Russia', 'POP': 146.79, 'AREA': 17_098.25,\n",
    "            'GDP': 1_530.75, 'IND_DAY': '1992-06-12'},\n",
    "    'MEX': {'COUNTRY': 'Mexico', 'POP': 126.58, 'AREA': 1_964.38,\n",
    "            'GDP': 1_158.23, 'CONT': 'N.America', 'IND_DAY': '1810-09-16'},\n",
    "    'JPN': {'COUNTRY': 'Japan', 'POP': 126.22, 'AREA': 377.97,\n",
    "            'GDP': 4_872.42, 'CONT': 'Asia'},\n",
    "    'DEU': {'COUNTRY': 'Germany', 'POP': 83.02, 'AREA': 357.11,\n",
    "            'GDP': 3_693.20, 'CONT': 'Europe'},\n",
    "    'FRA': {'COUNTRY': 'France', 'POP': 67.02, 'AREA': 640.68,\n",
    "            'GDP': 2_582.49, 'CONT': 'Europe', 'IND_DAY': '1789-07-14'},\n",
    "    'GBR': {'COUNTRY': 'UK', 'POP': 66.44, 'AREA': 242.50,\n",
    "            'GDP': 2_631.23, 'CONT': 'Europe'},\n",
    "    'ITA': {'COUNTRY': 'Italy', 'POP': 60.36, 'AREA': 301.34,\n",
    "            'GDP': 1_943.84, 'CONT': 'Europe'},\n",
    "    'ARG': {'COUNTRY': 'Argentina', 'POP': 44.94, 'AREA': 2_780.40,\n",
    "            'GDP': 637.49, 'CONT': 'S.America', 'IND_DAY': '1816-07-09'},\n",
    "    'DZA': {'COUNTRY': 'Algeria', 'POP': 43.38, 'AREA': 2_381.74,\n",
    "            'GDP': 167.56, 'CONT': 'Africa', 'IND_DAY': '1962-07-05'},\n",
    "    'CAN': {'COUNTRY': 'Canada', 'POP': 37.59, 'AREA': 9_984.67,\n",
    "            'GDP': 1_647.12, 'CONT': 'N.America', 'IND_DAY': '1867-07-01'},\n",
    "    'AUS': {'COUNTRY': 'Australia', 'POP': 25.47, 'AREA': 7_692.02,\n",
    "            'GDP': 1_408.68, 'CONT': 'Oceania'},\n",
    "    'KAZ': {'COUNTRY': 'Kazakhstan', 'POP': 18.53, 'AREA': 2_724.90,\n",
    "            'GDP': 159.41, 'CONT': 'Asia', 'IND_DAY': '1991-12-16'}\n",
    "}"
   ]
  },
  {
   "cell_type": "markdown",
   "id": "639d2a78",
   "metadata": {},
   "source": [
    "Now we create a pandas dataframe"
   ]
  },
  {
   "cell_type": "code",
   "execution_count": 7,
   "id": "e71f5f07",
   "metadata": {},
   "outputs": [
    {
     "name": "stdout",
     "output_type": "stream",
     "text": [
      "        COUNTRY      POP      AREA       GDP       CONT     IND_DAY\n",
      "CHN       China  1398.72   9596.96  12234.78       Asia         NaN\n",
      "IND       India  1351.16   3287.26   2575.67       Asia  1947-08-15\n",
      "USA          US   329.74   9833.52  19485.39  N.America  1776-07-04\n",
      "IDN   Indonesia   268.07   1910.93   1015.54       Asia  1945-08-17\n",
      "BRA      Brazil   210.32   8515.77   2055.51  S.America  1822-09-07\n",
      "PAK    Pakistan   205.71    881.91    302.14       Asia  1947-08-14\n",
      "NGA     Nigeria   200.96    923.77    375.77     Africa  1960-10-01\n",
      "BGD  Bangladesh   167.09    147.57    245.63       Asia  1971-03-26\n",
      "RUS      Russia   146.79  17098.25   1530.75        NaN  1992-06-12\n",
      "MEX      Mexico   126.58   1964.38   1158.23  N.America  1810-09-16\n",
      "JPN       Japan   126.22    377.97   4872.42       Asia         NaN\n",
      "DEU     Germany    83.02    357.11    3693.2     Europe         NaN\n",
      "FRA      France    67.02    640.68   2582.49     Europe  1789-07-14\n",
      "GBR          UK    66.44     242.5   2631.23     Europe         NaN\n",
      "ITA       Italy    60.36    301.34   1943.84     Europe         NaN\n",
      "ARG   Argentina    44.94    2780.4    637.49  S.America  1816-07-09\n",
      "DZA     Algeria    43.38   2381.74    167.56     Africa  1962-07-05\n",
      "CAN      Canada    37.59   9984.67   1647.12  N.America  1867-07-01\n",
      "AUS   Australia    25.47   7692.02   1408.68    Oceania         NaN\n",
      "KAZ  Kazakhstan    18.53    2724.9    159.41       Asia  1991-12-16\n"
     ]
    }
   ],
   "source": [
    "import pandas as pd\n",
    "df = pd.DataFrame(data=data).T #Transpose\n",
    "print(df)"
   ]
  },
  {
   "cell_type": "markdown",
   "id": "d745085d",
   "metadata": {},
   "source": [
    "## Reading and Writing CSV Files\n",
    "Save the df dataframe using the .to_csv() method"
   ]
  },
  {
   "cell_type": "code",
   "execution_count": 8,
   "id": "ff2745f0",
   "metadata": {},
   "outputs": [],
   "source": [
    "df.to_csv('data.csv')"
   ]
  },
  {
   "cell_type": "code",
   "execution_count": 9,
   "id": "77d08192",
   "metadata": {},
   "outputs": [],
   "source": [
    "# with no index\n",
    "df.to_csv('no_labels.csv', index=False)"
   ]
  },
  {
   "cell_type": "markdown",
   "id": "3ac757c0",
   "metadata": {},
   "source": [
    "We can now read the csv that we just created using `read_csv()`"
   ]
  },
  {
   "cell_type": "code",
   "execution_count": 10,
   "id": "9652a9eb",
   "metadata": {},
   "outputs": [
    {
     "name": "stdout",
     "output_type": "stream",
     "text": [
      "        COUNTRY      POP      AREA       GDP       CONT     IND_DAY\n",
      "CHN       China  1398.72   9596.96  12234.78       Asia         NaN\n",
      "IND       India  1351.16   3287.26   2575.67       Asia  1947-08-15\n",
      "USA          US   329.74   9833.52  19485.39  N.America  1776-07-04\n",
      "IDN   Indonesia   268.07   1910.93   1015.54       Asia  1945-08-17\n",
      "BRA      Brazil   210.32   8515.77   2055.51  S.America  1822-09-07\n",
      "PAK    Pakistan   205.71    881.91    302.14       Asia  1947-08-14\n",
      "NGA     Nigeria   200.96    923.77    375.77     Africa  1960-10-01\n",
      "BGD  Bangladesh   167.09    147.57    245.63       Asia  1971-03-26\n",
      "RUS      Russia   146.79  17098.25   1530.75        NaN  1992-06-12\n",
      "MEX      Mexico   126.58   1964.38   1158.23  N.America  1810-09-16\n",
      "JPN       Japan   126.22    377.97   4872.42       Asia         NaN\n",
      "DEU     Germany    83.02    357.11   3693.20     Europe         NaN\n",
      "FRA      France    67.02    640.68   2582.49     Europe  1789-07-14\n",
      "GBR          UK    66.44    242.50   2631.23     Europe         NaN\n",
      "ITA       Italy    60.36    301.34   1943.84     Europe         NaN\n",
      "ARG   Argentina    44.94   2780.40    637.49  S.America  1816-07-09\n",
      "DZA     Algeria    43.38   2381.74    167.56     Africa  1962-07-05\n",
      "CAN      Canada    37.59   9984.67   1647.12  N.America  1867-07-01\n",
      "AUS   Australia    25.47   7692.02   1408.68    Oceania         NaN\n",
      "KAZ  Kazakhstan    18.53   2724.90    159.41       Asia  1991-12-16\n"
     ]
    }
   ],
   "source": [
    "csv_df = pd.read_csv('data.csv', index_col=0) #first column will be the index\n",
    "print(csv_df)\n"
   ]
  },
  {
   "cell_type": "markdown",
   "id": "d73c3bdc",
   "metadata": {},
   "source": [
    "## Reading and Writing Excel Files\n",
    "Pandas can read excel files but you'll need the following packages:  \n",
    "+ `xlwt` for .xls files  \n",
    "+ `openpyxl` or `XlsxWriter` for .xlsx files  \n",
    "+ `xlrd` to read Excel Files\n",
    "\n",
    "Once the above are installed you should be able to save df as an excel file"
   ]
  },
  {
   "cell_type": "code",
   "execution_count": 11,
   "id": "6b47ded4",
   "metadata": {},
   "outputs": [],
   "source": [
    "df.to_excel('data.xlsx')"
   ]
  },
  {
   "cell_type": "markdown",
   "id": "5b6d858b",
   "metadata": {},
   "source": [
    "You can read excel files using `.read_excel()` method"
   ]
  },
  {
   "cell_type": "code",
   "execution_count": 12,
   "id": "d4ed42d0",
   "metadata": {},
   "outputs": [
    {
     "name": "stdout",
     "output_type": "stream",
     "text": [
      "        COUNTRY      POP      AREA       GDP       CONT     IND_DAY\n",
      "CHN       China  1398.72   9596.96  12234.78       Asia         NaN\n",
      "IND       India  1351.16   3287.26   2575.67       Asia  1947-08-15\n",
      "USA          US   329.74   9833.52  19485.39  N.America  1776-07-04\n",
      "IDN   Indonesia   268.07   1910.93   1015.54       Asia  1945-08-17\n",
      "BRA      Brazil   210.32   8515.77   2055.51  S.America  1822-09-07\n",
      "PAK    Pakistan   205.71    881.91    302.14       Asia  1947-08-14\n",
      "NGA     Nigeria   200.96    923.77    375.77     Africa  1960-10-01\n",
      "BGD  Bangladesh   167.09    147.57    245.63       Asia  1971-03-26\n",
      "RUS      Russia   146.79  17098.25   1530.75        NaN  1992-06-12\n",
      "MEX      Mexico   126.58   1964.38   1158.23  N.America  1810-09-16\n",
      "JPN       Japan   126.22    377.97   4872.42       Asia         NaN\n",
      "DEU     Germany    83.02    357.11   3693.20     Europe         NaN\n",
      "FRA      France    67.02    640.68   2582.49     Europe  1789-07-14\n",
      "GBR          UK    66.44    242.50   2631.23     Europe         NaN\n",
      "ITA       Italy    60.36    301.34   1943.84     Europe         NaN\n",
      "ARG   Argentina    44.94   2780.40    637.49  S.America  1816-07-09\n",
      "DZA     Algeria    43.38   2381.74    167.56     Africa  1962-07-05\n",
      "CAN      Canada    37.59   9984.67   1647.12  N.America  1867-07-01\n",
      "AUS   Australia    25.47   7692.02   1408.68    Oceania         NaN\n",
      "KAZ  Kazakhstan    18.53   2724.90    159.41       Asia  1991-12-16\n"
     ]
    }
   ],
   "source": [
    "df_xlsx = pd.read_excel('data.xlsx', index_col=0)\n",
    "print(df_xlsx)"
   ]
  },
  {
   "cell_type": "code",
   "execution_count": null,
   "id": "ec04cebc",
   "metadata": {},
   "outputs": [],
   "source": []
  }
 ],
 "metadata": {
  "kernelspec": {
   "display_name": "Python 3 (ipykernel)",
   "language": "python",
   "name": "python3"
  },
  "language_info": {
   "codemirror_mode": {
    "name": "ipython",
    "version": 3
   },
   "file_extension": ".py",
   "mimetype": "text/x-python",
   "name": "python",
   "nbconvert_exporter": "python",
   "pygments_lexer": "ipython3",
   "version": "3.9.12"
  }
 },
 "nbformat": 4,
 "nbformat_minor": 5
}
